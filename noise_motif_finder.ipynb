{
 "cells": [
  {
   "cell_type": "markdown",
   "metadata": {},
   "source": [
    "# find motifs associted with methylation"
   ]
  },
  {
   "cell_type": "code",
   "execution_count": 53,
   "metadata": {},
   "outputs": [],
   "source": [
    "from core.genomic_utilities.methyl.epifrag import MethylAlignmentFile, ConsensusMethylatedFragment, MethylStatus\n",
    "# https://github.com/freenome/research/blob/6c4b7c139443bb31299b895e80fba2975d9d8fe4/core/genomic_utilities/methyl/epifrag.py#L211\n",
    "\n",
    "from core.genomic_utilities.genomic_utilities import revcomp\n",
    "\n",
    "#load reference fasta\n",
    "from configs.project_configs import GENOME_REFERENCE_FASTA as REF\n",
    "\n",
    "from collections import defaultdict, Counter\n",
    "from contextlib import closing\n",
    "import pyfaidx"
   ]
  },
  {
   "cell_type": "code",
   "execution_count": null,
   "metadata": {},
   "outputs": [],
   "source": [
    "# APOBEC enzyme\n",
    "#https://www.neb.com/tools-and-resources/feature-articles/enzymatic-methyl-seq-the-next-generation-of-methylome-analysis"
   ]
  },
  {
   "cell_type": "code",
   "execution_count": 1,
   "metadata": {},
   "outputs": [
    {
     "name": "stdout",
     "output_type": "stream",
     "text": [
      "Copying gs://seq-data-us-1/bam/190806_A00225_0338_AHKWNHDMXX/744ab6d3-a365-59e5-a85e-043589e86e07/S_31_I_41-41_CATTGACG-CATTGACG_S31.marked.bam...\n",
      "| [1 files][  2.0 GiB/  2.0 GiB]   22.6 MiB/s                                   \n",
      "Operation completed over 1 objects/2.0 GiB.                                      \n"
     ]
    }
   ],
   "source": [
    "# create a test bam file, generated with 0% methyl control w/V1 panel\n",
    "!gsutil cp gs://seq-data-us-1/bam/190806_A00225_0338_AHKWNHDMXX/744ab6d3-a365-59e5-a85e-043589e86e07/S_31_I_41-41_CATTGACG-CATTGACG_S31.marked.bam ./zero_control_v1_panel.bam"
   ]
  },
  {
   "cell_type": "code",
   "execution_count": 2,
   "metadata": {},
   "outputs": [
    {
     "name": "stdout",
     "output_type": "stream",
     "text": [
      "samtools view: writing to standard output failed: Broken pipe\n",
      "samtools view: error closing standard output: -1\n"
     ]
    }
   ],
   "source": [
    "# subsample\n",
    "!samtools view -h zero_control_v1_panel.bam | head -n 1000000 > test_zero_control_v1_panel.sam\n",
    "!samtools view -h -b test_zero_control_v1_panel.sam > test_zero_control_v1_panel.bam"
   ]
  },
  {
   "cell_type": "code",
   "execution_count": 26,
   "metadata": {},
   "outputs": [
    {
     "name": "stdout",
     "output_type": "stream",
     "text": [
      "23\n",
      "[(632108, 632228, 'NM_001005277.1;OR4F16;54427'), (935143, 935263, 'NM_152486.2;SAMD11;-9403'), (943939, 944095, 'NM_015658.3;NOC2L;15205')]\n"
     ]
    }
   ],
   "source": [
    "#read in bed file of regions of interest \n",
    "\n",
    "#v1 panel\n",
    "regions = defaultdict(list)\n",
    "with open(\"../methyl_panel_v1_target_twist.bed\", \"r\") as fin:\n",
    "    for line in fin:\n",
    "        chrom, start, stop, name = line.split(\"\\t\")[0:4]\n",
    "        regions[chrom].append((int(start), int(stop), name))\n",
    "print(len(regions)) \n",
    "print(regions[\"chr1\"][0:3])"
   ]
  },
  {
   "cell_type": "code",
   "execution_count": 60,
   "metadata": {},
   "outputs": [],
   "source": [
    "# read in bam file as MethylAlignmentFile and process reads\n",
    "\n",
    "\n",
    "def find_motif(fragment, ref, pos):\n",
    "    '''\n",
    "    the fragment sequence is from the reference which is always from the positive strand\n",
    "    the pos of the methylated cpg is always on the positive strand\n",
    "    therefore this motif finder only takes into acount motifs found for methylation on the positive strand\n",
    "    '''\n",
    "    seq = ref[fragment.contig][fragment.start:fragment.end].seq.upper()\n",
    "    relative_pos = pos - fragment.start\n",
    "    return seq[(relative_pos - 3):(relative_pos + 4)]  # seven bp motif surrounding the methylated C\n",
    "    \n",
    "    \n",
    "\n",
    "def process_region(methyl_file, region_info, ref_fasta):\n",
    "    \n",
    "    chrom, start, end, name = region_info\n",
    "    \n",
    "    region_motif_dicts = {}\n",
    "    \n",
    "    # extend the start and end to include fragments that overlap with region of interest with only one read\n",
    "    min_start = start - 300\n",
    "    max_end = end + 300\n",
    "\n",
    "    region_motif_counts = defaultdict(lambda: 0)\n",
    "\n",
    "    for methyl_frag in methyl_file.fetch(contig=chrom, start=min_start, stop=max_end):\n",
    "        # methyl_frag is ConsensusMethylatedFragment class, the ref seq between the two r1r2 read ends if reads pass filter \n",
    "        fragment = methyl_frag.support_fragments[0] # list of fragments that go into the consensus call\n",
    "        #print(fragment)\n",
    "\n",
    "        # get all motifs in the read. for each methylated CpG get the surrounding motif(defined above)\n",
    "        for pos, methyl_status in fragment.get_methyl_status_loc_map().items():  # return dict of cpg sites and their methylatioin status\n",
    "            if methyl_status == MethylStatus.m: \n",
    "                motif = find_motif(fragment, ref, pos)\n",
    "                region_motif_counts[motif] += 1\n",
    "                #print(motif)\n",
    "        \n",
    "    return region_motif_counts"
   ]
  },
  {
   "cell_type": "code",
   "execution_count": 62,
   "metadata": {},
   "outputs": [
    {
     "name": "stdout",
     "output_type": "stream",
     "text": [
      "regions processed: 0\n"
     ]
    },
    {
     "ename": "KeyboardInterrupt",
     "evalue": "",
     "output_type": "error",
     "traceback": [
      "\u001b[0;31m---------------------------------------------------------------------------\u001b[0m",
      "\u001b[0;31mKeyboardInterrupt\u001b[0m                         Traceback (most recent call last)",
      "\u001b[0;32m<ipython-input-62-310f420d7234>\u001b[0m in \u001b[0;36m<module>\u001b[0;34m()\u001b[0m\n\u001b[1;32m     18\u001b[0m             \u001b[0;32mif\u001b[0m \u001b[0mc\u001b[0m \u001b[0;34m%\u001b[0m \u001b[0;36m100\u001b[0m \u001b[0;34m==\u001b[0m \u001b[0;36m0\u001b[0m\u001b[0;34m:\u001b[0m\u001b[0;34m\u001b[0m\u001b[0;34m\u001b[0m\u001b[0m\n\u001b[1;32m     19\u001b[0m                 \u001b[0mprint\u001b[0m\u001b[0;34m(\u001b[0m\u001b[0;34mf\"regions processed: {c}\"\u001b[0m\u001b[0;34m)\u001b[0m\u001b[0;34m\u001b[0m\u001b[0;34m\u001b[0m\u001b[0m\n\u001b[0;32m---> 20\u001b[0;31m             \u001b[0mregion_motif_counts\u001b[0m \u001b[0;34m=\u001b[0m \u001b[0mprocess_region\u001b[0m\u001b[0;34m(\u001b[0m\u001b[0mmethyl_file\u001b[0m\u001b[0;34m,\u001b[0m \u001b[0mregion_info\u001b[0m\u001b[0;34m=\u001b[0m\u001b[0;34m(\u001b[0m\u001b[0;34m(\u001b[0m\u001b[0mtest_chrm\u001b[0m\u001b[0;34m,\u001b[0m\u001b[0;34m)\u001b[0m \u001b[0;34m+\u001b[0m \u001b[0mregion\u001b[0m\u001b[0;34m)\u001b[0m\u001b[0;34m,\u001b[0m \u001b[0mref_fasta\u001b[0m\u001b[0;34m=\u001b[0m\u001b[0mref\u001b[0m\u001b[0;34m)\u001b[0m\u001b[0;34m\u001b[0m\u001b[0;34m\u001b[0m\u001b[0m\n\u001b[0m\u001b[1;32m     21\u001b[0m             \u001b[0mregion_motif_dicts\u001b[0m\u001b[0;34m[\u001b[0m\u001b[0mname\u001b[0m\u001b[0;34m]\u001b[0m \u001b[0;34m=\u001b[0m \u001b[0mregion_motif_counts\u001b[0m\u001b[0;34m\u001b[0m\u001b[0;34m\u001b[0m\u001b[0m\n\u001b[1;32m     22\u001b[0m             \u001b[0mc\u001b[0m \u001b[0;34m+=\u001b[0m \u001b[0;36m1\u001b[0m\u001b[0;34m\u001b[0m\u001b[0;34m\u001b[0m\u001b[0m\n",
      "\u001b[0;32m<ipython-input-60-4de84e46b3ca>\u001b[0m in \u001b[0;36mprocess_region\u001b[0;34m(methyl_file, region_info, ref_fasta)\u001b[0m\n\u001b[1;32m     26\u001b[0m     \u001b[0mregion_motif_counts\u001b[0m \u001b[0;34m=\u001b[0m \u001b[0mdefaultdict\u001b[0m\u001b[0;34m(\u001b[0m\u001b[0;32mlambda\u001b[0m\u001b[0;34m:\u001b[0m \u001b[0;36m0\u001b[0m\u001b[0;34m)\u001b[0m\u001b[0;34m\u001b[0m\u001b[0;34m\u001b[0m\u001b[0m\n\u001b[1;32m     27\u001b[0m \u001b[0;34m\u001b[0m\u001b[0m\n\u001b[0;32m---> 28\u001b[0;31m     \u001b[0;32mfor\u001b[0m \u001b[0mmethyl_frag\u001b[0m \u001b[0;32min\u001b[0m \u001b[0mmethyl_file\u001b[0m\u001b[0;34m.\u001b[0m\u001b[0mfetch\u001b[0m\u001b[0;34m(\u001b[0m\u001b[0mcontig\u001b[0m\u001b[0;34m=\u001b[0m\u001b[0mchrom\u001b[0m\u001b[0;34m,\u001b[0m \u001b[0mstart\u001b[0m\u001b[0;34m=\u001b[0m\u001b[0mmin_start\u001b[0m\u001b[0;34m,\u001b[0m \u001b[0mstop\u001b[0m\u001b[0;34m=\u001b[0m\u001b[0mmax_end\u001b[0m\u001b[0;34m)\u001b[0m\u001b[0;34m:\u001b[0m\u001b[0;34m\u001b[0m\u001b[0;34m\u001b[0m\u001b[0m\n\u001b[0m\u001b[1;32m     29\u001b[0m         \u001b[0;31m# methyl_frag is ConsensusMethylatedFragment class, the ref seq between the two r1r2 read ends if reads pass filter\u001b[0m\u001b[0;34m\u001b[0m\u001b[0;34m\u001b[0m\u001b[0;34m\u001b[0m\u001b[0m\n\u001b[1;32m     30\u001b[0m         \u001b[0mfragment\u001b[0m \u001b[0;34m=\u001b[0m \u001b[0mmethyl_frag\u001b[0m\u001b[0;34m.\u001b[0m\u001b[0msupport_fragments\u001b[0m\u001b[0;34m[\u001b[0m\u001b[0;36m0\u001b[0m\u001b[0;34m]\u001b[0m \u001b[0;31m# list of fragments that go into the consensus call\u001b[0m\u001b[0;34m\u001b[0m\u001b[0;34m\u001b[0m\u001b[0m\n",
      "\u001b[0;32m/fn/lib/python3.7/site-packages/core/genomic_utilities/methyl/epifrag.py\u001b[0m in \u001b[0;36mfetch\u001b[0;34m(self, *args, **kwargs)\u001b[0m\n\u001b[1;32m    689\u001b[0m         \u001b[0;32mif\u001b[0m \u001b[0mself\u001b[0m\u001b[0;34m.\u001b[0m\u001b[0mfetch_consensus\u001b[0m\u001b[0;34m:\u001b[0m\u001b[0;34m\u001b[0m\u001b[0;34m\u001b[0m\u001b[0m\n\u001b[1;32m    690\u001b[0m             \u001b[0mfetch_method\u001b[0m \u001b[0;34m=\u001b[0m \u001b[0mself\u001b[0m\u001b[0;34m.\u001b[0m\u001b[0m_fetch_consensus\u001b[0m\u001b[0;34m\u001b[0m\u001b[0;34m\u001b[0m\u001b[0m\n\u001b[0;32m--> 691\u001b[0;31m         \u001b[0;32mfor\u001b[0m \u001b[0mfragment\u001b[0m \u001b[0;32min\u001b[0m \u001b[0mfetch_method\u001b[0m\u001b[0;34m(\u001b[0m\u001b[0;34m*\u001b[0m\u001b[0margs\u001b[0m\u001b[0;34m,\u001b[0m \u001b[0;34m**\u001b[0m\u001b[0mkwargs\u001b[0m\u001b[0;34m)\u001b[0m\u001b[0;34m:\u001b[0m\u001b[0;34m\u001b[0m\u001b[0;34m\u001b[0m\u001b[0m\n\u001b[0m\u001b[1;32m    692\u001b[0m             \u001b[0;32myield\u001b[0m \u001b[0mfragment\u001b[0m\u001b[0;34m\u001b[0m\u001b[0;34m\u001b[0m\u001b[0m\n\u001b[1;32m    693\u001b[0m \u001b[0;34m\u001b[0m\u001b[0m\n",
      "\u001b[0;32m/fn/lib/python3.7/site-packages/core/genomic_utilities/methyl/epifrag.py\u001b[0m in \u001b[0;36m_fetch_consensus\u001b[0;34m(self, *args, **kwargs)\u001b[0m\n\u001b[1;32m    706\u001b[0m             \u001b[0mconsensus_methylated_fragments\u001b[0m\u001b[0;34m:\u001b[0m \u001b[0mMethylated\u001b[0m \u001b[0mfragment\u001b[0m \u001b[0msupported\u001b[0m \u001b[0mby\u001b[0m \u001b[0mall\u001b[0m \u001b[0mreads\u001b[0m \u001b[0;32min\u001b[0m \u001b[0ma\u001b[0m \u001b[0mUMI\u001b[0m \u001b[0mfamily\u001b[0m\u001b[0;34m\u001b[0m\u001b[0;34m\u001b[0m\u001b[0m\n\u001b[1;32m    707\u001b[0m         \"\"\"\n\u001b[0;32m--> 708\u001b[0;31m         \u001b[0mfrags\u001b[0m \u001b[0;34m=\u001b[0m \u001b[0;34m[\u001b[0m\u001b[0mfrag\u001b[0m \u001b[0;32mfor\u001b[0m \u001b[0mfrag\u001b[0m \u001b[0;32min\u001b[0m \u001b[0mself\u001b[0m\u001b[0;34m.\u001b[0m\u001b[0m_fetch_fragments\u001b[0m\u001b[0;34m(\u001b[0m\u001b[0;34m*\u001b[0m\u001b[0margs\u001b[0m\u001b[0;34m,\u001b[0m \u001b[0mfor_consensus_calling\u001b[0m\u001b[0;34m=\u001b[0m\u001b[0;32mTrue\u001b[0m\u001b[0;34m,\u001b[0m \u001b[0;34m**\u001b[0m\u001b[0mkwargs\u001b[0m\u001b[0;34m)\u001b[0m\u001b[0;34m]\u001b[0m\u001b[0;34m\u001b[0m\u001b[0;34m\u001b[0m\u001b[0m\n\u001b[0m\u001b[1;32m    709\u001b[0m         \u001b[0;32mfor\u001b[0m \u001b[0mfrags_family\u001b[0m \u001b[0;32min\u001b[0m \u001b[0miter_umi_family\u001b[0m\u001b[0;34m(\u001b[0m\u001b[0mfrags\u001b[0m\u001b[0;34m)\u001b[0m\u001b[0;34m:\u001b[0m\u001b[0;34m\u001b[0m\u001b[0;34m\u001b[0m\u001b[0m\n\u001b[1;32m    710\u001b[0m             \u001b[0;32myield\u001b[0m \u001b[0mConsensusMethylatedFragment\u001b[0m\u001b[0;34m(\u001b[0m\u001b[0mfrags_family\u001b[0m\u001b[0;34m)\u001b[0m\u001b[0;34m\u001b[0m\u001b[0;34m\u001b[0m\u001b[0m\n",
      "\u001b[0;32m/fn/lib/python3.7/site-packages/core/genomic_utilities/methyl/epifrag.py\u001b[0m in \u001b[0;36m<listcomp>\u001b[0;34m(.0)\u001b[0m\n\u001b[1;32m    706\u001b[0m             \u001b[0mconsensus_methylated_fragments\u001b[0m\u001b[0;34m:\u001b[0m \u001b[0mMethylated\u001b[0m \u001b[0mfragment\u001b[0m \u001b[0msupported\u001b[0m \u001b[0mby\u001b[0m \u001b[0mall\u001b[0m \u001b[0mreads\u001b[0m \u001b[0;32min\u001b[0m \u001b[0ma\u001b[0m \u001b[0mUMI\u001b[0m \u001b[0mfamily\u001b[0m\u001b[0;34m\u001b[0m\u001b[0;34m\u001b[0m\u001b[0m\n\u001b[1;32m    707\u001b[0m         \"\"\"\n\u001b[0;32m--> 708\u001b[0;31m         \u001b[0mfrags\u001b[0m \u001b[0;34m=\u001b[0m \u001b[0;34m[\u001b[0m\u001b[0mfrag\u001b[0m \u001b[0;32mfor\u001b[0m \u001b[0mfrag\u001b[0m \u001b[0;32min\u001b[0m \u001b[0mself\u001b[0m\u001b[0;34m.\u001b[0m\u001b[0m_fetch_fragments\u001b[0m\u001b[0;34m(\u001b[0m\u001b[0;34m*\u001b[0m\u001b[0margs\u001b[0m\u001b[0;34m,\u001b[0m \u001b[0mfor_consensus_calling\u001b[0m\u001b[0;34m=\u001b[0m\u001b[0;32mTrue\u001b[0m\u001b[0;34m,\u001b[0m \u001b[0;34m**\u001b[0m\u001b[0mkwargs\u001b[0m\u001b[0;34m)\u001b[0m\u001b[0;34m]\u001b[0m\u001b[0;34m\u001b[0m\u001b[0;34m\u001b[0m\u001b[0m\n\u001b[0m\u001b[1;32m    709\u001b[0m         \u001b[0;32mfor\u001b[0m \u001b[0mfrags_family\u001b[0m \u001b[0;32min\u001b[0m \u001b[0miter_umi_family\u001b[0m\u001b[0;34m(\u001b[0m\u001b[0mfrags\u001b[0m\u001b[0;34m)\u001b[0m\u001b[0;34m:\u001b[0m\u001b[0;34m\u001b[0m\u001b[0;34m\u001b[0m\u001b[0m\n\u001b[1;32m    710\u001b[0m             \u001b[0;32myield\u001b[0m \u001b[0mConsensusMethylatedFragment\u001b[0m\u001b[0;34m(\u001b[0m\u001b[0mfrags_family\u001b[0m\u001b[0;34m)\u001b[0m\u001b[0;34m\u001b[0m\u001b[0;34m\u001b[0m\u001b[0m\n",
      "\u001b[0;32m/fn/lib/python3.7/site-packages/core/genomic_utilities/methyl/epifrag.py\u001b[0m in \u001b[0;36m_fetch_fragments\u001b[0;34m(self, for_consensus_calling, *args, **kwargs)\u001b[0m\n\u001b[1;32m    731\u001b[0m                 \u001b[0mref\u001b[0m\u001b[0;34m=\u001b[0m\u001b[0mself\u001b[0m\u001b[0;34m.\u001b[0m\u001b[0mref\u001b[0m\u001b[0;34m,\u001b[0m\u001b[0;34m\u001b[0m\u001b[0;34m\u001b[0m\u001b[0m\n\u001b[1;32m    732\u001b[0m                 \u001b[0mignore_last_n_bp_fragment\u001b[0m\u001b[0;34m=\u001b[0m\u001b[0mself\u001b[0m\u001b[0;34m.\u001b[0m\u001b[0mignore_last_n_bp_fragment\u001b[0m\u001b[0;34m,\u001b[0m\u001b[0;34m\u001b[0m\u001b[0;34m\u001b[0m\u001b[0m\n\u001b[0;32m--> 733\u001b[0;31m                 \u001b[0muse_plus_strand_cpg_position\u001b[0m\u001b[0;34m=\u001b[0m\u001b[0;32mTrue\u001b[0m\u001b[0;34m\u001b[0m\u001b[0;34m\u001b[0m\u001b[0m\n\u001b[0m\u001b[1;32m    734\u001b[0m             )\n\u001b[1;32m    735\u001b[0m \u001b[0;34m\u001b[0m\u001b[0m\n",
      "\u001b[0;32m/fn/lib/python3.7/site-packages/core/genomic_utilities/methyl/epifrag.py\u001b[0m in \u001b[0;36m_methyl_fragment_from_read_pairs\u001b[0;34m(r1, r2, ref, ignore_last_n_bp_fragment, use_plus_strand_cpg_position)\u001b[0m\n\u001b[1;32m    578\u001b[0m                 \u001b[0mmethyl_calls\u001b[0m\u001b[0;34m[\u001b[0m\u001b[0mmethyl_pos\u001b[0m\u001b[0;34m]\u001b[0m\u001b[0;34m.\u001b[0m\u001b[0mappend\u001b[0m\u001b[0;34m(\u001b[0m\u001b[0mmethyl_read_call\u001b[0m\u001b[0;34m)\u001b[0m\u001b[0;34m\u001b[0m\u001b[0;34m\u001b[0m\u001b[0m\n\u001b[1;32m    579\u001b[0m \u001b[0;34m\u001b[0m\u001b[0m\n\u001b[0;32m--> 580\u001b[0;31m     \u001b[0mprocess_read\u001b[0m\u001b[0;34m(\u001b[0m\u001b[0mr1\u001b[0m\u001b[0;34m,\u001b[0m \u001b[0morigin_strand\u001b[0m\u001b[0;34m)\u001b[0m\u001b[0;34m\u001b[0m\u001b[0;34m\u001b[0m\u001b[0m\n\u001b[0m\u001b[1;32m    581\u001b[0m     \u001b[0mprocess_read\u001b[0m\u001b[0;34m(\u001b[0m\u001b[0mr2\u001b[0m\u001b[0;34m,\u001b[0m \u001b[0morigin_strand\u001b[0m\u001b[0;34m)\u001b[0m\u001b[0;34m\u001b[0m\u001b[0;34m\u001b[0m\u001b[0m\n\u001b[1;32m    582\u001b[0m \u001b[0;34m\u001b[0m\u001b[0m\n",
      "\u001b[0;32m/fn/lib/python3.7/site-packages/core/genomic_utilities/methyl/epifrag.py\u001b[0m in \u001b[0;36mprocess_read\u001b[0;34m(read, origin_plus)\u001b[0m\n\u001b[1;32m    576\u001b[0m                     \u001b[0mis_read1\u001b[0m\u001b[0;34m=\u001b[0m\u001b[0mis_r1\u001b[0m\u001b[0;34m,\u001b[0m\u001b[0;34m\u001b[0m\u001b[0;34m\u001b[0m\u001b[0m\n\u001b[1;32m    577\u001b[0m                 )\n\u001b[0;32m--> 578\u001b[0;31m                 \u001b[0mmethyl_calls\u001b[0m\u001b[0;34m[\u001b[0m\u001b[0mmethyl_pos\u001b[0m\u001b[0;34m]\u001b[0m\u001b[0;34m.\u001b[0m\u001b[0mappend\u001b[0m\u001b[0;34m(\u001b[0m\u001b[0mmethyl_read_call\u001b[0m\u001b[0;34m)\u001b[0m\u001b[0;34m\u001b[0m\u001b[0;34m\u001b[0m\u001b[0m\n\u001b[0m\u001b[1;32m    579\u001b[0m \u001b[0;34m\u001b[0m\u001b[0m\n\u001b[1;32m    580\u001b[0m     \u001b[0mprocess_read\u001b[0m\u001b[0;34m(\u001b[0m\u001b[0mr1\u001b[0m\u001b[0;34m,\u001b[0m \u001b[0morigin_strand\u001b[0m\u001b[0;34m)\u001b[0m\u001b[0;34m\u001b[0m\u001b[0;34m\u001b[0m\u001b[0m\n",
      "\u001b[0;31mKeyboardInterrupt\u001b[0m: "
     ]
    }
   ],
   "source": [
    "test_bam = \"./test_zero_control_v1_panel.bam\"\n",
    "test_chrm = \"chr1\"\n",
    "\n",
    "with closing(pyfaidx.Fasta(REF)) as ref:\n",
    "    with MethylAlignmentFile(\n",
    "        alignment_file=test_bam,\n",
    "        ref=ref,\n",
    "        ignore_last_n_bp_fragment=0,\n",
    "        skip_duplicate_removal=False,\n",
    "        min_mapq=50,\n",
    "        max_unconverted_chh_fraction=0.15,\n",
    "        fetch_consensus=True,\n",
    "        ) as methyl_file:\n",
    "            \n",
    "        c = 0\n",
    "        region_motif_dicts = {}\n",
    "        for region in regions[test_chrm]:\n",
    "            if c % 100 == 0:\n",
    "                print(f\"regions processed: {c}\")\n",
    "            region_motif_counts = process_region(methyl_file, region_info=((test_chrm,) + region), ref_fasta=ref)\n",
    "            region_motif_dicts[name] = region_motif_counts\n",
    "            c += 1"
   ]
  },
  {
   "cell_type": "code",
   "execution_count": null,
   "metadata": {},
   "outputs": [],
   "source": [
    "# for each region fetch overlapping reads"
   ]
  },
  {
   "cell_type": "code",
   "execution_count": null,
   "metadata": {},
   "outputs": [],
   "source": [
    "# for each read pair in region \n",
    "    # make into class MethylFragment (epifrag)\n",
    "    # get list of methylated cpg positions ()\n",
    "    # get reference fasta sequence btw start/stop of fragment\n",
    "    # get motif surrounding each cpg\n",
    "    # add motif count to dictionary for region: motif:count\n",
    "    # output dict for region"
   ]
  },
  {
   "cell_type": "code",
   "execution_count": null,
   "metadata": {},
   "outputs": [],
   "source": [
    "# combine dict counts for all regions\n",
    "# write counts for all regions into file\n",
    "#out put one counts dict per file\n"
   ]
  },
  {
   "cell_type": "code",
   "execution_count": null,
   "metadata": {},
   "outputs": [],
   "source": [
    "# run on multiple 0% methyl files"
   ]
  },
  {
   "cell_type": "code",
   "execution_count": null,
   "metadata": {},
   "outputs": [],
   "source": [
    "# make heatmap of samples vs motifs and prevalence around cpg sites"
   ]
  }
 ],
 "metadata": {
  "kernelspec": {
   "display_name": "Python 3",
   "language": "python",
   "name": "python3"
  },
  "language_info": {
   "codemirror_mode": {
    "name": "ipython",
    "version": 3
   },
   "file_extension": ".py",
   "mimetype": "text/x-python",
   "name": "python",
   "nbconvert_exporter": "python",
   "pygments_lexer": "ipython3",
   "version": "3.7.6"
  }
 },
 "nbformat": 4,
 "nbformat_minor": 4
}
