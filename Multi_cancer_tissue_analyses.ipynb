{
 "cells": [
  {
   "cell_type": "markdown",
   "metadata": {},
   "source": [
    "# Centipede A tissue sequencing Metilene analysis\n",
    "B.Gould\n",
    "Feb 2021"
   ]
  },
  {
   "cell_type": "code",
   "execution_count": 1,
   "metadata": {},
   "outputs": [],
   "source": [
    "from calzone import Calzone\n",
    "from featureio import FeatureIO\n",
    "from pineapple.contrib.components.data_factories.matrix_factory import MatrixFactory as mf\n",
    "\n",
    "from pineapple.core import experiment_context\n",
    "import datetime\n",
    "experiment_context.reset_context(0, \"x\", \"x\", datetime.datetime(2021, 2, 2,0,0))\n",
    "\n",
    "import pandas as pd\n",
    "import matplotlib\n",
    "from matplotlib import pyplot as plt\n",
    "import os\n",
    "import pickle\n",
    "import numpy as np\n",
    "import seaborn as sns"
   ]
  },
  {
   "cell_type": "code",
   "execution_count": 3,
   "metadata": {},
   "outputs": [],
   "source": [
    "# see peter's notes for training classes: https://docs.google.com/document/d/1A1o-0W0iM6ejxvRcXLo_p8ysmuEWGbdtX3mZQlyHk1E/edit\n",
    "# sequenced using the CpG_dense panel"
   ]
  },
  {
   "cell_type": "code",
   "execution_count": 4,
   "metadata": {},
   "outputs": [
    {
     "name": "stdout",
     "output_type": "stream",
     "text": [
      "21\n",
      "48\n",
      "29\n",
      "29\n",
      "14\n",
      "22\n",
      "41\n"
     ]
    }
   ],
   "source": [
    "with FeatureIO() as ftio:\n",
    "    crc_dsids = ftio.get_datasets_for_training_class(\"colorectal_tissue_cancer_stage_IV_chemo_n\")\n",
    "    print(len(crc_dsids))\n",
    "    \n",
    "    lung_dsids = ftio.get_datasets_for_training_class(\"lung_cancer_methyl_DMR_tissue_ds_FF\")\n",
    "    print(len(lung_dsids))\n",
    "    \n",
    "    paad_dsids = ftio.get_datasets_for_training_class(\"pancreatic_cancer_tissue_ds_FF_v1\")\n",
    "    print(len(paad_dsids))\n",
    "    \n",
    "    prad_dsids = ftio.get_datasets_for_training_class(\"prostate_cancer_tissue_ds_FF_v1\")\n",
    "    print(len(prad_dsids))\n",
    "    \n",
    "    liver_dsids = ftio.get_datasets_for_training_class(\"liver_cancer_tissue_ds_FF_v1\")\n",
    "    print(len(liver_dsids))\n",
    "    \n",
    "    ov_dsids = ftio.get_datasets_for_training_class(\"ovarian_cancer_tissue_ds_FF_v1\")\n",
    "    print(len(ov_dsids))\n",
    "    \n",
    "    healthy_plasma_dsids = ftio.get_datasets_for_training_class(\"colorectal_plasma_healthy_discovery_polyp_n\")\n",
    "    print(len(healthy_plasma_dsids))"
   ]
  },
  {
   "cell_type": "code",
   "execution_count": null,
   "metadata": {},
   "outputs": [],
   "source": [
    "# Batch 2 training classes:\n",
    "kidney_cancer_tissue_ds_FF_v1\n",
    "breast_cancer_tissue_ds_FF_v1\n",
    "nonhodgkinslymphoma_cancer_tissue_ds_FF_v1\n",
    "uterine_cancer_tissue_ds_FF_v1\n",
    "stomach_cancer_tissue_ds_FF_v1"
   ]
  },
  {
   "cell_type": "code",
   "execution_count": 5,
   "metadata": {},
   "outputs": [],
   "source": [
    "# location of tissue bams: gs://external-methyl-data/freenome_processed_data/cpg_dense_panel_bams/cpg_dense_panel_3mcpg_filtered_bams/"
   ]
  },
  {
   "cell_type": "code",
   "execution_count": 6,
   "metadata": {},
   "outputs": [],
   "source": [
    "def write_mergefile(dsids, cancer_type):\n",
    "    metadata = Calzone.get_dataset_metadata_with_ids(dsids)\n",
    "    files = [m.raw_dataset_metadata['dataset']['raw_data_path'] for m in metadata]\n",
    "    #stages = [m.raw_dataset_metadata[]]      \n",
    "    with open(f\"./{cancer_type}_bams_to_merge.txt\",\"w\") as fout:\n",
    "        for file in files[0:14]:\n",
    "            fout.write(file + \"\\n\")\n"
   ]
  },
  {
   "cell_type": "code",
   "execution_count": 7,
   "metadata": {},
   "outputs": [
    {
     "name": "stderr",
     "output_type": "stream",
     "text": [
      "Missed Redis cache for ttl_key TS-212492993, reading from BigQuery instead\n",
      "Missed Redis cache for 48 datasets with timestamp 2021-02-02 20:31:55.109531, reading from BigQuery instead\n"
     ]
    }
   ],
   "source": [
    "write_mergefile(lung_dsids, \"lung\")"
   ]
  },
  {
   "cell_type": "code",
   "execution_count": 8,
   "metadata": {},
   "outputs": [
    {
     "name": "stderr",
     "output_type": "stream",
     "text": [
      "Missed Redis cache for 21 datasets with timestamp 2021-02-02 20:31:55.109531, reading from BigQuery instead\n",
      "Missed Redis cache for 29 datasets with timestamp 2021-02-02 20:31:55.109531, reading from BigQuery instead\n",
      "Missed Redis cache for 29 datasets with timestamp 2021-02-02 20:31:55.109531, reading from BigQuery instead\n",
      "Missed Redis cache for 22 datasets with timestamp 2021-02-02 20:31:55.109531, reading from BigQuery instead\n",
      "Missed Redis cache for 14 datasets with timestamp 2021-02-02 20:31:55.109531, reading from BigQuery instead\n"
     ]
    }
   ],
   "source": [
    "write_mergefile(crc_dsids, \"crc\")\n",
    "write_mergefile(paad_dsids, \"paad\")\n",
    "write_mergefile(prad_dsids, \"prad\")\n",
    "write_mergefile(ov_dsids, \"ov\")\n",
    "write_mergefile(liver_dsids, \"liver\")"
   ]
  },
  {
   "cell_type": "markdown",
   "metadata": {},
   "source": [
    "## ported all these to independent scripts\n",
    "to run the full pipeline do:  \n",
    "python make_metilene_inputs_tcga.py  \n",
    "    --cancer_tcga_betas_path ./perprobebetas/{TYPE}\\_450\\_betas.txt  \n",
    "    --out_prefix {TYPE}  \n",
    "source run_metilene.sh  \n",
    "python merge_DMRs.py --in_dir {TYPE}\\_met\\_inputs --out_bed {TYPE} #(filters regions by signif. thresholds)  \n",
    "python make_clustermap.py  \n",
    "    --cancer_tcga_betas_path ~/src/Methyl/TCGA/PanCancer/perprobebetas/{TYPE}\\_450\\_betas.csv  \n",
    "    --title \"{TYPE} metilene DMRs\"  \n",
    "    --bed_path {TYPE}\\_met\\_DMRs.tsv  \n"
   ]
  },
  {
   "cell_type": "code",
   "execution_count": 2,
   "metadata": {},
   "outputs": [
    {
     "data": {
      "text/plain": [
       "(95, 2770507, 2)"
      ]
     },
     "execution_count": 2,
     "metadata": {},
     "output_type": "execute_result"
    }
   ],
   "source": [
    "# Create Metilene input files\n",
    "\n",
    "# healthy plasma\n",
    "classes = [\"colorectal_plasma_healthy_polyp_n\",\"colorectal_plasma_healthy_polyp_y\"]\n",
    "mat_healthy_plasma = mf.create_from_training_classes(classes,\n",
    "                                                    'per_cpg_hmcfc_min_5_cpg_dense/v1',\n",
    "                                                     class_labels=[0,0])\n",
    "mat_healthy_plasma.shape"
   ]
  },
  {
   "cell_type": "code",
   "execution_count": 3,
   "metadata": {},
   "outputs": [
    {
     "data": {
      "text/plain": [
       "(40, 2770507, 2)"
      ]
     },
     "execution_count": 3,
     "metadata": {},
     "output_type": "execute_result"
    }
   ],
   "source": [
    "# CRC tissue data\n",
    "classes = [\"colorectal_tissue_cancer_stage_III_chemo_n\",\n",
    "           \"colorectal_tissue_cancer_stage_III_chemo_y\",\n",
    "           \"colorectal_tissue_cancer_stage_IV_chemo_n\",\n",
    "           \"colorectal_tissue_cancer_stage_IV_chemo_y\"]\n",
    "mat_crc = mf.create_from_training_classes(classes,\n",
    "                                          'per_cpg_hmcfc_min_5_cpg_dense/v1',\n",
    "                                          class_labels=[1,1,1,1])\n",
    "mat_crc.shape"
   ]
  },
  {
   "cell_type": "code",
   "execution_count": 4,
   "metadata": {},
   "outputs": [
    {
     "data": {
      "text/html": [
       "<div>\n",
       "<style scoped>\n",
       "    .dataframe tbody tr th:only-of-type {\n",
       "        vertical-align: middle;\n",
       "    }\n",
       "\n",
       "    .dataframe tbody tr th {\n",
       "        vertical-align: top;\n",
       "    }\n",
       "\n",
       "    .dataframe thead th {\n",
       "        text-align: right;\n",
       "    }\n",
       "</style>\n",
       "<table border=\"1\" class=\"dataframe\">\n",
       "  <thead>\n",
       "    <tr style=\"text-align: right;\">\n",
       "      <th></th>\n",
       "      <th>chr</th>\n",
       "      <th>pos</th>\n",
       "      <th>g1_0</th>\n",
       "      <th>g1_1</th>\n",
       "      <th>g1_2</th>\n",
       "      <th>g1_3</th>\n",
       "      <th>g1_4</th>\n",
       "      <th>g1_5</th>\n",
       "      <th>g1_6</th>\n",
       "      <th>g1_7</th>\n",
       "      <th>...</th>\n",
       "      <th>g1_85</th>\n",
       "      <th>g1_86</th>\n",
       "      <th>g1_87</th>\n",
       "      <th>g1_88</th>\n",
       "      <th>g1_89</th>\n",
       "      <th>g1_90</th>\n",
       "      <th>g1_91</th>\n",
       "      <th>g1_92</th>\n",
       "      <th>g1_93</th>\n",
       "      <th>g1_94</th>\n",
       "    </tr>\n",
       "  </thead>\n",
       "  <tbody>\n",
       "    <tr>\n",
       "      <th>0</th>\n",
       "      <td>chr1</td>\n",
       "      <td>28736</td>\n",
       "      <td>NaN</td>\n",
       "      <td>0.0</td>\n",
       "      <td>NaN</td>\n",
       "      <td>0.0</td>\n",
       "      <td>NaN</td>\n",
       "      <td>0.0</td>\n",
       "      <td>NaN</td>\n",
       "      <td>NaN</td>\n",
       "      <td>...</td>\n",
       "      <td>NaN</td>\n",
       "      <td>0.0</td>\n",
       "      <td>0.0</td>\n",
       "      <td>NaN</td>\n",
       "      <td>NaN</td>\n",
       "      <td>NaN</td>\n",
       "      <td>0.0</td>\n",
       "      <td>0.0</td>\n",
       "      <td>0.0</td>\n",
       "      <td>NaN</td>\n",
       "    </tr>\n",
       "    <tr>\n",
       "      <th>1</th>\n",
       "      <td>chr1</td>\n",
       "      <td>28750</td>\n",
       "      <td>0.0</td>\n",
       "      <td>0.0</td>\n",
       "      <td>NaN</td>\n",
       "      <td>0.0</td>\n",
       "      <td>NaN</td>\n",
       "      <td>0.0</td>\n",
       "      <td>NaN</td>\n",
       "      <td>NaN</td>\n",
       "      <td>...</td>\n",
       "      <td>NaN</td>\n",
       "      <td>0.0</td>\n",
       "      <td>0.0</td>\n",
       "      <td>0.0</td>\n",
       "      <td>NaN</td>\n",
       "      <td>0.0</td>\n",
       "      <td>0.0</td>\n",
       "      <td>0.0</td>\n",
       "      <td>0.0</td>\n",
       "      <td>NaN</td>\n",
       "    </tr>\n",
       "    <tr>\n",
       "      <th>2</th>\n",
       "      <td>chr1</td>\n",
       "      <td>28752</td>\n",
       "      <td>0.0</td>\n",
       "      <td>0.0</td>\n",
       "      <td>NaN</td>\n",
       "      <td>0.0</td>\n",
       "      <td>NaN</td>\n",
       "      <td>0.0</td>\n",
       "      <td>NaN</td>\n",
       "      <td>NaN</td>\n",
       "      <td>...</td>\n",
       "      <td>NaN</td>\n",
       "      <td>0.0</td>\n",
       "      <td>0.0</td>\n",
       "      <td>0.0</td>\n",
       "      <td>NaN</td>\n",
       "      <td>0.0</td>\n",
       "      <td>0.0</td>\n",
       "      <td>0.0</td>\n",
       "      <td>0.0</td>\n",
       "      <td>NaN</td>\n",
       "    </tr>\n",
       "    <tr>\n",
       "      <th>3</th>\n",
       "      <td>chr1</td>\n",
       "      <td>28765</td>\n",
       "      <td>0.0</td>\n",
       "      <td>0.0</td>\n",
       "      <td>NaN</td>\n",
       "      <td>0.0</td>\n",
       "      <td>NaN</td>\n",
       "      <td>0.0</td>\n",
       "      <td>NaN</td>\n",
       "      <td>NaN</td>\n",
       "      <td>...</td>\n",
       "      <td>NaN</td>\n",
       "      <td>0.0</td>\n",
       "      <td>0.0</td>\n",
       "      <td>0.0</td>\n",
       "      <td>0.0</td>\n",
       "      <td>0.0</td>\n",
       "      <td>0.0</td>\n",
       "      <td>0.0</td>\n",
       "      <td>0.0</td>\n",
       "      <td>NaN</td>\n",
       "    </tr>\n",
       "    <tr>\n",
       "      <th>4</th>\n",
       "      <td>chr1</td>\n",
       "      <td>28774</td>\n",
       "      <td>0.0</td>\n",
       "      <td>0.0</td>\n",
       "      <td>NaN</td>\n",
       "      <td>0.0</td>\n",
       "      <td>0.0</td>\n",
       "      <td>0.0</td>\n",
       "      <td>0.0</td>\n",
       "      <td>NaN</td>\n",
       "      <td>...</td>\n",
       "      <td>NaN</td>\n",
       "      <td>0.0</td>\n",
       "      <td>0.0</td>\n",
       "      <td>0.0</td>\n",
       "      <td>0.0</td>\n",
       "      <td>0.0</td>\n",
       "      <td>0.0</td>\n",
       "      <td>0.0</td>\n",
       "      <td>0.0</td>\n",
       "      <td>NaN</td>\n",
       "    </tr>\n",
       "  </tbody>\n",
       "</table>\n",
       "<p>5 rows × 97 columns</p>\n",
       "</div>"
      ],
      "text/plain": [
       "    chr    pos  g1_0  g1_1  g1_2  g1_3  g1_4  g1_5  g1_6  g1_7  ...  g1_85  \\\n",
       "0  chr1  28736   NaN   0.0   NaN   0.0   NaN   0.0   NaN   NaN  ...    NaN   \n",
       "1  chr1  28750   0.0   0.0   NaN   0.0   NaN   0.0   NaN   NaN  ...    NaN   \n",
       "2  chr1  28752   0.0   0.0   NaN   0.0   NaN   0.0   NaN   NaN  ...    NaN   \n",
       "3  chr1  28765   0.0   0.0   NaN   0.0   NaN   0.0   NaN   NaN  ...    NaN   \n",
       "4  chr1  28774   0.0   0.0   NaN   0.0   0.0   0.0   0.0   NaN  ...    NaN   \n",
       "\n",
       "   g1_86  g1_87  g1_88  g1_89  g1_90  g1_91  g1_92  g1_93  g1_94  \n",
       "0    0.0    0.0    NaN    NaN    NaN    0.0    0.0    0.0    NaN  \n",
       "1    0.0    0.0    0.0    NaN    0.0    0.0    0.0    0.0    NaN  \n",
       "2    0.0    0.0    0.0    NaN    0.0    0.0    0.0    0.0    NaN  \n",
       "3    0.0    0.0    0.0    0.0    0.0    0.0    0.0    0.0    NaN  \n",
       "4    0.0    0.0    0.0    0.0    0.0    0.0    0.0    0.0    NaN  \n",
       "\n",
       "[5 rows x 97 columns]"
      ]
     },
     "execution_count": 4,
     "metadata": {},
     "output_type": "execute_result"
    }
   ],
   "source": [
    "chrms = [m[\"chrom\"] for m in mat_healthy_plasma.column_metadata]\n",
    "pos = [m[\"end\"] for m in mat_healthy_plasma.column_metadata]\n",
    "sample_names = [f\"g1_{i}\" for i in range(mat_healthy_plasma.shape[0])]\n",
    "\n",
    "df_healthies = pd.DataFrame(mat_healthy_plasma.x[:,:,0]/mat_healthy_plasma.x[:,:,1]).T\n",
    "df_healthies.columns = sample_names\n",
    "df_healthies[\"chr\"] = chrms\n",
    "df_healthies[\"pos\"] = pos\n",
    "cols = df_healthies.columns.to_list()\n",
    "cols = cols[-2:] + cols[0:-2]\n",
    "df_healthies = df_healthies[cols]\n",
    "#df_healthies = df_healthies.fillna(\".\")\n",
    "df_healthies.head()\n",
    "\n",
    "#plt.hist(df_healthies.sum(axis=1))"
   ]
  },
  {
   "cell_type": "code",
   "execution_count": 23,
   "metadata": {},
   "outputs": [],
   "source": [
    "with open(\"./healthy_plasma_met_input.csv\",\"w\") as fout:\n",
    "    df_healthies.to_csv(fout, sep=\",\", index=False)"
   ]
  },
  {
   "cell_type": "code",
   "execution_count": 16,
   "metadata": {},
   "outputs": [
    {
     "name": "stdout",
     "output_type": "stream",
     "text": [
      "        pos g1_0 g1_1 g1_2 g1_3 g1_4 g1_5 g1_6 g1_7 g1_8  ... g1_85 g1_86  \\\n",
      "chr                                                       ...               \n",
      "chr1  28736    .  0.0    .  0.0    .  0.0    .    .  0.0  ...     .   0.0   \n",
      "chr1  28750  0.0  0.0    .  0.0    .  0.0    .    .  0.0  ...     .   0.0   \n",
      "chr1  28752  0.0  0.0    .  0.0    .  0.0    .    .  0.0  ...     .   0.0   \n",
      "chr1  28765  0.0  0.0    .  0.0    .  0.0    .    .  0.0  ...     .   0.0   \n",
      "chr1  28774  0.0  0.0    .  0.0  0.0  0.0  0.0    .  0.0  ...     .   0.0   \n",
      "\n",
      "     g1_87 g1_88 g1_89 g1_90 g1_91 g1_92 g1_93 g1_94  \n",
      "chr                                                   \n",
      "chr1   0.0     .     .     .   0.0   0.0   0.0     .  \n",
      "chr1   0.0   0.0     .   0.0   0.0   0.0   0.0     .  \n",
      "chr1   0.0   0.0     .   0.0   0.0   0.0   0.0     .  \n",
      "chr1   0.0   0.0   0.0   0.0   0.0   0.0   0.0     .  \n",
      "chr1   0.0   0.0   0.0   0.0   0.0   0.0   0.0     .  \n",
      "\n",
      "[5 rows x 96 columns]\n"
     ]
    }
   ],
   "source": [
    "# read in healthy data\n",
    "with open(\"./healthy_plasma_met_input.csv\",\"r\") as fin:\n",
    "    df_healthies = pd.read_csv(fin, sep=\",\",index_col=0, header=0)\n",
    "print(df_healthies.head())"
   ]
  },
  {
   "cell_type": "code",
   "execution_count": 12,
   "metadata": {},
   "outputs": [],
   "source": [
    "def make_input_df(matrix, title):\n",
    "    sample_names = [f\"g2_{i}\" for i in range(matrix.shape[0])]\n",
    "    df = pd.DataFrame(matrix.x[:,:,0]/matrix.x[:,:,1]).T\n",
    "    df.columns = sample_names\n",
    "    print(\"Fill NA . . .\")\n",
    "    df = df.fillna(\".\")\n",
    "    print(\"Complete fill na. \")\n",
    "    df_met = pd.concat([df_healthies, df], axis=1)\n",
    "    print(df_met.head())\n",
    "    print(df_met.shape)\n",
    "    \n",
    "    #with open(f\"./{title}_tissue_met_input.tsv\", \"w\") as fout:\n",
    "    #    df_met.to_csv(fout, sep=\"\\t\", index=False)\n",
    "    print(\"Complete\")\n",
    "    return df_met"
   ]
  },
  {
   "cell_type": "code",
   "execution_count": 10,
   "metadata": {},
   "outputs": [],
   "source": [
    "def split_by_chr(input_df, title):\n",
    "    !mkdir -p {title}_met_chr_inputs\n",
    "    for i in range(1,23):\n",
    "        df_chr = input_df[input_df[\"chr\"]==f\"chr{i}\"]\n",
    "        with open(f\"./{title}_met_chr_inputs/{title}_chr{i}.tsv\",\"w\") as fout:\n",
    "            df_chr.to_csv(fout, index=False, sep=\"\\t\")\n",
    "            print(f\"Chr{i} complete.\")\n",
    "    return\n",
    "                          "
   ]
  },
  {
   "cell_type": "code",
   "execution_count": 17,
   "metadata": {},
   "outputs": [
    {
     "name": "stdout",
     "output_type": "stream",
     "text": [
      "Fill NA . . .\n",
      "Complete fill na. \n"
     ]
    },
    {
     "ename": "KeyboardInterrupt",
     "evalue": "",
     "output_type": "error",
     "traceback": [
      "\u001b[0;31m---------------------------------------------------------------------------\u001b[0m",
      "\u001b[0;31mKeyboardInterrupt\u001b[0m                         Traceback (most recent call last)",
      "\u001b[0;32m<ipython-input-17-4acf18c305ad>\u001b[0m in \u001b[0;36m<module>\u001b[0;34m\u001b[0m\n\u001b[1;32m      1\u001b[0m \u001b[0;31m# This step has taken most of a day . . . why? fillna?\u001b[0m\u001b[0;34m\u001b[0m\u001b[0;34m\u001b[0m\u001b[0;34m\u001b[0m\u001b[0m\n\u001b[0;32m----> 2\u001b[0;31m \u001b[0mdf_crc\u001b[0m \u001b[0;34m=\u001b[0m \u001b[0mmake_input_df\u001b[0m\u001b[0;34m(\u001b[0m\u001b[0mmat_crc\u001b[0m\u001b[0;34m,\u001b[0m \u001b[0;34m\"CRC\"\u001b[0m\u001b[0;34m)\u001b[0m\u001b[0;34m\u001b[0m\u001b[0;34m\u001b[0m\u001b[0m\n\u001b[0m",
      "\u001b[0;32m<ipython-input-12-6c9784fbb760>\u001b[0m in \u001b[0;36mmake_input_df\u001b[0;34m(matrix, title)\u001b[0m\n\u001b[1;32m      6\u001b[0m     \u001b[0mdf\u001b[0m \u001b[0;34m=\u001b[0m \u001b[0mdf\u001b[0m\u001b[0;34m.\u001b[0m\u001b[0mfillna\u001b[0m\u001b[0;34m(\u001b[0m\u001b[0;34m\".\"\u001b[0m\u001b[0;34m)\u001b[0m\u001b[0;34m\u001b[0m\u001b[0;34m\u001b[0m\u001b[0m\n\u001b[1;32m      7\u001b[0m     \u001b[0mprint\u001b[0m\u001b[0;34m(\u001b[0m\u001b[0;34m\"Complete fill na. \"\u001b[0m\u001b[0;34m)\u001b[0m\u001b[0;34m\u001b[0m\u001b[0;34m\u001b[0m\u001b[0m\n\u001b[0;32m----> 8\u001b[0;31m     \u001b[0mdf_met\u001b[0m \u001b[0;34m=\u001b[0m \u001b[0mpd\u001b[0m\u001b[0;34m.\u001b[0m\u001b[0mconcat\u001b[0m\u001b[0;34m(\u001b[0m\u001b[0;34m[\u001b[0m\u001b[0mdf_healthies\u001b[0m\u001b[0;34m,\u001b[0m \u001b[0mdf\u001b[0m\u001b[0;34m]\u001b[0m\u001b[0;34m,\u001b[0m \u001b[0maxis\u001b[0m\u001b[0;34m=\u001b[0m\u001b[0;36m1\u001b[0m\u001b[0;34m)\u001b[0m\u001b[0;34m\u001b[0m\u001b[0;34m\u001b[0m\u001b[0m\n\u001b[0m\u001b[1;32m      9\u001b[0m     \u001b[0mprint\u001b[0m\u001b[0;34m(\u001b[0m\u001b[0mdf_met\u001b[0m\u001b[0;34m.\u001b[0m\u001b[0mhead\u001b[0m\u001b[0;34m(\u001b[0m\u001b[0;34m)\u001b[0m\u001b[0;34m)\u001b[0m\u001b[0;34m\u001b[0m\u001b[0;34m\u001b[0m\u001b[0m\n\u001b[1;32m     10\u001b[0m     \u001b[0mprint\u001b[0m\u001b[0;34m(\u001b[0m\u001b[0mdf_met\u001b[0m\u001b[0;34m.\u001b[0m\u001b[0mshape\u001b[0m\u001b[0;34m)\u001b[0m\u001b[0;34m\u001b[0m\u001b[0;34m\u001b[0m\u001b[0m\n",
      "\u001b[0;32m~/.virtualenvs/pineapple3/lib/python3.8/site-packages/pandas/core/reshape/concat.py\u001b[0m in \u001b[0;36mconcat\u001b[0;34m(objs, axis, join, ignore_index, keys, levels, names, verify_integrity, sort, copy)\u001b[0m\n\u001b[1;32m    282\u001b[0m     )\n\u001b[1;32m    283\u001b[0m \u001b[0;34m\u001b[0m\u001b[0m\n\u001b[0;32m--> 284\u001b[0;31m     \u001b[0;32mreturn\u001b[0m \u001b[0mop\u001b[0m\u001b[0;34m.\u001b[0m\u001b[0mget_result\u001b[0m\u001b[0;34m(\u001b[0m\u001b[0;34m)\u001b[0m\u001b[0;34m\u001b[0m\u001b[0;34m\u001b[0m\u001b[0m\n\u001b[0m\u001b[1;32m    285\u001b[0m \u001b[0;34m\u001b[0m\u001b[0m\n\u001b[1;32m    286\u001b[0m \u001b[0;34m\u001b[0m\u001b[0m\n",
      "\u001b[0;32m~/.virtualenvs/pineapple3/lib/python3.8/site-packages/pandas/core/reshape/concat.py\u001b[0m in \u001b[0;36mget_result\u001b[0;34m(self)\u001b[0m\n\u001b[1;32m    490\u001b[0m                     \u001b[0mobj_labels\u001b[0m \u001b[0;34m=\u001b[0m \u001b[0mmgr\u001b[0m\u001b[0;34m.\u001b[0m\u001b[0maxes\u001b[0m\u001b[0;34m[\u001b[0m\u001b[0max\u001b[0m\u001b[0;34m]\u001b[0m\u001b[0;34m\u001b[0m\u001b[0;34m\u001b[0m\u001b[0m\n\u001b[1;32m    491\u001b[0m                     \u001b[0;32mif\u001b[0m \u001b[0;32mnot\u001b[0m \u001b[0mnew_labels\u001b[0m\u001b[0;34m.\u001b[0m\u001b[0mequals\u001b[0m\u001b[0;34m(\u001b[0m\u001b[0mobj_labels\u001b[0m\u001b[0;34m)\u001b[0m\u001b[0;34m:\u001b[0m\u001b[0;34m\u001b[0m\u001b[0;34m\u001b[0m\u001b[0m\n\u001b[0;32m--> 492\u001b[0;31m                         \u001b[0mindexers\u001b[0m\u001b[0;34m[\u001b[0m\u001b[0max\u001b[0m\u001b[0;34m]\u001b[0m \u001b[0;34m=\u001b[0m \u001b[0mobj_labels\u001b[0m\u001b[0;34m.\u001b[0m\u001b[0mreindex\u001b[0m\u001b[0;34m(\u001b[0m\u001b[0mnew_labels\u001b[0m\u001b[0;34m)\u001b[0m\u001b[0;34m[\u001b[0m\u001b[0;36m1\u001b[0m\u001b[0;34m]\u001b[0m\u001b[0;34m\u001b[0m\u001b[0;34m\u001b[0m\u001b[0m\n\u001b[0m\u001b[1;32m    493\u001b[0m \u001b[0;34m\u001b[0m\u001b[0m\n\u001b[1;32m    494\u001b[0m                 \u001b[0mmgrs_indexers\u001b[0m\u001b[0;34m.\u001b[0m\u001b[0mappend\u001b[0m\u001b[0;34m(\u001b[0m\u001b[0;34m(\u001b[0m\u001b[0mobj\u001b[0m\u001b[0;34m.\u001b[0m\u001b[0m_data\u001b[0m\u001b[0;34m,\u001b[0m \u001b[0mindexers\u001b[0m\u001b[0;34m)\u001b[0m\u001b[0;34m)\u001b[0m\u001b[0;34m\u001b[0m\u001b[0;34m\u001b[0m\u001b[0m\n",
      "\u001b[0;32m~/.virtualenvs/pineapple3/lib/python3.8/site-packages/pandas/core/indexes/base.py\u001b[0m in \u001b[0;36mreindex\u001b[0;34m(self, target, method, level, limit, tolerance)\u001b[0m\n\u001b[1;32m   3150\u001b[0m                             \u001b[0;34m\"with a method or limit\"\u001b[0m\u001b[0;34m\u001b[0m\u001b[0;34m\u001b[0m\u001b[0m\n\u001b[1;32m   3151\u001b[0m                         )\n\u001b[0;32m-> 3152\u001b[0;31m                     \u001b[0mindexer\u001b[0m\u001b[0;34m,\u001b[0m \u001b[0mmissing\u001b[0m \u001b[0;34m=\u001b[0m \u001b[0mself\u001b[0m\u001b[0;34m.\u001b[0m\u001b[0mget_indexer_non_unique\u001b[0m\u001b[0;34m(\u001b[0m\u001b[0mtarget\u001b[0m\u001b[0;34m)\u001b[0m\u001b[0;34m\u001b[0m\u001b[0;34m\u001b[0m\u001b[0m\n\u001b[0m\u001b[1;32m   3153\u001b[0m \u001b[0;34m\u001b[0m\u001b[0m\n\u001b[1;32m   3154\u001b[0m         \u001b[0;32mif\u001b[0m \u001b[0mpreserve_names\u001b[0m \u001b[0;32mand\u001b[0m \u001b[0mtarget\u001b[0m\u001b[0;34m.\u001b[0m\u001b[0mnlevels\u001b[0m \u001b[0;34m==\u001b[0m \u001b[0;36m1\u001b[0m \u001b[0;32mand\u001b[0m \u001b[0mtarget\u001b[0m\u001b[0;34m.\u001b[0m\u001b[0mname\u001b[0m \u001b[0;34m!=\u001b[0m \u001b[0mself\u001b[0m\u001b[0;34m.\u001b[0m\u001b[0mname\u001b[0m\u001b[0;34m:\u001b[0m\u001b[0;34m\u001b[0m\u001b[0;34m\u001b[0m\u001b[0m\n",
      "\u001b[0;32m~/.virtualenvs/pineapple3/lib/python3.8/site-packages/pandas/core/indexes/base.py\u001b[0m in \u001b[0;36mget_indexer_non_unique\u001b[0;34m(self, target)\u001b[0m\n\u001b[1;32m   4483\u001b[0m             \u001b[0mtgt_values\u001b[0m \u001b[0;34m=\u001b[0m \u001b[0mtarget\u001b[0m\u001b[0;34m.\u001b[0m\u001b[0m_ndarray_values\u001b[0m\u001b[0;34m\u001b[0m\u001b[0;34m\u001b[0m\u001b[0m\n\u001b[1;32m   4484\u001b[0m \u001b[0;34m\u001b[0m\u001b[0m\n\u001b[0;32m-> 4485\u001b[0;31m         \u001b[0mindexer\u001b[0m\u001b[0;34m,\u001b[0m \u001b[0mmissing\u001b[0m \u001b[0;34m=\u001b[0m \u001b[0mself\u001b[0m\u001b[0;34m.\u001b[0m\u001b[0m_engine\u001b[0m\u001b[0;34m.\u001b[0m\u001b[0mget_indexer_non_unique\u001b[0m\u001b[0;34m(\u001b[0m\u001b[0mtgt_values\u001b[0m\u001b[0;34m)\u001b[0m\u001b[0;34m\u001b[0m\u001b[0;34m\u001b[0m\u001b[0m\n\u001b[0m\u001b[1;32m   4486\u001b[0m         \u001b[0;32mreturn\u001b[0m \u001b[0mensure_platform_int\u001b[0m\u001b[0;34m(\u001b[0m\u001b[0mindexer\u001b[0m\u001b[0;34m)\u001b[0m\u001b[0;34m,\u001b[0m \u001b[0mmissing\u001b[0m\u001b[0;34m\u001b[0m\u001b[0;34m\u001b[0m\u001b[0m\n\u001b[1;32m   4487\u001b[0m \u001b[0;34m\u001b[0m\u001b[0m\n",
      "\u001b[0;32mpandas/_libs/index.pyx\u001b[0m in \u001b[0;36mpandas._libs.index.IndexEngine.get_indexer_non_unique\u001b[0;34m()\u001b[0m\n",
      "\u001b[0;32m<__array_function__ internals>\u001b[0m in \u001b[0;36mresize\u001b[0;34m(*args, **kwargs)\u001b[0m\n",
      "\u001b[0;32m~/.virtualenvs/pineapple3/lib/python3.8/site-packages/numpy/core/fromnumeric.py\u001b[0m in \u001b[0;36mresize\u001b[0;34m(a, new_shape)\u001b[0m\n\u001b[1;32m   1413\u001b[0m         \u001b[0mextra\u001b[0m \u001b[0;34m=\u001b[0m \u001b[0mNa\u001b[0m \u001b[0;34m-\u001b[0m \u001b[0mextra\u001b[0m\u001b[0;34m\u001b[0m\u001b[0;34m\u001b[0m\u001b[0m\n\u001b[1;32m   1414\u001b[0m \u001b[0;34m\u001b[0m\u001b[0m\n\u001b[0;32m-> 1415\u001b[0;31m     \u001b[0ma\u001b[0m \u001b[0;34m=\u001b[0m \u001b[0mconcatenate\u001b[0m\u001b[0;34m(\u001b[0m\u001b[0;34m(\u001b[0m\u001b[0ma\u001b[0m\u001b[0;34m,\u001b[0m\u001b[0;34m)\u001b[0m \u001b[0;34m*\u001b[0m \u001b[0mn_copies\u001b[0m\u001b[0;34m)\u001b[0m\u001b[0;34m\u001b[0m\u001b[0;34m\u001b[0m\u001b[0m\n\u001b[0m\u001b[1;32m   1416\u001b[0m     \u001b[0;32mif\u001b[0m \u001b[0mextra\u001b[0m \u001b[0;34m>\u001b[0m \u001b[0;36m0\u001b[0m\u001b[0;34m:\u001b[0m\u001b[0;34m\u001b[0m\u001b[0;34m\u001b[0m\u001b[0m\n\u001b[1;32m   1417\u001b[0m         \u001b[0ma\u001b[0m \u001b[0;34m=\u001b[0m \u001b[0ma\u001b[0m\u001b[0;34m[\u001b[0m\u001b[0;34m:\u001b[0m\u001b[0;34m-\u001b[0m\u001b[0mextra\u001b[0m\u001b[0;34m]\u001b[0m\u001b[0;34m\u001b[0m\u001b[0;34m\u001b[0m\u001b[0m\n",
      "\u001b[0;32m<__array_function__ internals>\u001b[0m in \u001b[0;36mconcatenate\u001b[0;34m(*args, **kwargs)\u001b[0m\n",
      "\u001b[0;31mKeyboardInterrupt\u001b[0m: "
     ]
    }
   ],
   "source": [
    "# This step has taken most of a day . . . why? fillna?\n",
    "df_crc = make_input_df(mat_crc, \"CRC\")"
   ]
  },
  {
   "cell_type": "code",
   "execution_count": 15,
   "metadata": {},
   "outputs": [
    {
     "name": "stdout",
     "output_type": "stream",
     "text": [
      "Chr1 complete.\n"
     ]
    },
    {
     "ename": "KeyboardInterrupt",
     "evalue": "",
     "output_type": "error",
     "traceback": [
      "\u001b[0;31m---------------------------------------------------------------------------\u001b[0m",
      "\u001b[0;31mKeyboardInterrupt\u001b[0m                         Traceback (most recent call last)",
      "\u001b[0;32m<ipython-input-15-77de0846e96c>\u001b[0m in \u001b[0;36m<module>\u001b[0;34m\u001b[0m\n\u001b[0;32m----> 1\u001b[0;31m \u001b[0msplit_by_chr\u001b[0m\u001b[0;34m(\u001b[0m\u001b[0mdf_crc\u001b[0m\u001b[0;34m,\u001b[0m \u001b[0;34m\"CRC\"\u001b[0m\u001b[0;34m)\u001b[0m\u001b[0;34m\u001b[0m\u001b[0;34m\u001b[0m\u001b[0m\n\u001b[0m",
      "\u001b[0;32m<ipython-input-10-99ac06bb795a>\u001b[0m in \u001b[0;36msplit_by_chr\u001b[0;34m(input_df, title)\u001b[0m\n\u001b[1;32m      4\u001b[0m         \u001b[0mdf_chr\u001b[0m \u001b[0;34m=\u001b[0m \u001b[0minput_df\u001b[0m\u001b[0;34m[\u001b[0m\u001b[0minput_df\u001b[0m\u001b[0;34m[\u001b[0m\u001b[0;34m\"chr\"\u001b[0m\u001b[0;34m]\u001b[0m\u001b[0;34m==\u001b[0m\u001b[0;34mf\"chr{i}\"\u001b[0m\u001b[0;34m]\u001b[0m\u001b[0;34m\u001b[0m\u001b[0;34m\u001b[0m\u001b[0m\n\u001b[1;32m      5\u001b[0m         \u001b[0;32mwith\u001b[0m \u001b[0mopen\u001b[0m\u001b[0;34m(\u001b[0m\u001b[0;34mf\"./{title}_met_chr_inputs/{title}_chr{i}.tsv\"\u001b[0m\u001b[0;34m,\u001b[0m\u001b[0;34m\"w\"\u001b[0m\u001b[0;34m)\u001b[0m \u001b[0;32mas\u001b[0m \u001b[0mfout\u001b[0m\u001b[0;34m:\u001b[0m\u001b[0;34m\u001b[0m\u001b[0;34m\u001b[0m\u001b[0m\n\u001b[0;32m----> 6\u001b[0;31m             \u001b[0mdf_chr\u001b[0m\u001b[0;34m.\u001b[0m\u001b[0mto_csv\u001b[0m\u001b[0;34m(\u001b[0m\u001b[0mfout\u001b[0m\u001b[0;34m,\u001b[0m \u001b[0mindex\u001b[0m\u001b[0;34m=\u001b[0m\u001b[0;32mFalse\u001b[0m\u001b[0;34m,\u001b[0m \u001b[0msep\u001b[0m\u001b[0;34m=\u001b[0m\u001b[0;34m\"\\t\"\u001b[0m\u001b[0;34m)\u001b[0m\u001b[0;34m\u001b[0m\u001b[0;34m\u001b[0m\u001b[0m\n\u001b[0m\u001b[1;32m      7\u001b[0m             \u001b[0mprint\u001b[0m\u001b[0;34m(\u001b[0m\u001b[0;34mf\"Chr{i} complete.\"\u001b[0m\u001b[0;34m)\u001b[0m\u001b[0;34m\u001b[0m\u001b[0;34m\u001b[0m\u001b[0m\n\u001b[1;32m      8\u001b[0m     \u001b[0;32mreturn\u001b[0m\u001b[0;34m\u001b[0m\u001b[0;34m\u001b[0m\u001b[0m\n",
      "\u001b[0;32m~/.virtualenvs/pineapple3/lib/python3.8/site-packages/pandas/core/generic.py\u001b[0m in \u001b[0;36mto_csv\u001b[0;34m(self, path_or_buf, sep, na_rep, float_format, columns, header, index, index_label, mode, encoding, compression, quoting, quotechar, line_terminator, chunksize, date_format, doublequote, escapechar, decimal)\u001b[0m\n\u001b[1;32m   3202\u001b[0m             \u001b[0mdecimal\u001b[0m\u001b[0;34m=\u001b[0m\u001b[0mdecimal\u001b[0m\u001b[0;34m,\u001b[0m\u001b[0;34m\u001b[0m\u001b[0;34m\u001b[0m\u001b[0m\n\u001b[1;32m   3203\u001b[0m         )\n\u001b[0;32m-> 3204\u001b[0;31m         \u001b[0mformatter\u001b[0m\u001b[0;34m.\u001b[0m\u001b[0msave\u001b[0m\u001b[0;34m(\u001b[0m\u001b[0;34m)\u001b[0m\u001b[0;34m\u001b[0m\u001b[0;34m\u001b[0m\u001b[0m\n\u001b[0m\u001b[1;32m   3205\u001b[0m \u001b[0;34m\u001b[0m\u001b[0m\n\u001b[1;32m   3206\u001b[0m         \u001b[0;32mif\u001b[0m \u001b[0mpath_or_buf\u001b[0m \u001b[0;32mis\u001b[0m \u001b[0;32mNone\u001b[0m\u001b[0;34m:\u001b[0m\u001b[0;34m\u001b[0m\u001b[0;34m\u001b[0m\u001b[0m\n",
      "\u001b[0;32m~/.virtualenvs/pineapple3/lib/python3.8/site-packages/pandas/io/formats/csvs.py\u001b[0m in \u001b[0;36msave\u001b[0;34m(self)\u001b[0m\n\u001b[1;32m    202\u001b[0m             )\n\u001b[1;32m    203\u001b[0m \u001b[0;34m\u001b[0m\u001b[0m\n\u001b[0;32m--> 204\u001b[0;31m             \u001b[0mself\u001b[0m\u001b[0;34m.\u001b[0m\u001b[0m_save\u001b[0m\u001b[0;34m(\u001b[0m\u001b[0;34m)\u001b[0m\u001b[0;34m\u001b[0m\u001b[0;34m\u001b[0m\u001b[0m\n\u001b[0m\u001b[1;32m    205\u001b[0m \u001b[0;34m\u001b[0m\u001b[0m\n\u001b[1;32m    206\u001b[0m         \u001b[0;32mfinally\u001b[0m\u001b[0;34m:\u001b[0m\u001b[0;34m\u001b[0m\u001b[0;34m\u001b[0m\u001b[0m\n",
      "\u001b[0;32m~/.virtualenvs/pineapple3/lib/python3.8/site-packages/pandas/io/formats/csvs.py\u001b[0m in \u001b[0;36m_save\u001b[0;34m(self)\u001b[0m\n\u001b[1;32m    321\u001b[0m                 \u001b[0;32mbreak\u001b[0m\u001b[0;34m\u001b[0m\u001b[0;34m\u001b[0m\u001b[0m\n\u001b[1;32m    322\u001b[0m \u001b[0;34m\u001b[0m\u001b[0m\n\u001b[0;32m--> 323\u001b[0;31m             \u001b[0mself\u001b[0m\u001b[0;34m.\u001b[0m\u001b[0m_save_chunk\u001b[0m\u001b[0;34m(\u001b[0m\u001b[0mstart_i\u001b[0m\u001b[0;34m,\u001b[0m \u001b[0mend_i\u001b[0m\u001b[0;34m)\u001b[0m\u001b[0;34m\u001b[0m\u001b[0;34m\u001b[0m\u001b[0m\n\u001b[0m\u001b[1;32m    324\u001b[0m \u001b[0;34m\u001b[0m\u001b[0m\n\u001b[1;32m    325\u001b[0m     \u001b[0;32mdef\u001b[0m \u001b[0m_save_chunk\u001b[0m\u001b[0;34m(\u001b[0m\u001b[0mself\u001b[0m\u001b[0;34m,\u001b[0m \u001b[0mstart_i\u001b[0m\u001b[0;34m:\u001b[0m \u001b[0mint\u001b[0m\u001b[0;34m,\u001b[0m \u001b[0mend_i\u001b[0m\u001b[0;34m:\u001b[0m \u001b[0mint\u001b[0m\u001b[0;34m)\u001b[0m \u001b[0;34m->\u001b[0m \u001b[0;32mNone\u001b[0m\u001b[0;34m:\u001b[0m\u001b[0;34m\u001b[0m\u001b[0;34m\u001b[0m\u001b[0m\n",
      "\u001b[0;32m~/.virtualenvs/pineapple3/lib/python3.8/site-packages/pandas/io/formats/csvs.py\u001b[0m in \u001b[0;36m_save_chunk\u001b[0;34m(self, start_i, end_i)\u001b[0m\n\u001b[1;32m    330\u001b[0m         \u001b[0;32mfor\u001b[0m \u001b[0mi\u001b[0m \u001b[0;32min\u001b[0m \u001b[0mrange\u001b[0m\u001b[0;34m(\u001b[0m\u001b[0mlen\u001b[0m\u001b[0;34m(\u001b[0m\u001b[0mself\u001b[0m\u001b[0;34m.\u001b[0m\u001b[0mblocks\u001b[0m\u001b[0;34m)\u001b[0m\u001b[0;34m)\u001b[0m\u001b[0;34m:\u001b[0m\u001b[0;34m\u001b[0m\u001b[0;34m\u001b[0m\u001b[0m\n\u001b[1;32m    331\u001b[0m             \u001b[0mb\u001b[0m \u001b[0;34m=\u001b[0m \u001b[0mself\u001b[0m\u001b[0;34m.\u001b[0m\u001b[0mblocks\u001b[0m\u001b[0;34m[\u001b[0m\u001b[0mi\u001b[0m\u001b[0;34m]\u001b[0m\u001b[0;34m\u001b[0m\u001b[0;34m\u001b[0m\u001b[0m\n\u001b[0;32m--> 332\u001b[0;31m             d = b.to_native_types(\n\u001b[0m\u001b[1;32m    333\u001b[0m                 \u001b[0mslicer\u001b[0m\u001b[0;34m=\u001b[0m\u001b[0mslicer\u001b[0m\u001b[0;34m,\u001b[0m\u001b[0;34m\u001b[0m\u001b[0;34m\u001b[0m\u001b[0m\n\u001b[1;32m    334\u001b[0m                 \u001b[0mna_rep\u001b[0m\u001b[0;34m=\u001b[0m\u001b[0mself\u001b[0m\u001b[0;34m.\u001b[0m\u001b[0mna_rep\u001b[0m\u001b[0;34m,\u001b[0m\u001b[0;34m\u001b[0m\u001b[0;34m\u001b[0m\u001b[0m\n",
      "\u001b[0;32m~/.virtualenvs/pineapple3/lib/python3.8/site-packages/pandas/core/internals/blocks.py\u001b[0m in \u001b[0;36mto_native_types\u001b[0;34m(self, slicer, na_rep, float_format, decimal, quoting, **kwargs)\u001b[0m\n\u001b[1;32m   2065\u001b[0m \u001b[0;34m\u001b[0m\u001b[0m\n\u001b[1;32m   2066\u001b[0m             \u001b[0;32mif\u001b[0m \u001b[0;32mnot\u001b[0m \u001b[0mquoting\u001b[0m\u001b[0;34m:\u001b[0m\u001b[0;34m\u001b[0m\u001b[0;34m\u001b[0m\u001b[0m\n\u001b[0;32m-> 2067\u001b[0;31m                 \u001b[0mvalues\u001b[0m \u001b[0;34m=\u001b[0m \u001b[0mvalues\u001b[0m\u001b[0;34m.\u001b[0m\u001b[0mastype\u001b[0m\u001b[0;34m(\u001b[0m\u001b[0mstr\u001b[0m\u001b[0;34m)\u001b[0m\u001b[0;34m\u001b[0m\u001b[0;34m\u001b[0m\u001b[0m\n\u001b[0m\u001b[1;32m   2068\u001b[0m             \u001b[0;32melse\u001b[0m\u001b[0;34m:\u001b[0m\u001b[0;34m\u001b[0m\u001b[0;34m\u001b[0m\u001b[0m\n\u001b[1;32m   2069\u001b[0m                 \u001b[0mvalues\u001b[0m \u001b[0;34m=\u001b[0m \u001b[0mnp\u001b[0m\u001b[0;34m.\u001b[0m\u001b[0marray\u001b[0m\u001b[0;34m(\u001b[0m\u001b[0mvalues\u001b[0m\u001b[0;34m,\u001b[0m \u001b[0mdtype\u001b[0m\u001b[0;34m=\u001b[0m\u001b[0;34m\"object\"\u001b[0m\u001b[0;34m)\u001b[0m\u001b[0;34m\u001b[0m\u001b[0;34m\u001b[0m\u001b[0m\n",
      "\u001b[0;31mKeyboardInterrupt\u001b[0m: "
     ]
    }
   ],
   "source": [
    "split_by_chr(df_crc, \"CRC\")"
   ]
  },
  {
   "cell_type": "code",
   "execution_count": null,
   "metadata": {},
   "outputs": [],
   "source": [
    "print(df_crc.head())\n",
    "# with open(f\"./CRC_tissue_met_input.tsv\", \"w\") as fout:\n",
    "#         df_crc.to_csv(fout, sep=\"\\t\", index=False)"
   ]
  },
  {
   "cell_type": "code",
   "execution_count": 7,
   "metadata": {},
   "outputs": [
    {
     "name": "stdout",
     "output_type": "stream",
     "text": [
      "    chr    pos g1_0 g1_1 g1_2 g1_3 g1_4 g1_5 g1_6 g1_7  ... g2_30 g2_31 g2_32  \\\n",
      "0  chr1  28736    .  0.0    .  0.0    .  0.0    .    .  ...     .     .     .   \n",
      "1  chr1  28750  0.0  0.0    .  0.0    .  0.0    .    .  ...     .     .     .   \n",
      "2  chr1  28752  0.0  0.0    .  0.0    .  0.0    .    .  ...     .     .     .   \n",
      "3  chr1  28765  0.0  0.0    .  0.0    .  0.0    .    .  ...     .     .     .   \n",
      "4  chr1  28774  0.0  0.0    .  0.0  0.0  0.0  0.0    .  ...     .     .     .   \n",
      "\n",
      "  g2_33 g2_34 g2_35 g2_36 g2_37 g2_38 g2_39  \n",
      "0     .     .     .     .     .     .     .  \n",
      "1     .     .     .     .     .     .     .  \n",
      "2     .     .     .     .     .     .     .  \n",
      "3     .     .     .     .     .     .     .  \n",
      "4     .     .     .     .     .     .     .  \n",
      "\n",
      "[5 rows x 137 columns]\n"
     ]
    }
   ],
   "source": [
    "df_crc = pd.read_csv(\"./CRC_tissue_met_input.tsv\", header=0,sep=\"\\t\")\n",
    "df_crc = df_crc.fillna(\".\")\n",
    "print(df_crc.head())"
   ]
  },
  {
   "cell_type": "code",
   "execution_count": 15,
   "metadata": {},
   "outputs": [
    {
     "name": "stdout",
     "output_type": "stream",
     "text": [
      "Chr1 complete.\n",
      "Chr2 complete.\n",
      "Chr3 complete.\n",
      "Chr4 complete.\n",
      "Chr5 complete.\n",
      "Chr6 complete.\n",
      "Chr7 complete.\n",
      "Chr8 complete.\n",
      "Chr9 complete.\n",
      "Chr10 complete.\n",
      "Chr11 complete.\n",
      "Chr12 complete.\n",
      "Chr13 complete.\n",
      "Chr14 complete.\n",
      "Chr15 complete.\n",
      "Chr16 complete.\n",
      "Chr17 complete.\n",
      "Chr18 complete.\n",
      "Chr19 complete.\n",
      "Chr20 complete.\n",
      "Chr21 complete.\n",
      "Chr22 complete.\n"
     ]
    }
   ],
   "source": [
    "split_by_chr(df_crc, \"CRC\")"
   ]
  },
  {
   "cell_type": "code",
   "execution_count": null,
   "metadata": {},
   "outputs": [],
   "source": [
    "\n",
    "# ./../Metilene/metilene_v0.2-8/metilene -a g1 -b g2 CRC_tissue_met_input_nona.tsv >CRC_met_DMRs.txt"
   ]
  },
  {
   "cell_type": "code",
   "execution_count": 34,
   "metadata": {},
   "outputs": [
    {
     "name": "stderr",
     "output_type": "stream",
     "text": [
      "Missed Redis cache for 29 datasets with timestamp 2021-02-02 00:00:00, reading from BigQuery instead\n"
     ]
    },
    {
     "name": "stdout",
     "output_type": "stream",
     "text": [
      "(29, 2770507, 2)\n",
      "    chr    pos  g1_0  g1_1  g1_2  g1_3  g1_4  g1_5  g1_6  g1_7  ...  g2_19  \\\n",
      "0  chr1  28736   NaN   0.0   NaN   0.0   NaN   0.0   NaN   NaN  ...      .   \n",
      "1  chr1  28750   0.0   0.0   NaN   0.0   NaN   0.0   NaN   NaN  ...      .   \n",
      "2  chr1  28752   0.0   0.0   NaN   0.0   NaN   0.0   NaN   NaN  ...      .   \n",
      "3  chr1  28765   0.0   0.0   NaN   0.0   NaN   0.0   NaN   NaN  ...      .   \n",
      "4  chr1  28774   0.0   0.0   NaN   0.0   0.0   0.0   0.0   NaN  ...      .   \n",
      "\n",
      "   g2_20  g2_21  g2_22  g2_23  g2_24  g2_25  g2_26  g2_27  g2_28  \n",
      "0      .      .      .      .      .      .      .      .      .  \n",
      "1      .      .      .      .      .      .      .      .      .  \n",
      "2      .      .      .      .      .      .      .      .      .  \n",
      "3      .      .      .      .      .      .      .      .      .  \n",
      "4      .      .      .      .      .      .      .      .      .  \n",
      "\n",
      "[5 rows x 126 columns]\n",
      "(2770507, 126)\n",
      "Complete\n"
     ]
    }
   ],
   "source": [
    "classes = [\"pancreatic_cancer_tissue_ds_FF_v1\"]\n",
    "mat = mf.create_from_training_classes(classes,\n",
    "                                      'per_cpg_hmcfc_min_5_cpg_dense/v1',\n",
    "                                       class_labels=[1])\n",
    "print(mat.shape)\n",
    "\n",
    "make_input_df(mat, \"Pancreas\")"
   ]
  },
  {
   "cell_type": "code",
   "execution_count": 18,
   "metadata": {},
   "outputs": [
    {
     "name": "stdout",
     "output_type": "stream",
     "text": [
      "Chr1 complete.\n",
      "Chr2 complete.\n",
      "Chr3 complete.\n",
      "Chr4 complete.\n",
      "Chr5 complete.\n",
      "Chr6 complete.\n",
      "Chr7 complete.\n",
      "Chr8 complete.\n",
      "Chr9 complete.\n",
      "Chr10 complete.\n",
      "Chr11 complete.\n",
      "Chr12 complete.\n",
      "Chr13 complete.\n",
      "Chr14 complete.\n",
      "Chr15 complete.\n",
      "Chr16 complete.\n",
      "Chr17 complete.\n",
      "Chr18 complete.\n",
      "Chr19 complete.\n",
      "Chr20 complete.\n",
      "Chr21 complete.\n",
      "Chr22 complete.\n"
     ]
    }
   ],
   "source": [
    "# df_pan = pd.read_csv(\"./Pancreas_tissue_met_input.tsv\", header=0,sep=\"\\t\")\n",
    "# df_pan = df_pan.fillna(\".\")\n",
    "# print(df_pan.head())\n",
    "split_by_chr(df_pan, \"Pancreas\")"
   ]
  },
  {
   "cell_type": "code",
   "execution_count": null,
   "metadata": {},
   "outputs": [],
   "source": [
    "# | chr | start | stop | q-value | mean methylation difference | #CpGs | p (MWU) | p (2D KS) | mean g1 | mean g2\n",
    "\n",
    "files = !ls ./CRC_met_chr_inputs/*_DMRs.txt\n",
    "dfs = []\n",
    "for file in files:\n",
    "    df = pd.read_csv(file, sep=\"\\t\", header=None)\n",
    "    print(df.head())\n",
    "    df = df[df.iloc[:,3]<0.05]\n",
    "    df = df[df.iloc[:,4]<0]\n",
    "    df = df[df.columns[0:3]]\n",
    "    dfs.append(df)\n",
    "\n",
    "df_all = pd.concat(dfs)\n",
    "print(df_all.shape)\n",
    "print(df_all.head())\n",
    "\n",
    "with open(\"./CRC_all_DMRs.bed\",\"w\") as fout:\n",
    "    df_all.to_csv(fout, index=False, sep=\"\\t\")"
   ]
  },
  {
   "cell_type": "markdown",
   "metadata": {},
   "source": [
    "## ported all these to independent scripts\n",
    "#Run:\n",
    "python make_metilene_inputs.py --training_class ovarian_cancer_tissue_ds_FF_v1 --out_prefix Ovarian\n",
    "source run_metilene.sh Ovarian_met_chr_inputs\n",
    "python merge_DMRs.py --in_dir Ovarian_met_chr_inputs --out_bed Ovarian_all_DMRs.tsv"
   ]
  },
  {
   "cell_type": "markdown",
   "metadata": {},
   "source": [
    "# Make heatmaps of each region set output by metilene\n"
   ]
  },
  {
   "cell_type": "code",
   "execution_count": null,
   "metadata": {},
   "outputs": [],
   "source": [
    "# load bedfile of DMRs\n",
    "# load tissue tcga beta values\n",
    "# load blood epic beta values\n",
    "# for each region in bed extract all probe values for each sample in tissue\n",
    "# for each region in bed extract all probe values for each sample in blood\n",
    "# merge dict of region averages into DataFrame and plot as heat map.\n"
   ]
  },
  {
   "cell_type": "code",
   "execution_count": 41,
   "metadata": {},
   "outputs": [
    {
     "name": "stdout",
     "output_type": "stream",
     "text": [
      "(865918, 68)\n"
     ]
    },
    {
     "data": {
      "text/html": [
       "<div>\n",
       "<style scoped>\n",
       "    .dataframe tbody tr th:only-of-type {\n",
       "        vertical-align: middle;\n",
       "    }\n",
       "\n",
       "    .dataframe tbody tr th {\n",
       "        vertical-align: top;\n",
       "    }\n",
       "\n",
       "    .dataframe thead th {\n",
       "        text-align: right;\n",
       "    }\n",
       "</style>\n",
       "<table border=\"1\" class=\"dataframe\">\n",
       "  <thead>\n",
       "    <tr style=\"text-align: right;\">\n",
       "      <th></th>\n",
       "      <th>ProbeID</th>\n",
       "      <th>GSM2995280_201868590258_R01C01</th>\n",
       "      <th>GSM2995281_201868590099_R04C01</th>\n",
       "      <th>GSM2995282_201868590099_R07C01</th>\n",
       "      <th>GSM2995283_201868590099_R03C01</th>\n",
       "      <th>GSM2995284_201868590258_R04C01</th>\n",
       "      <th>GSM2995285_201868590099_R08C01</th>\n",
       "      <th>GSM2995286_201868590099_R02C01</th>\n",
       "      <th>GSM2995287_201868590099_R05C01</th>\n",
       "      <th>GSM2995288_201868590099_R01C01</th>\n",
       "      <th>...</th>\n",
       "      <th>GSM2998140_201870610111_R04C01</th>\n",
       "      <th>GSM2998143_201870610111_R05C01</th>\n",
       "      <th>GSM2998146_201870610111_R06C01</th>\n",
       "      <th>GSM2998149_201870610111_R07C01</th>\n",
       "      <th>GSM3074480_202163530006_R02C01</th>\n",
       "      <th>GSM3074481_202163530006_R03C01</th>\n",
       "      <th>GSM3074482_202163530006_R04C01</th>\n",
       "      <th>GSM3074483_202163530006_R06C01</th>\n",
       "      <th>GSM3074484_202163530006_R07C01</th>\n",
       "      <th>GSM3074485_202163530006_R08C01</th>\n",
       "    </tr>\n",
       "  </thead>\n",
       "  <tbody>\n",
       "    <tr>\n",
       "      <th>0</th>\n",
       "      <td>cg18478105</td>\n",
       "      <td>0.023924</td>\n",
       "      <td>0.021267</td>\n",
       "      <td>0.016215</td>\n",
       "      <td>0.015554</td>\n",
       "      <td>0.021642</td>\n",
       "      <td>0.015237</td>\n",
       "      <td>0.018368</td>\n",
       "      <td>0.016891</td>\n",
       "      <td>0.018232</td>\n",
       "      <td>...</td>\n",
       "      <td>0.015454</td>\n",
       "      <td>0.018249</td>\n",
       "      <td>0.021805</td>\n",
       "      <td>0.018219</td>\n",
       "      <td>0.018538</td>\n",
       "      <td>0.033569</td>\n",
       "      <td>0.021886</td>\n",
       "      <td>0.017784</td>\n",
       "      <td>0.015673</td>\n",
       "      <td>0.017795</td>\n",
       "    </tr>\n",
       "    <tr>\n",
       "      <th>1</th>\n",
       "      <td>cg01763666</td>\n",
       "      <td>0.716950</td>\n",
       "      <td>0.788641</td>\n",
       "      <td>0.757762</td>\n",
       "      <td>0.768896</td>\n",
       "      <td>0.792459</td>\n",
       "      <td>0.763830</td>\n",
       "      <td>0.804868</td>\n",
       "      <td>0.759402</td>\n",
       "      <td>0.814085</td>\n",
       "      <td>...</td>\n",
       "      <td>0.603830</td>\n",
       "      <td>0.933529</td>\n",
       "      <td>0.653003</td>\n",
       "      <td>0.695979</td>\n",
       "      <td>0.770630</td>\n",
       "      <td>0.760713</td>\n",
       "      <td>0.782767</td>\n",
       "      <td>0.752489</td>\n",
       "      <td>0.799943</td>\n",
       "      <td>0.796192</td>\n",
       "    </tr>\n",
       "    <tr>\n",
       "      <th>2</th>\n",
       "      <td>cg25813447</td>\n",
       "      <td>0.068839</td>\n",
       "      <td>0.049029</td>\n",
       "      <td>0.050133</td>\n",
       "      <td>0.047702</td>\n",
       "      <td>0.049845</td>\n",
       "      <td>0.053604</td>\n",
       "      <td>0.038454</td>\n",
       "      <td>0.062210</td>\n",
       "      <td>0.061132</td>\n",
       "      <td>...</td>\n",
       "      <td>0.159036</td>\n",
       "      <td>0.029493</td>\n",
       "      <td>0.146008</td>\n",
       "      <td>0.037188</td>\n",
       "      <td>0.043401</td>\n",
       "      <td>0.054012</td>\n",
       "      <td>0.078437</td>\n",
       "      <td>0.048994</td>\n",
       "      <td>0.363894</td>\n",
       "      <td>0.070873</td>\n",
       "    </tr>\n",
       "    <tr>\n",
       "      <th>3</th>\n",
       "      <td>cg07779434</td>\n",
       "      <td>0.033854</td>\n",
       "      <td>0.027169</td>\n",
       "      <td>0.026531</td>\n",
       "      <td>0.031166</td>\n",
       "      <td>0.033587</td>\n",
       "      <td>0.023341</td>\n",
       "      <td>0.027100</td>\n",
       "      <td>0.026527</td>\n",
       "      <td>0.028244</td>\n",
       "      <td>...</td>\n",
       "      <td>0.029501</td>\n",
       "      <td>0.034909</td>\n",
       "      <td>0.028853</td>\n",
       "      <td>0.027230</td>\n",
       "      <td>0.035515</td>\n",
       "      <td>0.032339</td>\n",
       "      <td>0.026009</td>\n",
       "      <td>0.028557</td>\n",
       "      <td>0.375870</td>\n",
       "      <td>0.022654</td>\n",
       "    </tr>\n",
       "    <tr>\n",
       "      <th>4</th>\n",
       "      <td>cg13417420</td>\n",
       "      <td>0.045786</td>\n",
       "      <td>0.082441</td>\n",
       "      <td>0.048532</td>\n",
       "      <td>0.055085</td>\n",
       "      <td>0.110833</td>\n",
       "      <td>0.069514</td>\n",
       "      <td>0.065422</td>\n",
       "      <td>0.076870</td>\n",
       "      <td>0.072224</td>\n",
       "      <td>...</td>\n",
       "      <td>0.038987</td>\n",
       "      <td>0.027935</td>\n",
       "      <td>0.053702</td>\n",
       "      <td>0.040571</td>\n",
       "      <td>0.039559</td>\n",
       "      <td>0.166436</td>\n",
       "      <td>0.036245</td>\n",
       "      <td>0.025067</td>\n",
       "      <td>0.088086</td>\n",
       "      <td>0.101406</td>\n",
       "    </tr>\n",
       "  </tbody>\n",
       "</table>\n",
       "<p>5 rows × 68 columns</p>\n",
       "</div>"
      ],
      "text/plain": [
       "      ProbeID  GSM2995280_201868590258_R01C01  GSM2995281_201868590099_R04C01  \\\n",
       "0  cg18478105                        0.023924                        0.021267   \n",
       "1  cg01763666                        0.716950                        0.788641   \n",
       "2  cg25813447                        0.068839                        0.049029   \n",
       "3  cg07779434                        0.033854                        0.027169   \n",
       "4  cg13417420                        0.045786                        0.082441   \n",
       "\n",
       "   GSM2995282_201868590099_R07C01  GSM2995283_201868590099_R03C01  \\\n",
       "0                        0.016215                        0.015554   \n",
       "1                        0.757762                        0.768896   \n",
       "2                        0.050133                        0.047702   \n",
       "3                        0.026531                        0.031166   \n",
       "4                        0.048532                        0.055085   \n",
       "\n",
       "   GSM2995284_201868590258_R04C01  GSM2995285_201868590099_R08C01  \\\n",
       "0                        0.021642                        0.015237   \n",
       "1                        0.792459                        0.763830   \n",
       "2                        0.049845                        0.053604   \n",
       "3                        0.033587                        0.023341   \n",
       "4                        0.110833                        0.069514   \n",
       "\n",
       "   GSM2995286_201868590099_R02C01  GSM2995287_201868590099_R05C01  \\\n",
       "0                        0.018368                        0.016891   \n",
       "1                        0.804868                        0.759402   \n",
       "2                        0.038454                        0.062210   \n",
       "3                        0.027100                        0.026527   \n",
       "4                        0.065422                        0.076870   \n",
       "\n",
       "   GSM2995288_201868590099_R01C01  ...  GSM2998140_201870610111_R04C01  \\\n",
       "0                        0.018232  ...                        0.015454   \n",
       "1                        0.814085  ...                        0.603830   \n",
       "2                        0.061132  ...                        0.159036   \n",
       "3                        0.028244  ...                        0.029501   \n",
       "4                        0.072224  ...                        0.038987   \n",
       "\n",
       "   GSM2998143_201870610111_R05C01  GSM2998146_201870610111_R06C01  \\\n",
       "0                        0.018249                        0.021805   \n",
       "1                        0.933529                        0.653003   \n",
       "2                        0.029493                        0.146008   \n",
       "3                        0.034909                        0.028853   \n",
       "4                        0.027935                        0.053702   \n",
       "\n",
       "   GSM2998149_201870610111_R07C01  GSM3074480_202163530006_R02C01  \\\n",
       "0                        0.018219                        0.018538   \n",
       "1                        0.695979                        0.770630   \n",
       "2                        0.037188                        0.043401   \n",
       "3                        0.027230                        0.035515   \n",
       "4                        0.040571                        0.039559   \n",
       "\n",
       "   GSM3074481_202163530006_R03C01  GSM3074482_202163530006_R04C01  \\\n",
       "0                        0.033569                        0.021886   \n",
       "1                        0.760713                        0.782767   \n",
       "2                        0.054012                        0.078437   \n",
       "3                        0.032339                        0.026009   \n",
       "4                        0.166436                        0.036245   \n",
       "\n",
       "   GSM3074483_202163530006_R06C01  GSM3074484_202163530006_R07C01  \\\n",
       "0                        0.017784                        0.015673   \n",
       "1                        0.752489                        0.799943   \n",
       "2                        0.048994                        0.363894   \n",
       "3                        0.028557                        0.375870   \n",
       "4                        0.025067                        0.088086   \n",
       "\n",
       "   GSM3074485_202163530006_R08C01  \n",
       "0                        0.017795  \n",
       "1                        0.796192  \n",
       "2                        0.070873  \n",
       "3                        0.022654  \n",
       "4                        0.101406  \n",
       "\n",
       "[5 rows x 68 columns]"
      ]
     },
     "execution_count": 41,
     "metadata": {},
     "output_type": "execute_result"
    }
   ],
   "source": [
    "matrix_bld=pd.read_csv(\"/home/billiegould/src/Methyl/TCGA/PanCancer/perprobebetas/GSE110555_blood_EPIC_betas.txt\", sep=\"\\t\")\n",
    "print(matrix_bld.shape)\n",
    "matrix_bld.head()"
   ]
  },
  {
   "cell_type": "code",
   "execution_count": 44,
   "metadata": {},
   "outputs": [],
   "source": [
    "# load probe locations\n",
    "probe_coord = pickle.load(open(\"/home/billiegould/src/Methyl/TCGA/df_keep_probes_metadata.pkl\",\"rb\"))\n",
    "probe_coord.head()\n",
    "\n",
    "probe_dict = dict(zip(probe_coord.index, zip(probe_coord[\"Chromosome\"],probe_coord[\"End\"])))"
   ]
  },
  {
   "cell_type": "code",
   "execution_count": 187,
   "metadata": {},
   "outputs": [],
   "source": [
    "# filter epic probes\n",
    "matrix_bld_filtered = matrix_bld[[p in probe_dict.keys() for p in matrix_bld[\"ProbeID\"]]]\n",
    "matrix_bld_filtered.shape\n",
    "matrix_bld_filtered = matrix_bld_filtered.set_index(\"ProbeID\")\n",
    "with open(\"./healthy_plasma_epic_betas_probe_filtered.csv\",\"w\") as fout:\n",
    "    matrix_bld_filtered.to_csv(fout, sep=\",\", index=True)"
   ]
  },
  {
   "cell_type": "code",
   "execution_count": 188,
   "metadata": {},
   "outputs": [
    {
     "name": "stdout",
     "output_type": "stream",
     "text": [
      "            GSM2995280_201868590258_R01C01  GSM2995281_201868590099_R04C01  \\\n",
      "ProbeID                                                                      \n",
      "cg18478105                        0.023924                        0.021267   \n",
      "cg01763666                        0.716950                        0.788641   \n",
      "cg13417420                        0.045786                        0.082441   \n",
      "cg24133276                        0.042326                        0.057300   \n",
      "cg11073926                        0.076858                        0.078377   \n",
      "\n",
      "            GSM2995282_201868590099_R07C01  GSM2995283_201868590099_R03C01  \\\n",
      "ProbeID                                                                      \n",
      "cg18478105                        0.016215                        0.015554   \n",
      "cg01763666                        0.757762                        0.768896   \n",
      "cg13417420                        0.048532                        0.055085   \n",
      "cg24133276                        0.059702                        0.061837   \n",
      "cg11073926                        0.048368                        0.081307   \n",
      "\n",
      "            GSM2995284_201868590258_R04C01  GSM2995285_201868590099_R08C01  \\\n",
      "ProbeID                                                                      \n",
      "cg18478105                        0.021642                        0.015237   \n",
      "cg01763666                        0.792459                        0.763830   \n",
      "cg13417420                        0.110833                        0.069514   \n",
      "cg24133276                        0.100428                        0.030209   \n",
      "cg11073926                        0.087438                        0.045671   \n",
      "\n",
      "            GSM2995286_201868590099_R02C01  GSM2995287_201868590099_R05C01  \\\n",
      "ProbeID                                                                      \n",
      "cg18478105                        0.018368                        0.016891   \n",
      "cg01763666                        0.804868                        0.759402   \n",
      "cg13417420                        0.065422                        0.076870   \n",
      "cg24133276                        0.035213                        0.083442   \n",
      "cg11073926                        0.061283                        0.056574   \n",
      "\n",
      "            GSM2995288_201868590099_R01C01  GSM2995289_201868590258_R02C01  \\\n",
      "ProbeID                                                                      \n",
      "cg18478105                        0.018232                        0.021226   \n",
      "cg01763666                        0.814085                        0.747466   \n",
      "cg13417420                        0.072224                        0.074665   \n",
      "cg24133276                        0.038579                        0.135616   \n",
      "cg11073926                        0.073789                        0.081951   \n",
      "\n",
      "            ...  GSM2998140_201870610111_R04C01  \\\n",
      "ProbeID     ...                                   \n",
      "cg18478105  ...                        0.015454   \n",
      "cg01763666  ...                        0.603830   \n",
      "cg13417420  ...                        0.038987   \n",
      "cg24133276  ...                        0.040054   \n",
      "cg11073926  ...                        0.061012   \n",
      "\n",
      "            GSM2998143_201870610111_R05C01  GSM2998146_201870610111_R06C01  \\\n",
      "ProbeID                                                                      \n",
      "cg18478105                        0.018249                        0.021805   \n",
      "cg01763666                        0.933529                        0.653003   \n",
      "cg13417420                        0.027935                        0.053702   \n",
      "cg24133276                        0.053781                        0.077016   \n",
      "cg11073926                        0.077488                        0.067967   \n",
      "\n",
      "            GSM2998149_201870610111_R07C01  GSM3074480_202163530006_R02C01  \\\n",
      "ProbeID                                                                      \n",
      "cg18478105                        0.018219                        0.018538   \n",
      "cg01763666                        0.695979                        0.770630   \n",
      "cg13417420                        0.040571                        0.039559   \n",
      "cg24133276                        0.046002                        0.029792   \n",
      "cg11073926                        0.069670                        0.052253   \n",
      "\n",
      "            GSM3074481_202163530006_R03C01  GSM3074482_202163530006_R04C01  \\\n",
      "ProbeID                                                                      \n",
      "cg18478105                        0.033569                        0.021886   \n",
      "cg01763666                        0.760713                        0.782767   \n",
      "cg13417420                        0.166436                        0.036245   \n",
      "cg24133276                        0.028781                        0.029999   \n",
      "cg11073926                        0.070297                        0.057219   \n",
      "\n",
      "            GSM3074483_202163530006_R06C01  GSM3074484_202163530006_R07C01  \\\n",
      "ProbeID                                                                      \n",
      "cg18478105                        0.017784                        0.015673   \n",
      "cg01763666                        0.752489                        0.799943   \n",
      "cg13417420                        0.025067                        0.088086   \n",
      "cg24133276                        0.027435                        0.025537   \n",
      "cg11073926                        0.052601                        0.064394   \n",
      "\n",
      "            GSM3074485_202163530006_R08C01  \n",
      "ProbeID                                     \n",
      "cg18478105                        0.017795  \n",
      "cg01763666                        0.796192  \n",
      "cg13417420                        0.101406  \n",
      "cg24133276                        0.022915  \n",
      "cg11073926                        0.039975  \n",
      "\n",
      "[5 rows x 67 columns]\n"
     ]
    }
   ],
   "source": [
    "print(matrix_bld_filtered.head())"
   ]
  },
  {
   "cell_type": "code",
   "execution_count": 178,
   "metadata": {},
   "outputs": [],
   "source": [
    "# ported all code to make_clustermap.py\n",
    "\n",
    "def load_bed(bed_path):\n",
    "    regions = []\n",
    "    with open(bed_path, \"r\") as fin:\n",
    "        for line in fin.readlines():\n",
    "            regions.append(line.strip().split(\"\\t\"))\n",
    "    return regions\n",
    "\n",
    "def filter_out_healthy_samples(tcga_beta_matrix):\n",
    "    matrix_t = tcga_beta_matrix.T\n",
    "    #print(matrix_t.head())\n",
    "    sample_filter = []\n",
    "    for name, row in matrix_t.iterrows():\n",
    "        #print(name)\n",
    "        #print(matrix_t.shape)\n",
    "        # drop healthy samples from data set\n",
    "        tcga_sample = int(name.split(\"-\")[3][0:2])\n",
    "        if tcga_sample in range(10,30):\n",
    "            sample_filter.append(False)\n",
    "        else:\n",
    "            sample_filter.append(True)\n",
    "    matrix_f_sam = matrix_t.loc[sample_filter, :]\n",
    "    return matrix_f_sam\n",
    "\n",
    "# first load filtered blood data, and probe dict above\n",
    "def make_clustermap(cancer_tcga_betas_path, bed_path, title):\n",
    "    reg_avg_sample_betas = {}\n",
    "    \n",
    "    #load cancer tcga data and filter\n",
    "    df_cancer = pd.read_csv(cancer_tcga_betas_path, sep=\"\\t\")\n",
    "    df_cancer = df_cancer.set_index(\"ProbeID\")\n",
    "    df_cancer = filter_out_healthy_samples(df_cancer) #samples x probes\n",
    "    #print(df_cancer.T.shape) # probes x samples\n",
    "    df_cancer = df_cancer.T.iloc[0:10000,0:4] #probes x samples #test\n",
    "    #print(df_cancer.shape)  \n",
    "    df_cancer = df_cancer[[p in list(probe_dict.keys()) for p in df_cancer.index]]\n",
    "    \n",
    "    #filter for overlapping 450 and EPIC probes\n",
    "    overlapping_probes = set(matrix_bld_filtered.index).intersection(set(df_cancer.index))\n",
    "    df_cancer = df_cancer[[p in overlapping_probes for p in df_cancer.index]]\n",
    "    df_healthy = matrix_bld_filtered[[p in overlapping_probes for p in matrix_bld_filtered.index]]\n",
    "    print(df_cancer.shape)\n",
    "    print(df_healthy.shape)\n",
    "    \n",
    "    regions = load_bed(bed_path)\n",
    "    \n",
    "    i = 0\n",
    "    for chrm,start,stop in regions[0:100]: # test\n",
    "        start = int(start)\n",
    "        stop = int(stop)\n",
    "        df_cancer_reg = df_cancer[[probe_dict[p][0]==chrm for p in df_cancer.index]]\n",
    "        df_cancer_reg = df_cancer[[(start <= probe_dict[p][1] <= stop) for p in df_cancer.index]]\n",
    "        #print(df_healthy_reg.head())\n",
    "        #print(f\"{chrm},{start},{stop}\")\n",
    "        #print(df_healthy.shape)\n",
    "        df_healthy_reg = df_healthy.iloc[0:10000,0:4] #test\n",
    "        df_healthy_reg = df_healthy[[probe_dict[p][0]==chrm for p in df_healthy.index]]\n",
    "        df_healthy_reg = df_healthy_reg[[(start <= probe_dict[p][1] <= stop) for p in df_healthy_reg.index]]\n",
    "        if df_cancer_reg.shape[0] == df_healthy_reg.shape[0] == 0:\n",
    "            i += 1\n",
    "            if i %10 == 0:\n",
    "                print(f\"{i} regions complete\")\n",
    "            continue\n",
    "        #print(df_cancer_reg.head())\n",
    "        #print(df_healthy_reg.head())\n",
    "        reg_avg_sample_betas[(chrm,start,stop)] = list(np.median(df_cancer_reg, axis=0))\n",
    "        reg_avg_sample_betas[(chrm,start,stop)].extend(np.median(df_healthy_reg, axis=0))\n",
    "        i += 1\n",
    "        if i %10 == 0:\n",
    "            print(f\"{i} regions complete\")\n",
    "    df_reg_avg_betas = pd.DataFrame.from_dict(reg_avg_sample_betas, orient=\"index\") # samples x regions\n",
    "    df_reg_avg_betas = df_reg_avg_betas.fillna(-0.001)\n",
    "    print(df_reg_avg_betas.head())\n",
    "\n",
    "    col_colors= np.concatenate([np.repeat(\"red\",df_cancer.shape[1]), np.repeat(\"blue\",df_healthy.shape[1])])\n",
    "    #print(col_colors)\n",
    "    c = sns.clustermap(data=df_reg_avg_betas.T, \n",
    "                       method=\"ward\",\n",
    "                       metric=\"euclidean\",\n",
    "                       mask= df_heatmap < 0,\n",
    "                       col_colors = col_colors,\n",
    "                       xticklabels = [],\n",
    "                       yticklabels = [],\n",
    "                      )\n",
    "    c.ax_heatmap.set_xlabel('Samples',size=16)\n",
    "    c.ax_heatmap.set_ylabel('Regions',size=16)\n",
    "    c.fig.suptitle('PAAD Metilene DMRs', size=16)\n",
    "    col_dict = {\"Cancer\":\"red\",\"Healthy Plasma\":\"blue\"}\n",
    "    for label in list(col_dict.keys()):\n",
    "        c.ax_col_dendrogram.bar(0, 0, color=col_dict[label],\n",
    "                                label=label, linewidth=0)\n",
    "    c.ax_col_dendrogram.legend(loc=\"top right\")\n",
    "    plt.title(f\"{title}\")\n",
    "    return df_reg_avg_betas\n",
    "    \n",
    "    "
   ]
  },
  {
   "cell_type": "code",
   "execution_count": 179,
   "metadata": {},
   "outputs": [
    {
     "name": "stdout",
     "output_type": "stream",
     "text": [
      "(8738, 4)\n",
      "(8738, 67)\n",
      "10 regions complete\n",
      "20 regions complete\n",
      "30 regions complete\n",
      "40 regions complete\n",
      "50 regions complete\n",
      "60 regions complete\n",
      "70 regions complete\n",
      "80 regions complete\n",
      "90 regions complete\n",
      "100 regions complete\n",
      "                                0         1         2         3         4   \\\n",
      "(chr1, 919531, 919690)    0.851678  0.885970  0.622417  0.849665 -0.001000   \n",
      "(chr1, 943664, 944129)    0.772144  0.777252  0.810647  0.852305  0.964279   \n",
      "(chr1, 1121120, 1121464)  0.761965  0.577993  0.621957  0.839907 -0.001000   \n",
      "(chr1, 1130434, 1130802)  0.296122  0.247090  0.277403  0.603418  0.956972   \n",
      "(chr1, 1148766, 1148965)  0.959155  0.946993  0.955455  0.931836 -0.001000   \n",
      "\n",
      "                                5         6         7         8         9   \\\n",
      "(chr1, 919531, 919690)   -0.001000 -0.001000 -0.001000 -0.001000 -0.001000   \n",
      "(chr1, 943664, 944129)    0.971316  0.972556  0.976589  0.976457  0.978127   \n",
      "(chr1, 1121120, 1121464) -0.001000 -0.001000 -0.001000 -0.001000 -0.001000   \n",
      "(chr1, 1130434, 1130802)  0.956729  0.955328  0.954185  0.943874  0.960516   \n",
      "(chr1, 1148766, 1148965) -0.001000 -0.001000 -0.001000 -0.001000 -0.001000   \n",
      "\n",
      "                          ...        61        62        63        64  \\\n",
      "(chr1, 919531, 919690)    ... -0.001000 -0.001000 -0.001000 -0.001000   \n",
      "(chr1, 943664, 944129)    ...  0.978534  0.974028  0.976145  0.933909   \n",
      "(chr1, 1121120, 1121464)  ... -0.001000 -0.001000 -0.001000 -0.001000   \n",
      "(chr1, 1130434, 1130802)  ...  0.951619  0.969509  0.959843  0.963506   \n",
      "(chr1, 1148766, 1148965)  ... -0.001000 -0.001000 -0.001000 -0.001000   \n",
      "\n",
      "                                65        66        67        68        69  \\\n",
      "(chr1, 919531, 919690)   -0.001000 -0.001000 -0.001000 -0.001000 -0.001000   \n",
      "(chr1, 943664, 944129)    0.971172  0.974896  0.976428  0.979363  0.968086   \n",
      "(chr1, 1121120, 1121464) -0.001000 -0.001000 -0.001000 -0.001000 -0.001000   \n",
      "(chr1, 1130434, 1130802)  0.954293  0.963829  0.966507  0.962525  0.961542   \n",
      "(chr1, 1148766, 1148965) -0.001000 -0.001000 -0.001000 -0.001000 -0.001000   \n",
      "\n",
      "                                70  \n",
      "(chr1, 919531, 919690)   -0.001000  \n",
      "(chr1, 943664, 944129)    0.979091  \n",
      "(chr1, 1121120, 1121464) -0.001000  \n",
      "(chr1, 1130434, 1130802)  0.958995  \n",
      "(chr1, 1148766, 1148965) -0.001000  \n",
      "\n",
      "[5 rows x 71 columns]\n"
     ]
    },
    {
     "data": {
      "image/png": "[encoded data removed]",
      "text/plain": [
       "<Figure size 720x720 with 5 Axes>"
      ]
     },
     "metadata": {
      "needs_background": "light"
     },
     "output_type": "display_data"
    }
   ],
   "source": [
    "df_heatmap = make_clustermap(cancer_tcga_betas_path = \"/home/billiegould/src/Methyl/TCGA/PanCancer/perprobebetas/PAAD_450_betas.txt\",\n",
    "                bed_path=\"./Pancreas_all_DMRs.bed\",\n",
    "                title = \"PAAD DMRs\")"
   ]
  },
  {
   "cell_type": "code",
   "execution_count": 21,
   "metadata": {},
   "outputs": [
    {
     "name": "stdout",
     "output_type": "stream",
     "text": [
      "25\n"
     ]
    }
   ],
   "source": [
    "# what type of kidney cancer do we have?\n",
    "with FeatureIO() as ftio:\n",
    "    kidney_dsids = ftio.get_datasets_for_training_class(\"kidney_cancer_tissue_ds_FF_v1\")\n",
    "    print(len(kidney_dsids))\n",
    "    "
   ]
  },
  {
   "cell_type": "code",
   "execution_count": 22,
   "metadata": {},
   "outputs": [
    {
     "name": "stderr",
     "output_type": "stream",
     "text": [
      "Missed Redis cache for ttl_key TS-212495026, reading from BigQuery instead\n",
      "Missed Redis cache for 25 datasets with timestamp 2021-02-09 12:09:30.259622, reading from BigQuery instead\n"
     ]
    }
   ],
   "source": [
    "m = Calzone.get_dataset_metadata_with_ids(kidney_dsids)"
   ]
  },
  {
   "cell_type": "code",
   "execution_count": 41,
   "metadata": {},
   "outputs": [],
   "source": [
    "import json\n",
    "from collections import Counter"
   ]
  },
  {
   "cell_type": "code",
   "execution_count": 42,
   "metadata": {},
   "outputs": [
    {
     "data": {
      "text/plain": [
       "Counter({'Renal cell carcinoma': 23,\n",
       "         'Transitional cell carcinoma': 1,\n",
       "         'Papillary transitional cell carcinoma': 1})"
      ]
     },
     "execution_count": 42,
     "metadata": {},
     "output_type": "execute_result"
    }
   ],
   "source": [
    "Counter([json.loads(md.raw_sample_metadata[\"json_dump\"])[\"diagnoses\"][0][\"pathologic_type\"] for md in m])"
   ]
  },
  {
   "cell_type": "code",
   "execution_count": 43,
   "metadata": {},
   "outputs": [
    {
     "name": "stderr",
     "output_type": "stream",
     "text": [
      "Missed Redis cache for ttl_key TS-212495036, reading from BigQuery instead\n"
     ]
    },
    {
     "name": "stdout",
     "output_type": "stream",
     "text": [
      "25\n"
     ]
    },
    {
     "name": "stderr",
     "output_type": "stream",
     "text": [
      "Missed Redis cache for 25 datasets with timestamp 2021-02-09 12:09:30.259622, reading from BigQuery instead\n"
     ]
    },
    {
     "data": {
      "text/plain": [
       "Counter({'Carcinoma': 1,\n",
       "         'Sarcoma': 1,\n",
       "         'Carcinoma - Endometrioid type': 9,\n",
       "         'Carcinosarcoma': 6,\n",
       "         'Squamous cell carcinoma': 3,\n",
       "         'Clear cell adenocarcinoma': 2,\n",
       "         'Carcinoma - Serous type': 3})"
      ]
     },
     "execution_count": 43,
     "metadata": {},
     "output_type": "execute_result"
    }
   ],
   "source": [
    "#what type of uterine cancer?\n",
    "with FeatureIO() as ftio:\n",
    "    uterine_dsids = ftio.get_datasets_for_training_class(\"uterine_cancer_tissue_ds_FF_v1\")\n",
    "    print(len(uterine_dsids))\n",
    "    \n",
    "m = Calzone.get_dataset_metadata_with_ids(uterine_dsids)\n",
    "Counter([json.loads(md.raw_sample_metadata[\"json_dump\"])[\"diagnoses\"][0][\"pathologic_type\"] for md in m])"
   ]
  },
  {
   "cell_type": "code",
   "execution_count": 45,
   "metadata": {},
   "outputs": [
    {
     "data": {
      "text/html": [
       "[104102, 104153, 104149, 104083, 104294, 104309, 104043, 104311, 104086, 104150, 104112, 103959, 104310, 104125, 104044, 103988, 104099, 104126, 103989, 104136, 104307, 104088, 104292, 104266, 104130]"
      ],
      "text/plain": [
       "[104102,\n",
       " 104153,\n",
       " 104149,\n",
       " 104083,\n",
       " 104294,\n",
       " 104309,\n",
       " 104043,\n",
       " 104311,\n",
       " 104086,\n",
       " 104150,\n",
       " 104112,\n",
       " 103959,\n",
       " 104310,\n",
       " 104125,\n",
       " 104044,\n",
       " 103988,\n",
       " 104099,\n",
       " 104126,\n",
       " 103989,\n",
       " 104136,\n",
       " 104307,\n",
       " 104088,\n",
       " 104292,\n",
       " 104266,\n",
       " 104130]"
      ]
     },
     "execution_count": 45,
     "metadata": {},
     "output_type": "execute_result"
    }
   ],
   "source": [
    "[md.raw_dataset_metadata[\"dataset\"][\"sample_id\"] for md in m]\n"
   ]
  },
  {
   "cell_type": "code",
   "execution_count": 51,
   "metadata": {},
   "outputs": [],
   "source": [
    "from pybedtools import BedTool"
   ]
  },
  {
   "cell_type": "code",
   "execution_count": 50,
   "metadata": {},
   "outputs": [],
   "source": [
    "# Find overlaps with VP2 and CpG lite panel.\n",
    "in_bed = pd.read_csv(\"./CRC_all_DMRs.bed\", header=None, sep=\"\\t\")\n",
    "in_bed_size = sum(in_bed.iloc[:,2] - in_bed.iloc[:,1])\n",
    "with open(\"./CRC_all_DMRs_3.bed\",\"w\") as fout:\n",
    "    in_bed.iloc[:,0:3].to_csv(fout, sep=\"\\t\",index=False, header=False)"
   ]
  },
  {
   "cell_type": "code",
   "execution_count": 77,
   "metadata": {},
   "outputs": [
    {
     "name": "stdout",
     "output_type": "stream",
     "text": [
      "CRC percent overap CpG Lite: 0.6999611128576388. VP2: 0.05130737529668208\n"
     ]
    }
   ],
   "source": [
    "# return regions in a that overlap with b\n",
    "met_bed = \"CRC_all_DMRs_3.bed\"\n",
    "cpg_bed = \"cpg_dense_v2_candidate_with_lung_with_atac_ignore_blood_withv4.bed\"\n",
    "vp2_bed = \"Panel1_CRC_Multicancer_hctonregions_hypermethylatedhealthycontrols_combined.bed\"\n",
    "\n",
    "#overlapping_reg_cpg = met_bed.intersect(cpg_bed, u=True, w=True, o=True).saveas(\"./intersect_cpg.bed\")\n",
    "!bedtools intersect -a {met_bed} -b {cpg_bed} -wo > intersect_cpg.bed\n",
    "\n",
    "#overlapping_reg_vp2 = met_bed.intersect(vp2_bed, u=True, w=True, o=True)\n",
    "!bedtools intersect -a {met_bed} -b {vp2_bed} -wo > intersect_vp2.bed\n",
    "\n",
    "def overlap_size(intersect_file):\n",
    "    with open(f\"./{intersect_file}\", \"r\") as fin:\n",
    "        size = 0\n",
    "        for line in fin.readlines():\n",
    "            #print(line)\n",
    "            size += int(line.split(\"\\t\")[6].strip())\n",
    "    return float(size)\n",
    "\n",
    "\n",
    "def panel_size(region_set):\n",
    "    size = 0\n",
    "    for feature in region_set:\n",
    "        size += feature.stop - feature.start\n",
    "        #size += feature.fields[6] # the last field of intersect is overlapping bps\n",
    "    return float(size)\n",
    "\n",
    "pct_overlap_cpg = overlap_size(\"intersect_cpg.bed\")/ panel_size(BedTool(met_bed))\n",
    "\n",
    "pct_overlap_VP2 = overlap_size(\"intersect_vp2.bed\")/ panel_size(BedTool(met_bed))\n",
    "\n",
    "print(f\"CRC percent overap CpG Lite: {pct_overlap_cpg}. VP2: {pct_overlap_VP2}\")"
   ]
  },
  {
   "cell_type": "code",
   "execution_count": 5,
   "metadata": {},
   "outputs": [],
   "source": [
    "import pandas as pd\n",
    "import seaborn as sns\n",
    "import numpy as np\n",
    "from matplotlib import pyplot as plt"
   ]
  },
  {
   "cell_type": "code",
   "execution_count": 3,
   "metadata": {},
   "outputs": [
    {
     "name": "stdout",
     "output_type": "stream",
     "text": [
      "Breast complete\n",
      "Kidney complete\n",
      "Lymphoma complete\n",
      "Uterine complete\n",
      "Stomach complete\n",
      "CRC complete\n",
      "Prostate complete\n",
      "Pancreas complete\n",
      "Liver complete\n",
      "Ovarian complete\n"
     ]
    },
    {
     "data": {
      "text/html": [
       "<div>\n",
       "<style scoped>\n",
       "    .dataframe tbody tr th:only-of-type {\n",
       "        vertical-align: middle;\n",
       "    }\n",
       "\n",
       "    .dataframe tbody tr th {\n",
       "        vertical-align: top;\n",
       "    }\n",
       "\n",
       "    .dataframe thead th {\n",
       "        text-align: right;\n",
       "    }\n",
       "</style>\n",
       "<table border=\"1\" class=\"dataframe\">\n",
       "  <thead>\n",
       "    <tr style=\"text-align: right;\">\n",
       "      <th></th>\n",
       "      <th>Breast</th>\n",
       "      <th>Kidney</th>\n",
       "      <th>Lymphoma</th>\n",
       "      <th>Uterine</th>\n",
       "      <th>Stomach</th>\n",
       "      <th>CRC</th>\n",
       "      <th>Prostate</th>\n",
       "      <th>Pancreas</th>\n",
       "      <th>Liver</th>\n",
       "      <th>Ovarian</th>\n",
       "    </tr>\n",
       "  </thead>\n",
       "  <tbody>\n",
       "    <tr>\n",
       "      <th>Breast</th>\n",
       "      <td>1.000000</td>\n",
       "      <td>0.421774</td>\n",
       "      <td>0.705172</td>\n",
       "      <td>0.764857</td>\n",
       "      <td>0.795697</td>\n",
       "      <td>0.802580</td>\n",
       "      <td>0.670011</td>\n",
       "      <td>0.449330</td>\n",
       "      <td>0.681377</td>\n",
       "      <td>0.563481</td>\n",
       "    </tr>\n",
       "    <tr>\n",
       "      <th>Kidney</th>\n",
       "      <td>0.421774</td>\n",
       "      <td>1.000000</td>\n",
       "      <td>0.243936</td>\n",
       "      <td>0.546115</td>\n",
       "      <td>0.451781</td>\n",
       "      <td>0.392648</td>\n",
       "      <td>0.577635</td>\n",
       "      <td>0.667639</td>\n",
       "      <td>0.408736</td>\n",
       "      <td>0.648918</td>\n",
       "    </tr>\n",
       "    <tr>\n",
       "      <th>Lymphoma</th>\n",
       "      <td>0.705172</td>\n",
       "      <td>0.243936</td>\n",
       "      <td>1.000000</td>\n",
       "      <td>0.587678</td>\n",
       "      <td>0.687868</td>\n",
       "      <td>0.805843</td>\n",
       "      <td>0.453849</td>\n",
       "      <td>0.270762</td>\n",
       "      <td>0.575176</td>\n",
       "      <td>0.366682</td>\n",
       "    </tr>\n",
       "    <tr>\n",
       "      <th>Uterine</th>\n",
       "      <td>0.764857</td>\n",
       "      <td>0.546115</td>\n",
       "      <td>0.587678</td>\n",
       "      <td>1.000000</td>\n",
       "      <td>0.767050</td>\n",
       "      <td>0.740645</td>\n",
       "      <td>0.680236</td>\n",
       "      <td>0.559682</td>\n",
       "      <td>0.597855</td>\n",
       "      <td>0.751233</td>\n",
       "    </tr>\n",
       "    <tr>\n",
       "      <th>Stomach</th>\n",
       "      <td>0.795697</td>\n",
       "      <td>0.451781</td>\n",
       "      <td>0.687868</td>\n",
       "      <td>0.767050</td>\n",
       "      <td>1.000000</td>\n",
       "      <td>0.856396</td>\n",
       "      <td>0.583199</td>\n",
       "      <td>0.531242</td>\n",
       "      <td>0.651359</td>\n",
       "      <td>0.611412</td>\n",
       "    </tr>\n",
       "    <tr>\n",
       "      <th>CRC</th>\n",
       "      <td>0.802580</td>\n",
       "      <td>0.392648</td>\n",
       "      <td>0.805843</td>\n",
       "      <td>0.740645</td>\n",
       "      <td>0.856396</td>\n",
       "      <td>1.000000</td>\n",
       "      <td>0.579593</td>\n",
       "      <td>0.439094</td>\n",
       "      <td>0.643641</td>\n",
       "      <td>0.521840</td>\n",
       "    </tr>\n",
       "    <tr>\n",
       "      <th>Prostate</th>\n",
       "      <td>0.670011</td>\n",
       "      <td>0.577635</td>\n",
       "      <td>0.453849</td>\n",
       "      <td>0.680236</td>\n",
       "      <td>0.583199</td>\n",
       "      <td>0.579593</td>\n",
       "      <td>1.000000</td>\n",
       "      <td>0.596307</td>\n",
       "      <td>0.547919</td>\n",
       "      <td>0.635294</td>\n",
       "    </tr>\n",
       "    <tr>\n",
       "      <th>Pancreas</th>\n",
       "      <td>0.449330</td>\n",
       "      <td>0.667639</td>\n",
       "      <td>0.270762</td>\n",
       "      <td>0.559682</td>\n",
       "      <td>0.531242</td>\n",
       "      <td>0.439094</td>\n",
       "      <td>0.596307</td>\n",
       "      <td>1.000000</td>\n",
       "      <td>0.423043</td>\n",
       "      <td>0.678436</td>\n",
       "    </tr>\n",
       "    <tr>\n",
       "      <th>Liver</th>\n",
       "      <td>0.681377</td>\n",
       "      <td>0.408736</td>\n",
       "      <td>0.575176</td>\n",
       "      <td>0.597855</td>\n",
       "      <td>0.651359</td>\n",
       "      <td>0.643641</td>\n",
       "      <td>0.547919</td>\n",
       "      <td>0.423043</td>\n",
       "      <td>1.000000</td>\n",
       "      <td>0.466871</td>\n",
       "    </tr>\n",
       "    <tr>\n",
       "      <th>Ovarian</th>\n",
       "      <td>0.563481</td>\n",
       "      <td>0.648918</td>\n",
       "      <td>0.366682</td>\n",
       "      <td>0.751233</td>\n",
       "      <td>0.611412</td>\n",
       "      <td>0.521840</td>\n",
       "      <td>0.635294</td>\n",
       "      <td>0.678436</td>\n",
       "      <td>0.466871</td>\n",
       "      <td>1.000000</td>\n",
       "    </tr>\n",
       "  </tbody>\n",
       "</table>\n",
       "</div>"
      ],
      "text/plain": [
       "            Breast    Kidney  Lymphoma   Uterine   Stomach       CRC  \\\n",
       "Breast    1.000000  0.421774  0.705172  0.764857  0.795697  0.802580   \n",
       "Kidney    0.421774  1.000000  0.243936  0.546115  0.451781  0.392648   \n",
       "Lymphoma  0.705172  0.243936  1.000000  0.587678  0.687868  0.805843   \n",
       "Uterine   0.764857  0.546115  0.587678  1.000000  0.767050  0.740645   \n",
       "Stomach   0.795697  0.451781  0.687868  0.767050  1.000000  0.856396   \n",
       "CRC       0.802580  0.392648  0.805843  0.740645  0.856396  1.000000   \n",
       "Prostate  0.670011  0.577635  0.453849  0.680236  0.583199  0.579593   \n",
       "Pancreas  0.449330  0.667639  0.270762  0.559682  0.531242  0.439094   \n",
       "Liver     0.681377  0.408736  0.575176  0.597855  0.651359  0.643641   \n",
       "Ovarian   0.563481  0.648918  0.366682  0.751233  0.611412  0.521840   \n",
       "\n",
       "          Prostate  Pancreas     Liver   Ovarian  \n",
       "Breast    0.670011  0.449330  0.681377  0.563481  \n",
       "Kidney    0.577635  0.667639  0.408736  0.648918  \n",
       "Lymphoma  0.453849  0.270762  0.575176  0.366682  \n",
       "Uterine   0.680236  0.559682  0.597855  0.751233  \n",
       "Stomach   0.583199  0.531242  0.651359  0.611412  \n",
       "CRC       0.579593  0.439094  0.643641  0.521840  \n",
       "Prostate  1.000000  0.596307  0.547919  0.635294  \n",
       "Pancreas  0.596307  1.000000  0.423043  0.678436  \n",
       "Liver     0.547919  0.423043  1.000000  0.466871  \n",
       "Ovarian   0.635294  0.678436  0.466871  1.000000  "
      ]
     },
     "execution_count": 3,
     "metadata": {},
     "output_type": "execute_result"
    }
   ],
   "source": [
    "# make a distance matrix between metilene regions for all cancers\n",
    "cancers = [\"Breast\",\"Kidney\",\"Lymphoma\",\"Uterine\",\"Stomach\",\n",
    "          \"CRC\",\"Prostate\",\"Pancreas\",\"Liver\",\"Ovarian\"]\n",
    "\n",
    "match_lists = []\n",
    "for cancer1 in cancers:\n",
    "    file1 = f\"{cancer1}_all_DMRs_3.bed\"\n",
    "    n_file1 = !wc -l {file1}\n",
    "    n_file1 = int(str(n_file1).split()[0][2:])\n",
    "    matches = []\n",
    "    for cancer2 in cancers:\n",
    "        file2 = f\"{cancer2}_all_DMRs_3.bed\"\n",
    "        !bedtools intersect -a {file1} -b {file2} > tmp.bed #all overlapping regions\n",
    "        match = !wc -l tmp.bed\n",
    "        n_file2 = !wc -l {file2}\n",
    "        n_file2 = int(str(n_file2).split()[0][2:])\n",
    "        match = int(str(match).split()[0][2:])\n",
    "        pct_overlap = match/((n_file1 + n_file2)/2.0)\n",
    "        matches.append(pct_overlap)\n",
    "    match_lists.append(matches)\n",
    "    print(f\"{cancer1} complete\")\n",
    "\n",
    "df_matches = pd.DataFrame(match_lists)\n",
    "df_matches.columns = cancers\n",
    "df_matches.index = cancers\n",
    "\n",
    "df_matches"
   ]
  },
  {
   "cell_type": "code",
   "execution_count": 6,
   "metadata": {},
   "outputs": [
    {
     "data": {
      "text/plain": [
       "Text(0.5, 1.0, 'Fraction DMR overlap (tissues)')"
      ]
     },
     "execution_count": 6,
     "metadata": {},
     "output_type": "execute_result"
    },
    {
     "data": {
      "image/png": "[encoded data removed]",
      "text/plain": [
       "<Figure size 432x288 with 2 Axes>"
      ]
     },
     "metadata": {
      "needs_background": "light"
     },
     "output_type": "display_data"
    }
   ],
   "source": [
    "matrix = np.triu(df_matches)\n",
    "plt.figsize=(20,20)\n",
    "sns.heatmap(df_matches, mask=matrix)\n",
    "plt.title(\"Fraction DMR overlap (tissues)\")"
   ]
  },
  {
   "cell_type": "markdown",
   "metadata": {},
   "source": [
    "## Compare size distributions of tissue metilene regions, TCGA metilene regions, and Autosegmentation regions."
   ]
  },
  {
   "cell_type": "code",
   "execution_count": 8,
   "metadata": {},
   "outputs": [
    {
     "name": "stdout",
     "output_type": "stream",
     "text": [
      "./Pancreas_all_DMRs_3.bed_sort: 1312143 2329\n",
      "./autoseg_beds/Pancreas_autoseg_reg.bed_sort: 1536750 2973\n",
      "0.0\n",
      "./Prostate_all_DMRs_3.bed_sort: 2657151 4711\n",
      "./autoseg_beds/Prostate_autoseg_reg.bed_sort: 926887 1888\n",
      "0.0\n",
      "./Liver_all_DMRs_3.bed_sort: 2687967 6871\n",
      "./autoseg_beds/Liver_autoseg_reg.bed_sort: 932121 2137\n",
      "0.0\n",
      "./Kidney_all_DMRs_3.bed_sort: 1203152 2470\n",
      "./autoseg_beds/Kidney_autoseg_reg.bed_sort: 206912 489\n",
      "0.019201231432105004\n",
      "./Ovarian_all_DMRs_3.bed_sort: 1631357 2939\n",
      "./autoseg_beds/Ovarian_autoseg_reg.bed_sort: 667170 1415\n",
      "0.0\n",
      "./Lung_all_DMRs_3.bed_sort: 847188 1416\n",
      "./autoseg_beds/Lung_autoseg_reg.bed_sort: 2188407 3969\n",
      "0.0\n",
      "./Breast_all_DMRs_3.bed_sort: 3412210 7450\n",
      "./autoseg_beds/Breast_autoseg_reg.bed_sort: 957409 2079\n",
      "0.10850211446540511\n",
      "./Uterine_all_DMRs_3.bed_sort: 2951127 4968\n",
      "./autoseg_beds/Uterine_autoseg_reg.bed_sort: 1508082 2982\n",
      "0.11681808339661424\n",
      "./CRC_all_DMRs_3.bed_sort: 4467406 7432\n",
      "./autoseg_beds/CRC_autoseg_reg.bed_sort: 3589877 5556\n",
      "0.0\n",
      "./Lymphoma_all_DMRs_3.bed_sort: 6325947 10435\n",
      "./autoseg_beds/Lymphoma_autoseg_reg.bed_sort: 2676407 4911\n",
      "0.23781056022126015\n",
      "./Stomach_all_DMRs_3.bed_sort: 3335648 5193\n",
      "./autoseg_beds/Stomach_autoseg_reg.bed_sort: 1970407 3694\n",
      "0.15798129778681683\n"
     ]
    }
   ],
   "source": [
    "# find overlaps by tissue type\n",
    "# create sorted beds first\n",
    "import os\n",
    "\n",
    "cancer_types = [\"Pancreas\",\"Prostate\",\"Liver\",\"Kidney\",\"Ovarian\",\"Lung\",\"Breast\",\"Uterine\",\"CRC\",\"Lymphoma\",\"Stomach\"]\n",
    "\n",
    "for cancer in cancer_types:\n",
    "    cancer_met_file = f\"./{cancer}_all_DMRs_3.bed_sort\"\n",
    "    cancer_auto_file = f\"./autoseg_beds/{cancer}_autoseg_reg.bed_sort\"\n",
    "    sum1 = 0\n",
    "    sum2 = 0\n",
    "    i = 0\n",
    "    j = 0\n",
    "    for line in open(cancer_met_file,\"r\").readlines():\n",
    "        #print(line.split(\"\\t\"))\n",
    "        sum1 += int(line.split(\"\\t\")[2]) - int(line.split(\"\\t\")[1])\n",
    "        i += 1\n",
    "    print(f\"{cancer_met_file}: {sum1} {i}\")\n",
    "    for line in open(cancer_auto_file,\"r\").readlines():\n",
    "        #print(line.split(\"\\t\"))\n",
    "        sum2 += int(line.split(\"\\t\")[2]) - int(line.split(\"\\t\")[1])\n",
    "        j += 1\n",
    "    print(f\"{cancer_auto_file}: {sum2} {j}\")\n",
    "    \n",
    "    os.system(f\"bedtools intersect -a {cancer_met_file} -b {cancer_auto_file} -wao >tmp.bed\")\n",
    "    try:\n",
    "        sum3 = 0\n",
    "        for line in open(\"tmp.bed\",\"r\").readlines():\n",
    "            #print(line.split(\"\\t\"))\n",
    "            sum3 += int(line.split(\"\\t\")[6]) #use this for Batch 2 cancers\n",
    "            #sum3 += int(line.split(\"\\t\")[7]) #use this for Batch 1 cancers\n",
    "    except IndexError:\n",
    "        sum3 = 0\n",
    "    pct_overlap = sum3/float(sum1)\n",
    "    !rm tmp.bed\n",
    "    print(pct_overlap)"
   ]
  },
  {
   "cell_type": "code",
   "execution_count": 33,
   "metadata": {},
   "outputs": [
    {
     "name": "stderr",
     "output_type": "stream",
     "text": [
      "<ipython-input-33-b615efa9b3d3>:36: UserWarning: You have mixed positional and keyword arguments, some input may be discarded.\n",
      "  fig.legend(plts,     # The line objects\n"
     ]
    },
    {
     "data": {
      "text/plain": [
       "<matplotlib.legend.Legend at 0x7f83450f5a00>"
      ]
     },
     "execution_count": 33,
     "metadata": {},
     "output_type": "execute_result"
    },
    {
     "data": {
      "image/png": "[encoded data removed]",
      "text/plain": [
       "<Figure size 1440x1440 with 12 Axes>"
      ]
     },
     "metadata": {
      "needs_background": "light"
     },
     "output_type": "display_data"
    }
   ],
   "source": [
    "# find overlap btw tissue and tcga metilene dMRs\n",
    "import seaborn as sns\n",
    "from matplotlib import pyplot as plt\n",
    "\n",
    "cancer_types = [\"Pancreas\",\"Prostate\",\"Liver\",\"Kidney\",\"Ovarian\",\"Lung\",\"Breast\",\"Uterine\",\"CRC\",\"Lymphoma\",\"Stomach\"]\n",
    "tcga_types = [\"PAAD\",\"PRAD\",\"LIHC\",\"KI\",\"OV\",\"LUAD\",\"BRCA\",\"UC\",\"CO_RE\",\"DLBC\",\"STAD\"]\n",
    "\n",
    "fig, ax = plt.subplots(nrows=4,ncols=3, figsize=(20,20),sharey=True)\n",
    "plts = []\n",
    "for i,(tissue,tcga_abrv) in enumerate(zip(cancer_types,tcga_types)):\n",
    "    cancer_met_file = f\"./{tissue}_all_DMRs_3.bed_sort\"\n",
    "    cancer_tcga_file = f\"../TCGA/PanCancer/{tcga_abrv}_met_DMRS_filtered_3.bed_sort\"\n",
    "    cancer_auto_file = f\"./autoseg_beds/{cancer}_autoseg_reg.bed_sort\"\n",
    "    tiss = []\n",
    "    tcga = []\n",
    "    auto = []\n",
    "    for line in open(cancer_met_file,\"r\").readlines():\n",
    "        #print(line.split(\"\\t\"))\n",
    "        tiss.append(int(line.split(\"\\t\")[2]) - int(line.split(\"\\t\")[1]))\n",
    "    for line in open(cancer_tcga_file,\"r\").readlines():\n",
    "        #print(line.split(\"\\t\"))\n",
    "        tcga.append(int(line.split(\"\\t\")[2]) - int(line.split(\"\\t\")[1]))\n",
    "    for line in open(cancer_auto_file, \"r\").readlines():\n",
    "        auto.append(int(line.split(\"\\t\")[2]) - int(line.split(\"\\t\")[1]))\n",
    "    \n",
    "    plt.subplot(4,3,i+1)\n",
    "    plt.xlim([0,6000])\n",
    "    plt.ylim([0,0.0030])\n",
    "    s = sns.distplot(tiss)\n",
    "    sns.distplot(tcga)\n",
    "    sns.distplot(auto)\n",
    "    plt.title(f\"{tissue}\", size=18)\n",
    "    plts.append(s)\n",
    "\n",
    "plt.tight_layout()\n",
    "fig.legend(plts,     # The line objects\n",
    "           labels=[\"metilene\",\"TCGA\",\"autoseg\"],   # The labels for each line\n",
    "           loc=\"upper right\",   # Position of legend\n",
    "           borderaxespad=0.1,    # Small spacing around legend box\n",
    "           fontsize=16)\n"
   ]
  },
  {
   "cell_type": "code",
   "execution_count": null,
   "metadata": {},
   "outputs": [],
   "source": [
    "# plot size distributions\n",
    "cancer_types = [\"Pancreas\",\"Prostate\",\"Liver\",\"Kidney\",\"Ovarian\",\"Lung\",\"Breast\",\"Uterine\",\"CRC\",\"Lymphoma\",\"Stomach\"]\n",
    "tcga_types = [\"PAAD\",\"PRAD\",\"LIHC\",\"KI\",\"OV\",\"LUAD\",\"BRCA\",\"UC\",\"CO_RE\",\"DLBC\",\"STAD\"]\n",
    "for tissue,tcga_abrv in zip(cancer_types,tcga_types):\n",
    "    cancer_met_file = f\"./{tissue}_all_DMRs_3.bed_sort\"\n",
    "    cancer_tcga_file = f\"../TCGA/PanCancer/{tcga_abrv}_met_DMRS_filtered_3.bed_sort\"\n",
    "    cancer_autoseg_file = f\"\n",
    "    sum1 = 0\n",
    "    sum2 = 0\n",
    "    i = 0\n",
    "    j = 0\n",
    "    for line in open(cancer_met_file,\"r\").readlines():\n",
    "        #print(line.split(\"\\t\"))\n",
    "        sum1 += int(line.split(\"\\t\")[2]) - int(line.split(\"\\t\")[1])\n",
    "        i += 1\n",
    "    print(f\"{cancer_met_file}: {sum1} {i}\")\n",
    "    for line in open(cancer_tcga_file,\"r\").readlines():\n",
    "        #print(line.split(\"\\t\"))\n",
    "        sum2 += int(line.split(\"\\t\")[2]) - int(line.split(\"\\t\")[1])\n",
    "        j += 1"
   ]
  }
 ],
 "metadata": {
  "kernelspec": {
   "display_name": "Python (pineapple3)",
   "language": "python",
   "name": "pineapple3"
  },
  "language_info": {
   "codemirror_mode": {
    "name": "ipython",
    "version": 3
   },
   "file_extension": ".py",
   "mimetype": "text/x-python",
   "name": "python",
   "nbconvert_exporter": "python",
   "pygments_lexer": "ipython3",
   "version": "3.8.6"
  }
 },
 "nbformat": 4,
 "nbformat_minor": 4
}
