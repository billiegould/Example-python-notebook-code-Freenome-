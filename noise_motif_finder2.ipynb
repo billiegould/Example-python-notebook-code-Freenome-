{
 "cells": [
  {
   "cell_type": "markdown",
   "metadata": {},
   "source": [
    "# find motifs associted with methylation"
   ]
  },
  {
   "cell_type": "code",
   "execution_count": 1,
   "metadata": {},
   "outputs": [
    {
     "name": "stdout",
     "output_type": "stream",
     "text": [
      "2020-04-14 16:50:52.798973\n"
     ]
    }
   ],
   "source": [
    "from core.genomic_utilities.methyl.epifrag import MethylAlignmentFile, ConsensusMethylatedFragment, MethylStatus\n",
    "# https://github.com/freenome/research/blob/6c4b7c139443bb31299b895e80fba2975d9d8fe4/core/genomic_utilities/methyl/epifrag.py#L211\n",
    "\n",
    "from core.genomic_utilities.genomic_utilities import revcomp\n",
    "\n",
    "#load reference fasta\n",
    "from configs.project_configs import GENOME_REFERENCE_FASTA as REF\n",
    "from core.genomic_utilities.genomic_utilities import revcomp\n",
    "\n",
    "from collections import defaultdict, Counter\n",
    "from contextlib import closing\n",
    "import pyfaidx\n",
    "import pandas as pd\n",
    "from seaborn import clustermap\n",
    "import matplotlib\n",
    "%matplotlib inline\n",
    "from matplotlib import pyplot as plt\n",
    "import numpy as np\n",
    "import pickle\n",
    "\n",
    "from functools import partial\n",
    "from joblib import Parallel, delayed\n",
    "\n",
    "import sys\n",
    "\n",
    "from datetime import datetime\n",
    "print(datetime.now())"
   ]
  },
  {
   "cell_type": "code",
   "execution_count": 2,
   "metadata": {},
   "outputs": [],
   "source": [
    "# APOBEC enzyme\n",
    "#https://www.neb.com/tools-and-resources/feature-articles/enzymatic-methyl-seq-the-next-generation-of-methylome-analysis\n",
    "\n",
    "# Control Samples\n",
    "# https://files.zymoresearch.com/protocols/_d5014_human_methylated_and_non-methylated_dna_set.pdf"
   ]
  },
  {
   "cell_type": "code",
   "execution_count": 1,
   "metadata": {},
   "outputs": [
    {
     "name": "stdout",
     "output_type": "stream",
     "text": [
      "Copying gs://seq-data-us-1/bam/190806_A00225_0338_AHKWNHDMXX/744ab6d3-a365-59e5-a85e-043589e86e07/S_31_I_41-41_CATTGACG-CATTGACG_S31.marked.bam...\n",
      "| [1 files][  2.0 GiB/  2.0 GiB]   22.6 MiB/s                                   \n",
      "Operation completed over 1 objects/2.0 GiB.                                      \n"
     ]
    }
   ],
   "source": [
    "# create a test bam file, generated with 0% methyl control w/V1 panel\n",
    "# !gsutil cp gs://seq-data-us-1/bam/190806_A00225_0338_AHKWNHDMXX/744ab6d3-a365-59e5-a85e-043589e86e07/S_31_I_41-41_CATTGACG-CATTGACG_S31.marked.bam ./zero_control_v1_panel.bam\n",
    "# # subsample\n",
    "# !samtools view -h zero_control_v1_panel.bam | head -n 1000000 > test_zero_control_v1_panel.sam\n",
    "# !samtools view -h -b test_zero_control_v1_panel.sam > test_zero_control_v1_panel.bam"
   ]
  },
  {
   "cell_type": "code",
   "execution_count": 129,
   "metadata": {},
   "outputs": [
    {
     "name": "stdout",
     "output_type": "stream",
     "text": [
      "Copying gs://seq-data-us-1/bam/190619_A00225_0331_AHC522DRXX/5e169a8b-f0e4-59a7-9646-d3d2a8a73c16/S_01_I_01-01_GACACAGT-GACACAGT_S1.marked.bam...\n",
      "- [1 files][  1.2 GiB/  1.2 GiB]   24.5 MiB/s                                   \n",
      "Operation completed over 1 objects/1.2 GiB.                                      \n"
     ]
    }
   ],
   "source": [
    "# WGAmplified 0% methyl sample HCT116\n",
    "!gsutil cp f ./WGA_zero_control_v1.bam"
   ]
  },
  {
   "cell_type": "code",
   "execution_count": null,
   "metadata": {},
   "outputs": [],
   "source": []
  },
  {
   "cell_type": "code",
   "execution_count": 2,
   "metadata": {},
   "outputs": [
    {
     "name": "stdout",
     "output_type": "stream",
     "text": [
      "23\n",
      "[120, 120, 156, 120, 242, 120, 163, 120, 248, 120, 177, 120, 120, 120, 120, 120, 120, 730, 120, 120, 120, 120, 120, 501, 161, 243, 120, 120, 120, 137, 166, 501, 120, 120, 120, 358, 120, 249, 120, 345, 120, 156, 120, 135, 501, 120, 120, 120, 120, 158]\n",
      "(1206230, 1206960, 'NM_148901.1;TNFRSF18;0')\n"
     ]
    }
   ],
   "source": [
    "#read in V1 \n",
    "\n",
    "#v1 panel\n",
    "regions_v1 = defaultdict(list)\n",
    "names = []\n",
    "with open(\"../methyl_panel_v1_target_twist.bed\", \"r\") as fin:\n",
    "    for line in fin:\n",
    "        chrom, start, stop, name = line.split(\"\\t\")[0:4]\n",
    "        regions_v1[chrom].append((int(start), int(stop), name))\n",
    "        assert name not in names\n",
    "        names.append(name) # none of the region names are duplicated\n",
    "    \n",
    "print(len(regions_v1)) \n",
    "print([b-a for a,b,c in regions_v1[\"chr1\"][0:50]])\n",
    "print(regions_v1[\"chr1\"][17])"
   ]
  },
  {
   "cell_type": "code",
   "execution_count": 21,
   "metadata": {},
   "outputs": [
    {
     "name": "stdout",
     "output_type": "stream",
     "text": [
      "Copying gs://reference-datafiles/freenome_panels/methyl_panel_v3/methyl_panel_v3_target_twist.bed...\n",
      "/ [1 files][ 74.5 KiB/ 74.5 KiB]                                                \n",
      "Operation completed over 1 objects/74.5 KiB.                                     \n"
     ]
    }
   ],
   "source": [
    "#!gsutil cp gs://reference-datafiles/freenome_panels/methyl_panel_v3/methyl_panel_v3_target_twist.bed ../methyl_panel_v3_target_twist.bed"
   ]
  },
  {
   "cell_type": "code",
   "execution_count": 3,
   "metadata": {},
   "outputs": [],
   "source": [
    "# read in bam file as MethylAlignmentFile and process reads\n",
    "def find_motif(fragment, ref, pos, pattern):\n",
    "    '''\n",
    "    consensus frag cpg calls are normalized to the top strand\n",
    "    dna is actually single stranded when converted in library prep\n",
    "    motifs will all end in methylated C unless pattern is NCGN\n",
    "    '''\n",
    "    motif = \"NA\"\n",
    "    seq = ref[fragment.contig][fragment.start:fragment.end].seq.upper()\n",
    "    \n",
    "    if fragment.origin_fragment_positive_strand == True:\n",
    "        relative_pos = pos - fragment.start\n",
    "        if pattern == \"NNC\":\n",
    "            mstart = (relative_pos - 2)\n",
    "            mstop = (relative_pos)\n",
    "            N=3\n",
    "        elif pattern == \"NNNC\":\n",
    "            mstart = (relative_pos - 3)\n",
    "            mstop = (relative_pos)\n",
    "            N=4\n",
    "        elif pattern == \"NCGN\":\n",
    "            mstart = (relative_pos - 1)\n",
    "            mstop = (relative_pos + 2)\n",
    "            N=4\n",
    "        else:\n",
    "            print(f\"Unrecognized pattern search: {pattern}\")\n",
    "            sys.exit()\n",
    "\n",
    "        if  mstart > 0 and mstop < len(seq):\n",
    "            motif = seq[mstart:mstop+1]\n",
    "            #print(motif)\n",
    "            assert len(motif)==N\n",
    "            \n",
    "    elif fragment.origin_fragment_positive_strand == False:\n",
    "        pos = pos + 1\n",
    "        relative_pos = pos - fragment.start\n",
    "        \n",
    "        if pattern == \"NNC\":\n",
    "            mstart = (relative_pos) #end of seq will be revcomp of G (=C)\n",
    "            mstop = (relative_pos + 2)\n",
    "            N=3\n",
    "        elif pattern == \"NNNC\":\n",
    "            mstart = (relative_pos)\n",
    "            mstop = (relative_pos + 3)\n",
    "            N=4\n",
    "        elif pattern == \"NCGN\":\n",
    "            mstart = (relative_pos - 2)\n",
    "            mstop = (relative_pos + 1)\n",
    "            N=4\n",
    "        else:\n",
    "            print(f\"Unrecognized pattern search: {pattern}\")\n",
    "            sys.exit()\n",
    "\n",
    "        if  mstart > 0 and mstop < len(seq):\n",
    "            motif = revcomp(seq[mstart:mstop+1])\n",
    "            #print(motif)\n",
    "            assert len(motif)==N\n",
    "    \n",
    "    return motif\n",
    "\n",
    "    \n",
    "    \n",
    "def count_motif(motif, counts_dict):\n",
    "    if motif in counts_dict.keys():\n",
    "        counts_dict[motif] += 1\n",
    "    else:\n",
    "        counts_dict[motif] = 1\n",
    "    return counts_dict\n",
    "    \n",
    "    \n",
    "def process_region(bam, region_info, ref_file, mode, pattern):\n",
    "    with closing(pyfaidx.Fasta(ref_file)) as ref:\n",
    "        with MethylAlignmentFile(\n",
    "            alignment_file=bam,\n",
    "            ref=ref,\n",
    "            ignore_last_n_bp_fragment=0,\n",
    "            skip_duplicate_removal=False,\n",
    "            min_mapq=50,\n",
    "            max_unconverted_chh_fraction=0.15,\n",
    "            fetch_consensus=True,\n",
    "            ) as methyl_file:\n",
    "\n",
    "            chrom, start, end, name = region_info    \n",
    "            # extend the start and end to include fragments that overlap with region of interest with only one read\n",
    "            min_start = start - 300\n",
    "            max_end = end + 300\n",
    "\n",
    "            # one dict for the region region\n",
    "            region_motif_counts = {}\n",
    "\n",
    "            #r = 0\n",
    "            for methyl_frag in methyl_file.fetch(contig=chrom, start=min_start, stop=max_end):\n",
    "                # methyl_frag is ConsensusMethylatedFragment class, the ref seq between the two r1r2 read ends if reads pass filter \n",
    "                fragment = methyl_frag.support_fragments[0] # list of fragments that go into the consensus call\n",
    "                #print(fragment)\n",
    "\n",
    "                # get all motifs in the read. for each methylated CpG get the surrounding motif(defined above)\n",
    "                for pos, methyl_status in fragment.get_methyl_status_loc_map().items():  # return dict of cpg sites and their methylatioin status\n",
    "                    if mode == \"control\" and methyl_status == MethylStatus.u:\n",
    "                        motif = find_motif(fragment, ref, pos, pattern)\n",
    "                        region_motif_counts = count_motif(motif, region_motif_counts)\n",
    "\n",
    "                    elif mode == \"test\" and methyl_status == MethylStatus.m: \n",
    "                        motif = find_motif(fragment, ref, pos, pattern)\n",
    "                        region_motif_counts = count_motif(motif, region_motif_counts)\n",
    "                        #print(motif)\n",
    "            #        r+=1\n",
    "            #print(f\"reads processed {r}\")\n",
    "    return name, region_motif_counts"
   ]
  },
  {
   "cell_type": "code",
   "execution_count": 4,
   "metadata": {},
   "outputs": [],
   "source": [
    "def chr_counts(bam, chrm, regions_dict, mode, ref, pattern):\n",
    "    '''\n",
    "    Returns \n",
    "        chrm_count_dict: dict of dicts. Keys are [region_names][motifs]\n",
    "    '''\n",
    "    print(f\"processing {bam} {chrm}\")\n",
    "    print(f\"Running {mode} counts\\n\")\n",
    "#     with closing(pyfaidx.Fasta(REF)) as ref:\n",
    "#         with MethylAlignmentFile(\n",
    "#             alignment_file=bam,\n",
    "#             ref=ref,\n",
    "#             ignore_last_n_bp_fragment=0,\n",
    "#             skip_duplicate_removal=False,\n",
    "#             min_mapq=50,\n",
    "#             max_unconverted_chh_fraction=0.15,\n",
    "#             fetch_consensus=True,\n",
    "#             ) as methyl_file:\n",
    "\n",
    "    # process all regs on a chrm in parallel\n",
    "    chrm_count_dict = {} # dict of dicts\n",
    "\n",
    "    _process_region = partial(process_region, bam, ref_file=ref, mode=mode, pattern=pattern)\n",
    "    regions = regions_dict[chrm]\n",
    "    motif_info_per_region = Parallel(n_jobs=20)(\n",
    "            delayed(_process_region)(region_info=((chrm,) + end_pts)) for end_pts in regions)\n",
    "\n",
    "    # iterate through results list of tuples\n",
    "    for reg_name, motif_dict in motif_info_per_region:\n",
    "        if len(motif_dict.keys())>0:\n",
    "            chrm_count_dict[reg_name] = motif_dict\n",
    "\n",
    "    return chrm_count_dict"
   ]
  },
  {
   "cell_type": "code",
   "execution_count": 5,
   "metadata": {},
   "outputs": [],
   "source": [
    "# post process results\n",
    "\n",
    "def convert_to_motif_totals(region_motif_dicts):\n",
    "    '''\n",
    "    Returns a pd.Series containing total counts indexed by motif\n",
    "    Plots as barplot for referencce\n",
    "    '''\n",
    "    df_region_motifs = pd.DataFrame(region_motif_dicts)\n",
    "    if \"NA\" in df_region_motifs.index:\n",
    "        df_region_motifs.drop(\"NA\", axis=0, inplace=True)\n",
    "    df_region_motifs = df_region_motifs.fillna(value=0, axis=0)\n",
    "    #print(df_region_motifs.head())\n",
    "    print(df_region_motifs.shape)\n",
    "    motif_totals = df_region_motifs.sum(axis=1)\n",
    "    #plt.figure(figsize=(15,5))\n",
    "    #plt.bar(x=range(len(motif_totals)), height=motif_totals.sort_values(ascending=False))#, tick_label=motif_totals.sort_values().index)\n",
    "    #plt.xticks(range(len(motif_totals)), motif_totals.sort_values().index, rotation=\"vertical\")\n",
    "    #plt.title(f\"Motif counts {figname}\")\n",
    "    return motif_totals"
   ]
  },
  {
   "cell_type": "code",
   "execution_count": 6,
   "metadata": {},
   "outputs": [],
   "source": [
    "# convert chrm results dict into master motif count totals and save results \n",
    "def summarize_chrm_counts(results_list, pickle_name):\n",
    "    print(f\"Num chrms: {len(results_list)}\")\n",
    "    # a list of series objects , one per chrm\n",
    "    chr_counts_lists = [convert_to_motif_totals(d) for d in results_list]  # combine regions within chrs: pd.Series \n",
    "    df_motifs_by_chrms = pd.concat(chr_counts_lists, axis=1) #combine chr counts \n",
    "    print(df_motifs_by_chrms.head())\n",
    "    with open(f\"./{pickle_name}.pkl\", \"wb\") as fout:\n",
    "        pickle.dump(df_motifs_by_chrms, fout )\n",
    "    print(f\"Result saved as {pickle_name}.pkl\")\n",
    "    return df_motifs_by_chrms.sum(axis=1)"
   ]
  },
  {
   "cell_type": "code",
   "execution_count": 89,
   "metadata": {},
   "outputs": [
    {
     "name": "stdout",
     "output_type": "stream",
     "text": [
      "processing ./test_zero_control_v1_panel.bam chr1\n",
      "Running test counts\n",
      "\n"
     ]
    }
   ],
   "source": [
    "# test methyl function\n",
    "test_bam = \"./test_zero_control_v1_panel.bam\"\n",
    "test_chrm = \"chr1\"\n",
    "regions_test = {\"chr1\":regions_v1[\"chr1\"][0:100]}\n",
    "pattern = \"NCGN\"\n",
    "\n",
    "test_chr1_M_region_motif_counts = chr_counts(bam=test_bam, \n",
    "                                             chrm=test_chrm, \n",
    "                                             regions_dict=regions_test,\n",
    "                                             mode=\"test\",\n",
    "                                             ref=REF,\n",
    "                                             pattern=pattern)"
   ]
  },
  {
   "cell_type": "code",
   "execution_count": 90,
   "metadata": {},
   "outputs": [
    {
     "data": {
      "text/plain": [
       "{'GCGC': 10, 'GCGT': 16, 'ACGC': 4, 'CCGC': 1, 'GCGA': 1, 'CCGT': 1}"
      ]
     },
     "execution_count": 90,
     "metadata": {},
     "output_type": "execute_result"
    }
   ],
   "source": [
    "A = test_chr1_M_region_motif_counts['NM_152486.2;SAMD11;-9403']\n",
    "A"
   ]
  },
  {
   "cell_type": "code",
   "execution_count": 55,
   "metadata": {},
   "outputs": [
    {
     "name": "stdout",
     "output_type": "stream",
     "text": [
      "processing ./test_zero_control_v1_panel.bam chr1\n",
      "Running control counts\n",
      "\n"
     ]
    }
   ],
   "source": [
    "# test control function\n",
    "test_bam = \"./test_zero_control_v1_panel.bam\"\n",
    "test_chrm = \"chr1\"\n",
    "regions_test = {\"chr1\":regions_v1[\"chr1\"][0:100]}\n",
    "pattern = \"NCGN\"\n",
    "\n",
    "test_chr1_U_region_motif_counts = chr_counts(bam=test_bam, \n",
    "                                             chrm=test_chrm,\n",
    "                                             regions_dict=regions_test,\n",
    "                                             mode=\"control\",\n",
    "                                             ref=REF,\n",
    "                                             pattern=pattern)"
   ]
  },
  {
   "cell_type": "code",
   "execution_count": 57,
   "metadata": {},
   "outputs": [
    {
     "data": {
      "text/plain": [
       "{'CCGC': 168,\n",
       " 'ACGC': 207,\n",
       " 'GCGC': 105,\n",
       " 'CCGT': 6,\n",
       " 'CCGG': 287,\n",
       " 'NA': 12,\n",
       " 'ACGG': 130,\n",
       " 'ACGA': 71,\n",
       " 'GCGG': 135,\n",
       " 'GCGT': 153,\n",
       " 'TCGC': 142,\n",
       " 'ACGT': 133,\n",
       " 'CCGA': 55,\n",
       " 'TCGA': 4,\n",
       " 'GCGA': 1}"
      ]
     },
     "execution_count": 57,
     "metadata": {},
     "output_type": "execute_result"
    }
   ],
   "source": [
    "test_chr1_U_region_motif_counts['NM_152486.2;SAMD11;-9403']"
   ]
  },
  {
   "cell_type": "markdown",
   "metadata": {},
   "source": [
    "## process methylated sites\n"
   ]
  },
  {
   "cell_type": "code",
   "execution_count": 7,
   "metadata": {},
   "outputs": [],
   "source": [
    "from daikon.parallel import Pool"
   ]
  },
  {
   "cell_type": "code",
   "execution_count": 181,
   "metadata": {},
   "outputs": [
    {
     "data": {
      "text/html": [
       "\n",
       "        <div style=\"padding: 5px; border: 1px solid white;\">\n",
       "            <h3>KubernetesCluster</h3>\n",
       "            <ul style=\"text-align: left; list-style:none; margin: 0; padding: 0;\">\n",
       "                <li><b>UID:</b> e1f9004c-4120-42c2-bc50-bd683da5c4ca</li>\n",
       "                <li><b>Namespace:</b> default</li>\n",
       "                <li><b>CPU:</b> 23</li>\n",
       "                <li><b>Memory:</b> 40.00 GB</li>\n",
       "                <li><b>Preemptible:</b> True</li>\n",
       "            </ul>\n",
       "            \n",
       "        <p style=\"text-align: center;\"><a href='https://notebooks.freenome.net/user/billiegould/proxy/36119/status' target='_blank'>Dashboard</a>\n",
       "         | <a href='https://console.cloud.google.com/logs/viewer?project=freenome-computational&organizationId=933616597088&minLogLevel=0&expandAll=false&customFacets&limitCustomFacetWidth=true&resource=k8s_container%2Fcluster_name%2Fcr-west1%2Fnamespace_name%2Fdefault&advancedFilter=resource.type%3D%22k8s_container%22%0Aresource.labels.cluster_name%3D%22cr-west1%22%0Aresource.labels.namespace_name%3D%22default%22%0Alabels.%22k8s-pod%2Fk8s_freenome_net%2Fdaikon-dask-cluster-uid%22%3D%22e1f9004c-4120-42c2-bc50-bd683da5c4ca%22' target='_blank'>Logs</a></p>\n",
       "        </div>\n",
       "        "
      ],
      "text/plain": [
       "<KubernetesCluster: uid=e1f9004c-4120-42c2-bc50-bd683da5c4ca namespace=default cpu=23 memory='40.00 GB' preemptible=True>"
      ]
     },
     "metadata": {},
     "output_type": "display_data"
    },
    {
     "name": "stderr",
     "output_type": "stream",
     "text": [
      "100%|██████████| 23/23 [01:45<00:00,  4.61s/it, Succeeded: 23, Failed: 0, Last: chr_counts-211c36bf07314e001ec931d05ce5ac93]\n"
     ]
    }
   ],
   "source": [
    "# test v1 panel file, Methyl sites\n",
    "\n",
    "#data to test parallelization\n",
    "# bam = \"/home/billiegould/src/Methyl/noise_motif_finder/test_zero_control_v1_panel.bam\"\n",
    "# regions_test = {\"chr1\":regions_v1[\"chr1\"][0:10], \"chr2\":regions_v1[\"chr2\"][0:10]}\n",
    "# chrm_list = regions_test.keys()\n",
    "\n",
    "#bam = \"/home/billiegould/src/Methyl/noise_motif_finder/zero_control_v1_panel.bam\"\n",
    "bam = \"/home/billiegould/src/Methyl/noise_motif_finder/WGA_zero_control_v1.bam\"\n",
    "chrm_list = regions_v1.keys()\n",
    "regions_test = regions_v1\n",
    "pattern = \"NNC\"\n",
    "\n",
    "all_counts_M = None\n",
    "with Pool(cpu=23, memory='40GB') as pool:\n",
    "    jobs = [pool.apply_async(chr_counts, \n",
    "                             bam=bam, \n",
    "                             chrm=chrm, \n",
    "                             regions_dict=regions_test, \n",
    "                             mode=\"test\", \n",
    "                             ref=REF,\n",
    "                             pattern=pattern) for chrm in chrm_list]\n",
    "    all_counts_M = pool.gather(jobs)"
   ]
  },
  {
   "cell_type": "code",
   "execution_count": 182,
   "metadata": {},
   "outputs": [
    {
     "name": "stdout",
     "output_type": "stream",
     "text": [
      "Num chrms: 23\n",
      "(15, 64)\n",
      "(16, 43)\n",
      "(13, 35)\n",
      "(16, 70)\n",
      "(14, 30)\n",
      "(16, 32)\n",
      "(13, 27)\n",
      "(10, 8)\n",
      "(13, 25)\n",
      "(11, 18)\n",
      "(15, 21)\n",
      "(14, 47)\n",
      "(6, 9)\n",
      "(11, 8)\n",
      "(6, 4)\n",
      "(15, 65)\n",
      "(16, 63)\n",
      "(16, 57)\n",
      "(16, 57)\n",
      "(16, 46)\n",
      "(15, 66)\n",
      "(8, 5)\n",
      "(7, 5)\n",
      "       0      1     2     3     4      5     6    7     8     9   ...   13  \\\n",
      "AGC  42.0   75.0  30.0  54.0  31.0   88.0  11.0  4.0  26.0  15.0  ...  5.0   \n",
      "TTC   4.0    6.0   NaN   3.0   5.0    6.0   2.0  NaN   3.0   NaN  ...  NaN   \n",
      "CGC  42.0   65.0  39.0  57.0   8.0  242.0   9.0  NaN  14.0  18.0  ...  2.0   \n",
      "GGC  35.0  114.0  48.0  60.0  26.0  207.0   5.0  2.0  39.0  21.0  ...  9.0   \n",
      "TGC  10.0   20.0  10.0  23.0   6.0  118.0   4.0  3.0   7.0   NaN  ...  7.0   \n",
      "\n",
      "      14    15    16    17    18    19    20   21   22  \n",
      "AGC  4.0  56.0  27.0  42.0  30.0  15.0  55.0  2.0  7.0  \n",
      "TTC  NaN   2.0   2.0   2.0   3.0   2.0   3.0  NaN  NaN  \n",
      "CGC  NaN  57.0  49.0  66.0  33.0  16.0  39.0  6.0  3.0  \n",
      "GGC  1.0  80.0  61.0  73.0  44.0  25.0  48.0  3.0  4.0  \n",
      "TGC  1.0  32.0  20.0  20.0  10.0   6.0  18.0  2.0  NaN  \n",
      "\n",
      "[5 rows x 23 columns]\n",
      "Result saved as WGA_v1_sample_M_motif_counts_NNC.pkl\n"
     ]
    },
    {
     "data": {
      "text/plain": [
       "Text(0.5, 1.0, 'Motif Counts near Methylated CpGs (V1 panel, WGA sample)')"
      ]
     },
     "execution_count": 182,
     "metadata": {},
     "output_type": "execute_result"
    },
    {
     "data": {
      "image/png": "[encoded data removed]",
      "text/plain": [
       "<Figure size 1080x360 with 1 Axes>"
      ]
     },
     "metadata": {
      "needs_background": "light"
     },
     "output_type": "display_data"
    }
   ],
   "source": [
    "# plot results for v1 panel sample Methyl locations\n",
    "result = all_counts_M\n",
    "pickle_name=f\"WGA_v1_sample_M_motif_counts_{pattern}\"\n",
    "motif_counts_M = summarize_chrm_counts(result, pickle_name=pickle_name)\n",
    "\n",
    "FNAME = \"Motif Counts near Methylated CpGs (V1 panel, WGA sample)\"\n",
    "plt.figure(figsize=(15,5))\n",
    "plt.bar(x=range(len(motif_counts_M)), height=motif_counts_M.sort_values(ascending=False))#, tick_label=motif_totals.sort_values().index)\n",
    "plt.xticks(range(len(motif_counts_M)), motif_counts_M.sort_values().index, rotation=\"vertical\")\n",
    "plt.title(FNAME)"
   ]
  },
  {
   "cell_type": "code",
   "execution_count": null,
   "metadata": {},
   "outputs": [],
   "source": [
    "# FNAME = \"Motif Counts near Methylated CpGs (V1 panel, 'NCN')\"\n",
    "# plt.figure(figsize=(15,5))\n",
    "# plt.bar(x=range(len(motif_counts_M_ncn)), height=motif_counts_M.sort_values(ascending=False))#, tick_label=motif_totals.sort_values().index)\n",
    "# plt.xticks(range(len(motif_counts_M_ncn)), motif_counts_M.sort_values().index, rotation=\"vertical\")\n",
    "# plt.title(FNAME)"
   ]
  },
  {
   "cell_type": "markdown",
   "metadata": {},
   "source": [
    "## process control sites"
   ]
  },
  {
   "cell_type": "code",
   "execution_count": 183,
   "metadata": {},
   "outputs": [
    {
     "data": {
      "text/html": [
       "\n",
       "        <div style=\"padding: 5px; border: 1px solid white;\">\n",
       "            <h3>KubernetesCluster</h3>\n",
       "            <ul style=\"text-align: left; list-style:none; margin: 0; padding: 0;\">\n",
       "                <li><b>UID:</b> ccf6ba89-7b64-4f3c-b9b1-17b92ed7d04f</li>\n",
       "                <li><b>Namespace:</b> default</li>\n",
       "                <li><b>CPU:</b> 23</li>\n",
       "                <li><b>Memory:</b> 40.00 GB</li>\n",
       "                <li><b>Preemptible:</b> True</li>\n",
       "            </ul>\n",
       "            \n",
       "        <p style=\"text-align: center;\"><a href='https://notebooks.freenome.net/user/billiegould/proxy/37469/status' target='_blank'>Dashboard</a>\n",
       "         | <a href='https://console.cloud.google.com/logs/viewer?project=freenome-computational&organizationId=933616597088&minLogLevel=0&expandAll=false&customFacets&limitCustomFacetWidth=true&resource=k8s_container%2Fcluster_name%2Fcr-west1%2Fnamespace_name%2Fdefault&advancedFilter=resource.type%3D%22k8s_container%22%0Aresource.labels.cluster_name%3D%22cr-west1%22%0Aresource.labels.namespace_name%3D%22default%22%0Alabels.%22k8s-pod%2Fk8s_freenome_net%2Fdaikon-dask-cluster-uid%22%3D%22ccf6ba89-7b64-4f3c-b9b1-17b92ed7d04f%22' target='_blank'>Logs</a></p>\n",
       "        </div>\n",
       "        "
      ],
      "text/plain": [
       "<KubernetesCluster: uid=ccf6ba89-7b64-4f3c-b9b1-17b92ed7d04f namespace=default cpu=23 memory='40.00 GB' preemptible=True>"
      ]
     },
     "metadata": {},
     "output_type": "display_data"
    },
    {
     "name": "stderr",
     "output_type": "stream",
     "text": [
      "100%|██████████| 23/23 [01:39<00:00,  4.33s/it, Succeeded: 23, Failed: 0, Last: chr_counts-80c3501f5d1cd6383c5c3d9b79f00d47]\n"
     ]
    }
   ],
   "source": [
    "# Get counts for test v1 panel file, NonMethyl sites, NCG motif\n",
    "\n",
    "#bam = \"/home/billiegould/src/Methyl/noise_motif_finder/test_zero_control_v1_panel.bam\"\n",
    "#regions_test = {\"chr1\":regions[\"chr1\"][0:10], \"chr2\":regions[\"chr2\"][0:10]}\n",
    "#chrm_list = regions_test.keys()\n",
    "\n",
    "#bam = \"/home/billiegould/src/Methyl/noise_motif_finder/zero_control_v1_panel.bam\"\n",
    "bam = \"/home/billiegould/src/Methyl/noise_motif_finder/WGA_zero_control_v1.bam\"\n",
    "chrm_list = regions_v1.keys()\n",
    "regions_test = regions_v1\n",
    "pattern=\"NNC\"\n",
    "\n",
    "all_counts_U = None\n",
    "with Pool(cpu=23, memory='40GB') as pool:\n",
    "    jobs = [pool.apply_async(chr_counts, \n",
    "                             bam=bam, \n",
    "                             chrm=chrm, \n",
    "                             regions_dict=regions_test, \n",
    "                             mode=\"control\", \n",
    "                             ref=REF,\n",
    "                             pattern=pattern) for chrm in chrm_list]\n",
    "    all_counts_U = pool.gather(jobs)"
   ]
  },
  {
   "cell_type": "code",
   "execution_count": 184,
   "metadata": {},
   "outputs": [
    {
     "name": "stdout",
     "output_type": "stream",
     "text": [
      "Num chrms: 23\n",
      "(16, 561)\n",
      "(16, 326)\n",
      "(16, 343)\n",
      "(16, 368)\n",
      "(16, 250)\n",
      "(16, 208)\n",
      "(16, 216)\n",
      "(16, 212)\n",
      "(16, 282)\n",
      "(16, 162)\n",
      "(16, 242)\n",
      "(16, 543)\n",
      "(16, 166)\n",
      "(16, 60)\n",
      "(16, 62)\n",
      "(16, 438)\n",
      "(16, 400)\n",
      "(16, 412)\n",
      "(16, 424)\n",
      "(16, 419)\n",
      "(16, 399)\n",
      "(16, 157)\n",
      "(16, 20)\n",
      "          0        1        2        3        4         5        6       7   \\\n",
      "CTC  15565.0  21168.0   8766.0  17733.0   5716.0   72500.0   4598.0   844.0   \n",
      "AGC  15654.0  32305.0  10029.0  29345.0   6703.0   74763.0   5195.0  1212.0   \n",
      "GCC  26027.0  59991.0  17626.0  43896.0  13233.0  123805.0   8700.0  1974.0   \n",
      "GAC   9065.0  25363.0   4683.0  17713.0   4568.0   12773.0   2823.0   836.0   \n",
      "GGC  30648.0  82047.0  19213.0  48610.0  13136.0  131437.0  10846.0  2517.0   \n",
      "\n",
      "          8       9   ...      13     14       15       16       17       18  \\\n",
      "CTC   5416.0  3340.0  ...  1405.0  343.0  20379.0  24222.0  28158.0  11238.0   \n",
      "AGC   5824.0  4434.0  ...  2217.0  356.0  25790.0  27242.0  22803.0  12695.0   \n",
      "GCC   9774.0  7337.0  ...  3641.0  966.0  34077.0  35972.0  45627.0  24186.0   \n",
      "GAC   2077.0  2025.0  ...  1652.0  177.0  12832.0  14102.0  16668.0   7330.0   \n",
      "GGC  13845.0  8661.0  ...  5334.0  810.0  55244.0  47431.0  49570.0  26908.0   \n",
      "\n",
      "          19       20      21      22  \n",
      "CTC   9876.0  21071.0  1280.0   480.0  \n",
      "AGC  11924.0  26762.0  2253.0  2037.0  \n",
      "GCC  15475.0  35919.0  2363.0   571.0  \n",
      "GAC   5062.0  13105.0  1244.0  2333.0  \n",
      "GGC  15933.0  38024.0  3089.0  1898.0  \n",
      "\n",
      "[5 rows x 23 columns]\n",
      "Result saved as WGA_v1_sample_U_motif_counts_NNC.pkl\n"
     ]
    },
    {
     "data": {
      "text/plain": [
       "Text(0.5, 1.0, 'Motif Counts near UnMethylated CpGs (V1 panel, WGA sample)')"
      ]
     },
     "execution_count": 184,
     "metadata": {},
     "output_type": "execute_result"
    },
    {
     "data": {
      "image/png": "[encoded data removed]",
      "text/plain": [
       "<Figure size 1080x360 with 1 Axes>"
      ]
     },
     "metadata": {
      "needs_background": "light"
     },
     "output_type": "display_data"
    }
   ],
   "source": [
    "# summarize\n",
    "\n",
    "result = all_counts_U\n",
    "pickle_name = f\"WGA_v1_sample_U_motif_counts_{pattern}\"\n",
    " \n",
    "motif_counts_U = summarize_chrm_counts(result, pickle_name=pickle_name)\n",
    "#motif_counts_U\n",
    "\n",
    "FNAME = \"Motif Counts near UnMethylated CpGs (V1 panel, WGA sample)\"\n",
    "plt.figure(figsize=(15,5))\n",
    "plt.bar(x=range(len(motif_counts_U)), height=motif_counts_U.sort_values(ascending=False))#, tick_label=motif_totals.sort_values().index)\n",
    "plt.xticks(range(len(motif_counts_U)), motif_counts_U.sort_values().index, rotation=\"vertical\")\n",
    "plt.title(FNAME)"
   ]
  },
  {
   "cell_type": "markdown",
   "metadata": {},
   "source": [
    "## plot enrichment"
   ]
  },
  {
   "cell_type": "code",
   "execution_count": 8,
   "metadata": {},
   "outputs": [],
   "source": [
    "from scipy.stats import chi2_contingency\n",
    "from statsmodels.stats.multitest import multipletests\n",
    "\n",
    "def enrich_test(s_methyl_counts, s_control_counts):\n",
    "    #methyl_counts_dict = dict([i,ct for zip(methyl_counts.index, methyl_counts.values)])\n",
    "    #control_counts_dict = dict([i,ct for zip(control_counts.index, control_counts.values)])\n",
    "    \n",
    "    p_vals = []\n",
    "    diffs = []\n",
    "    mpcts = []\n",
    "    cpcts = []\n",
    "    for motif in s_methyl_counts.index:\n",
    "        mct = s_methyl_counts[motif]\n",
    "        mtot = s_methyl_counts.values.sum()\n",
    "        ctot = s_control_counts.values.sum()\n",
    "        if motif in s_control_counts.index:\n",
    "            cct = s_control_counts[motif]\n",
    "        else:\n",
    "            cct = 0\n",
    "        \n",
    "        #print(f\"M: {round(mct/mtot,3)} U: {round(cct/ctot,3)}\")\n",
    "        ctable = np.array([[mct, cct],[mtot-mct, ctot-cct]])\n",
    "        #print(ctable)\n",
    "        chi2, p_val, dof, ex = chi2_contingency(ctable)\n",
    "        \n",
    "        mpcts.append(f\"{(mct/float(mtot)):.3f}\")\n",
    "        cpcts.append(f\"{(cct/float(ctot)):.3f}\")\n",
    "        diffs.append((mct/float(mtot) - cct/float(ctot)))\n",
    "        p_vals.append(p_val)\n",
    "        #print(f\"pval: {p_val}\")\n",
    "    \n",
    "    reject, q_vals = multipletests(p_vals, 0.05, method=\"bonferroni\")[:2]\n",
    "    q_vals_dict = dict([ (m,q) for m,q in zip(s_methyl_counts.index, q_vals)])\n",
    "    #log_q_vals = [-np.log10(q) for q in q_vals]\n",
    "    signif_bool = [q<=0.05 and diff>0 for q, diff in zip(q_vals, diffs)]\n",
    "    signif_motifs = np.array(s_methyl_counts.index)[signif_bool]\n",
    "    \n",
    "    df_results = pd.DataFrame({\"methylated\":mpcts, \"unmethylated\":cpcts, \"adj.pval\":q_vals}).T\n",
    "    df_results.columns = s_methyl_counts.index\n",
    "    return df_results, q_vals_dict, signif_motifs"
   ]
  },
  {
   "cell_type": "code",
   "execution_count": 9,
   "metadata": {},
   "outputs": [
    {
     "name": "stdout",
     "output_type": "stream",
     "text": [
      "(16, 23)\n",
      "(16, 23)\n"
     ]
    }
   ],
   "source": [
    "# optionally load teh pickle data (df_of chr counts by motif)\n",
    "df_motif_counts_U = pickle.load(open(\"./WGA_v1_sample_U_motif_counts_NNC.pkl\", \"rb\"))\n",
    "df_motif_counts_M = pickle.load(open(\"./WGA_v1_sample_M_motif_counts_NNC.pkl\", \"rb\"))\n",
    "print(df_motif_counts_U.shape)\n",
    "print(df_motif_counts_M.shape)"
   ]
  },
  {
   "cell_type": "code",
   "execution_count": 7,
   "metadata": {},
   "outputs": [],
   "source": [
    "# barplot for comparison ### fix this to work on dataframe inputs and rerun\n",
    "\n",
    "def plot_enrichment(df_motif_counts_M, df_motif_counts_U, title):\n",
    "    #df_clust = pd.DataFrame(motif_counts_M.align(motif_counts_U)).T\n",
    "    #df_p_vals_v1, v1_q_vals_dict, v1_signif_motifs = enrich_test(motif_counts_M, motif_counts_U)\n",
    "    TITLE = f\"Motif Counts, motif={pattern}\"\n",
    "    s_motif_sums_M = df_motif_counts_M.sum(axis=1)\n",
    "    s_motif_sums_U = df_motif_counts_U.sum(axis=1)\n",
    "    \n",
    "    df_p_vals_v1, v1_q_vals_dict, v1_signif_motifs = enrich_test(s_motif_sums_M, s_motif_sums_U)\n",
    "\n",
    "    df_clust = pd.concat([s_motif_sums_M, s_motif_sums_U], axis=1, join=\"outer\")\n",
    "    df_clust.columns = [\"Methyl_CpG\", \"NonMethyl_CpG\"]\n",
    "    print(df_clust.head())\n",
    "    df_clust_norm = df_clust / df_clust.sum(axis=0)\n",
    "    df_clust_norm = df_clust_norm.sort_index()\n",
    "    \n",
    "    fig, ax = plt.subplots(figsize=(15,5))\n",
    "    #plt.figure(figsize=(15,5))\n",
    "    width=0.35\n",
    "    x = np.arange(len(df_clust_norm))\n",
    "    x2 = [a+width for a in x]\n",
    "    U = ax.bar(x, df_clust_norm[\"NonMethyl_CpG\"], width=width, label=\"NonMethylated\")\n",
    "    M = ax.bar(x2, df_clust_norm[\"Methyl_CpG\"], width=width, label=\"Methylated\")\n",
    "    ind = np.arange(len(df_clust_norm))\n",
    "    marks = [\"*\" if v1_q_vals_dict[m] <=0.05 else \"\" for m in df_clust_norm.index]\n",
    "    for i in ind:\n",
    "        ax.text(i, 1.05*(df_clust_norm.NonMethyl_CpG[i]), marks[i],\n",
    "                    ha='center', va='bottom')\n",
    "\n",
    "    ax.set_xticks(ind+width)\n",
    "    ax.set_xticklabels(df_clust_norm.index, rotation=\"vertical\")\n",
    "    ax.set_ylabel(\"percent of motifs observed\")\n",
    "    plt.legend()\n",
    "    plt.title(title)\n",
    "\n"
   ]
  },
  {
   "cell_type": "code",
   "execution_count": 157,
   "metadata": {},
   "outputs": [],
   "source": [
    "df_M = pickle.load(open(\"./zero_v1_sample_M_motif_counts_NNNC.pkl\",\"rb\"))\n",
    "df_U = pickle.load(open(\"./zero_v1_sample_U_motif_counts_NNNC.pkl\",\"rb\"))\n",
    "title=\"Motif Enrichement pattern:NNNC, 0%met V1 panel sample\"\n"
   ]
  },
  {
   "cell_type": "code",
   "execution_count": 172,
   "metadata": {},
   "outputs": [],
   "source": [
    "df_M = pickle.load(open(\"./zero_S5_v3_sample_M_motif_counts_NNNC.pkl\",\"rb\"))\n",
    "df_U = pickle.load(open(\"./zero_S5_v3_sample_U_motif_counts_NNNC.pkl\",\"rb\"))\n",
    "title=\"Motif Enrichement pattern:NNNC, 0%met V3 panel sample\""
   ]
  },
  {
   "cell_type": "code",
   "execution_count": 16,
   "metadata": {},
   "outputs": [],
   "source": [
    "df_M = pickle.load(open(\"./WGA_v1_sample_M_motif_counts_NNNC.pkl\",\"rb\"))\n",
    "df_U = pickle.load(open(\"./WGA_v1_sample_U_motif_counts_NNNC.pkl\",\"rb\"))\n",
    "title=\"Motif Enrichement pattern:NNNC, 0%met WGA V1 panel sample\"\n",
    "pattern=\"NNNC\""
   ]
  },
  {
   "cell_type": "code",
   "execution_count": null,
   "metadata": {},
   "outputs": [],
   "source": []
  },
  {
   "cell_type": "code",
   "execution_count": 176,
   "metadata": {},
   "outputs": [],
   "source": [
    "df_M = pickle.load(open(\"./zero_v1_sample_M_motif_counts_NNC.pkl\",\"rb\"))\n",
    "df_U = pickle.load(open(\"./zero_v1_sample_U_motif_counts_NNC.pkl\",\"rb\"))\n",
    "title=\"Motif Enrichement pattern:NNC, 0%met V1 panel sample\""
   ]
  },
  {
   "cell_type": "code",
   "execution_count": 178,
   "metadata": {},
   "outputs": [],
   "source": [
    "df_M = pickle.load(open(\"./zero_S5_v3_sample_M_motif_counts_NNC.pkl\",\"rb\"))\n",
    "df_U = pickle.load(open(\"./zero_S5_v3_sample_U_motif_counts_NNC.pkl\",\"rb\"))\n",
    "title=\"Motif Enrichement pattern:NNC, 0%met V3 panel sample\""
   ]
  },
  {
   "cell_type": "code",
   "execution_count": 12,
   "metadata": {},
   "outputs": [],
   "source": [
    "df_M = pickle.load(open(\"./WGA_v1_sample_M_motif_counts_NNC.pkl\",\"rb\"))\n",
    "df_U = pickle.load(open(\"./WGA_v1_sample_U_motif_counts_NNC.pkl\",\"rb\"))\n",
    "title=\"Motif Enrichement pattern:NNC, 0%met WGA V1 panel sample\"\n",
    "pattern=\"NNC\""
   ]
  },
  {
   "cell_type": "code",
   "execution_count": null,
   "metadata": {},
   "outputs": [],
   "source": []
  },
  {
   "cell_type": "code",
   "execution_count": 187,
   "metadata": {},
   "outputs": [],
   "source": [
    "df_M = pickle.load(open(\"./zero_v1_sample_M_motif_counts_NCGN.pkl\",\"rb\"))\n",
    "df_U = pickle.load(open(\"./zero_v1_sample_U_motif_counts_NCGN.pkl\",\"rb\"))\n",
    "title=\"Motif Enrichement pattern:NCGN, 0%met V1 panel sample\""
   ]
  },
  {
   "cell_type": "code",
   "execution_count": 17,
   "metadata": {},
   "outputs": [
    {
     "name": "stdout",
     "output_type": "stream",
     "text": [
      "      Methyl_CpG  NonMethyl_CpG\n",
      "GAGC       399.0       130008.0\n",
      "ATTC         5.0        20240.0\n",
      "GCGC       456.0       234799.0\n",
      "GGGC       381.0       212268.0\n",
      "GTGC       144.0        98336.0\n"
     ]
    },
    {
     "data": {
      "image/png": "[encoded data removed]",
      "text/plain": [
       "<Figure size 1080x360 with 1 Axes>"
      ]
     },
     "metadata": {
      "needs_background": "light"
     },
     "output_type": "display_data"
    }
   ],
   "source": [
    "plot_enrichment(df_M, df_U, title=title)"
   ]
  },
  {
   "cell_type": "code",
   "execution_count": 14,
   "metadata": {},
   "outputs": [
    {
     "name": "stdout",
     "output_type": "stream",
     "text": [
      "         0         1\n",
      "AGC  645.0  344128.0\n",
      "TTC   46.0  121283.0\n",
      "CGC  789.0  536164.0\n",
      "GGC  960.0  648697.0\n",
      "TGC  336.0  352318.0\n",
      "            0           1\n",
      "GGC  268580.0  11063016.0\n",
      "CGC  237516.0   9018380.0\n",
      "CAC   73919.0   2640330.0\n",
      "CCC  147782.0   9699233.0\n",
      "TGC  169165.0   4254473.0\n",
      "            0           1\n",
      "GGC  438460.0  26457471.0\n",
      "GAC  116280.0   6839603.0\n",
      "TCC  176711.0  10645654.0\n",
      "CGC  409070.0  22180219.0\n",
      "GCC  312532.0  24120034.0\n",
      "       V1_WGA        V1        V3\n",
      "AGC  0.072765  0.024451  0.030295\n",
      "TTC -0.015193  0.005846  0.004171\n",
      "CGC  0.064738  0.001398  0.026216\n",
      "GGC  0.079541 -0.010607  0.013351\n",
      "TGC  0.001445  0.031546  0.023374\n",
      "(16, 3)\n"
     ]
    }
   ],
   "source": [
    "# d_WGA_m = pickle.load(open(\"./WGA_v1_sample_M_motif_counts_NNC.pkl\", \"rb\"))\n",
    "# d_V1_m = pickle.load(open(\"./zero_v1_sample_M_motif_counts_NNC.pkl\", \"rb\"))\n",
    "# d_V3_m = pickle.load(open(\"./zero_S5_v3_sample_M_motif_counts_NNC.pkl\", \"rb\"))\n",
    "# d_WGA_u = pickle.load(open(\"./WGA_v1_sample_U_motif_counts_NNC.pkl\", \"rb\"))\n",
    "# d_V1_u = pickle.load(open(\"./zero_v1_sample_U_motif_counts_NNC.pkl\", \"rb\"))\n",
    "# d_V3_u = pickle.load(open(\"./zero_S5_v3_sample_U_motif_counts_NNC.pkl\", \"rb\"))\n",
    "\n",
    "d_WGA_m = pickle.load(open(\"./WGA_v1_sample_M_motif_counts_NNC.pkl\", \"rb\"))\n",
    "d_V1_m = pickle.load(open(\"./zero_v1_sample_M_motif_counts_NNC.pkl\", \"rb\"))\n",
    "d_V3_m = pickle.load(open(\"./zero_S5_v3_sample_M_motif_counts_NNC.pkl\", \"rb\"))\n",
    "d_WGA_u = pickle.load(open(\"./WGA_v1_sample_U_motif_counts_NNC.pkl\", \"rb\"))\n",
    "d_V1_u = pickle.load(open(\"./zero_v1_sample_U_motif_counts_NNC.pkl\", \"rb\"))\n",
    "d_V3_u = pickle.load(open(\"./zero_S5_v3_sample_U_motif_counts_NNC.pkl\", \"rb\"))\n",
    "\n",
    "\n",
    "def diff(df_m, df_u):\n",
    "    s_m = df_m.sum(axis=1)\n",
    "    s_u = df_u.sum(axis=1)\n",
    "    df = pd.concat([s_m,s_u], axis=1, join=\"outer\")\n",
    "    print(df.head())\n",
    "    df_norm = df / df.sum(axis=0)\n",
    "    df_norm.columns = [\"M\",\"U\"]\n",
    "    #print(df_norm.head())\n",
    "    return df_norm.M - df_norm.U\n",
    "\n",
    "diffs = [diff(d_WGA_m, d_WGA_u), diff(d_V1_m, d_V1_u), diff(d_V3_m, d_V3_u)]\n",
    "#df_clust = pd.DataFrame(sr_WGA.align(sr_V1))\n",
    "#df_clust = pd.DataFrame(df_clust.align(sr_V3, axis=0)).T\n",
    "df_clust = pd.DataFrame(pd.concat(diffs, axis=1, join=\"outer\"))\n",
    "df_clust.columns = [\"V1_WGA\", \"V1\", \"V3\"]\n",
    "print(df_clust.head())\n",
    "print(df_clust.shape)\n",
    "\n"
   ]
  },
  {
   "cell_type": "code",
   "execution_count": 15,
   "metadata": {},
   "outputs": [
    {
     "data": {
      "text/plain": [
       "<seaborn.matrix.ClusterGrid at 0x7fdcfd3bff50>"
      ]
     },
     "execution_count": 15,
     "metadata": {},
     "output_type": "execute_result"
    },
    {
     "data": {
      "image/png": "[encoded data removed]",
      "text/plain": [
       "<Figure size 720x720 with 4 Axes>"
      ]
     },
     "metadata": {
      "needs_background": "light"
     },
     "output_type": "display_data"
    }
   ],
   "source": [
    "clustermap(df_clust,\n",
    "          xticklabels=True,\n",
    "          yticklabels=True)"
   ]
  },
  {
   "cell_type": "markdown",
   "metadata": {},
   "source": [
    "## test V3 panel samples"
   ]
  },
  {
   "cell_type": "code",
   "execution_count": null,
   "metadata": {},
   "outputs": [],
   "source": [
    "# JIRA https://freenome.atlassian.net/browse/RRFS-47"
   ]
  },
  {
   "cell_type": "code",
   "execution_count": null,
   "metadata": {},
   "outputs": [],
   "source": [
    "# samples : gs://seq-data-us-1/bam/200401_A00225_0380_BHWHGGDSXX/24db8989-0af4-5f9e-89dc-a60d179faa59\n",
    "# 5,HCT116_0met,E1,5,5,574,idt-20170126,tem_seq,1061,methyl_panel_v3\n",
    "# 12,HCT116_0met,D2,12,12,574,idt-20170126,tem_seq,1068,methyl_panel_v3\n",
    "\n"
   ]
  },
  {
   "cell_type": "markdown",
   "metadata": {},
   "source": [
    "!gsutil cp gs://seq-data-us-1/bam/200401_A00225_0380_BHWHGGDSXX/f80335f6-9266-5cbc-834e-4d7b2a7265c4/S_05_I_05-05_TGTTCCGT-TGTTCCGT_S5.marked.bam ./S5_0met_V3_panel.bam"
   ]
  },
  {
   "cell_type": "code",
   "execution_count": 93,
   "metadata": {},
   "outputs": [
    {
     "name": "stdout",
     "output_type": "stream",
     "text": [
      "Copying gs://seq-data-us-1/bam/200401_A00225_0380_BHWHGGDSXX/f80335f6-9266-5cbc-834e-4d7b2a7265c4/S_12_I_12-12_CCTAAGTC-CCTAAGTC_S12.marked.bam...\n",
      "/ [1 files][ 12.3 GiB/ 12.3 GiB]   16.0 MiB/s                                   \n",
      "Operation completed over 1 objects/12.3 GiB.                                     \n"
     ]
    }
   ],
   "source": [
    "!gsutil cp gs://seq-data-us-1/bam/200401_A00225_0380_BHWHGGDSXX/f80335f6-9266-5cbc-834e-4d7b2a7265c4/S_12_I_12-12_CCTAAGTC-CCTAAGTC_S12.marked.bam ./S12_0met_V3_panel.bam"
   ]
  },
  {
   "cell_type": "code",
   "execution_count": 115,
   "metadata": {},
   "outputs": [
    {
     "name": "stdout",
     "output_type": "stream",
     "text": [
      "36541654\n"
     ]
    },
    {
     "data": {
      "text/plain": [
       "11429.982483578355"
      ]
     },
     "execution_count": 115,
     "metadata": {},
     "output_type": "execute_result"
    }
   ],
   "source": [
    "num_reads_in_file = 245898212 # mapped and prop paired\n",
    "num_reads_dups = 209356558 #85%\n",
    "num_non_dups = num_reads_in_file - num_reads_dups\n",
    "print(num_non_dups)\n",
    "reads_per_region = num_non_dups/3197\n",
    "reads_per_region"
   ]
  },
  {
   "cell_type": "code",
   "execution_count": 114,
   "metadata": {},
   "outputs": [
    {
     "name": "stdout",
     "output_type": "stream",
     "text": [
      "22\n",
      "[(998470, 1001094, 'chr1:998470'), (1324213, 1325305, 'chr1:1324213'), (1406678, 1407605, 'chr1:1406678')]\n"
     ]
    }
   ],
   "source": [
    "#read in V3\n",
    "regions_v3 = defaultdict(list)\n",
    "names = []\n",
    "with open(\"../methyl_panel_v3_target_twist.bed\", \"r\") as fin:\n",
    "    for line in fin:\n",
    "        chrom, start, stop = line.split(\"\\t\")\n",
    "        name = f\"{chrom}:{start}\"\n",
    "        regions_v3[chrom].append((int(start), int(stop), name))\n",
    "        assert name not in names\n",
    "        names.append(name) # none of the region names are duplicated\n",
    "    \n",
    "print(len(regions_v3)) \n",
    "print(regions_v3[\"chr1\"][0:3])  #3197 regions"
   ]
  },
  {
   "cell_type": "markdown",
   "metadata": {},
   "source": [
    "### process methylated sites"
   ]
  },
  {
   "cell_type": "code",
   "execution_count": 123,
   "metadata": {},
   "outputs": [
    {
     "data": {
      "text/html": [
       "\n",
       "        <div style=\"padding: 5px; border: 1px solid white;\">\n",
       "            <h3>KubernetesCluster</h3>\n",
       "            <ul style=\"text-align: left; list-style:none; margin: 0; padding: 0;\">\n",
       "                <li><b>UID:</b> 12734efe-10fd-4d74-be2f-6048ebb42ee5</li>\n",
       "                <li><b>Namespace:</b> default</li>\n",
       "                <li><b>CPU:</b> 22</li>\n",
       "                <li><b>Memory:</b> 40.00 GB</li>\n",
       "                <li><b>Preemptible:</b> True</li>\n",
       "            </ul>\n",
       "            \n",
       "        <p style=\"text-align: center;\"><a href='https://notebooks.freenome.net/user/billiegould/proxy/33715/status' target='_blank'>Dashboard</a>\n",
       "         | <a href='https://console.cloud.google.com/logs/viewer?project=freenome-computational&organizationId=933616597088&minLogLevel=0&expandAll=false&customFacets&limitCustomFacetWidth=true&resource=k8s_container%2Fcluster_name%2Fcr-west1%2Fnamespace_name%2Fdefault&advancedFilter=resource.type%3D%22k8s_container%22%0Aresource.labels.cluster_name%3D%22cr-west1%22%0Aresource.labels.namespace_name%3D%22default%22%0Alabels.%22k8s-pod%2Fk8s_freenome_net%2Fdaikon-dask-cluster-uid%22%3D%2212734efe-10fd-4d74-be2f-6048ebb42ee5%22' target='_blank'>Logs</a></p>\n",
       "        </div>\n",
       "        "
      ],
      "text/plain": [
       "<KubernetesCluster: uid=12734efe-10fd-4d74-be2f-6048ebb42ee5 namespace=default cpu=22 memory='40.00 GB' preemptible=True>"
      ]
     },
     "metadata": {},
     "output_type": "display_data"
    },
    {
     "name": "stderr",
     "output_type": "stream",
     "text": [
      "100%|██████████| 22/22 [09:15<00:00, 25.26s/it, Succeeded: 22, Failed: 0, Last: chr_counts-58780d63adf86606347d9194aadd79ad] \n"
     ]
    }
   ],
   "source": [
    "# get counts near methyl cpgs, v3 sample\n",
    "bam = \"/home/billiegould/src/Methyl/noise_motif_finder/S5_0met_V3_panel.bam\"\n",
    "chrm_list = regions_v3.keys()\n",
    "regions_test = regions_v3\n",
    "pattern = \"NNNC\"\n",
    "\n",
    "all_counts_M = None\n",
    "with Pool(cpu=22, memory='40GB') as pool:\n",
    "    jobs = [pool.apply_async(chr_counts, \n",
    "                             bam=bam, \n",
    "                             chrm=chrm, \n",
    "                             regions_dict=regions_test, \n",
    "                             mode=\"test\", \n",
    "                             ref=REF,\n",
    "                             pattern=pattern) for chrm in chrm_list]\n",
    "    all_counts_M = pool.gather(jobs)"
   ]
  },
  {
   "cell_type": "code",
   "execution_count": null,
   "metadata": {},
   "outputs": [],
   "source": []
  },
  {
   "cell_type": "code",
   "execution_count": 124,
   "metadata": {},
   "outputs": [
    {
     "name": "stdout",
     "output_type": "stream",
     "text": [
      "Num chrms: 22\n",
      "(64, 263)\n",
      "(64, 166)\n",
      "(64, 182)\n",
      "(64, 143)\n",
      "(64, 89)\n",
      "(64, 101)\n",
      "(64, 114)\n",
      "(64, 129)\n",
      "(64, 194)\n",
      "(64, 84)\n",
      "(64, 153)\n",
      "(64, 246)\n",
      "(64, 109)\n",
      "(64, 36)\n",
      "(64, 68)\n",
      "(64, 181)\n",
      "(64, 144)\n",
      "(64, 173)\n",
      "(64, 177)\n",
      "(64, 179)\n",
      "(64, 147)\n",
      "(64, 115)\n",
      "           0        1       2       3        4       5       6       7   \\\n",
      "GGGC  11968.0   9694.0  6247.0  6188.0   6734.0  3835.0  6102.0  4911.0   \n",
      "GGAC   3440.0   2567.0  1650.0  2029.0   1976.0  1165.0  1029.0  1086.0   \n",
      "GTCC   2108.0   2069.0   934.0  1378.0   1705.0   576.0  1312.0   465.0   \n",
      "GCGC  14962.0  10650.0  5956.0  9330.0  12322.0  4872.0  5996.0  4100.0   \n",
      "CCCC   6042.0   4543.0  2036.0  4615.0   4594.0  1466.0  2376.0  1408.0   \n",
      "\n",
      "           8        9   ...      12      13      14       15      16       17  \\\n",
      "GGGC  11810.0   6079.0  ...  3549.0  2729.0  2595.0   9739.0  6043.0   8077.0   \n",
      "GGAC   3062.0   2062.0  ...  1071.0  1326.0   491.0   2572.0  1747.0   3985.0   \n",
      "GTCC   2007.0   1568.0  ...   640.0   693.0   196.0   2015.0  1309.0   2280.0   \n",
      "GCGC  11339.0  10007.0  ...  3698.0  3771.0  1821.0  10619.0  6556.0  13883.0   \n",
      "CCCC   4158.0   4277.0  ...  1160.0  2021.0   655.0   5354.0  2961.0   5188.0   \n",
      "\n",
      "           18       19       20      21  \n",
      "GGGC   8643.0  10588.0  12594.0  6345.0  \n",
      "GGAC   3398.0   3823.0   3970.0  2587.0  \n",
      "GTCC   2643.0   2782.0   3533.0  1259.0  \n",
      "GCGC  13158.0  16989.0  16137.0  8472.0  \n",
      "CCCC   4715.0   6789.0   6548.0  3830.0  \n",
      "\n",
      "[5 rows x 22 columns]\n",
      "Result saved as zero_S5_v3_sample_M_motif_counts_NNNC.pkl\n"
     ]
    },
    {
     "data": {
      "text/plain": [
       "Text(0.5, 1.0, 'Motif Counts near Methylated CpGs (V3 panel, S5 sample)')"
      ]
     },
     "execution_count": 124,
     "metadata": {},
     "output_type": "execute_result"
    },
    {
     "data": {
      "image/png": "[encoded data removed]",
      "text/plain": [
       "<Figure size 1080x360 with 1 Axes>"
      ]
     },
     "metadata": {
      "needs_background": "light"
     },
     "output_type": "display_data"
    }
   ],
   "source": [
    "# plot results for v1 panel sample Methyl locations\n",
    "result = all_counts_M\n",
    "pickle_name=f\"zero_S5_v3_sample_M_motif_counts_{pattern}\"\n",
    "motif_counts_M = summarize_chrm_counts(result, pickle_name=pickle_name)\n",
    "\n",
    "FNAME = \"Motif Counts near Methylated CpGs (V3 panel, S5 sample)\"\n",
    "plt.figure(figsize=(15,5))\n",
    "plt.bar(x=range(len(motif_counts_M)), height=motif_counts_M.sort_values(ascending=False))#, tick_label=motif_totals.sort_values().index)\n",
    "plt.xticks(range(len(motif_counts_M)), motif_counts_M.sort_values().index, rotation=\"vertical\")\n",
    "plt.title(FNAME)"
   ]
  },
  {
   "cell_type": "code",
   "execution_count": null,
   "metadata": {},
   "outputs": [],
   "source": []
  },
  {
   "cell_type": "markdown",
   "metadata": {},
   "source": [
    "### process unmethylated sites"
   ]
  },
  {
   "cell_type": "code",
   "execution_count": 125,
   "metadata": {},
   "outputs": [
    {
     "data": {
      "text/html": [
       "\n",
       "        <div style=\"padding: 5px; border: 1px solid white;\">\n",
       "            <h3>KubernetesCluster</h3>\n",
       "            <ul style=\"text-align: left; list-style:none; margin: 0; padding: 0;\">\n",
       "                <li><b>UID:</b> 9b227992-6a91-4cb5-bd46-fa590959450d</li>\n",
       "                <li><b>Namespace:</b> default</li>\n",
       "                <li><b>CPU:</b> 23</li>\n",
       "                <li><b>Memory:</b> 40.00 GB</li>\n",
       "                <li><b>Preemptible:</b> True</li>\n",
       "            </ul>\n",
       "            \n",
       "        <p style=\"text-align: center;\"><a href='https://notebooks.freenome.net/user/billiegould/proxy/39159/status' target='_blank'>Dashboard</a>\n",
       "         | <a href='https://console.cloud.google.com/logs/viewer?project=freenome-computational&organizationId=933616597088&minLogLevel=0&expandAll=false&customFacets&limitCustomFacetWidth=true&resource=k8s_container%2Fcluster_name%2Fcr-west1%2Fnamespace_name%2Fdefault&advancedFilter=resource.type%3D%22k8s_container%22%0Aresource.labels.cluster_name%3D%22cr-west1%22%0Aresource.labels.namespace_name%3D%22default%22%0Alabels.%22k8s-pod%2Fk8s_freenome_net%2Fdaikon-dask-cluster-uid%22%3D%229b227992-6a91-4cb5-bd46-fa590959450d%22' target='_blank'>Logs</a></p>\n",
       "        </div>\n",
       "        "
      ],
      "text/plain": [
       "<KubernetesCluster: uid=9b227992-6a91-4cb5-bd46-fa590959450d namespace=default cpu=23 memory='40.00 GB' preemptible=True>"
      ]
     },
     "metadata": {},
     "output_type": "display_data"
    },
    {
     "name": "stderr",
     "output_type": "stream",
     "text": [
      "100%|██████████| 22/22 [11:24<00:00, 31.10s/it, Succeeded: 22, Failed: 0, Last: chr_counts-e9da1c4ff4dff8823e2f3993590bf31e] \n"
     ]
    }
   ],
   "source": [
    "bam = \"/home/billiegould/src/Methyl/noise_motif_finder/S5_0met_V3_panel.bam\"\n",
    "chrm_list = regions_v3.keys()\n",
    "regions_test = regions_v3\n",
    "pattern = \"NNNC\"\n",
    "\n",
    "all_counts_U = None\n",
    "with Pool(cpu=23, memory='40GB') as pool:\n",
    "    jobs = [pool.apply_async(chr_counts, \n",
    "                             bam=bam, \n",
    "                             chrm=chrm, \n",
    "                             regions_dict=regions_test, \n",
    "                             mode=\"control\", \n",
    "                             ref=REF,\n",
    "                             pattern=pattern) for chrm in chrm_list]\n",
    "    all_counts_U = pool.gather(jobs)"
   ]
  },
  {
   "cell_type": "code",
   "execution_count": 126,
   "metadata": {},
   "outputs": [
    {
     "name": "stdout",
     "output_type": "stream",
     "text": [
      "Num chrms: 22\n",
      "(64, 263)\n",
      "(64, 166)\n",
      "(64, 182)\n",
      "(64, 143)\n",
      "(64, 89)\n",
      "(64, 101)\n",
      "(64, 114)\n",
      "(64, 129)\n",
      "(64, 194)\n",
      "(64, 84)\n",
      "(64, 153)\n",
      "(64, 246)\n",
      "(64, 109)\n",
      "(64, 36)\n",
      "(64, 68)\n",
      "(64, 181)\n",
      "(64, 144)\n",
      "(64, 173)\n",
      "(64, 177)\n",
      "(64, 179)\n",
      "(64, 147)\n",
      "(64, 115)\n",
      "            0         1         2         3         4         5         6   \\\n",
      "ACTC  102879.0   97916.0   79504.0   65350.0   41259.0   48420.0   47082.0   \n",
      "GTGC  214406.0  198592.0  157437.0  131941.0   74693.0   99346.0   98420.0   \n",
      "CCTC  312887.0  290843.0  226140.0  180102.0  113266.0  140827.0  159132.0   \n",
      "CTGC  364340.0  348620.0  291554.0  217774.0  141502.0  167979.0  186261.0   \n",
      "CGCC  625856.0  543263.0  437410.0  358515.0  246713.0  272828.0  330124.0   \n",
      "\n",
      "            7         8         9   ...        12       13        14  \\\n",
      "ACTC   50121.0  115345.0   40475.0  ...   51972.0  15326.0   24645.0   \n",
      "GTGC  131746.0  237917.0   83791.0  ...  115098.0  35018.0   62034.0   \n",
      "CCTC  187547.0  360678.0  115984.0  ...  151869.0  50326.0   80086.0   \n",
      "CTGC  221685.0  436142.0  137523.0  ...  181077.0  60504.0   99453.0   \n",
      "CGCC  362795.0  664943.0  254898.0  ...  294824.0  85137.0  168699.0   \n",
      "\n",
      "            15        16        17        18        19        20        21  \n",
      "ACTC   71647.0   61511.0   77716.0   80087.0   82128.0   76816.0   49911.0  \n",
      "GTGC  152822.0  131297.0  166168.0  149766.0  176428.0  156831.0  105178.0  \n",
      "CCTC  210633.0  183632.0  228420.0  239259.0  252663.0  242073.0  152966.0  \n",
      "CTGC  256647.0  224646.0  265089.0  274055.0  287449.0  292485.0  172698.0  \n",
      "CGCC  420375.0  350512.0  457797.0  460196.0  484312.0  454500.0  323243.0  \n",
      "\n",
      "[5 rows x 22 columns]\n",
      "Result saved as zero_S5_v3_sample_U_motif_counts_NNNC.pkl\n"
     ]
    },
    {
     "data": {
      "text/plain": [
       "Text(0.5, 1.0, 'Motif Counts near UnMethylated CpGs (V3 panel, sample S5)')"
      ]
     },
     "execution_count": 126,
     "metadata": {},
     "output_type": "execute_result"
    },
    {
     "data": {
      "image/png": "[encoded data removed]",
      "text/plain": [
       "<Figure size 1080x360 with 1 Axes>"
      ]
     },
     "metadata": {
      "needs_background": "light"
     },
     "output_type": "display_data"
    }
   ],
   "source": [
    "# summarize\n",
    "result = all_counts_U\n",
    "pickle_name = f\"zero_S5_v3_sample_U_motif_counts_{pattern}\"\n",
    " \n",
    "motif_counts_U = summarize_chrm_counts(result, pickle_name=pickle_name)\n",
    "#motif_counts_U\n",
    "\n",
    "FNAME = \"Motif Counts near UnMethylated CpGs (V3 panel, sample S5)\"\n",
    "plt.figure(figsize=(15,5))\n",
    "plt.bar(x=range(len(motif_counts_U)), height=motif_counts_U.sort_values(ascending=False))#, tick_label=motif_totals.sort_values().index)\n",
    "plt.xticks(range(len(motif_counts_U)), motif_counts_U.sort_values().index, rotation=\"vertical\")\n",
    "plt.title(FNAME)"
   ]
  },
  {
   "cell_type": "markdown",
   "metadata": {},
   "source": [
    "### test V3 panel motif enrichment"
   ]
  },
  {
   "cell_type": "code",
   "execution_count": null,
   "metadata": {},
   "outputs": [],
   "source": [
    "# load data\n",
    "motif_counts_M = pickle.load()\n",
    "motif_counts_U = pickle.load()\n",
    "pattern = \"\""
   ]
  },
  {
   "cell_type": "code",
   "execution_count": 127,
   "metadata": {},
   "outputs": [
    {
     "name": "stdout",
     "output_type": "stream",
     "text": [
      "M: 0.057 U: 0.054\n",
      "pval: 2.2663475493498606e-126\n",
      "M: 0.018 U: 0.016\n",
      "pval: 2.701745544801549e-67\n",
      "M: 0.012 U: 0.013\n",
      "pval: 5.427749657498431e-49\n",
      "M: 0.073 U: 0.049\n",
      "pval: 0.0\n",
      "M: 0.029 U: 0.056\n",
      "pval: 0.0\n",
      "M: 0.028 U: 0.046\n",
      "pval: 0.0\n",
      "M: 0.03 U: 0.026\n",
      "pval: 0.0\n",
      "M: 0.01 U: 0.008\n",
      "pval: 1.1179816318083804e-217\n",
      "M: 0.013 U: 0.013\n",
      "pval: 1.8171313407942497e-21\n",
      "M: 0.007 U: 0.011\n",
      "pval: 0.0\n",
      "M: 0.023 U: 0.017\n",
      "pval: 0.0\n",
      "M: 0.044 U: 0.048\n",
      "pval: 4.343628574289536e-195\n",
      "M: 0.012 U: 0.011\n",
      "pval: 1.4367096344309695e-65\n",
      "M: 0.01 U: 0.017\n",
      "pval: 0.0\n",
      "M: 0.008 U: 0.005\n",
      "pval: 0.0\n",
      "M: 0.005 U: 0.005\n",
      "pval: 3.3710507702171266e-05\n",
      "M: 0.02 U: 0.018\n",
      "pval: 2.1950263298681446e-149\n",
      "M: 0.038 U: 0.029\n",
      "pval: 0.0\n",
      "M: 0.01 U: 0.008\n",
      "pval: 1.3183878649617435e-203\n",
      "M: 0.042 U: 0.026\n",
      "pval: 0.0\n",
      "M: 0.033 U: 0.03\n",
      "pval: 6.801087041231517e-196\n",
      "M: 0.017 U: 0.028\n",
      "pval: 0.0\n",
      "M: 0.033 U: 0.045\n",
      "pval: 0.0\n",
      "M: 0.044 U: 0.047\n",
      "pval: 8.796610668671031e-138\n",
      "M: 0.033 U: 0.027\n",
      "pval: 0.0\n",
      "M: 0.051 U: 0.047\n",
      "pval: 6.590488927390042e-199\n",
      "M: 0.012 U: 0.015\n",
      "pval: 0.0\n",
      "M: 0.015 U: 0.015\n",
      "pval: 2.0179629707658704e-16\n",
      "M: 0.022 U: 0.025\n",
      "pval: 2.9916472907502687e-238\n",
      "M: 0.012 U: 0.012\n",
      "pval: 0.0005554434457651824\n",
      "M: 0.017 U: 0.01\n",
      "pval: 0.0\n",
      "M: 0.017 U: 0.012\n",
      "pval: 0.0\n",
      "M: 0.005 U: 0.006\n",
      "pval: 3.115663065298689e-94\n",
      "M: 0.014 U: 0.02\n",
      "pval: 0.0\n",
      "M: 0.005 U: 0.008\n",
      "pval: 0.0\n",
      "M: 0.007 U: 0.01\n",
      "pval: 0.0\n",
      "M: 0.007 U: 0.006\n",
      "pval: 6.902587189997224e-35\n",
      "M: 0.005 U: 0.005\n",
      "pval: 3.468290850022474e-07\n",
      "M: 0.006 U: 0.006\n",
      "pval: 6.971138620065119e-28\n",
      "M: 0.007 U: 0.005\n",
      "pval: 2.5421033799082153e-288\n",
      "M: 0.004 U: 0.005\n",
      "pval: 1.8848832194234677e-159\n",
      "M: 0.013 U: 0.024\n",
      "pval: 0.0\n",
      "M: 0.012 U: 0.01\n",
      "pval: 1.326763172084412e-207\n",
      "M: 0.002 U: 0.001\n",
      "pval: 2.1937632025268022e-72\n",
      "M: 0.003 U: 0.002\n",
      "pval: 1.2723132245524775e-236\n",
      "M: 0.006 U: 0.006\n",
      "pval: 1.4711986677445202e-12\n",
      "M: 0.013 U: 0.01\n",
      "pval: 0.0\n",
      "M: 0.007 U: 0.008\n",
      "pval: 7.620031510116346e-77\n",
      "M: 0.011 U: 0.006\n",
      "pval: 0.0\n",
      "M: 0.003 U: 0.003\n",
      "pval: 3.102670391560647e-10\n",
      "M: 0.006 U: 0.005\n",
      "pval: 9.969806745240564e-27\n",
      "M: 0.016 U: 0.016\n",
      "pval: 3.3226338956311254e-17\n",
      "M: 0.002 U: 0.002\n",
      "pval: 0.7587653130355578\n",
      "M: 0.006 U: 0.004\n",
      "pval: 0.0\n",
      "M: 0.005 U: 0.004\n",
      "pval: 2.4665701179088008e-49\n",
      "M: 0.006 U: 0.004\n",
      "pval: 0.0\n",
      "M: 0.006 U: 0.005\n",
      "pval: 2.37821954651595e-21\n",
      "M: 0.002 U: 0.003\n",
      "pval: 2.9331951858952352e-77\n",
      "M: 0.006 U: 0.006\n",
      "pval: 1.7949682641549636e-91\n",
      "M: 0.006 U: 0.005\n",
      "pval: 4.78946951043656e-224\n",
      "M: 0.006 U: 0.006\n",
      "pval: 3.8053562173534714e-08\n",
      "M: 0.003 U: 0.003\n",
      "pval: 6.426156427274592e-24\n",
      "M: 0.003 U: 0.002\n",
      "pval: 0.0\n",
      "M: 0.002 U: 0.001\n",
      "pval: 3.0439977854611953e-255\n",
      "            0          1\n",
      "AAAC  11517.0   975516.0\n",
      "AACC  15795.0  1087806.0\n",
      "AAGC  46574.0  1889566.0\n",
      "AATC   6476.0   538152.0\n",
      "ACAC  15898.0  1143198.0\n"
     ]
    },
    {
     "data": {
      "image/png": "[encoded data removed]",
      "text/plain": [
       "<Figure size 1080x360 with 1 Axes>"
      ]
     },
     "metadata": {
      "needs_background": "light"
     },
     "output_type": "display_data"
    }
   ],
   "source": [
    "TITLE = f\"Motif Enrichemnt, pattern:{pattern}, 0% methyl, V3 panel sample S5\"\n",
    "plot_enrichment(motif_counts_M, motif_counts_U, title=TITLE)"
   ]
  },
  {
   "cell_type": "code",
   "execution_count": null,
   "metadata": {},
   "outputs": [],
   "source": []
  }
 ],
 "metadata": {
  "kernelspec": {
   "display_name": "Python 3",
   "language": "python",
   "name": "python3"
  },
  "language_info": {
   "codemirror_mode": {
    "name": "ipython",
    "version": 3
   },
   "file_extension": ".py",
   "mimetype": "text/x-python",
   "name": "python",
   "nbconvert_exporter": "python",
   "pygments_lexer": "ipython3",
   "version": "3.7.7"
  }
 },
 "nbformat": 4,
 "nbformat_minor": 4
}
