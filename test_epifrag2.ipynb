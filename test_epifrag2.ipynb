{
 "cells": [
  {
   "cell_type": "code",
   "execution_count": 1,
   "metadata": {},
   "outputs": [],
   "source": [
    "## test epifrag cpg motif filter\n",
    "\n",
    "'''a notebook with the pineapple env (instead of research) so that I can load features and visulize them'''"
   ]
  },
  {
   "cell_type": "code",
   "execution_count": 20,
   "metadata": {},
   "outputs": [],
   "source": [
    "from pineapple.contrib.components.data_factories.matrix_factory import MatrixFactory as mf\n",
    "import pandas as pd\n",
    "import seaborn as sns\n",
    "\n",
    "import matplotlib\n",
    "%matplotlib inline\n",
    "from matplotlib import pyplot as plt\n",
    "\n",
    "import numpy as np"
   ]
  },
  {
   "cell_type": "code",
   "execution_count": 9,
   "metadata": {},
   "outputs": [
    {
     "name": "stdout",
     "output_type": "stream",
     "text": [
      "(1, 434, 3, 2)\n"
     ]
    }
   ],
   "source": [
    "# load the features to compare\n",
    "\n",
    "# load the normal V2 feature data (unfiltered)\n",
    "\n",
    "mat_normal = mf.create_from_dataset_ids(dataset_ids=[\"SD-000048F9\"], feature_str=\"HMFC_by_min_methyl_cpgs_CpG_filtered/v2\")\n",
    "print(mat_normal.shape)\n",
    "#print(mat_normal.x[0:10,0:10])"
   ]
  },
  {
   "cell_type": "code",
   "execution_count": 23,
   "metadata": {},
   "outputs": [
    {
     "name": "stdout",
     "output_type": "stream",
     "text": [
      "(1, 434, 3, 2)\n",
      "[[[[   0  791]\n",
      "   [   0  342]\n",
      "   [   0   17]]\n",
      "\n",
      "  [[  15 1761]\n",
      "   [   0  714]\n",
      "   [   0  179]]\n",
      "\n",
      "  [[   2  869]\n",
      "   [   0  358]\n",
      "   [   0    0]]\n",
      "\n",
      "  [[   5  664]\n",
      "   [   0   26]\n",
      "   [   0    0]]\n",
      "\n",
      "  [[  52  577]\n",
      "   [   0  440]\n",
      "   [   0    3]]\n",
      "\n",
      "  [[   4  455]\n",
      "   [   0  229]\n",
      "   [   0    3]]\n",
      "\n",
      "  [[   2 1398]\n",
      "   [   0  420]\n",
      "   [   0   36]]\n",
      "\n",
      "  [[   9  959]\n",
      "   [   2  821]\n",
      "   [   0  199]]\n",
      "\n",
      "  [[  44 1552]\n",
      "   [   0 1219]\n",
      "   [   0  154]]\n",
      "\n",
      "  [[   8 1946]\n",
      "   [   0  923]\n",
      "   [   0   22]]]]\n"
     ]
    }
   ],
   "source": [
    "# load the normal V2 feature data (unfiltered)\n",
    "\n",
    "mat_filt = mf.create_from_dataset_ids(dataset_ids=[\"SD-000048F9\"], feature_str=\"HMFC_by_min_methyl_cpgs_CpG_filtered/v3\")\n",
    "print(mat_filt.shape)\n",
    "print(mat_normal.x[0:10,0:10])"
   ]
  },
  {
   "cell_type": "code",
   "execution_count": 25,
   "metadata": {},
   "outputs": [],
   "source": [
    "df_norm_tot_3cpg = pd.DataFrame(mat_normal.x[0:1,:,0,1])\n",
    "\n",
    "df_filt_tot_3cpg = pd.DataFrame(mat_filt.x[0:1,:,0,1])\n",
    "\n",
    "df_norm_meth_3cpg = pd.DataFrame(mat_normal.x[0:1,:,0,0])\n",
    "\n",
    "df_filt_meth_3cpg = pd.DataFrame(mat_filt.x[0:1,:,0,0])"
   ]
  },
  {
   "cell_type": "code",
   "execution_count": 26,
   "metadata": {},
   "outputs": [
    {
     "data": {
      "text/html": [
       "<div>\n",
       "<style scoped>\n",
       "    .dataframe tbody tr th:only-of-type {\n",
       "        vertical-align: middle;\n",
       "    }\n",
       "\n",
       "    .dataframe tbody tr th {\n",
       "        vertical-align: top;\n",
       "    }\n",
       "\n",
       "    .dataframe thead th {\n",
       "        text-align: right;\n",
       "    }\n",
       "</style>\n",
       "<table border=\"1\" class=\"dataframe\">\n",
       "  <thead>\n",
       "    <tr style=\"text-align: right;\">\n",
       "      <th></th>\n",
       "      <th>0</th>\n",
       "      <th>1</th>\n",
       "      <th>2</th>\n",
       "      <th>3</th>\n",
       "      <th>4</th>\n",
       "      <th>5</th>\n",
       "      <th>6</th>\n",
       "      <th>7</th>\n",
       "      <th>8</th>\n",
       "      <th>9</th>\n",
       "      <th>...</th>\n",
       "      <th>424</th>\n",
       "      <th>425</th>\n",
       "      <th>426</th>\n",
       "      <th>427</th>\n",
       "      <th>428</th>\n",
       "      <th>429</th>\n",
       "      <th>430</th>\n",
       "      <th>431</th>\n",
       "      <th>432</th>\n",
       "      <th>433</th>\n",
       "    </tr>\n",
       "  </thead>\n",
       "  <tbody>\n",
       "    <tr>\n",
       "      <th>0</th>\n",
       "      <td>0</td>\n",
       "      <td>15</td>\n",
       "      <td>2</td>\n",
       "      <td>5</td>\n",
       "      <td>52</td>\n",
       "      <td>4</td>\n",
       "      <td>2</td>\n",
       "      <td>9</td>\n",
       "      <td>44</td>\n",
       "      <td>8</td>\n",
       "      <td>...</td>\n",
       "      <td>10</td>\n",
       "      <td>29</td>\n",
       "      <td>0</td>\n",
       "      <td>40</td>\n",
       "      <td>11</td>\n",
       "      <td>4</td>\n",
       "      <td>24</td>\n",
       "      <td>35</td>\n",
       "      <td>62</td>\n",
       "      <td>28</td>\n",
       "    </tr>\n",
       "  </tbody>\n",
       "</table>\n",
       "<p>1 rows × 434 columns</p>\n",
       "</div>"
      ],
      "text/plain": [
       "   0    1    2    3    4    5    6    7    8    9    ...  424  425  426  427  \\\n",
       "0    0   15    2    5   52    4    2    9   44    8  ...   10   29    0   40   \n",
       "\n",
       "   428  429  430  431  432  433  \n",
       "0   11    4   24   35   62   28  \n",
       "\n",
       "[1 rows x 434 columns]"
      ]
     },
     "execution_count": 26,
     "metadata": {},
     "output_type": "execute_result"
    }
   ],
   "source": [
    "df_norm_meth_3cpg.head()"
   ]
  },
  {
   "cell_type": "code",
   "execution_count": 27,
   "metadata": {},
   "outputs": [
    {
     "data": {
      "text/html": [
       "<div>\n",
       "<style scoped>\n",
       "    .dataframe tbody tr th:only-of-type {\n",
       "        vertical-align: middle;\n",
       "    }\n",
       "\n",
       "    .dataframe tbody tr th {\n",
       "        vertical-align: top;\n",
       "    }\n",
       "\n",
       "    .dataframe thead th {\n",
       "        text-align: right;\n",
       "    }\n",
       "</style>\n",
       "<table border=\"1\" class=\"dataframe\">\n",
       "  <thead>\n",
       "    <tr style=\"text-align: right;\">\n",
       "      <th></th>\n",
       "      <th>0</th>\n",
       "      <th>1</th>\n",
       "      <th>2</th>\n",
       "      <th>3</th>\n",
       "      <th>4</th>\n",
       "      <th>5</th>\n",
       "      <th>6</th>\n",
       "      <th>7</th>\n",
       "      <th>8</th>\n",
       "      <th>9</th>\n",
       "      <th>...</th>\n",
       "      <th>424</th>\n",
       "      <th>425</th>\n",
       "      <th>426</th>\n",
       "      <th>427</th>\n",
       "      <th>428</th>\n",
       "      <th>429</th>\n",
       "      <th>430</th>\n",
       "      <th>431</th>\n",
       "      <th>432</th>\n",
       "      <th>433</th>\n",
       "    </tr>\n",
       "  </thead>\n",
       "  <tbody>\n",
       "    <tr>\n",
       "      <th>0</th>\n",
       "      <td>0</td>\n",
       "      <td>15</td>\n",
       "      <td>2</td>\n",
       "      <td>5</td>\n",
       "      <td>46</td>\n",
       "      <td>4</td>\n",
       "      <td>2</td>\n",
       "      <td>9</td>\n",
       "      <td>42</td>\n",
       "      <td>8</td>\n",
       "      <td>...</td>\n",
       "      <td>7</td>\n",
       "      <td>27</td>\n",
       "      <td>0</td>\n",
       "      <td>39</td>\n",
       "      <td>9</td>\n",
       "      <td>4</td>\n",
       "      <td>17</td>\n",
       "      <td>28</td>\n",
       "      <td>60</td>\n",
       "      <td>26</td>\n",
       "    </tr>\n",
       "  </tbody>\n",
       "</table>\n",
       "<p>1 rows × 434 columns</p>\n",
       "</div>"
      ],
      "text/plain": [
       "   0    1    2    3    4    5    6    7    8    9    ...  424  425  426  427  \\\n",
       "0    0   15    2    5   46    4    2    9   42    8  ...    7   27    0   39   \n",
       "\n",
       "   428  429  430  431  432  433  \n",
       "0    9    4   17   28   60   26  \n",
       "\n",
       "[1 rows x 434 columns]"
      ]
     },
     "execution_count": 27,
     "metadata": {},
     "output_type": "execute_result"
    }
   ],
   "source": [
    "df_filt_meth_3cpg.head()"
   ]
  },
  {
   "cell_type": "code",
   "execution_count": null,
   "metadata": {},
   "outputs": [],
   "source": []
  },
  {
   "cell_type": "code",
   "execution_count": 30,
   "metadata": {},
   "outputs": [
    {
     "data": {
      "text/plain": [
       "Text(0, 0.5, 'number of regions')"
      ]
     },
     "execution_count": 30,
     "metadata": {},
     "output_type": "execute_result"
    },
    {
     "data": {
      "image/png": "[encoded data removed]",
      "text/plain": [
       "<Figure size 432x288 with 1 Axes>"
      ]
     },
     "metadata": {
      "needs_background": "light"
     },
     "output_type": "display_data"
    }
   ],
   "source": [
    "diffs = df_norm_tot_3cpg.iloc[0,:] - df_filt_tot_3cpg.iloc[0,:]\n",
    "plt.hist(diffs)\n",
    "plt.title(\"number of fragments removed from total count\", size=16)\n",
    "plt.ylabel(\"number of regions\", size=16)\n"
   ]
  },
  {
   "cell_type": "code",
   "execution_count": 34,
   "metadata": {},
   "outputs": [
    {
     "data": {
      "text/plain": [
       "Text(0, 0.5, 'number of regions')"
      ]
     },
     "execution_count": 34,
     "metadata": {},
     "output_type": "execute_result"
    },
    {
     "data": {
      "image/png": "[encoded data removed]",
      "text/plain": [
       "<Figure size 432x288 with 1 Axes>"
      ]
     },
     "metadata": {
      "needs_background": "light"
     },
     "output_type": "display_data"
    }
   ],
   "source": [
    "diffs = df_norm_meth_3cpg.iloc[0,:] - df_filt_meth_3cpg.iloc[0,:]\n",
    "plt.hist(diffs)\n",
    "plt.title(\"number fragments removed HMFC (3 cpgs)\", size=16)\n",
    "plt.ylabel(\"number of regions\", size=16)"
   ]
  },
  {
   "cell_type": "code",
   "execution_count": 33,
   "metadata": {},
   "outputs": [
    {
     "data": {
      "text/plain": [
       "Text(0, 0.5, 'number of regions')"
      ]
     },
     "execution_count": 33,
     "metadata": {},
     "output_type": "execute_result"
    },
    {
     "data": {
      "image/png": "[encoded data removed]",
      "text/plain": [
       "<Figure size 432x288 with 1 Axes>"
      ]
     },
     "metadata": {
      "needs_background": "light"
     },
     "output_type": "display_data"
    }
   ],
   "source": [
    "# 12 cpg threshold\n",
    "\n",
    "df_norm_tot_12cpg = pd.DataFrame(mat_normal.x[0:1,:,1,1])\n",
    "\n",
    "df_filt_tot_12cpg = pd.DataFrame(mat_filt.x[0:1,:,1,1])\n",
    "\n",
    "df_norm_meth_12cpg = pd.DataFrame(mat_normal.x[0:1,:,1,0])\n",
    "\n",
    "df_filt_meth_12cpg = pd.DataFrame(mat_filt.x[0:1,:,1,0])\n",
    "\n",
    "diffs = df_norm_meth_12cpg.iloc[0,:] - df_filt_meth_12cpg.iloc[0,:]\n",
    "plt.hist(diffs)\n",
    "plt.title(\"number fragments removed HMFC (12 cpgs)\", size=16)\n",
    "plt.ylabel(\"number of regions\", size=16)\n"
   ]
  },
  {
   "cell_type": "code",
   "execution_count": 35,
   "metadata": {},
   "outputs": [
    {
     "data": {
      "text/plain": [
       "Text(0, 0.5, 'number of regions')"
      ]
     },
     "execution_count": 35,
     "metadata": {},
     "output_type": "execute_result"
    },
    {
     "data": {
      "image/png": "[encoded data removed]",
      "text/plain": [
       "<Figure size 432x288 with 1 Axes>"
      ]
     },
     "metadata": {
      "needs_background": "light"
     },
     "output_type": "display_data"
    }
   ],
   "source": [
    "# 25 cpg threshold\n",
    "\n",
    "df_norm_tot_25cpg = pd.DataFrame(mat_normal.x[0:1,:,2,1])\n",
    "\n",
    "df_filt_tot_25cpg = pd.DataFrame(mat_filt.x[0:1,:,2,1])\n",
    "\n",
    "df_norm_meth_25cpg = pd.DataFrame(mat_normal.x[0:1,:,2,0])\n",
    "\n",
    "df_filt_meth_25cpg = pd.DataFrame(mat_filt.x[0:1,:,2,0])\n",
    "\n",
    "diffs = df_norm_meth_25cpg.iloc[0,:] - df_filt_meth_25cpg.iloc[0,:]\n",
    "plt.hist(diffs)\n",
    "plt.title(\"number fragments removed HMFC (25 cpgs)\", size=16)\n",
    "plt.ylabel(\"number of regions\", size=16)\n"
   ]
  },
  {
   "cell_type": "markdown",
   "metadata": {},
   "source": [
    "## heatmaps for crc and healthy samples"
   ]
  },
  {
   "cell_type": "code",
   "execution_count": 37,
   "metadata": {},
   "outputs": [
    {
     "name": "stdout",
     "output_type": "stream",
     "text": [
      "(124, 61, 31, 2)\n",
      "(124, 61, 31, 2)\n"
     ]
    }
   ],
   "source": [
    "mat_hmcfc_filt = mf.create_from_training_classes(training_classes=[\"colorectal_cancer_temseqV3_fuzzy_discovery1k\",\n",
    "                                                                   \"colorectal_healthy_temseqV3_fuzzy_discovery1k\"],\n",
    "                                                 feature_str=\"hmcfc_methyl_v3_manual_regions_20200310_CpG_filtAGC/v3\",\n",
    "                                                 class_labels=[1,0])\n",
    "\n",
    "mat_hmcfc_norm = mf.create_from_training_classes(training_classes=[\"colorectal_cancer_temseqV3_fuzzy_discovery1k\",\n",
    "                                                                   \"colorectal_healthy_temseqV3_fuzzy_discovery1k\"],\n",
    "                                                 feature_str=\"hmcfc_methyl_v3_manual_regions_20200310/v1\",\n",
    "                                                 class_labels=[1,0])\n",
    "\n",
    "print(mat_hmcfc_filt.shape)\n",
    "print(mat_hmcfc_norm.shape)"
   ]
  },
  {
   "cell_type": "code",
   "execution_count": 43,
   "metadata": {},
   "outputs": [],
   "source": [
    "df_pct_hmcfc_filt = pd.DataFrame(mat_hmcfc_filt.x[:,:,0,0]/mat_hmcfc_filt.x[:,:,0,1], index=mat_hmcfc_filt.sample_ids)\n",
    "\n",
    "df_pct_hmcfc_norm = pd.DataFrame(mat_hmcfc_norm.x[:,:,0,0]/mat_hmcfc_norm.x[:,:,0,1], index=mat_hmcfc_norm.sample_ids)"
   ]
  },
  {
   "cell_type": "code",
   "execution_count": 47,
   "metadata": {},
   "outputs": [
    {
     "name": "stdout",
     "output_type": "stream",
     "text": [
      "117\n",
      "117\n"
     ]
    }
   ],
   "source": [
    "stage_info_filt = [d.raw_sample_metadata[\"lims_top_diagnosis\"][\"stage\"] for d in mat_hmcfc_filt.sample_metadata]\n",
    "stage_info_norm = [d.raw_sample_metadata[\"lims_top_diagnosis\"][\"stage\"] for d in mat_hmcfc_norm.sample_metadata]\n",
    "\n",
    "df_pct_hmcfc_filt_minIV = df_pct_hmcfc_filt[[s != \"IV\" and s != \"III\" for s in stage_info_filt]]\n",
    "print(len(df_pct_hmcfc_filt_minIV))\n",
    "df_pct_hmcfc_norm_minIV = df_pct_hmcfc_norm[[s != \"IV\" and s != \"III\" for s in stage_info_norm]]\n",
    "print(len(df_pct_hmcfc_norm_minIV))"
   ]
  },
  {
   "cell_type": "code",
   "execution_count": 61,
   "metadata": {},
   "outputs": [
    {
     "data": {
      "text/plain": [
       "Text(0.5, 69.0, 'Region (n=61)')"
      ]
     },
     "execution_count": 61,
     "metadata": {},
     "output_type": "execute_result"
    },
    {
     "data": {
      "image/png": "[encoded data removed]",
      "text/plain": [
       "<Figure size 720x720 with 2 Axes>"
      ]
     },
     "metadata": {
      "needs_background": "light"
     },
     "output_type": "display_data"
    }
   ],
   "source": [
    "df_pct_hmcfc_norm = df_pct_hmcfc_norm.sort_index(axis=0)\n",
    "df_pct_hmcfc_filt = df_pct_hmcfc_filt.sort_index(axis=0)\n",
    "diffs = df_pct_hmcfc_norm - df_pct_hmcfc_filt\n",
    "\n",
    "plt.figure(figsize=(10,10))\n",
    "sns.heatmap(diffs)\n",
    "#sns.clustermap(diffs)\n",
    "plt.ylabel(\"Sample ID (healthy DC1k)\")\n",
    "plt.xlabel(\"Region (n=61)\")\n"
   ]
  },
  {
   "cell_type": "code",
   "execution_count": 65,
   "metadata": {},
   "outputs": [
    {
     "data": {
      "text/plain": [
       "0.09090909090909091"
      ]
     },
     "execution_count": 65,
     "metadata": {},
     "output_type": "execute_result"
    }
   ],
   "source": [
    "max(diffs.max())"
   ]
  },
  {
   "cell_type": "code",
   "execution_count": 66,
   "metadata": {},
   "outputs": [
    {
     "data": {
      "text/plain": [
       "-0.031029352728646653"
      ]
     },
     "execution_count": 66,
     "metadata": {},
     "output_type": "execute_result"
    }
   ],
   "source": [
    "min(diffs.min())  # I think this goes below 0 b/c some total fragments are getting removed as well."
   ]
  },
  {
   "cell_type": "code",
   "execution_count": null,
   "metadata": {},
   "outputs": [],
   "source": []
  }
 ],
 "metadata": {
  "kernelspec": {
   "display_name": "Python (pineapple-env)",
   "language": "python",
   "name": "pineapple-env"
  },
  "language_info": {
   "codemirror_mode": {
    "name": "ipython",
    "version": 3
   },
   "file_extension": ".py",
   "mimetype": "text/x-python",
   "name": "python",
   "nbconvert_exporter": "python",
   "pygments_lexer": "ipython3",
   "version": "3.7.7"
  }
 },
 "nbformat": 4,
 "nbformat_minor": 4
}
