{
 "cells": [
  {
   "cell_type": "markdown",
   "id": "c84ba9f4-984b-43b9-aa41-aeb0460ce223",
   "metadata": {},
   "source": [
    "# Prostate Cancer readout June 2021"
   ]
  },
  {
   "cell_type": "code",
   "execution_count": 1,
   "id": "7df3483f-2257-472e-8b88-a99bfd675fb0",
   "metadata": {},
   "outputs": [],
   "source": [
    "# create a feature to hold all PSA data for modeling"
   ]
  },
  {
   "cell_type": "code",
   "execution_count": 1,
   "id": "33a1b6a4-ed11-4dc3-b92f-98336013f4a7",
   "metadata": {},
   "outputs": [],
   "source": [
    "from calzone import Calzone\n",
    "from featureio import FeatureIO\n",
    "\n",
    "import pandas as pd\n",
    "import numpy as np\n",
    "\n",
    "from pineapple.contrib.components.data_factories.matrix_factory import MatrixFactory as mf\n",
    "\n",
    "from lims_api import Client\n",
    "import json\n",
    "import io\n",
    "from pineappleflow.core.gcloud.client import GcsClient\n",
    "\n",
    "from collections import Counter, defaultdict\n",
    "\n",
    "from pineappleflow.core import experiment_context\n",
    "import datetime\n",
    "experiment_context.reset_context(0, \"x\", \"x\", datetime.datetime(2021, 6, 8,0,0))\n",
    "\n",
    "import seaborn as sns\n",
    "from matplotlib import pyplot as plt"
   ]
  },
  {
   "cell_type": "code",
   "execution_count": 43,
   "id": "28a058fe-85a3-4943-9616-11445abcab74",
   "metadata": {},
   "outputs": [
    {
     "name": "stderr",
     "output_type": "stream",
     "text": [
      "Missed Redis cache for ttl_key TS-212533391, reading from BigQuery instead\n"
     ]
    },
    {
     "name": "stdout",
     "output_type": "stream",
     "text": [
      "Counter({'Ovarian Cancer': 40, 'Normal / Healthy NOS': 38, 'Prostate Cancer': 30, 'Breast Cancer': 25})\n"
     ]
    }
   ],
   "source": [
    "# BOCA samples\n",
    "# data stored and dsids and feature already created by Adam see ingest_cea.ipynb\n",
    "with FeatureIO() as ftio:\n",
    "    boca_dsids = ftio.get_datasets_for_feature(\"multicancer_protein_june_2021_readout\",\"3\")\n",
    "    boca_metas = Calzone.get_dataset_metadata_with_ids(boca_dsids)\n",
    "    boca_types = [m.raw_sample_metadata['lims_top_diagnosis']['cancer_type'] for m in boca_metas]\n",
    "\n",
    "print(Counter(boca_types))\n",
    "\n",
    "boca_dsids_healthy = []\n",
    "boca_dsids_prostate_cancer = []\n",
    "boca_dsids_breast_cancer = []\n",
    "boca_dsids_ovarian_cancer = []\n",
    "for dsid,ctype in zip(boca_dsids,boca_types):\n",
    "    if ctype == 'Normal / Healthy NOS':\n",
    "        boca_dsids_healthy.append(dsid) # existing training class: boca_samples_healthy_plasma\n",
    "    elif ctype == 'Prostate Cancer':\n",
    "        boca_dsids_prostate_cancer.append(dsid)\n",
    "    elif ctype == 'Breast Cancer':\n",
    "        boca_dsids_breast_cancer.append(dsid)\n",
    "    elif ctype == 'Ovarian Cancer':\n",
    "        boca_dsids_ovarian_cancer.append(dsid)"
   ]
  },
  {
   "cell_type": "code",
   "execution_count": 12,
   "id": "3ca2a4a5-9c2e-4a0b-ad83-5c4bf657bd22",
   "metadata": {},
   "outputs": [
    {
     "name": "stdout",
     "output_type": "stream",
     "text": [
      "boca_samples_healthy_plasma                                                \tHealthy Centipede C plasma samples sent for clinical protein measures at ..\t38          \n",
      "boca_samples_cancer_plasma                                                 \tOvarian, prostate, and breast cancer Centipede C plasma samples sent for ..\t95          \n",
      "boca_samples_prostate_cancer_plasma                                        \tCentipede C prostate cancer plasma samples sent for clinical protein meas..\t30          \n"
     ]
    }
   ],
   "source": [
    "# create new training class\n",
    "ftio.create_training_class(training_class_name='boca_samples_prostate_cancer_plasma', \n",
    "                               desc='Centipede C prostate cancer plasma samples sent for clinical protein measures at BOCA',\n",
    "                               datasets=boca_dsids_prostate_cancer)\n",
    "\n",
    "# repeat for breast and ovarian if necessary\n",
    "\n",
    "!ftio get tclasses | grep boca"
   ]
  },
  {
   "cell_type": "code",
   "execution_count": 2,
   "id": "d6eed8b0-e396-4791-af75-18ef4ee83f3a",
   "metadata": {},
   "outputs": [],
   "source": [
    "# filter healthy negs for male only samples\n",
    "# boca_samples_healthy_plasma\n",
    "# colorectal_plasma_healthy_polyp_n (64) -\n",
    "#colorectal_plasma_healthy_polyp_y (31)\n",
    "#Neg_noM4_centipedeC_cpg_dense_v3 (111)\n",
    "#M4_negs_cpg_dense_no96plasmas_v1 (88)\n",
    "\n",
    "def filter_males(tc):\n",
    "    with FeatureIO() as ftio:\n",
    "        dsids = ftio.get_datasets_for_training_class(tc)\n",
    "        metas = Calzone.get_dataset_metadata_with_ids(dsids)\n",
    "        #print(metas[0])\n",
    "        sexes = [m.raw_sample_metadata[\"lims_patient\"][\"sex\"] for m in metas]\n",
    "        keep = [s==\"Male\" for s in sexes]\n",
    "    return np.array(dsids)[keep]\n",
    "\n",
    "#filter_males(\"boca_samples_healthy_plasma\")"
   ]
  },
  {
   "cell_type": "code",
   "execution_count": 33,
   "id": "fcbaa198-b708-472f-a478-7244104b084a",
   "metadata": {},
   "outputs": [
    {
     "name": "stdout",
     "output_type": "stream",
     "text": [
      "38\n",
      "23\n"
     ]
    }
   ],
   "source": [
    "new_dsids = filter_males(\"boca_samples_healthy_plasma\")\n",
    "# FeatureIO().create_training_class(training_class_name='boca_samples_healthy_plasma_males', \n",
    "#                                desc='boca_samples_healthy_plasma filtered for males only',\n",
    "#                                datasets=new_dsids)\n",
    "print(len(FeatureIO().get_datasets_for_training_class(\"boca_samples_healthy_plasma\")))\n",
    "print(len(FeatureIO().get_datasets_for_training_class(\"boca_samples_healthy_plasma_males\")))"
   ]
  },
  {
   "cell_type": "code",
   "execution_count": 29,
   "id": "0652c159-e5f4-4700-ab4a-ca2b5dec3fb4",
   "metadata": {},
   "outputs": [
    {
     "name": "stdout",
     "output_type": "stream",
     "text": [
      "111\n",
      "54\n"
     ]
    }
   ],
   "source": [
    "new_dsids = filter_males(\"Neg_noM4_centipedeC_cpg_dense_v3\")\n",
    "# FeatureIO().create_training_class(training_class_name='Neg_noM4_centipedeC_cpg_dense_v3_males', \n",
    "#                                desc='Neg_noM4_centipedeC_cpg_dense_v3 filtered for males only',\n",
    "#                                datasets=new_dsids)\n",
    "print(len(FeatureIO().get_datasets_for_training_class(\"Neg_noM4_centipedeC_cpg_dense_v3\")))\n",
    "print(len(FeatureIO().get_datasets_for_training_class(\"Neg_noM4_centipedeC_cpg_dense_v3_males\")))"
   ]
  },
  {
   "cell_type": "code",
   "execution_count": 30,
   "id": "b035612a-0361-41b4-accb-26241a58d7d5",
   "metadata": {},
   "outputs": [
    {
     "name": "stdout",
     "output_type": "stream",
     "text": [
      "88\n",
      "15\n"
     ]
    }
   ],
   "source": [
    "new_dsids = filter_males(\"M4_negs_cpg_dense_no96plasmas_v1\")\n",
    "FeatureIO().create_training_class(training_class_name='M4_negs_cpg_dense_no96plasmas_v1_males', \n",
    "                               desc='M4_negs_cpg_dense_no96plasmas_v1 filtered for males only',\n",
    "                               datasets=new_dsids)\n",
    "print(len(FeatureIO().get_datasets_for_training_class(\"M4_negs_cpg_dense_no96plasmas_v1\")))\n",
    "print(len(FeatureIO().get_datasets_for_training_class(\"M4_negs_cpg_dense_no96plasmas_v1_males\")))"
   ]
  },
  {
   "cell_type": "code",
   "execution_count": 45,
   "id": "a0fd12d3-b9c5-40e7-8e35-ec06af652126",
   "metadata": {},
   "outputs": [
    {
     "name": "stderr",
     "output_type": "stream",
     "text": [
      "Missed Redis cache for ttl_key TS-212535917, reading from BigQuery instead\n"
     ]
    },
    {
     "name": "stdout",
     "output_type": "stream",
     "text": [
      "73\n",
      "31\n"
     ]
    }
   ],
   "source": [
    "new_dsids = filter_males(\"Neg_noM4_noBoca_centipedeC_cpg_dense_v3\")\n",
    "FeatureIO().create_training_class(training_class_name='Neg_noM4_noBoca_centipedeC_cpg_dense_v3_males', \n",
    "                               desc='Neg_noM4_noBoca_centipedeC_cpg_dense_v3 filtered for males only',\n",
    "                               datasets=new_dsids)\n",
    "print(len(FeatureIO().get_datasets_for_training_class(\"Neg_noM4_noBoca_centipedeC_cpg_dense_v3\")))\n",
    "print(len(FeatureIO().get_datasets_for_training_class(\"Neg_noM4_noBoca_centipedeC_cpg_dense_v3_males\")))"
   ]
  },
  {
   "cell_type": "code",
   "execution_count": 31,
   "id": "2dc485b7-27c0-4149-b59c-a26160617a7d",
   "metadata": {},
   "outputs": [
    {
     "name": "stdout",
     "output_type": "stream",
     "text": [
      "64\n",
      "37\n"
     ]
    }
   ],
   "source": [
    "new_dsids = filter_males(\"colorectal_plasma_healthy_polyp_n\")\n",
    "FeatureIO().create_training_class(training_class_name='colorectal_plasma_healthy_polyp_n_males', \n",
    "                               desc='colorectal_plasma_healthy_polyp_n filtered for males only',\n",
    "                               datasets=new_dsids)\n",
    "print(len(FeatureIO().get_datasets_for_training_class(\"colorectal_plasma_healthy_polyp_n\")))\n",
    "print(len(FeatureIO().get_datasets_for_training_class(\"colorectal_plasma_healthy_polyp_n_males\")))"
   ]
  },
  {
   "cell_type": "code",
   "execution_count": 32,
   "id": "3e8caf28-847e-4679-965c-6616d41b5b04",
   "metadata": {},
   "outputs": [
    {
     "name": "stderr",
     "output_type": "stream",
     "text": [
      "Missed Redis cache for ttl_key TS-212531261, reading from BigQuery instead\n"
     ]
    },
    {
     "name": "stdout",
     "output_type": "stream",
     "text": [
      "31\n",
      "14\n"
     ]
    }
   ],
   "source": [
    "new_dsids = filter_males(\"colorectal_plasma_healthy_polyp_y\")\n",
    "FeatureIO().create_training_class(training_class_name='colorectal_plasma_healthy_polyp_y_males', \n",
    "                               desc='colorectal_plasma_healthy_polyp_y filtered for males only',\n",
    "                               datasets=new_dsids)\n",
    "print(len(FeatureIO().get_datasets_for_training_class(\"colorectal_plasma_healthy_polyp_y\")))\n",
    "print(len(FeatureIO().get_datasets_for_training_class(\"colorectal_plasma_healthy_polyp_y_males\")))"
   ]
  },
  {
   "cell_type": "code",
   "execution_count": 15,
   "id": "356b4159-2eea-4a8b-813d-b5dcbd14f006",
   "metadata": {},
   "outputs": [
    {
     "data": {
      "text/plain": [
       "1940"
      ]
     },
     "execution_count": 15,
     "metadata": {},
     "output_type": "execute_result"
    }
   ],
   "source": [
    "# create a new feature for the PSA data\n",
    "ftio.create_feature(\n",
    "    name=\"PSA_proteins_june_2021_readout\",\n",
    "    version=1,\n",
    "    author='BillieGould',\n",
    "    desc=\"a feature to store all free psa and total psa data available for the june2021 prostate readout\",\n",
    "    shape=(2,),\n",
    "    numpy_dtype=np.dtype('O'),\n",
    "    allowed_assays=[\"targeted-panel\"],\n",
    "    column_metadata=[[{\"name\":\"Free PSA ng/m\"}, {\"name\":\"Total PSA ng/mL\"}]], #column_metadata Tuple[List[dict], ...]\n",
    "    is_production=False\n",
    ")"
   ]
  },
  {
   "cell_type": "code",
   "execution_count": 30,
   "id": "077c4c1e-de5c-4455-bff1-2a9f8e430df0",
   "metadata": {},
   "outputs": [
    {
     "data": {
      "text/plain": [
       "True"
      ]
     },
     "execution_count": 30,
     "metadata": {},
     "output_type": "execute_result"
    }
   ],
   "source": [
    "ftio.update_column_metadata(\"PSA_proteins_june_2021_readout\",1,\n",
    "                           column_metadata=([{\"name\":\"Free PSA ng/m\"}, {\"name\":\"Total PSA ng/mL\"}],)\n",
    "                           )"
   ]
  },
  {
   "cell_type": "code",
   "execution_count": 38,
   "id": "813d4ad4-cdb5-4a2e-b792-e542a2aadfd9",
   "metadata": {},
   "outputs": [
    {
     "name": "stderr",
     "output_type": "stream",
     "text": [
      "Missed Redis cache for 29 datasets with timestamp 2021-06-08 00:00:00, reading from BigQuery instead\n"
     ]
    }
   ],
   "source": [
    "# test the new feature\n",
    "mat = mf.create_from_training_classes([\"boca_samples_prostate_cancer_plasma\"],\n",
    "                                            'PSA_proteins_june_2021_readout/v1',\n",
    "                                            [1]\n",
    "                                          )"
   ]
  },
  {
   "cell_type": "code",
   "execution_count": null,
   "id": "c52de16e-d864-4e25-9e82-b9417c2be7a8",
   "metadata": {},
   "outputs": [],
   "source": [
    "#load the available PSA data\n",
    "# this raw data already stored in GCS bucket \"boca-proteomics-data-upload\"\n",
    "mat_psa = mf.create_from_training_classes([\"boca_samples_healthy_plasma\", \"boca_samples_cancer_plasma\"],\n",
    "                                            'multicancer_protein_june_2021_readout/v3',\n",
    "                                            [0,1])\n",
    "print(mat_psa.shape)\n",
    "print(mat_psa.column_metadata)"
   ]
  },
  {
   "cell_type": "code",
   "execution_count": 23,
   "id": "352bae34-ea45-4027-bb01-d0ba0dcdcbe1",
   "metadata": {},
   "outputs": [
    {
     "name": "stdout",
     "output_type": "stream",
     "text": [
      "7.15\n",
      "7.15\n"
     ]
    }
   ],
   "source": [
    "def standardize_psa(psa_val):\n",
    "    if \"H\" in psa_val:\n",
    "        return float(psa_val[:-2])\n",
    "    else:\n",
    "        return float(psa_val)\n",
    "    \n",
    "res = standardize_psa('7.15')\n",
    "print(res)\n",
    "res = standardize_psa('7.15 H')\n",
    "print(res)"
   ]
  },
  {
   "cell_type": "code",
   "execution_count": 27,
   "id": "241feb16-9fdf-4eb6-981b-2d5a4b5e11f6",
   "metadata": {},
   "outputs": [
    {
     "data": {
      "text/html": [
       "<div>\n",
       "<style scoped>\n",
       "    .dataframe tbody tr th:only-of-type {\n",
       "        vertical-align: middle;\n",
       "    }\n",
       "\n",
       "    .dataframe tbody tr th {\n",
       "        vertical-align: top;\n",
       "    }\n",
       "\n",
       "    .dataframe thead th {\n",
       "        text-align: right;\n",
       "    }\n",
       "</style>\n",
       "<table border=\"1\" class=\"dataframe\">\n",
       "  <thead>\n",
       "    <tr style=\"text-align: right;\">\n",
       "      <th></th>\n",
       "      <th>CA 125 U/mL</th>\n",
       "      <th>CA 125 qual</th>\n",
       "      <th>CA 15-3 U/mL</th>\n",
       "      <th>CA 15-3 qual</th>\n",
       "      <th>CA 19-9 U/mL</th>\n",
       "      <th>CA 19-9 qual</th>\n",
       "      <th>CEA ng/mL</th>\n",
       "      <th>CEA qual</th>\n",
       "      <th>Free PSA ng/mL</th>\n",
       "      <th>Free PSA qual</th>\n",
       "      <th>Total PSA ng/mL</th>\n",
       "      <th>Total PSA qual</th>\n",
       "      <th>std PSA</th>\n",
       "    </tr>\n",
       "  </thead>\n",
       "  <tbody>\n",
       "    <tr>\n",
       "      <th>0</th>\n",
       "      <td>8.48</td>\n",
       "      <td>NaN</td>\n",
       "      <td>7.48</td>\n",
       "      <td>NaN</td>\n",
       "      <td>21.16</td>\n",
       "      <td>NaN</td>\n",
       "      <td>1.76</td>\n",
       "      <td>NaN</td>\n",
       "      <td>0.82</td>\n",
       "      <td>NaN</td>\n",
       "      <td>7.65</td>\n",
       "      <td>H</td>\n",
       "      <td>7.65</td>\n",
       "    </tr>\n",
       "    <tr>\n",
       "      <th>1</th>\n",
       "      <td>9.84</td>\n",
       "      <td>NaN</td>\n",
       "      <td>13.95</td>\n",
       "      <td>NaN</td>\n",
       "      <td>10.65</td>\n",
       "      <td>NaN</td>\n",
       "      <td>2.07</td>\n",
       "      <td>NaN</td>\n",
       "      <td>1.24</td>\n",
       "      <td>H</td>\n",
       "      <td>7.15 H</td>\n",
       "      <td>H</td>\n",
       "      <td>7.15</td>\n",
       "    </tr>\n",
       "    <tr>\n",
       "      <th>2</th>\n",
       "      <td>11.76</td>\n",
       "      <td>NaN</td>\n",
       "      <td>4.36</td>\n",
       "      <td>NaN</td>\n",
       "      <td>3.12</td>\n",
       "      <td>NaN</td>\n",
       "      <td>1.17</td>\n",
       "      <td>NaN</td>\n",
       "      <td>0.903</td>\n",
       "      <td>NaN</td>\n",
       "      <td>5.91</td>\n",
       "      <td>H</td>\n",
       "      <td>5.91</td>\n",
       "    </tr>\n",
       "    <tr>\n",
       "      <th>3</th>\n",
       "      <td>10.63</td>\n",
       "      <td>NaN</td>\n",
       "      <td>7.1</td>\n",
       "      <td>NaN</td>\n",
       "      <td>6.42</td>\n",
       "      <td>NaN</td>\n",
       "      <td>0.907</td>\n",
       "      <td>NaN</td>\n",
       "      <td>2.4</td>\n",
       "      <td>H</td>\n",
       "      <td>11.27</td>\n",
       "      <td>H</td>\n",
       "      <td>11.27</td>\n",
       "    </tr>\n",
       "    <tr>\n",
       "      <th>4</th>\n",
       "      <td>9.16</td>\n",
       "      <td>NaN</td>\n",
       "      <td>17.21</td>\n",
       "      <td>NaN</td>\n",
       "      <td>9.2</td>\n",
       "      <td>NaN</td>\n",
       "      <td>1.09</td>\n",
       "      <td>NaN</td>\n",
       "      <td>0.616</td>\n",
       "      <td>NaN</td>\n",
       "      <td>4.89</td>\n",
       "      <td>H</td>\n",
       "      <td>4.89</td>\n",
       "    </tr>\n",
       "  </tbody>\n",
       "</table>\n",
       "</div>"
      ],
      "text/plain": [
       "  CA 125 U/mL CA 125 qual CA 15-3 U/mL CA 15-3 qual CA 19-9 U/mL CA 19-9 qual  \\\n",
       "0        8.48         NaN         7.48          NaN        21.16          NaN   \n",
       "1        9.84         NaN        13.95          NaN        10.65          NaN   \n",
       "2       11.76         NaN         4.36          NaN         3.12          NaN   \n",
       "3       10.63         NaN          7.1          NaN         6.42          NaN   \n",
       "4        9.16         NaN        17.21          NaN          9.2          NaN   \n",
       "\n",
       "  CEA ng/mL CEA qual Free PSA ng/mL Free PSA qual Total PSA ng/mL  \\\n",
       "0      1.76      NaN           0.82           NaN            7.65   \n",
       "1      2.07      NaN           1.24             H          7.15 H   \n",
       "2      1.17      NaN          0.903           NaN            5.91   \n",
       "3     0.907      NaN            2.4             H           11.27   \n",
       "4      1.09      NaN          0.616           NaN            4.89   \n",
       "\n",
       "  Total PSA qual  std PSA  \n",
       "0              H     7.65  \n",
       "1              H     7.15  \n",
       "2              H     5.91  \n",
       "3              H    11.27  \n",
       "4              H     4.89  "
      ]
     },
     "execution_count": 27,
     "metadata": {},
     "output_type": "execute_result"
    }
   ],
   "source": [
    "df_mat_psa = pd.DataFrame(mat_psa.x, columns=[d[\"name\"] for d in mat_psa.column_metadata])\n",
    "\n",
    "df_mat_psa[\"std PSA\"] = df_mat_psa[\"Total PSA ng/mL\"].apply(lambda x: standardize_psa(x))\n",
    "\n",
    "df_mat_psa.head()"
   ]
  },
  {
   "cell_type": "code",
   "execution_count": 29,
   "id": "16647e42-f4af-42e9-87a8-a53ce957ae94",
   "metadata": {},
   "outputs": [
    {
     "name": "stdout",
     "output_type": "stream",
     "text": [
      "[0.82 7.65]\n",
      "[1.24 7.15]\n",
      "[0.903 5.91]\n",
      "[2.4 11.27]\n",
      "[0.616 4.89]\n",
      "[1.06 8.27]\n",
      "[0.8740000000000001 4.78]\n",
      "[1.04 3.97]\n",
      "[0.8540000000000001 6.85]\n",
      "[0.01 0.007]\n",
      "[0.01 0.007]\n",
      "[0.01 0.007]\n",
      "[0.01 0.007]\n",
      "[1.08 19.83]\n",
      "[0.01 0.007]\n",
      "[0.01 0.007]\n",
      "[1.8 17.76]\n",
      "[0.01 0.007]\n",
      "[0.01 0.007]\n",
      "[0.01 0.007]\n",
      "[0.015 0.205]\n",
      "[0.358 5.59]\n",
      "[1.1 4.61]\n",
      "[0.11699999999999999 2.43]\n",
      "[0.664 3.71]\n",
      "[0.17300000000000001 2.32]\n",
      "[0.8959999999999999 11.13]\n",
      "[0.805 5.07]\n",
      "[0.8909999999999999 6.59]\n",
      "[0.67 3.61]\n",
      "[0.01 0.007]\n",
      "[1.24 8.84]\n",
      "[1.31 9.85]\n",
      "[0.604 2.48]\n",
      "[0.34600000000000003 3.42]\n",
      "[0.287 3.88]\n",
      "[0.01 0.027]\n",
      "[0.525 4.82]\n",
      "[0.01 0.065]\n",
      "[2.54 8.31]\n",
      "[0.01 0.007]\n",
      "[0.01 0.007]\n",
      "[0.01 0.007]\n",
      "[2.89 17.92]\n",
      "[0.01 0.007]\n",
      "[1.93 8.45]\n",
      "[0.754 4.87]\n",
      "[0.01 0.007]\n",
      "[0.01 0.007]\n",
      "[0.01 0.007]\n",
      "[0.01 0.007]\n",
      "[0.01 0.007]\n",
      "[0.01 0.007]\n",
      "[0.01 0.007]\n",
      "[0.01 0.007]\n",
      "[0.01 0.007]\n",
      "[0.01 0.007]\n",
      "[0.01 0.007]\n",
      "[0.012 0.007]\n",
      "[0.01 0.007]\n",
      "[0.01 0.007]\n",
      "[0.01 0.007]\n",
      "[0.01 0.007]\n",
      "[0.01 0.007]\n",
      "[0.01 0.007]\n",
      "[0.01 0.007]\n",
      "[0.01 0.007]\n",
      "[0.01 0.007]\n",
      "[0.01 0.007]\n",
      "[0.01 0.007]\n",
      "[0.01 0.007]\n",
      "[0.01 0.007]\n",
      "[0.01 0.007]\n",
      "[0.01 0.007]\n",
      "[0.01 0.007]\n",
      "[0.01 0.007]\n",
      "[0.01 0.007]\n",
      "[0.012 0.007]\n",
      "[0.01 0.007]\n",
      "[0.011000000000000001 0.007]\n",
      "[0.01 0.007]\n",
      "[0.012 0.007]\n",
      "[0.011000000000000001 0.007]\n",
      "[0.01 0.007]\n",
      "[0.01 0.007]\n",
      "[0.01 0.007]\n",
      "[0.01 0.007]\n",
      "[0.01 0.007]\n",
      "[0.01 0.007]\n",
      "[0.012 0.007]\n",
      "[0.011000000000000001 0.007]\n",
      "[0.011000000000000001 0.007]\n",
      "[0.01 0.007]\n",
      "[0.01 0.045]\n",
      "[0.01 0.007]\n",
      "[0.218 0.365]\n",
      "[0.01 0.007]\n",
      "[0.345 0.804]\n",
      "[0.27699999999999997 0.739]\n",
      "[0.336 0.819]\n",
      "[0.073 0.187]\n",
      "[0.382 0.804]\n",
      "[0.01 0.007]\n",
      "[0.01 0.007]\n",
      "[0.01 0.007]\n",
      "[0.37 0.886]\n",
      "[0.21600000000000003 0.357]\n",
      "[0.01 0.007]\n",
      "[0.368 0.931]\n",
      "[0.35700000000000004 0.847]\n",
      "[0.01 0.007]\n",
      "[0.017 0.007]\n",
      "[0.218 0.486]\n",
      "[0.221 0.368]\n",
      "[0.17300000000000001 0.462]\n",
      "[0.01 0.007]\n",
      "[0.40399999999999997 0.824]\n",
      "[0.22 0.374]\n",
      "[0.01 0.007]\n",
      "[0.01 0.007]\n",
      "[0.354 0.928]\n",
      "[0.35200000000000004 0.837]\n",
      "[0.379 0.954]\n",
      "[0.018000000000000002 0.007]\n",
      "[0.375 0.872]\n",
      "[0.01 0.007]\n",
      "[0.222 1.06]\n",
      "[0.018000000000000002 0.007]\n",
      "[0.371 0.931]\n",
      "[0.373 1.0]\n",
      "[0.01 0.007]\n",
      "[0.019 0.007]\n",
      "[0.267 0.719]\n"
     ]
    },
    {
     "data": {
      "text/plain": [
       "133"
      ]
     },
     "execution_count": 29,
     "metadata": {},
     "output_type": "execute_result"
    }
   ],
   "source": [
    "# create feature vectors under the new feature\n",
    "\n",
    "for dsid, (i, row) in zip(mat_psa.dataset_ids,df_mat_psa.iterrows()):\n",
    "    print(row.values[[8,12]])\n",
    "    ftio.create_feature_vector(\n",
    "        \"PSA_proteins_june_2021_readout\",\n",
    "        1,\n",
    "        dsid,\n",
    "        row.values[[8,12]],\n",
    "        True\n",
    "        )\n",
    "\n",
    "len(ftio.get_datasets_for_feature(\"PSA_proteins_june_2021_readout\", 1))"
   ]
  },
  {
   "cell_type": "code",
   "execution_count": 3,
   "id": "18e8e36d-00e1-41e0-821b-d15920a1a878",
   "metadata": {},
   "outputs": [],
   "source": [
    "# Gleason scores\n",
    "mat = mf.create_from_training_classes([\"boca_samples_prostate_cancer_plasma\"],\n",
    "                                            'PSA_proteins_june_2021_readout/v1',\n",
    "                                            [1]\n",
    "                                          )\n",
    "\n",
    "sid_to_sec_id = dict(zip(mat.sample_ids, [m.raw_sample_metadata[\"lims_sample\"][\"secondary_id\"] for m in mat.sample_metadata]))"
   ]
  },
  {
   "cell_type": "code",
   "execution_count": 4,
   "id": "a6daf8ac-e10d-42e5-b303-6e551e97af95",
   "metadata": {},
   "outputs": [
    {
     "data": {
      "text/html": [
       "<div>\n",
       "<style scoped>\n",
       "    .dataframe tbody tr th:only-of-type {\n",
       "        vertical-align: middle;\n",
       "    }\n",
       "\n",
       "    .dataframe tbody tr th {\n",
       "        vertical-align: top;\n",
       "    }\n",
       "\n",
       "    .dataframe thead th {\n",
       "        text-align: right;\n",
       "    }\n",
       "</style>\n",
       "<table border=\"1\" class=\"dataframe\">\n",
       "  <thead>\n",
       "    <tr style=\"text-align: right;\">\n",
       "      <th></th>\n",
       "      <th>case no</th>\n",
       "      <th>gleason score1</th>\n",
       "      <th>gleason score2</th>\n",
       "      <th>gleason score total</th>\n",
       "    </tr>\n",
       "  </thead>\n",
       "  <tbody>\n",
       "    <tr>\n",
       "      <th>0</th>\n",
       "      <td>1A1820</td>\n",
       "      <td>3</td>\n",
       "      <td>4</td>\n",
       "      <td>7</td>\n",
       "    </tr>\n",
       "    <tr>\n",
       "      <th>1</th>\n",
       "      <td>1A2081</td>\n",
       "      <td>4</td>\n",
       "      <td>3</td>\n",
       "      <td>7</td>\n",
       "    </tr>\n",
       "    <tr>\n",
       "      <th>2</th>\n",
       "      <td>1A2500</td>\n",
       "      <td>4</td>\n",
       "      <td>3</td>\n",
       "      <td>7</td>\n",
       "    </tr>\n",
       "    <tr>\n",
       "      <th>3</th>\n",
       "      <td>1A2518</td>\n",
       "      <td>4</td>\n",
       "      <td>4</td>\n",
       "      <td>8</td>\n",
       "    </tr>\n",
       "    <tr>\n",
       "      <th>4</th>\n",
       "      <td>1D1024</td>\n",
       "      <td>4</td>\n",
       "      <td>3</td>\n",
       "      <td>7</td>\n",
       "    </tr>\n",
       "  </tbody>\n",
       "</table>\n",
       "</div>"
      ],
      "text/plain": [
       "  case no  gleason score1  gleason score2  gleason score total\n",
       "0  1A1820               3               4                    7\n",
       "1  1A2081               4               3                    7\n",
       "2  1A2500               4               3                    7\n",
       "3  1A2518               4               4                    8\n",
       "4  1D1024               4               3                    7"
      ]
     },
     "execution_count": 4,
     "metadata": {},
     "output_type": "execute_result"
    }
   ],
   "source": [
    "\n",
    "\n",
    "df_gleason = pd.read_csv(\"./centipedeC_prostate_gleason_scores - centipede_C_prostate_gleason_scores.csv\",header=0)\n",
    "df_gleason.head()"
   ]
  },
  {
   "cell_type": "code",
   "execution_count": 5,
   "id": "8a60a2e6-c5c5-439e-bcaa-e42e221173fc",
   "metadata": {},
   "outputs": [],
   "source": [
    "sec_id_to_gleason = {}\n",
    "for i,row in df_gleason.iterrows():\n",
    "    sec_id_to_gleason[row[\"case no\"]] = (row[\"gleason score1\"], row[\"gleason score2\"], row[\"gleason score total\"])\n",
    "    "
   ]
  },
  {
   "cell_type": "code",
   "execution_count": 6,
   "id": "6124a097-2c6c-42b1-874f-b227b453cf7f",
   "metadata": {},
   "outputs": [],
   "source": [
    "from pineapple.contrib.loaders.experiment_table_loader import ExperimentTableLoader"
   ]
  },
  {
   "cell_type": "code",
   "execution_count": 7,
   "id": "7c7e1295-57f9-46dd-94cc-6c50a1652ed9",
   "metadata": {},
   "outputs": [
    {
     "name": "stderr",
     "output_type": "stream",
     "text": [
      "EXPERIMENT LOADER: Warning, single_spec = False so the hyperparameter search returns a best spec PER FOLD. Therefore `loader.spec` is only one of the best specs! To retrieve the best spec per fold do the following: `loader.fold('kfold_0').spec.pipeline_yaml`, `loader.fold('kfold_1').spec.pipeline_yaml`, etc.\n"
     ]
    },
    {
     "name": "stdout",
     "output_type": "stream",
     "text": [
      "   sample_id  y_true  score_mean\n",
      "0     103793       1    0.996522\n",
      "1     103818       1    0.822197\n",
      "2     103850       1    0.527521\n",
      "3     104787       1    0.411984\n",
      "4     104813       1    0.356396\n"
     ]
    }
   ],
   "source": [
    "# methyl model scores\n",
    "\n",
    "bucket = \"freenome-user-data-bgould\"\n",
    "path = \"Multi_cancer/Prostate/June2021_readout/cancer-neg_single_mint_all-male_3CV_aux/\"\n",
    "\n",
    "loader_cross_val = ExperimentTableLoader(bucket,path)\n",
    "df_samples = loader_cross_val.sample_score_per_fold_table()\n",
    "df_samples['score_mean'] = df_samples.groupby(['sample_id'])['y_score'].transform(lambda x: np.mean(x))\n",
    "df_samples = df_samples[['sample_id', 'y_true','score_mean']].drop_duplicates()\n",
    "print(df_samples.head())\n",
    "df_cancers = df_samples[df_samples[\"y_true\"]==1]"
   ]
  },
  {
   "cell_type": "code",
   "execution_count": 9,
   "id": "4566983c-184a-45a9-8af2-824350f4370f",
   "metadata": {},
   "outputs": [
    {
     "name": "stdout",
     "output_type": "stream",
     "text": [
      "30\n"
     ]
    }
   ],
   "source": [
    "# how many samples do we have gleason scores for?\n",
    "sec_ids = [sid_to_sec_id[sid] for sid in df_cancers[\"sample_id\"]]\n",
    "print(len([sec_id for sec_id in sec_ids if sec_id in sec_id_to_gleason.keys()]))"
   ]
  },
  {
   "cell_type": "code",
   "execution_count": 13,
   "id": "e5224e52-d084-472a-a5f4-081f1a8695f3",
   "metadata": {},
   "outputs": [
    {
     "data": {
      "text/plain": [
       "Text(0, 0.5, 'mean methyl score')"
      ]
     },
     "execution_count": 13,
     "metadata": {},
     "output_type": "execute_result"
    },
    {
     "data": {
      "image/png": "[encoded data removed]",
      "text/plain": [
       "<Figure size 432x288 with 1 Axes>"
      ]
     },
     "metadata": {
      "needs_background": "light"
     },
     "output_type": "display_data"
    }
   ],
   "source": [
    "\n",
    "methyl_scores = df_cancers[\"score_mean\"]\n",
    "\n",
    "plt.figure()\n",
    "plt.title(\"Methyl Score vs. Gleason 1\")\n",
    "sns.boxplot(x=[sec_id_to_gleason[sec_id][0] for sec_id in sec_ids],\n",
    "              y=methyl_scores)\n",
    "sns.stripplot(x=[sec_id_to_gleason[sec_id][0] for sec_id in sec_ids],\n",
    "              y=methyl_scores, color=\"black\")\n",
    "plt.ylabel(\"mean methyl score\")"
   ]
  },
  {
   "cell_type": "code",
   "execution_count": 14,
   "id": "840ecef7-cdf7-4b04-832e-0ad7d7c1b113",
   "metadata": {},
   "outputs": [
    {
     "data": {
      "text/plain": [
       "Text(0, 0.5, 'mean methyl score')"
      ]
     },
     "execution_count": 14,
     "metadata": {},
     "output_type": "execute_result"
    },
    {
     "data": {
      "image/png": "[encoded data removed]",
      "text/plain": [
       "<Figure size 432x288 with 1 Axes>"
      ]
     },
     "metadata": {
      "needs_background": "light"
     },
     "output_type": "display_data"
    }
   ],
   "source": [
    "plt.figure()\n",
    "plt.title(\"Methyl Score vs. Gleason 2\")\n",
    "sns.boxplot(x=[sec_id_to_gleason[sec_id][1] for sec_id in sec_ids],\n",
    "              y=methyl_scores)\n",
    "sns.stripplot(x=[sec_id_to_gleason[sec_id][1] for sec_id in sec_ids],\n",
    "              y=methyl_scores, color=\"black\")\n",
    "plt.ylabel(\"mean methyl score\")"
   ]
  },
  {
   "cell_type": "code",
   "execution_count": 15,
   "id": "625fc99f-f345-42f4-b07c-6f0a148e9c77",
   "metadata": {},
   "outputs": [
    {
     "data": {
      "text/plain": [
       "Text(0, 0.5, 'mean methyl score')"
      ]
     },
     "execution_count": 15,
     "metadata": {},
     "output_type": "execute_result"
    },
    {
     "data": {
      "image/png": "[encoded data removed]",
      "text/plain": [
       "<Figure size 432x288 with 1 Axes>"
      ]
     },
     "metadata": {
      "needs_background": "light"
     },
     "output_type": "display_data"
    }
   ],
   "source": [
    "plt.figure()\n",
    "plt.title(\"Methyl Score vs. Gleason Total\")\n",
    "sns.boxplot(x=[sec_id_to_gleason[sec_id][2] for sec_id in sec_ids],\n",
    "              y=methyl_scores)\n",
    "sns.stripplot(x=[sec_id_to_gleason[sec_id][2] for sec_id in sec_ids],\n",
    "              y=methyl_scores, color=\"black\")\n",
    "plt.ylabel(\"mean methyl score\")"
   ]
  },
  {
   "cell_type": "markdown",
   "id": "d777404b-ebc0-4f32-8f87-537d37218a7e",
   "metadata": {},
   "source": [
    "## benchmarking PSA data from 2020"
   ]
  },
  {
   "cell_type": "code",
   "execution_count": 2,
   "id": "3a70fe3a-ddad-48ef-a485-0c826d44aa2d",
   "metadata": {},
   "outputs": [
    {
     "data": {
      "text/html": [
       "<div>\n",
       "<style scoped>\n",
       "    .dataframe tbody tr th:only-of-type {\n",
       "        vertical-align: middle;\n",
       "    }\n",
       "\n",
       "    .dataframe tbody tr th {\n",
       "        vertical-align: top;\n",
       "    }\n",
       "\n",
       "    .dataframe thead th {\n",
       "        text-align: right;\n",
       "    }\n",
       "</style>\n",
       "<table border=\"1\" class=\"dataframe\">\n",
       "  <thead>\n",
       "    <tr style=\"text-align: right;\">\n",
       "      <th></th>\n",
       "      <th>sample_id</th>\n",
       "      <th>Secondary ID (Sample)</th>\n",
       "      <th>Cancer Type (Diagnosis)</th>\n",
       "      <th>Pathologic Type (Diagnosis)</th>\n",
       "      <th>assay</th>\n",
       "      <th>in-house</th>\n",
       "      <th>clinical</th>\n",
       "      <th>ca153_125_outlier</th>\n",
       "    </tr>\n",
       "  </thead>\n",
       "  <tbody>\n",
       "    <tr>\n",
       "      <th>0</th>\n",
       "      <td>22155</td>\n",
       "      <td>121230-pre</td>\n",
       "      <td>Colorectal Normal / Healthy</td>\n",
       "      <td>Negative by colonoscopy (no histopathology)</td>\n",
       "      <td>Total PSA (ng/mL)</td>\n",
       "      <td>0.517</td>\n",
       "      <td>1.310</td>\n",
       "      <td>False</td>\n",
       "    </tr>\n",
       "    <tr>\n",
       "      <th>1</th>\n",
       "      <td>23078</td>\n",
       "      <td>112503-post</td>\n",
       "      <td>Colorectal Cancer</td>\n",
       "      <td>Adenocarcinoma</td>\n",
       "      <td>Total PSA (ng/mL)</td>\n",
       "      <td>0.001</td>\n",
       "      <td>0.007</td>\n",
       "      <td>False</td>\n",
       "    </tr>\n",
       "    <tr>\n",
       "      <th>2</th>\n",
       "      <td>20875</td>\n",
       "      <td>115286-pre</td>\n",
       "      <td>Colorectal Normal / Healthy</td>\n",
       "      <td>Negative by colonoscopy (no histopathology)</td>\n",
       "      <td>Total PSA (ng/mL)</td>\n",
       "      <td>0.256</td>\n",
       "      <td>0.742</td>\n",
       "      <td>False</td>\n",
       "    </tr>\n",
       "    <tr>\n",
       "      <th>3</th>\n",
       "      <td>21091</td>\n",
       "      <td>121503-post</td>\n",
       "      <td>Colorectal Cancer</td>\n",
       "      <td>Adenocarcinoma</td>\n",
       "      <td>Total PSA (ng/mL)</td>\n",
       "      <td>0.920</td>\n",
       "      <td>1.920</td>\n",
       "      <td>False</td>\n",
       "    </tr>\n",
       "    <tr>\n",
       "      <th>4</th>\n",
       "      <td>20715</td>\n",
       "      <td>102431-pre</td>\n",
       "      <td>Colorectal Normal / Healthy</td>\n",
       "      <td>Negative by histopathology</td>\n",
       "      <td>Total PSA (ng/mL)</td>\n",
       "      <td>0.796</td>\n",
       "      <td>1.470</td>\n",
       "      <td>False</td>\n",
       "    </tr>\n",
       "  </tbody>\n",
       "</table>\n",
       "</div>"
      ],
      "text/plain": [
       "   sample_id Secondary ID (Sample)      Cancer Type (Diagnosis)  \\\n",
       "0      22155            121230-pre  Colorectal Normal / Healthy   \n",
       "1      23078           112503-post            Colorectal Cancer   \n",
       "2      20875            115286-pre  Colorectal Normal / Healthy   \n",
       "3      21091           121503-post            Colorectal Cancer   \n",
       "4      20715            102431-pre  Colorectal Normal / Healthy   \n",
       "\n",
       "                   Pathologic Type (Diagnosis)              assay  in-house  \\\n",
       "0  Negative by colonoscopy (no histopathology)  Total PSA (ng/mL)     0.517   \n",
       "1                               Adenocarcinoma  Total PSA (ng/mL)     0.001   \n",
       "2  Negative by colonoscopy (no histopathology)  Total PSA (ng/mL)     0.256   \n",
       "3                               Adenocarcinoma  Total PSA (ng/mL)     0.920   \n",
       "4                   Negative by histopathology  Total PSA (ng/mL)     0.796   \n",
       "\n",
       "   clinical  ca153_125_outlier  \n",
       "0     1.310              False  \n",
       "1     0.007              False  \n",
       "2     0.742              False  \n",
       "3     1.920              False  \n",
       "4     1.470              False  "
      ]
     },
     "execution_count": 2,
     "metadata": {},
     "output_type": "execute_result"
    }
   ],
   "source": [
    "df = pd.read_csv(\"./20210324_boca_b1b2.csv\")\n",
    "df.head()"
   ]
  },
  {
   "cell_type": "code",
   "execution_count": 3,
   "id": "bdad5085-4916-47dd-9671-49eaa3b98574",
   "metadata": {},
   "outputs": [
    {
     "data": {
      "text/plain": [
       "(285, 8)"
      ]
     },
     "execution_count": 3,
     "metadata": {},
     "output_type": "execute_result"
    }
   ],
   "source": [
    "df_healthy = df[df[\"Cancer Type (Diagnosis)\"]==\"Colorectal Normal / Healthy\"]\n",
    "df_healthy.shape"
   ]
  },
  {
   "cell_type": "code",
   "execution_count": 4,
   "id": "441a4d1e-1591-4d8b-a9f1-9e16a7ca6eef",
   "metadata": {},
   "outputs": [
    {
     "data": {
      "text/plain": [
       "Counter({'Colorectal Normal / Healthy': 285,\n",
       "         'Colorectal Cancer': 100,\n",
       "         'Colorectal Benign': 100,\n",
       "         'Colorectal Pre-Cancer': 15})"
      ]
     },
     "execution_count": 4,
     "metadata": {},
     "output_type": "execute_result"
    }
   ],
   "source": [
    "from collections import Counter\n",
    "Counter(df[\"Cancer Type (Diagnosis)\"])"
   ]
  },
  {
   "cell_type": "code",
   "execution_count": 17,
   "id": "20eab4ad-f484-4ec0-8151-959e070eb712",
   "metadata": {},
   "outputs": [
    {
     "name": "stderr",
     "output_type": "stream",
     "text": [
      "Missed Redis cache for ttl_key TS-212533628, reading from BigQuery instead\n"
     ]
    }
   ],
   "source": [
    "metas = Calzone.get_sample_metadata_with_ids(df_healthy[\"sample_id\"])\n",
    "ages = [m.raw_sample_metadata['lims_patient']['age'] for m in metas]\n",
    "sexes = [m.raw_sample_metadata['lims_patient']['sex'] for m in metas]"
   ]
  },
  {
   "cell_type": "code",
   "execution_count": 18,
   "id": "28d9f20d-2d9b-46a4-a245-b90b4ab14c18",
   "metadata": {},
   "outputs": [
    {
     "data": {
      "text/plain": [
       "Counter({'Male': 170, 'Female': 115})"
      ]
     },
     "execution_count": 18,
     "metadata": {},
     "output_type": "execute_result"
    }
   ],
   "source": [
    "Counter(sexes)"
   ]
  },
  {
   "cell_type": "code",
   "execution_count": 23,
   "id": "c4c55d9c-09a3-465f-aad0-e818de578b62",
   "metadata": {},
   "outputs": [
    {
     "data": {
      "text/plain": [
       "Text(0.5, 1.0, 'Healthy male patients, 2020 cohort (n=170)')"
      ]
     },
     "execution_count": 23,
     "metadata": {},
     "output_type": "execute_result"
    },
    {
     "data": {
      "image/png": "[encoded data removed]",
      "text/plain": [
       "<Figure size 432x288 with 1 Axes>"
      ]
     },
     "metadata": {
      "needs_background": "light"
     },
     "output_type": "display_data"
    }
   ],
   "source": [
    "filter = [s=='Male' for s in sexes]\n",
    "sns.regplot(x=np.array(ages)[filter], y=df_healthy[filter][\"clinical\"])\n",
    "plt.xlabel(\"Age\", size=16)\n",
    "plt.ylabel(\"Total PSA ng/mL\", size=16)\n",
    "plt.title(\"Healthy male patients, 2020 cohort (n=170)\")"
   ]
  },
  {
   "cell_type": "code",
   "execution_count": 16,
   "id": "ce9b0943-f635-40ed-9637-d0beffaba665",
   "metadata": {},
   "outputs": [
    {
     "data": {
      "text/plain": [
       "CalzoneSampleMetadata(raw_sample_metadata={'lims_sample': {'secondary_id': '121230-pre', 'id': 22155, 'study_type': 'Prospective Clinical Study', 'collection_date': datetime.date(2019, 1, 15), 'collection_time': '14:20:00', 'collection_time_end': '14:23:00', 'age_at_blood_draw': 59, 'blood_draw_relative_to_tx': 'Pre-Colonoscopy', 'notes': None, 'sample_use': 'Standard', 'accession_date': '2019-01-16T01:31:58.917106+00:00', 'validated_by': 'mitch.bailey@freenome.com', 'validated_on': datetime.datetime(2019, 9, 24, 0, 0, tzinfo=<UTC>), 'double_checked_by': None, 'double_checked_on': None, 'phlebotomist_initials': 'DS', 'timing_confidence_level': 'Definite', 'protocol_version': '4.0.0', 'num_tubes_in_freezer': 8, 'num_tubes_known_location': 8, 'num_plasma_tubes_known_location': 8, 'total_volume_remaining_ml': 4.98, 'total_plasma_volume_remaining_ml': 4.98, 'num_tubes_with_process': 29}, 'lims_patient': {'id': 25203, 'secondary_id': '121230', 'sex': 'Male', 'ethnicity_northern_european': False, 'ethnicity_southern_european': False, 'ethnicity_french_canadian_or_cajun': False, 'ethnicity_ashkenazi_jewish': False, 'ethnicity_finnish': False, 'ethnicity_mixed_or_other_caucasian': False, 'ethnicity_african_or_african_american': True, 'ethnicity_east_asian': False, 'ethnicity_south_asian': False, 'ethnicity_southeast_asian': False, 'ethnicity_hispanic': False, 'ethnicity_middle_eastern': False, 'ethnicity_native_american': False, 'ethnicity_pacific_islander': False, 'ethnicity_other': False, 'ethnicity_unknown': False, 'age': 61, 'birth_year': 1960, 'weight_lbs': None, 'height_in': None, 'eligible_for_cohort': None, 'pfs_event': None, 'pfs_length_months': None, 'os_event': None, 'os_length_months': None, 'colonoscopy_report_available': True, 'histopathology_report_available': False, 'reconsent_date': None, 'informed_consent_version': None, 'reconsent_protocol_version': None, 'reason_for_discontinuation': None, 'study_discontinuation_date': None, 'subject_completed_study': None, 'ethnicity': None, 'race': ['Black or African American']}, 'lims_top_diagnosis': {'age_at_diagnosis': 59, 'specific_diagnoses': None, 'evaluation_method': 'Colonoscopy', 'confidence_level': 'Definite', 'tumor_size_mm': None, 'num_adenomas': None, 'lesion_location': None, 'cancer_type': 'Colorectal Normal / Healthy', 'pathologic_type': 'Negative by colonoscopy (no histopathology)', 'pathologic_sub_type': None, 'tmb_value': None, 'tmb_units': None, 'stage': None, 'tnm_t_prefix': None, 'tnm_t': None, 'tnm_t_primary_tumor_count': None, 'tnm_t_suffix': None, 'tnm_t_in_situ': None, 'tnm_t_certainty': None, 'tnm_n_prefix': None, 'tnm_n': None, 'tnm_n_suffix': None, 'tnm_n_certainty': None, 'tnm_m_prefix': None, 'tnm_m': None, 'tnm_m_suffix': None, 'tnm_m_certainty': None, 'tnm_g': None, 'tnm_s': None, 'tnm_r': None, 'tnm_l': None, 'tnm_v': None, 'metastasis_location': None}, 'lims_institution': {'institution_name': 'Health Decisions', 'site_name': 'Digestive & Liver Disease Specialists', 'site_country': 'US', 'site_secondary_id': '121'}, 'derived': {'vigorous_activity_sampling_day': None, 'high_stress_sampling_day': None, 'lesion_location_collapsed': None, 'adenomatous_polyps_detail': None, 'grade': None, 'tnm_t_tumor_extent': None, 'tnm_n_lymph_node_pos': None, 'tnm_m_distant_metastases': None, 'stage_conservative': None, 'age_bin': None, 'ethnicity_simple': None, 'ethnicity': None, 'bmi': None, 'current_snomed_cids': None, 'current_icd_10_codes': None, 'current_mh_categories': None, 'fit_result': None, 'msi_status': None, 'medical_history_detail': None, 'latest_procedure_date': None, 'rxnorm_moas': None}, 'id': 22155, 'timestamp': datetime.datetime(2021, 6, 23, 12, 0, 8, tzinfo=<UTC>), 'json_dump': '{\"timing_confidence_level\": \"Definite\", \"study_type\": \"Prospective Clinical Study\", \"secondary_id\": \"121230-pre\", \"collection_time\": \"14:20:00\", \"institution_id\": 31, \"patient_id\": 25203, \"total_plasma_volume_remaining_ml\": 4.98, \"age_at_blood_draw\": 59, \"validated_on\": \"2019-09-24T00:00:00+00:00\", \"protocol_version\": \"4.0.0\", \"phlebotomist_initials\": \"DS\", \"id\": 22155, \"collection_date\": \"2019-01-15\", \"blood_draw_relative_to_tx\": \"Pre-Colonoscopy\", \"latest_dataset_id\": \"SD-000243B7\", \"num_tubes_known_location\": 8, \"validated_by\": \"mitch.bailey@freenome.com\", \"site_id\": 21, \"num_plasma_tubes_known_location\": 8, \"collection_time_end\": \"14:23:00\", \"lesion_present_at_blood_draw\": \"Not Determined\", \"num_tubes_in_freezer\": 8, \"sample_use\": \"Standard\", \"accession_date\": \"2019-01-16T01:31:58.917106+00:00\", \"num_sample_datasets\": 28, \"num_tubes_with_process\": 29, \"total_volume_remaining_ml\": 4.98, \"patient\": {\"colonoscopy_report_available\": true, \"ethnicity_pacific_islander\": false, \"ethnicity_mixed_or_other_caucasian\": false, \"ethnicity_south_asian\": false, \"ethnicity_middle_eastern\": false, \"age\": 61, \"secondary_id\": \"121230\", \"ethnicity_african_or_african_american\": true, \"birth_year\": 1960, \"ethnicity_northern_european\": false, \"histopathology_report_available\": false, \"cohort\": \"Cohort B\", \"ethnicity_east_asian\": false, \"id\": 25203, \"ethnicity_unknown\": false, \"ethnicity_finnish\": false, \"ethnicity_native_american\": false, \"ethnicity_ashkenazi_jewish\": false, \"gender\": \"Male\", \"ethnicity_french_canadian_or_cajun\": false, \"ethnicity_southeast_asian\": false, \"ethnicity_southern_european\": false, \"ethnicity_other\": false, \"ethnicity_hispanic\": false, \"sex\": \"Male\", \"procedures\": [{\"procedure_date\": \"2019-01-17\", \"id\": 2744, \"patient_id\": 25203, \"procedure_name\": \"Colonoscopy\", \"notes\": \"[(\\'\\', \\'\\', \\'\\', \\'\\')]\"}]}, \"medical_histories\": [{\"ongoing\": \"Yes\", \"start_date\": \"2018-09-01\", \"snomed_cid_inferred\": \"Yes\", \"category\": \"Genitourinary/Reproductive\", \"snomed_cid\": \"367115006\", \"sample_id\": 22155, \"id\": 15688, \"verbatim_term\": \"erectile dysfunction\"}, {\"ongoing\": \"Yes\", \"start_date\": \"2017-01-01\", \"snomed_cid_inferred\": \"Yes\", \"category\": \"Cardiovascular\", \"snomed_cid\": \"38341003\", \"sample_id\": 22155, \"id\": 15689, \"verbatim_term\": \"hypertension\"}], \"institution\": {\"country\": \"US\", \"city\": \"Durham\", \"address_line_1\": \"2510 Meridian Parkway\", \"name\": \"Health Decisions\", \"state\": \"NC\", \"postal_code\": \"27713\", \"id\": 31}, \"diagnoses\": [{\"evaluation_method\": \"Colonoscopy\", \"age_at_diagnosis\": 59, \"cancer_type\": \"Colorectal Normal / Healthy\", \"pathologic_type\": \"Negative by colonoscopy (no histopathology)\", \"confidence_level\": \"Definite\", \"sample_id\": 22155, \"id\": 19626, \"diagnosis_date\": \"2019-01-02T00:00:00+00:00\", \"top_stage\": {}}], \"custom_sample_info\": [{\"template_version\": 1, \"result_schema\": {\"tube_drawing_1\": true, \"tube_drawing_2\": true, \"tube_drawing_3\": true, \"tube_drawing_4\": true, \"tube_drawing_5\": true}, \"creation_date\": \"2019-01-18T11:22:54.193821+00:00\", \"sample_id\": 22155, \"template_name\": \"tube_drawings\", \"id\": 37588}, {\"template_version\": 8, \"result_schema\": {\"sleep_hours_per_night\": 7.0, \"bowel_movements_per_day\": 1, \"active_minutes_per_day\": 240, \"worry_more_than_half_days\": \"No\", \"cirrhosis_history\": \"No\", \"active_days_per_week\": 5.0, \"diverticular_history\": \"No\", \"celiac_history\": \"No\", \"tobacco_use\": \"Never\", \"alcohol_use\": \"Current\", \"alcohol_amount\": 1.0, \"illicit_drug_use\": \"Never\"}, \"creation_date\": \"2019-03-20T19:29:02.514341+00:00\", \"sample_id\": 22155, \"template_name\": \"HDSC\", \"id\": 48264}, {\"template_version\": 2, \"result_schema\": {\"collection_time\": \"14:20\", \"venipuncture_attempts\": 1, \"last_non_water_date\": \"2019-01-15T00:00:00\", \"high_stress_today\": \"No\", \"vigorous_activity_today\": \"Yes\"}, \"creation_date\": \"2019-03-27T23:37:39.546340+00:00\", \"sample_id\": 22155, \"template_name\": \"hd_sampling\", \"id\": 52003}, {\"template_version\": 1, \"result_schema\": {\"subj_hist_cirrhosis\": \"No\", \"subj_hist_celiac\": \"No\", \"subj_hist_experi_enroll\": \"No\", \"subj_hist_experi_detail\": \"\", \"subj_hist_diverticular\": \"No\", \"subj_hist_week_days_active\": \"5 Days\", \"subj_hist_day_mins_active\": 240, \"subj_hist_night_hours_sleep\": 7, \"subj_hist_worry\": \"No\", \"subj_hist_day_bms\": 1, \"subst_use_tobacco\": \"Never\", \"subst_use_tobacco_amount\": \"\", \"subst_use_tobacco_years\": \"\", \"subst_use_alcohol\": \"Current\", \"subst_use_alcohol_amount\": \"1\", \"subst_use_illicit_drug\": \"Never\", \"subst_use_illicit_drug_amount\": \"\", \"colnosc_eval_full\": \"Good\", \"colnosc_eval_left\": \"Good\", \"colnosc_eval_trans\": \"Good\", \"colnosc_eval_right\": \"Good\", \"colnosc_elapsed_time\": 15, \"colnosc_histol_alter\": \"No\"}, \"creation_date\": \"2020-02-06T23:45:13.048039+00:00\", \"sample_id\": 22155, \"template_name\": \"HD_Singular_Confounders\", \"id\": 124820}, {\"template_version\": 2, \"result_schema\": {\"DVYNF\": \"No\"}, \"creation_date\": \"2020-02-07T07:56:20.078510+00:00\", \"sample_id\": 22155, \"template_name\": \"HDDV\", \"id\": 176388}, {\"template_version\": 8, \"result_schema\": {\"med_taken\": \"Yes\", \"med_id\": 6, \"med_term\": \"viagra\", \"med_indication\": \"erectile dysfunction\", \"med_dose\": 100.0, \"med_unit\": \"mg\", \"med_freq\": \"as directed, as needed\", \"med_route\": \"oral\", \"med_start\": \"2018-09-15\", \"med_ongoing\": \"Yes\"}, \"creation_date\": \"2020-02-13T22:43:10.198426+00:00\", \"sample_id\": 22155, \"template_name\": \"CONMEDS\", \"id\": 198613}, {\"template_version\": 8, \"result_schema\": {\"med_taken\": \"Yes\", \"med_id\": 1, \"med_term\": \"amlodipine\", \"med_indication\": \"hypertension\", \"med_dose\": 5.0, \"med_unit\": \"mg\", \"med_freq\": \"daily\", \"med_route\": \"oral\", \"med_start\": \"2018-09-15\", \"med_ongoing\": \"Yes\"}, \"creation_date\": \"2020-02-13T22:43:10.448796+00:00\", \"sample_id\": 22155, \"template_name\": \"CONMEDS\", \"id\": 198615}, {\"template_version\": 8, \"result_schema\": {\"med_taken\": \"Yes\", \"med_id\": 5, \"med_term\": \"aspirin\", \"med_indication\": \"cardiac health\", \"med_dose\": 81.0, \"med_unit\": \"mg\", \"med_freq\": \"daily\", \"med_route\": \"oral\", \"med_start\": \"2015-07-15\", \"med_ongoing\": \"Yes\"}, \"creation_date\": \"2020-02-13T22:43:10.688911+00:00\", \"sample_id\": 22155, \"template_name\": \"CONMEDS\", \"id\": 198617}, {\"template_version\": 8, \"result_schema\": {\"med_taken\": \"Yes\", \"med_id\": 4, \"med_term\": \"fish oil\", \"med_indication\": \"supplement\", \"med_dose\": 500.0, \"med_unit\": \"mg\", \"med_freq\": \"daily\", \"med_route\": \"oral\", \"med_start\": \"2015-07-15\", \"med_ongoing\": \"Yes\"}, \"creation_date\": \"2020-02-13T22:43:10.931230+00:00\", \"sample_id\": 22155, \"template_name\": \"CONMEDS\", \"id\": 198619}, {\"template_version\": 8, \"result_schema\": {\"med_taken\": \"Yes\", \"med_id\": 3, \"med_term\": \"multivitamin\", \"med_indication\": \"supplement\", \"med_dose\": 1.0, \"med_unit\": \"tablet\", \"med_freq\": \"daily\", \"med_route\": \"oral\", \"med_start\": \"2015-07-15\", \"med_ongoing\": \"Yes\"}, \"creation_date\": \"2020-02-13T22:43:11.176483+00:00\", \"sample_id\": 22155, \"template_name\": \"CONMEDS\", \"id\": 198621}, {\"template_version\": 8, \"result_schema\": {\"med_taken\": \"Yes\", \"med_id\": 2, \"med_term\": \"HCTZ\", \"med_indication\": \"hypertension\", \"med_dose\": 25.0, \"med_unit\": \"mg\", \"med_freq\": \"daily\", \"med_route\": \"oral\", \"med_start\": \"2018-09-15\", \"med_ongoing\": \"Yes\"}, \"creation_date\": \"2020-02-13T22:43:11.439759+00:00\", \"sample_id\": 22155, \"template_name\": \"CONMEDS\", \"id\": 198623}, {\"template_version\": 3, \"result_schema\": {\"last_eaten_time\": \"12:00\", \"last_eaten_date\": \"2019-01-15\", \"last_non_water_time\": \"12:00\", \"last_non_water_date\": \"2019-01-15\", \"vigorous_activity_today\": \"Yes\", \"high_stress_today\": \"No\", \"venipuncture_attempts\": 1}, \"creation_date\": \"2020-02-19T07:45:35.242971+00:00\", \"sample_id\": 22155, \"template_name\": \"hd_sampling\", \"id\": 208508}, {\"template_version\": 4, \"result_schema\": {\"MHSPID\": 2, \"MHCATF\": \"Genitourinary/Reproductive\", \"MHTERM\": \"erectile dysfunction\", \"MHSTDAT\": \"2018-09-15\", \"MHONGOF\": \"Yes\", \"MHYNF\": \"Yes\"}, \"creation_date\": \"2020-02-19T18:56:31.144031+00:00\", \"sample_id\": 22155, \"template_name\": \"HDMH\", \"id\": 256645}, {\"template_version\": 4, \"result_schema\": {\"MHSPID\": 1, \"MHCATF\": \"Cardiovascular\", \"MHTERM\": \"hypertension\", \"MHSTDAT\": \"2017-07-15\", \"MHONGOF\": \"Yes\", \"MHYNF\": \"Yes\"}, \"creation_date\": \"2020-02-19T18:56:31.386402+00:00\", \"sample_id\": 22155, \"template_name\": \"HDMH\", \"id\": 256647}], \"projects\": [{\"name\": \"HD FRE-001\", \"principal_investigator_id\": 84, \"id\": 76}], \"site\": {\"country\": \"US\", \"secondary_id\": 121, \"institution_id\": 31, \"name\": \"Digestive & Liver Disease Specialists\", \"postal_code\": \"23502\", \"id\": 21}}', 'lims_adenomatous_polyps_detail': [], 'lims_crc_builtin': {'at_least_two_crc_relatives': None, 'barium_enema_tomographic_colonography_or_sigmoidoscopy': None, 'collected_7_days_to_6_months_post_colonoscopy': None, 'cologuard_tested': None, 'colonoscopy_previous_9_years': None, 'colorectal_resection': None, 'cowdens_syndrome_history': None, 'cronkhite_canada_syndrome_history': None, 'curative_biopsy_during_colonoscopy': None, 'cystic_fibrosis_history': None, 'date_of_colonoscopy': None, 'familial_adenomatous_polyposis_history': None, 'familial_hyperplastic_polyposis_history': None, 'gardners_syndrome_history': None, 'heriditary_non_polyposis_crc_syndrome_history': None, 'inflammatory_bowel_disease': None, 'juvenile_polyposis_history': None, 'li_fraumeni_syndrome_history': None, 'myh_associated_polyposis_history': None, 'neoadjuvant_treatment': None, 'neurofibromatosis_history': None, 'one_crc_relative_before_60': None, 'overt_rectal_bleeding': None, 'personal_history_various_crc_history': None, 'peutz_jeghers_history': None, 'positive_epi_procolon': None, 'positive_fit': None, 'positive_fobt': None, 'sample_collection_before_bowel_preparation': None, 'sample_prebowelprep_presurgery': None, 'screening_colonoscopy_within_90_days': None, 'tumor_msi_status': None, 'tumor_msi_status_method': None, 'turcots_syndrome_history': None}, 'lims_msi': {'tumor_msi_status': None, 'tumor_msi_status_method': None}, 'lims_fit_test': {'fit_result': None, 'fit_test_date': None}, 'lims_rx_norm': [{'med_ongoing': 'Yes', 'med_start': '2018-09-15', 'med_term': 'viagra', 'rxnorm_moas': None}, {'med_ongoing': 'Yes', 'med_start': '2018-09-15', 'med_term': 'amlodipine', 'rxnorm_moas': None}, {'med_ongoing': 'Yes', 'med_start': '2015-07-15', 'med_term': 'aspirin', 'rxnorm_moas': None}, {'med_ongoing': 'Yes', 'med_start': '2015-07-15', 'med_term': 'fish oil', 'rxnorm_moas': None}, {'med_ongoing': 'Yes', 'med_start': '2015-07-15', 'med_term': 'multivitamin', 'rxnorm_moas': None}, {'med_ongoing': 'Yes', 'med_start': '2018-09-15', 'med_term': 'HCTZ', 'rxnorm_moas': None}], 'lims_concurrent_cancer': [], 'lims_hd_singular_confounders': {'colnosc_elapsed_time': 15, 'colnosc_eval_full': 'Good', 'colnosc_eval_left': 'Good', 'colnosc_eval_right': 'Good', 'colnosc_eval_trans': 'Good', 'colnosc_histol_alter': 'No', 'colnosc_total_lesions': None, 'fit_result': None, 'histol_pathog_init': None, 'subj_hist_celiac': 'No', 'subj_hist_cirrhosis': 'No', 'subj_hist_day_bms': 1, 'subj_hist_day_mins_active': 240, 'subj_hist_diverticular': 'No', 'subj_hist_experi_detail': '', 'subj_hist_experi_enroll': 'No', 'subj_hist_night_hours_sleep': 7, 'subj_hist_week_days_active': '5 Days', 'subj_hist_worry': 'No', 'subst_use_alcohol': 'Current', 'subst_use_alcohol_amount': '1', 'subst_use_alcohol_quit_date': None, 'subst_use_illicit_drug': 'Never', 'subst_use_illicit_drug_amount': '', 'subst_use_illicit_drug_quit_date': None, 'subst_use_tobacco': 'Never', 'subst_use_tobacco_amount': '', 'subst_use_tobacco_quit_date': None, 'subst_use_tobacco_years': '', 'colnosc_histol_alter_bool': False, 'subj_hist_celiac_bool': False, 'subj_hist_cirrhosis_bool': False, 'subj_hist_diverticular_bool': False, 'subj_hist_experi_enroll_bool': False, 'subj_hist_worry_bool': False, 'subst_use_alcohol_quit_year': None, 'subst_use_illicit_drug_quit_year': None, 'subst_use_tobacco_quit_year': None}, 'lims_hd_colonoscopy_findings': None, 'lims_hd_adenomatous_polyps': [], 'lims_hd_blood_sampling': [{'high_stress_today': False, 'last_eaten_date': datetime.date(2019, 1, 15), 'last_eaten_time': '12:00', 'last_non_water_date': datetime.date(2019, 1, 15), 'last_non_water_time': '12:00', 'venipuncture_attempts': 1, 'vigorous_activity_today': True}], 'lims_hd_colonoscopy_findings_v2': [], 'lims_hd_colorectal_cancer': [], 'lims_hd_hyperplastic_polyps': [], 'lims_hd_medical_history': [{'category': 'Genitourinary/Reproductive', 'condition_term': 'erectile dysfunction', 'end_date': None, 'is_ongoing': True, 'medical_id': 2, 'start_date': 2018}, {'category': 'Cardiovascular', 'condition_term': 'hypertension', 'end_date': None, 'is_ongoing': True, 'medical_id': 1, 'start_date': 2017}], 'lims_hd_protocol_deviation': [{'deviation_occurred': False}], 'comorbidities': {'code': None, 'code_system': None, 'preferred_term': None}, 'concomitant_medications': [{'dose_amount': 100.0, 'dose_amount_str': None, 'dose_unit': 'mg', 'end_date': None, 'frequency': 'as directed, as needed', 'indication': 'erectile dysfunction', 'is_ongoing': True, 'medication_id': 6, 'medication_taken': True, 'route': 'oral', 'start_date': 2018, 'term': 'viagra'}, {'dose_amount': 5.0, 'dose_amount_str': None, 'dose_unit': 'mg', 'end_date': None, 'frequency': 'daily', 'indication': 'hypertension', 'is_ongoing': True, 'medication_id': 1, 'medication_taken': True, 'route': 'oral', 'start_date': 2018, 'term': 'amlodipine'}, {'dose_amount': 81.0, 'dose_amount_str': None, 'dose_unit': 'mg', 'end_date': None, 'frequency': 'daily', 'indication': 'cardiac health', 'is_ongoing': True, 'medication_id': 5, 'medication_taken': True, 'route': 'oral', 'start_date': 2015, 'term': 'aspirin'}, {'dose_amount': 500.0, 'dose_amount_str': None, 'dose_unit': 'mg', 'end_date': None, 'frequency': 'daily', 'indication': 'supplement', 'is_ongoing': True, 'medication_id': 4, 'medication_taken': True, 'route': 'oral', 'start_date': 2015, 'term': 'fish oil'}, {'dose_amount': 1.0, 'dose_amount_str': None, 'dose_unit': 'tablet', 'end_date': None, 'frequency': 'daily', 'indication': 'supplement', 'is_ongoing': True, 'medication_id': 3, 'medication_taken': True, 'route': 'oral', 'start_date': 2015, 'term': 'multivitamin'}, {'dose_amount': 25.0, 'dose_amount_str': None, 'dose_unit': 'mg', 'end_date': None, 'frequency': 'daily', 'indication': 'hypertension', 'is_ongoing': True, 'medication_id': 2, 'medication_taken': True, 'route': 'oral', 'start_date': 2018, 'term': 'HCTZ'}]}, raw_tubes_metadata=[{'container_name': 'DC2_BG1_PB3_RNA_Box02', 'container_slot_col': 7, 'container_slot_row': '1', 'failure_reason': None, 'freeze_thaw_cycles': 2, 'freezer_name': 'Freezer 2', 'freezer_tray': '20E', 'id': 259623, 'in_freezer': True, 'isolation_location': 'Freenome', 'lims_barcode': 'R00259623', 'notes': None, 'sample_id': 22155, 'sample_type': 'Plasma', 'secondary_id': 'DC2_121230-pre-1F2_Q_3', 'tray_slot': 5, 'tube_type': 'Biomatrica LBgard Blood Tube', 'volume_in_microliters': 100, 'timestamp': datetime.datetime(2021, 6, 23, 14, 31, 22, tzinfo=<UTC>), 'date_received': datetime.datetime(2020, 3, 17, 0, 0, tzinfo=<UTC>), 'hemolysis_level': None, 'incorrect_shipping': None}, {'container_name': 'DC2_BG1_PB03_Box02_Qiagen', 'container_slot_col': 2, 'container_slot_row': '6', 'failure_reason': None, 'freeze_thaw_cycles': 2, 'freezer_name': 'Freezer 1', 'freezer_tray': '18B', 'id': 233171, 'in_freezer': True, 'isolation_location': None, 'lims_barcode': 'R00233171', 'notes': 'DC2 BG1 LV Aliquot', 'sample_id': 22155, 'sample_type': 'Plasma', 'secondary_id': 'DC2_121230-pre-1F2_Qiagen', 'tray_slot': 1, 'tube_type': 'Biomatrica LBgard Blood Tube', 'volume_in_microliters': 80, 'timestamp': datetime.datetime(2021, 6, 23, 14, 31, 22, tzinfo=<UTC>), 'date_received': datetime.datetime(2019, 8, 20, 3, 49, 41, tzinfo=<UTC>), 'hemolysis_level': None, 'incorrect_shipping': None}, {'container_name': None, 'container_slot_col': None, 'container_slot_row': None, 'failure_reason': None, 'freeze_thaw_cycles': None, 'freezer_name': None, 'freezer_tray': None, 'id': 155060, 'in_freezer': False, 'isolation_location': 'Freenome', 'lims_barcode': 'R00155060', 'notes': None, 'sample_id': 22155, 'sample_type': 'Plasma', 'secondary_id': '121230-pre-1W1', 'tray_slot': None, 'tube_type': 'Biomatrica LBgard Blood Tube', 'volume_in_microliters': 3600, 'timestamp': datetime.datetime(2021, 6, 23, 14, 31, 22, tzinfo=<UTC>), 'date_received': datetime.datetime(2019, 1, 17, 17, 49, 54, tzinfo=<UTC>), 'hemolysis_level': 'None', 'incorrect_shipping': None}, {'container_name': None, 'container_slot_col': None, 'container_slot_row': None, 'failure_reason': None, 'freeze_thaw_cycles': 1, 'freezer_name': None, 'freezer_tray': None, 'id': 233170, 'in_freezer': False, 'isolation_location': None, 'lims_barcode': 'R00233170', 'notes': 'DC2 BG1 LV Aliquot', 'sample_id': 22155, 'sample_type': 'Plasma', 'secondary_id': 'DC2_121230-pre-1F2_Biognosys', 'tray_slot': None, 'tube_type': 'Biomatrica LBgard Blood Tube', 'volume_in_microliters': 100, 'timestamp': datetime.datetime(2021, 6, 23, 14, 31, 22, tzinfo=<UTC>), 'date_received': datetime.datetime(2019, 8, 20, 3, 49, 41, tzinfo=<UTC>), 'hemolysis_level': None, 'incorrect_shipping': None}, {'container_name': None, 'container_slot_col': None, 'container_slot_row': None, 'failure_reason': None, 'freeze_thaw_cycles': None, 'freezer_name': None, 'freezer_tray': None, 'id': 155067, 'in_freezer': False, 'isolation_location': 'Freenome', 'lims_barcode': 'R00155067', 'notes': None, 'sample_id': 22155, 'sample_type': 'Plasma', 'secondary_id': '121230-pre-4W2', 'tray_slot': None, 'tube_type': 'Biomatrica LBgard Blood Tube', 'volume_in_microliters': 3100, 'timestamp': datetime.datetime(2021, 6, 23, 14, 31, 22, tzinfo=<UTC>), 'date_received': datetime.datetime(2019, 1, 17, 17, 49, 55, tzinfo=<UTC>), 'hemolysis_level': None, 'incorrect_shipping': None}, {'container_name': None, 'container_slot_col': None, 'container_slot_row': None, 'failure_reason': None, 'freeze_thaw_cycles': 0, 'freezer_name': None, 'freezer_tray': None, 'id': 155114, 'in_freezer': False, 'isolation_location': 'Freenome', 'lims_barcode': 'R00155114', 'notes': None, 'sample_id': 22155, 'sample_type': 'Plasma', 'secondary_id': '121230-pre-2F2', 'tray_slot': None, 'tube_type': 'Biomatrica LBgard Blood Tube', 'volume_in_microliters': 600, 'timestamp': datetime.datetime(2021, 6, 23, 14, 31, 22, tzinfo=<UTC>), 'date_received': datetime.datetime(2019, 1, 17, 17, 49, 56, tzinfo=<UTC>), 'hemolysis_level': None, 'incorrect_shipping': None}, {'container_name': 'DC2_BG1_PB06_Box01_CDI', 'container_slot_col': 6, 'container_slot_row': '2', 'failure_reason': None, 'freeze_thaw_cycles': 1, 'freezer_name': None, 'freezer_tray': None, 'id': 233169, 'in_freezer': False, 'isolation_location': None, 'lims_barcode': 'R00233169', 'notes': 'DC2 BG1 LV Aliquot', 'sample_id': 22155, 'sample_type': 'Plasma', 'secondary_id': 'DC2_121230-pre-1F2_CDI', 'tray_slot': None, 'tube_type': 'Biomatrica LBgard Blood Tube', 'volume_in_microliters': 50, 'timestamp': datetime.datetime(2021, 6, 23, 14, 31, 22, tzinfo=<UTC>), 'date_received': datetime.datetime(2019, 8, 20, 3, 49, 40, tzinfo=<UTC>), 'hemolysis_level': None, 'incorrect_shipping': None}, {'container_name': None, 'container_slot_col': None, 'container_slot_row': None, 'failure_reason': None, 'freeze_thaw_cycles': 0, 'freezer_name': None, 'freezer_tray': None, 'id': 155113, 'in_freezer': False, 'isolation_location': 'Freenome', 'lims_barcode': 'R00155113', 'notes': None, 'sample_id': 22155, 'sample_type': 'Plasma', 'secondary_id': '121230-pre-2F1', 'tray_slot': None, 'tube_type': 'Biomatrica LBgard Blood Tube', 'volume_in_microliters': 600, 'timestamp': datetime.datetime(2021, 6, 23, 14, 31, 22, tzinfo=<UTC>), 'date_received': datetime.datetime(2019, 1, 17, 17, 49, 55, tzinfo=<UTC>), 'hemolysis_level': None, 'incorrect_shipping': None}, {'container_name': 'PlasmaSep Box 173', 'container_slot_col': 6, 'container_slot_row': '8', 'failure_reason': None, 'freeze_thaw_cycles': 0, 'freezer_name': 'Freezer 4', 'freezer_tray': '5B', 'id': 155116, 'in_freezer': True, 'isolation_location': 'Freenome', 'lims_barcode': 'R00155116', 'notes': None, 'sample_id': 22155, 'sample_type': 'Plasma', 'secondary_id': '121230-pre-2F4', 'tray_slot': 5, 'tube_type': 'Biomatrica LBgard Blood Tube', 'volume_in_microliters': 600, 'timestamp': datetime.datetime(2021, 6, 23, 14, 31, 22, tzinfo=<UTC>), 'date_received': datetime.datetime(2019, 1, 17, 17, 49, 56, tzinfo=<UTC>), 'hemolysis_level': None, 'incorrect_shipping': None}, {'container_name': 'PlasmaSep Box 173', 'container_slot_col': 7, 'container_slot_row': '8', 'failure_reason': None, 'freeze_thaw_cycles': 0, 'freezer_name': 'Freezer 4', 'freezer_tray': '5B', 'id': 155117, 'in_freezer': True, 'isolation_location': 'Freenome', 'lims_barcode': 'R00155117', 'notes': None, 'sample_id': 22155, 'sample_type': 'Plasma', 'secondary_id': '121230-pre-2F5', 'tray_slot': 5, 'tube_type': 'Biomatrica LBgard Blood Tube', 'volume_in_microliters': 250, 'timestamp': datetime.datetime(2021, 6, 23, 14, 31, 22, tzinfo=<UTC>), 'date_received': datetime.datetime(2019, 1, 17, 17, 49, 56, tzinfo=<UTC>), 'hemolysis_level': None, 'incorrect_shipping': None}, {'container_name': None, 'container_slot_col': None, 'container_slot_row': None, 'failure_reason': None, 'freeze_thaw_cycles': 1, 'freezer_name': None, 'freezer_tray': None, 'id': 333564, 'in_freezer': False, 'isolation_location': 'Freenome', 'lims_barcode': 'R00333564', 'notes': None, 'sample_id': 22155, 'sample_type': 'Plasma', 'secondary_id': 'Ordinatrix_DC2_121230-pre-1F6_10ul_2', 'tray_slot': None, 'tube_type': 'Biomatrica LBgard Blood Tube', 'volume_in_microliters': 10, 'timestamp': datetime.datetime(2021, 6, 23, 14, 31, 22, tzinfo=<UTC>), 'date_received': datetime.datetime(2020, 11, 17, 1, 45, 38, tzinfo=<UTC>), 'hemolysis_level': None, 'incorrect_shipping': None}, {'container_name': None, 'container_slot_col': None, 'container_slot_row': None, 'failure_reason': None, 'freeze_thaw_cycles': 0, 'freezer_name': None, 'freezer_tray': None, 'id': 155118, 'in_freezer': False, 'isolation_location': 'Freenome', 'lims_barcode': 'R00155118', 'notes': None, 'sample_id': 22155, 'sample_type': 'Plasma', 'secondary_id': '121230-pre-3F1', 'tray_slot': None, 'tube_type': 'Biomatrica LBgard Blood Tube', 'volume_in_microliters': 3100, 'timestamp': datetime.datetime(2021, 6, 23, 14, 31, 22, tzinfo=<UTC>), 'date_received': datetime.datetime(2019, 1, 17, 17, 49, 56, tzinfo=<UTC>), 'hemolysis_level': None, 'incorrect_shipping': None}, {'container_name': None, 'container_slot_col': None, 'container_slot_row': None, 'failure_reason': None, 'freeze_thaw_cycles': None, 'freezer_name': None, 'freezer_tray': None, 'id': 155029, 'in_freezer': False, 'isolation_location': 'Freenome', 'lims_barcode': 'R00155029', 'notes': None, 'sample_id': 22155, 'sample_type': 'Whole Blood', 'secondary_id': '121230-pre-3', 'tray_slot': None, 'tube_type': 'Biomatrica LBgard Blood Tube', 'volume_in_microliters': 7000, 'timestamp': datetime.datetime(2021, 6, 23, 14, 31, 22, tzinfo=<UTC>), 'date_received': datetime.datetime(2019, 1, 17, 17, 49, 36, tzinfo=<UTC>), 'hemolysis_level': 'None', 'incorrect_shipping': None}, {'container_name': None, 'container_slot_col': None, 'container_slot_row': None, 'failure_reason': None, 'freeze_thaw_cycles': 1, 'freezer_name': None, 'freezer_tray': None, 'id': 233168, 'in_freezer': False, 'isolation_location': None, 'lims_barcode': 'R00233168', 'notes': 'DC2 BG1 LV Aliquot', 'sample_id': 22155, 'sample_type': 'Plasma', 'secondary_id': 'DC2_121230-pre-1F2_Olink', 'tray_slot': None, 'tube_type': 'Biomatrica LBgard Blood Tube', 'volume_in_microliters': 50, 'timestamp': datetime.datetime(2021, 6, 23, 14, 31, 22, tzinfo=<UTC>), 'date_received': datetime.datetime(2019, 8, 20, 3, 49, 40, tzinfo=<UTC>), 'hemolysis_level': None, 'incorrect_shipping': None}, {'container_name': None, 'container_slot_col': None, 'container_slot_row': None, 'failure_reason': None, 'freeze_thaw_cycles': 0, 'freezer_name': None, 'freezer_tray': None, 'id': 155111, 'in_freezer': False, 'isolation_location': 'Freenome', 'lims_barcode': 'R00155111', 'notes': None, 'sample_id': 22155, 'sample_type': 'Plasma', 'secondary_id': '121230-pre-1F4', 'tray_slot': None, 'tube_type': 'Biomatrica LBgard Blood Tube', 'volume_in_microliters': 500, 'timestamp': datetime.datetime(2021, 6, 23, 14, 31, 22, tzinfo=<UTC>), 'date_received': datetime.datetime(2019, 1, 17, 17, 49, 55, tzinfo=<UTC>), 'hemolysis_level': None, 'incorrect_shipping': None}, {'container_name': None, 'container_slot_col': None, 'container_slot_row': None, 'failure_reason': None, 'freeze_thaw_cycles': None, 'freezer_name': None, 'freezer_tray': None, 'id': 155065, 'in_freezer': False, 'isolation_location': 'Freenome', 'lims_barcode': 'R00155065', 'notes': None, 'sample_id': 22155, 'sample_type': 'Plasma', 'secondary_id': '121230-pre-3W2', 'tray_slot': None, 'tube_type': 'Biomatrica LBgard Blood Tube', 'volume_in_microliters': 3100, 'timestamp': datetime.datetime(2021, 6, 23, 14, 31, 22, tzinfo=<UTC>), 'date_received': datetime.datetime(2019, 1, 17, 17, 49, 55, tzinfo=<UTC>), 'hemolysis_level': None, 'incorrect_shipping': None}, {'container_name': None, 'container_slot_col': None, 'container_slot_row': None, 'failure_reason': None, 'freeze_thaw_cycles': 0, 'freezer_name': None, 'freezer_tray': None, 'id': 155110, 'in_freezer': False, 'isolation_location': 'Freenome', 'lims_barcode': 'R00155110', 'notes': None, 'sample_id': 22155, 'sample_type': 'Plasma', 'secondary_id': '121230-pre-1F3', 'tray_slot': None, 'tube_type': 'Biomatrica LBgard Blood Tube', 'volume_in_microliters': 500, 'timestamp': datetime.datetime(2021, 6, 23, 14, 31, 22, tzinfo=<UTC>), 'date_received': datetime.datetime(2019, 1, 17, 17, 49, 55, tzinfo=<UTC>), 'hemolysis_level': None, 'incorrect_shipping': None}, {'container_name': None, 'container_slot_col': None, 'container_slot_row': None, 'failure_reason': None, 'freeze_thaw_cycles': 1, 'freezer_name': None, 'freezer_tray': None, 'id': 238623, 'in_freezer': False, 'isolation_location': None, 'lims_barcode': 'R00238623', 'notes': 'Parent tubes: 121230-pre-2F1, 121230-pre-2F2, 121230-pre-3F1', 'sample_id': 22155, 'sample_type': 'Plasma', 'secondary_id': '121230-pre_TEM', 'tray_slot': None, 'tube_type': None, 'volume_in_microliters': 4000, 'timestamp': datetime.datetime(2021, 6, 23, 14, 31, 22, tzinfo=<UTC>), 'date_received': datetime.datetime(2019, 9, 20, 23, 43, 23, tzinfo=<UTC>), 'hemolysis_level': None, 'incorrect_shipping': None}, {'container_name': None, 'container_slot_col': None, 'container_slot_row': None, 'failure_reason': None, 'freeze_thaw_cycles': None, 'freezer_name': None, 'freezer_tray': None, 'id': 155027, 'in_freezer': False, 'isolation_location': 'Freenome', 'lims_barcode': 'R00155027', 'notes': None, 'sample_id': 22155, 'sample_type': 'Whole Blood', 'secondary_id': '121230-pre-1', 'tray_slot': None, 'tube_type': 'Biomatrica LBgard Blood Tube', 'volume_in_microliters': 8000, 'timestamp': datetime.datetime(2021, 6, 23, 14, 31, 22, tzinfo=<UTC>), 'date_received': datetime.datetime(2019, 1, 17, 17, 49, 36, tzinfo=<UTC>), 'hemolysis_level': 'None', 'incorrect_shipping': None}, {'container_name': None, 'container_slot_col': None, 'container_slot_row': None, 'failure_reason': None, 'freeze_thaw_cycles': None, 'freezer_name': None, 'freezer_tray': None, 'id': 155062, 'in_freezer': False, 'isolation_location': 'Freenome', 'lims_barcode': 'R00155062', 'notes': None, 'sample_id': 22155, 'sample_type': 'Plasma', 'secondary_id': '121230-pre-2W1', 'tray_slot': None, 'tube_type': 'Biomatrica LBgard Blood Tube', 'volume_in_microliters': 3200, 'timestamp': datetime.datetime(2021, 6, 23, 14, 31, 22, tzinfo=<UTC>), 'date_received': datetime.datetime(2019, 1, 17, 17, 49, 54, tzinfo=<UTC>), 'hemolysis_level': 'None', 'incorrect_shipping': None}, {'container_name': None, 'container_slot_col': None, 'container_slot_row': None, 'failure_reason': None, 'freeze_thaw_cycles': None, 'freezer_name': None, 'freezer_tray': None, 'id': 155069, 'in_freezer': False, 'isolation_location': 'Freenome', 'lims_barcode': 'R00155069', 'notes': None, 'sample_id': 22155, 'sample_type': 'Plasma', 'secondary_id': '121230-pre-5W2', 'tray_slot': None, 'tube_type': 'Biomatrica LBgard Blood Tube', 'volume_in_microliters': 2500, 'timestamp': datetime.datetime(2021, 6, 23, 14, 31, 22, tzinfo=<UTC>), 'date_received': datetime.datetime(2019, 1, 17, 17, 49, 55, tzinfo=<UTC>), 'hemolysis_level': None, 'incorrect_shipping': None}, {'container_name': None, 'container_slot_col': None, 'container_slot_row': None, 'failure_reason': None, 'freeze_thaw_cycles': None, 'freezer_name': None, 'freezer_tray': None, 'id': 155031, 'in_freezer': False, 'isolation_location': 'Freenome', 'lims_barcode': 'R00155031', 'notes': None, 'sample_id': 22155, 'sample_type': 'Whole Blood', 'secondary_id': '121230-pre-5', 'tray_slot': None, 'tube_type': 'Biomatrica LBgard Blood Tube', 'volume_in_microliters': 6000, 'timestamp': datetime.datetime(2021, 6, 23, 14, 31, 22, tzinfo=<UTC>), 'date_received': datetime.datetime(2019, 1, 17, 17, 49, 36, tzinfo=<UTC>), 'hemolysis_level': 'None', 'incorrect_shipping': None}, {'container_name': 'DC2_BG1_xsTEM_Box01', 'container_slot_col': 1, 'container_slot_row': '9', 'failure_reason': None, 'freeze_thaw_cycles': 1, 'freezer_name': 'Freezer 2', 'freezer_tray': '17A', 'id': 239449, 'in_freezer': True, 'isolation_location': None, 'lims_barcode': 'R00239449', 'notes': None, 'sample_id': 22155, 'sample_type': 'Plasma', 'secondary_id': '121230-pre_xsTEM', 'tray_slot': 3, 'tube_type': 'Biomatrica LBgard Blood Tube', 'volume_in_microliters': 250, 'timestamp': datetime.datetime(2021, 6, 23, 14, 31, 22, tzinfo=<UTC>), 'date_received': datetime.datetime(2019, 9, 20, 23, 49, 59, tzinfo=<UTC>), 'hemolysis_level': None, 'incorrect_shipping': None}, {'container_name': None, 'container_slot_col': None, 'container_slot_row': None, 'failure_reason': None, 'freeze_thaw_cycles': 2, 'freezer_name': None, 'freezer_tray': None, 'id': 257752, 'in_freezer': False, 'isolation_location': 'Freenome', 'lims_barcode': 'R00257752', 'notes': None, 'sample_id': 22155, 'sample_type': 'Plasma', 'secondary_id': 'DC2_121230-pre-1F2_Q_2', 'tray_slot': None, 'tube_type': 'Biomatrica LBgard Blood Tube', 'volume_in_microliters': 100, 'timestamp': datetime.datetime(2021, 6, 23, 14, 31, 22, tzinfo=<UTC>), 'date_received': datetime.datetime(2020, 3, 9, 0, 0, tzinfo=<UTC>), 'hemolysis_level': None, 'incorrect_shipping': None}, {'container_name': None, 'container_slot_col': None, 'container_slot_row': None, 'failure_reason': None, 'freeze_thaw_cycles': None, 'freezer_name': None, 'freezer_tray': None, 'id': 155061, 'in_freezer': False, 'isolation_location': 'Freenome', 'lims_barcode': 'R00155061', 'notes': None, 'sample_id': 22155, 'sample_type': 'Plasma', 'secondary_id': '121230-pre-1W2', 'tray_slot': None, 'tube_type': 'Biomatrica LBgard Blood Tube', 'volume_in_microliters': 3150, 'timestamp': datetime.datetime(2021, 6, 23, 14, 31, 22, tzinfo=<UTC>), 'date_received': datetime.datetime(2019, 1, 17, 17, 49, 54, tzinfo=<UTC>), 'hemolysis_level': None, 'incorrect_shipping': None}, {'container_name': None, 'container_slot_col': None, 'container_slot_row': None, 'failure_reason': None, 'freeze_thaw_cycles': None, 'freezer_name': None, 'freezer_tray': None, 'id': 155063, 'in_freezer': False, 'isolation_location': 'Freenome', 'lims_barcode': 'R00155063', 'notes': None, 'sample_id': 22155, 'sample_type': 'Plasma', 'secondary_id': '121230-pre-2W2', 'tray_slot': None, 'tube_type': 'Biomatrica LBgard Blood Tube', 'volume_in_microliters': 2650, 'timestamp': datetime.datetime(2021, 6, 23, 14, 31, 22, tzinfo=<UTC>), 'date_received': datetime.datetime(2019, 1, 17, 17, 49, 55, tzinfo=<UTC>), 'hemolysis_level': None, 'incorrect_shipping': None}, {'container_name': None, 'container_slot_col': None, 'container_slot_row': None, 'failure_reason': None, 'freeze_thaw_cycles': 0, 'freezer_name': None, 'freezer_tray': None, 'id': 155147, 'in_freezer': False, 'isolation_location': 'Freenome', 'lims_barcode': 'R00155147', 'notes': None, 'sample_id': 22155, 'sample_type': 'Plasma', 'secondary_id': '121230-pre-1F6', 'tray_slot': None, 'tube_type': 'Biomatrica LBgard Blood Tube', 'volume_in_microliters': 150, 'timestamp': datetime.datetime(2021, 6, 23, 14, 31, 22, tzinfo=<UTC>), 'date_received': datetime.datetime(2019, 1, 17, 19, 47, 33, tzinfo=<UTC>), 'hemolysis_level': None, 'incorrect_shipping': None}, {'container_name': None, 'container_slot_col': None, 'container_slot_row': None, 'failure_reason': None, 'freeze_thaw_cycles': None, 'freezer_name': None, 'freezer_tray': None, 'id': 155064, 'in_freezer': False, 'isolation_location': 'Freenome', 'lims_barcode': 'R00155064', 'notes': None, 'sample_id': 22155, 'sample_type': 'Plasma', 'secondary_id': '121230-pre-3W1', 'tray_slot': None, 'tube_type': 'Biomatrica LBgard Blood Tube', 'volume_in_microliters': 3500, 'timestamp': datetime.datetime(2021, 6, 23, 14, 31, 22, tzinfo=<UTC>), 'date_received': datetime.datetime(2019, 1, 17, 17, 49, 55, tzinfo=<UTC>), 'hemolysis_level': 'None', 'incorrect_shipping': None}, {'container_name': None, 'container_slot_col': None, 'container_slot_row': None, 'failure_reason': None, 'freeze_thaw_cycles': 1, 'freezer_name': None, 'freezer_tray': None, 'id': 333659, 'in_freezer': False, 'isolation_location': 'Freenome', 'lims_barcode': 'R00333659', 'notes': None, 'sample_id': 22155, 'sample_type': 'Plasma', 'secondary_id': 'Ordinatrix_DC2_121230-pre-1F6_30ul', 'tray_slot': None, 'tube_type': 'Biomatrica LBgard Blood Tube', 'volume_in_microliters': 30, 'timestamp': datetime.datetime(2021, 6, 23, 14, 31, 22, tzinfo=<UTC>), 'date_received': datetime.datetime(2020, 11, 17, 2, 30, 34, tzinfo=<UTC>), 'hemolysis_level': None, 'incorrect_shipping': None}, {'container_name': 'PlasmaSep Box 173', 'container_slot_col': 5, 'container_slot_row': '8', 'failure_reason': None, 'freeze_thaw_cycles': 0, 'freezer_name': 'Freezer 4', 'freezer_tray': '5B', 'id': 155115, 'in_freezer': True, 'isolation_location': 'Freenome', 'lims_barcode': 'R00155115', 'notes': None, 'sample_id': 22155, 'sample_type': 'Plasma', 'secondary_id': '121230-pre-2F3', 'tray_slot': 5, 'tube_type': 'Biomatrica LBgard Blood Tube', 'volume_in_microliters': 600, 'timestamp': datetime.datetime(2021, 6, 23, 14, 31, 22, tzinfo=<UTC>), 'date_received': datetime.datetime(2019, 1, 17, 17, 49, 56, tzinfo=<UTC>), 'hemolysis_level': None, 'incorrect_shipping': None}, {'container_name': None, 'container_slot_col': None, 'container_slot_row': None, 'failure_reason': None, 'freeze_thaw_cycles': None, 'freezer_name': None, 'freezer_tray': None, 'id': 155066, 'in_freezer': False, 'isolation_location': 'Freenome', 'lims_barcode': 'R00155066', 'notes': None, 'sample_id': 22155, 'sample_type': 'Plasma', 'secondary_id': '121230-pre-4W1', 'tray_slot': None, 'tube_type': 'Biomatrica LBgard Blood Tube', 'volume_in_microliters': 3500, 'timestamp': datetime.datetime(2021, 6, 23, 14, 31, 22, tzinfo=<UTC>), 'date_received': datetime.datetime(2019, 1, 17, 17, 49, 55, tzinfo=<UTC>), 'hemolysis_level': 'None', 'incorrect_shipping': None}, {'container_name': 'PlasmaSep Box 173', 'container_slot_col': 1, 'container_slot_row': '8', 'failure_reason': None, 'freeze_thaw_cycles': 0, 'freezer_name': 'Freezer 4', 'freezer_tray': '5B', 'id': 155112, 'in_freezer': True, 'isolation_location': 'Freenome', 'lims_barcode': 'R00155112', 'notes': None, 'sample_id': 22155, 'sample_type': 'Plasma', 'secondary_id': '121230-pre-1F5', 'tray_slot': 5, 'tube_type': 'Biomatrica LBgard Blood Tube', 'volume_in_microliters': 600, 'timestamp': datetime.datetime(2021, 6, 23, 14, 31, 22, tzinfo=<UTC>), 'date_received': datetime.datetime(2019, 1, 17, 17, 49, 55, tzinfo=<UTC>), 'hemolysis_level': None, 'incorrect_shipping': None}, {'container_name': None, 'container_slot_col': None, 'container_slot_row': None, 'failure_reason': None, 'freeze_thaw_cycles': 1, 'freezer_name': None, 'freezer_tray': None, 'id': 333469, 'in_freezer': False, 'isolation_location': 'Freenome', 'lims_barcode': 'R00333469', 'notes': None, 'sample_id': 22155, 'sample_type': 'Plasma', 'secondary_id': 'Ordinatrix_DC2_121230-pre-1F6_10ul_1', 'tray_slot': None, 'tube_type': 'Biomatrica LBgard Blood Tube', 'volume_in_microliters': 10, 'timestamp': datetime.datetime(2021, 6, 23, 14, 31, 22, tzinfo=<UTC>), 'date_received': datetime.datetime(2020, 11, 17, 1, 11, 48, tzinfo=<UTC>), 'hemolysis_level': None, 'incorrect_shipping': None}, {'container_name': 'PlasmaSep Box 172', 'container_slot_col': 3, 'container_slot_row': '4', 'failure_reason': None, 'freeze_thaw_cycles': 0, 'freezer_name': 'Freezer 5', 'freezer_tray': '5A', 'id': 155120, 'in_freezer': True, 'isolation_location': 'Freenome', 'lims_barcode': 'R00155120', 'notes': None, 'sample_id': 22155, 'sample_type': 'Plasma', 'secondary_id': '121230-pre-5F1', 'tray_slot': 3, 'tube_type': 'Biomatrica LBgard Blood Tube', 'volume_in_microliters': 2500, 'timestamp': datetime.datetime(2021, 6, 23, 14, 31, 22, tzinfo=<UTC>), 'date_received': datetime.datetime(2019, 1, 17, 17, 49, 56, tzinfo=<UTC>), 'hemolysis_level': None, 'incorrect_shipping': None}, {'container_name': None, 'container_slot_col': None, 'container_slot_row': None, 'failure_reason': None, 'freeze_thaw_cycles': 0, 'freezer_name': None, 'freezer_tray': None, 'id': 155109, 'in_freezer': False, 'isolation_location': 'Freenome', 'lims_barcode': 'R00155109', 'notes': None, 'sample_id': 22155, 'sample_type': 'Plasma', 'secondary_id': '121230-pre-1F2', 'tray_slot': None, 'tube_type': 'Biomatrica LBgard Blood Tube', 'volume_in_microliters': 600, 'timestamp': datetime.datetime(2021, 6, 23, 14, 31, 22, tzinfo=<UTC>), 'date_received': datetime.datetime(2019, 1, 17, 17, 49, 55, tzinfo=<UTC>), 'hemolysis_level': None, 'incorrect_shipping': None}, {'container_name': None, 'container_slot_col': None, 'container_slot_row': None, 'failure_reason': None, 'freeze_thaw_cycles': 0, 'freezer_name': None, 'freezer_tray': None, 'id': 155119, 'in_freezer': False, 'isolation_location': 'Freenome', 'lims_barcode': 'R00155119', 'notes': None, 'sample_id': 22155, 'sample_type': 'Plasma', 'secondary_id': '121230-pre-4F1', 'tray_slot': None, 'tube_type': 'Biomatrica LBgard Blood Tube', 'volume_in_microliters': 3100, 'timestamp': datetime.datetime(2021, 6, 23, 14, 31, 22, tzinfo=<UTC>), 'date_received': datetime.datetime(2019, 1, 17, 17, 49, 56, tzinfo=<UTC>), 'hemolysis_level': None, 'incorrect_shipping': None}, {'container_name': None, 'container_slot_col': None, 'container_slot_row': None, 'failure_reason': None, 'freeze_thaw_cycles': 0, 'freezer_name': None, 'freezer_tray': None, 'id': 155108, 'in_freezer': False, 'isolation_location': 'Freenome', 'lims_barcode': 'R00155108', 'notes': None, 'sample_id': 22155, 'sample_type': 'Plasma', 'secondary_id': '121230-pre-1F1', 'tray_slot': None, 'tube_type': 'Biomatrica LBgard Blood Tube', 'volume_in_microliters': 600, 'timestamp': datetime.datetime(2021, 6, 23, 14, 31, 22, tzinfo=<UTC>), 'date_received': datetime.datetime(2019, 1, 17, 17, 49, 55, tzinfo=<UTC>), 'hemolysis_level': None, 'incorrect_shipping': None}, {'container_name': None, 'container_slot_col': None, 'container_slot_row': None, 'failure_reason': None, 'freeze_thaw_cycles': 1, 'freezer_name': None, 'freezer_tray': None, 'id': 233172, 'in_freezer': False, 'isolation_location': None, 'lims_barcode': 'R00233172', 'notes': 'DC2 BG1 LV Aliquot', 'sample_id': 22155, 'sample_type': 'Plasma', 'secondary_id': 'DC2_121230-pre-1F2_100uL', 'tray_slot': None, 'tube_type': 'Biomatrica LBgard Blood Tube', 'volume_in_microliters': 50, 'timestamp': datetime.datetime(2021, 6, 23, 14, 31, 22, tzinfo=<UTC>), 'date_received': datetime.datetime(2019, 8, 20, 3, 49, 41, tzinfo=<UTC>), 'hemolysis_level': None, 'incorrect_shipping': None}, {'container_name': None, 'container_slot_col': None, 'container_slot_row': None, 'failure_reason': None, 'freeze_thaw_cycles': None, 'freezer_name': None, 'freezer_tray': None, 'id': 155030, 'in_freezer': False, 'isolation_location': 'Freenome', 'lims_barcode': 'R00155030', 'notes': None, 'sample_id': 22155, 'sample_type': 'Whole Blood', 'secondary_id': '121230-pre-4', 'tray_slot': None, 'tube_type': 'Biomatrica LBgard Blood Tube', 'volume_in_microliters': 7000, 'timestamp': datetime.datetime(2021, 6, 23, 14, 31, 22, tzinfo=<UTC>), 'date_received': datetime.datetime(2019, 1, 17, 17, 49, 36, tzinfo=<UTC>), 'hemolysis_level': 'None', 'incorrect_shipping': None}, {'container_name': None, 'container_slot_col': None, 'container_slot_row': None, 'failure_reason': None, 'freeze_thaw_cycles': None, 'freezer_name': None, 'freezer_tray': None, 'id': 155068, 'in_freezer': False, 'isolation_location': 'Freenome', 'lims_barcode': 'R00155068', 'notes': None, 'sample_id': 22155, 'sample_type': 'Plasma', 'secondary_id': '121230-pre-5W1', 'tray_slot': None, 'tube_type': 'Biomatrica LBgard Blood Tube', 'volume_in_microliters': 2700, 'timestamp': datetime.datetime(2021, 6, 23, 14, 31, 22, tzinfo=<UTC>), 'date_received': datetime.datetime(2019, 1, 17, 17, 49, 55, tzinfo=<UTC>), 'hemolysis_level': 'None', 'incorrect_shipping': None}, {'container_name': None, 'container_slot_col': None, 'container_slot_row': None, 'failure_reason': None, 'freeze_thaw_cycles': None, 'freezer_name': None, 'freezer_tray': None, 'id': 155028, 'in_freezer': False, 'isolation_location': 'Freenome', 'lims_barcode': 'R00155028', 'notes': None, 'sample_id': 22155, 'sample_type': 'Whole Blood', 'secondary_id': '121230-pre-2', 'tray_slot': None, 'tube_type': 'Biomatrica LBgard Blood Tube', 'volume_in_microliters': 7000, 'timestamp': datetime.datetime(2021, 6, 23, 14, 31, 22, tzinfo=<UTC>), 'date_received': datetime.datetime(2019, 1, 17, 17, 49, 36, tzinfo=<UTC>), 'hemolysis_level': 'None', 'incorrect_shipping': None}], raw_plasmaqc_metadata=[{'flow_cytometry': {'double_negative_cv_pct': 2.116082772, 'double_negative_mean_events_per_uL': 21829.33333, 'double_negative_values': [], 'platelet_cv_pct': 7.066300484, 'platelet_mean_events_per_uL': 829.3333332999998, 'platelet_values': [], 'rbc_cv_pct': None, 'rbc_mean_events_per_uL': None, 'rbc_values': [], 'wbc_mean_events_per_uL': 6.0, 'wbc_values': []}, 'hemoglobin': {'hemoglobin_cv_pct': 4.582482703999999, 'hemoglobin_mean_mg_per_mL': 0.024333333, 'hemoglobin_values': []}, 'lims_barcode_tube': 'R00155108', 'lunatic': {'lunatic_bilirubin_cv_pct': 7.78, 'lunatic_bilirubin_mg_per_dL': 0.34, 'lunatic_bilirubin_values': [], 'lunatic_hemoglobin_cv_pct': 5.06, 'lunatic_hemoglobin_mg_per_dL': 7.54, 'lunatic_hemoglobin_values': [], 'lunatic_protein_cv_pct': 6.69, 'lunatic_protein_mg_per_mL': 70.48, 'lunatic_protein_values': [], 'lunatic_turbidity_cv_pct': 24.29, 'lunatic_turbidity_mean': None, 'lunatic_turbidity_values': []}, 'name_batch': 'DC2_BG1_WGS_3', 'qPCR': {'qpcr_723bp_pg_per_uL': 2.74, 'qpcr_723bp_values': [], 'qpcr_90bp_pg_per_uL': 71.08, 'qpcr_90bp_values': [], 'qpcr_ratio': 0.039}, 'sample_id': 22155, 'secondary_id_tube': '121230-pre-1F1', 'well': 'H08'}, {'flow_cytometry': {'double_negative_cv_pct': 2.116082772, 'double_negative_mean_events_per_uL': 21829.33333, 'double_negative_values': [], 'platelet_cv_pct': 7.066300484, 'platelet_mean_events_per_uL': 829.3333332999998, 'platelet_values': [], 'rbc_cv_pct': None, 'rbc_mean_events_per_uL': None, 'rbc_values': [], 'wbc_mean_events_per_uL': 6.0, 'wbc_values': []}, 'hemoglobin': {'hemoglobin_cv_pct': 4.582482703999999, 'hemoglobin_mean_mg_per_mL': 0.024333333, 'hemoglobin_values': []}, 'lims_barcode_tube': 'R00155108', 'lunatic': {'lunatic_bilirubin_cv_pct': 7.78, 'lunatic_bilirubin_mg_per_dL': 0.34, 'lunatic_bilirubin_values': [], 'lunatic_hemoglobin_cv_pct': 5.06, 'lunatic_hemoglobin_mg_per_dL': 7.54, 'lunatic_hemoglobin_values': [], 'lunatic_protein_cv_pct': 6.69, 'lunatic_protein_mg_per_mL': 70.48, 'lunatic_protein_values': [], 'lunatic_turbidity_cv_pct': 24.29, 'lunatic_turbidity_mean': None, 'lunatic_turbidity_values': []}, 'name_batch': 'DC2_BG1_WGS_3', 'qPCR': {'qpcr_723bp_pg_per_uL': 2.74, 'qpcr_723bp_values': [], 'qpcr_90bp_pg_per_uL': 71.08, 'qpcr_90bp_values': [], 'qpcr_ratio': 0.039}, 'sample_id': 22155, 'secondary_id_tube': '121230-pre-1F1', 'well': 'H08'}, {'flow_cytometry': {'double_negative_cv_pct': 2.116082772, 'double_negative_mean_events_per_uL': 21829.33333, 'double_negative_values': [], 'platelet_cv_pct': 7.066300484, 'platelet_mean_events_per_uL': 829.3333332999998, 'platelet_values': [], 'rbc_cv_pct': None, 'rbc_mean_events_per_uL': None, 'rbc_values': [], 'wbc_mean_events_per_uL': 6.0, 'wbc_values': []}, 'hemoglobin': {'hemoglobin_cv_pct': 4.582482703999999, 'hemoglobin_mean_mg_per_mL': 0.024333333, 'hemoglobin_values': []}, 'lims_barcode_tube': 'R00155108', 'lunatic': {'lunatic_bilirubin_cv_pct': 7.78, 'lunatic_bilirubin_mg_per_dL': 0.34, 'lunatic_bilirubin_values': [], 'lunatic_hemoglobin_cv_pct': 5.06, 'lunatic_hemoglobin_mg_per_dL': 7.54, 'lunatic_hemoglobin_values': [], 'lunatic_protein_cv_pct': 6.69, 'lunatic_protein_mg_per_mL': 70.48, 'lunatic_protein_values': [], 'lunatic_turbidity_cv_pct': 24.29, 'lunatic_turbidity_mean': None, 'lunatic_turbidity_values': []}, 'name_batch': 'DC2_BG1_WGS_3', 'qPCR': {'qpcr_723bp_pg_per_uL': 2.74, 'qpcr_723bp_values': [], 'qpcr_90bp_pg_per_uL': 71.08, 'qpcr_90bp_values': [], 'qpcr_ratio': 0.039}, 'sample_id': 22155, 'secondary_id_tube': '121230-pre-1F1', 'well': 'H08'}, {'flow_cytometry': {'double_negative_cv_pct': 2.116082772, 'double_negative_mean_events_per_uL': 21829.33333, 'double_negative_values': [], 'platelet_cv_pct': 7.066300484, 'platelet_mean_events_per_uL': 829.3333332999998, 'platelet_values': [], 'rbc_cv_pct': None, 'rbc_mean_events_per_uL': None, 'rbc_values': [], 'wbc_mean_events_per_uL': 6.0, 'wbc_values': []}, 'hemoglobin': {'hemoglobin_cv_pct': 4.582482703999999, 'hemoglobin_mean_mg_per_mL': 0.024333333, 'hemoglobin_values': []}, 'lims_barcode_tube': 'R00155108', 'lunatic': {'lunatic_bilirubin_cv_pct': 7.78, 'lunatic_bilirubin_mg_per_dL': 0.34, 'lunatic_bilirubin_values': [], 'lunatic_hemoglobin_cv_pct': 5.06, 'lunatic_hemoglobin_mg_per_dL': 7.54, 'lunatic_hemoglobin_values': [], 'lunatic_protein_cv_pct': 6.69, 'lunatic_protein_mg_per_mL': 70.48, 'lunatic_protein_values': [], 'lunatic_turbidity_cv_pct': 24.29, 'lunatic_turbidity_mean': None, 'lunatic_turbidity_values': []}, 'name_batch': 'DC2_BG1_WGS_3', 'qPCR': {'qpcr_723bp_pg_per_uL': 2.74, 'qpcr_723bp_values': [], 'qpcr_90bp_pg_per_uL': 71.08, 'qpcr_90bp_values': [], 'qpcr_ratio': 0.039}, 'sample_id': 22155, 'secondary_id_tube': '121230-pre-1F1', 'well': 'H08'}, {'flow_cytometry': {'double_negative_cv_pct': 2.116082772, 'double_negative_mean_events_per_uL': 21829.33333, 'double_negative_values': [], 'platelet_cv_pct': 7.066300484, 'platelet_mean_events_per_uL': 829.3333332999998, 'platelet_values': [], 'rbc_cv_pct': None, 'rbc_mean_events_per_uL': None, 'rbc_values': [], 'wbc_mean_events_per_uL': 6.0, 'wbc_values': []}, 'hemoglobin': {'hemoglobin_cv_pct': 4.582482703999999, 'hemoglobin_mean_mg_per_mL': 0.024333333, 'hemoglobin_values': []}, 'lims_barcode_tube': 'R00155108', 'lunatic': {'lunatic_bilirubin_cv_pct': 7.78, 'lunatic_bilirubin_mg_per_dL': 0.34, 'lunatic_bilirubin_values': [], 'lunatic_hemoglobin_cv_pct': 5.06, 'lunatic_hemoglobin_mg_per_dL': 7.54, 'lunatic_hemoglobin_values': [], 'lunatic_protein_cv_pct': 6.69, 'lunatic_protein_mg_per_mL': 70.48, 'lunatic_protein_values': [], 'lunatic_turbidity_cv_pct': 24.29, 'lunatic_turbidity_mean': None, 'lunatic_turbidity_values': []}, 'name_batch': 'DC2_BG1_WGS_3', 'qPCR': {'qpcr_723bp_pg_per_uL': 2.74, 'qpcr_723bp_values': [], 'qpcr_90bp_pg_per_uL': 71.08, 'qpcr_90bp_values': [], 'qpcr_ratio': 0.039}, 'sample_id': 22155, 'secondary_id_tube': '121230-pre-1F1', 'well': 'H08'}, {'flow_cytometry': {'double_negative_cv_pct': 2.116082772, 'double_negative_mean_events_per_uL': 21829.33333, 'double_negative_values': [], 'platelet_cv_pct': 7.066300484, 'platelet_mean_events_per_uL': 829.3333332999998, 'platelet_values': [], 'rbc_cv_pct': None, 'rbc_mean_events_per_uL': None, 'rbc_values': [], 'wbc_mean_events_per_uL': 6.0, 'wbc_values': []}, 'hemoglobin': {'hemoglobin_cv_pct': 4.582482703999999, 'hemoglobin_mean_mg_per_mL': 0.024333333, 'hemoglobin_values': []}, 'lims_barcode_tube': 'R00155108', 'lunatic': {'lunatic_bilirubin_cv_pct': 7.78, 'lunatic_bilirubin_mg_per_dL': 0.34, 'lunatic_bilirubin_values': [], 'lunatic_hemoglobin_cv_pct': 5.06, 'lunatic_hemoglobin_mg_per_dL': 7.54, 'lunatic_hemoglobin_values': [], 'lunatic_protein_cv_pct': 6.69, 'lunatic_protein_mg_per_mL': 70.48, 'lunatic_protein_values': [], 'lunatic_turbidity_cv_pct': 24.29, 'lunatic_turbidity_mean': None, 'lunatic_turbidity_values': []}, 'name_batch': 'DC2_BG1_WGS_3', 'qPCR': {'qpcr_723bp_pg_per_uL': 2.74, 'qpcr_723bp_values': [], 'qpcr_90bp_pg_per_uL': 71.08, 'qpcr_90bp_values': [], 'qpcr_ratio': 0.039}, 'sample_id': 22155, 'secondary_id_tube': '121230-pre-1F1', 'well': 'H08'}, {'flow_cytometry': {'double_negative_cv_pct': 2.116082772, 'double_negative_mean_events_per_uL': 21829.33333, 'double_negative_values': [], 'platelet_cv_pct': 7.066300484, 'platelet_mean_events_per_uL': 829.3333332999998, 'platelet_values': [], 'rbc_cv_pct': None, 'rbc_mean_events_per_uL': None, 'rbc_values': [], 'wbc_mean_events_per_uL': 6.0, 'wbc_values': []}, 'hemoglobin': {'hemoglobin_cv_pct': 4.582482703999999, 'hemoglobin_mean_mg_per_mL': 0.024333333, 'hemoglobin_values': []}, 'lims_barcode_tube': 'R00155108', 'lunatic': {'lunatic_bilirubin_cv_pct': 7.78, 'lunatic_bilirubin_mg_per_dL': 0.34, 'lunatic_bilirubin_values': [], 'lunatic_hemoglobin_cv_pct': 5.06, 'lunatic_hemoglobin_mg_per_dL': 7.54, 'lunatic_hemoglobin_values': [], 'lunatic_protein_cv_pct': 6.69, 'lunatic_protein_mg_per_mL': 70.48, 'lunatic_protein_values': [], 'lunatic_turbidity_cv_pct': 24.29, 'lunatic_turbidity_mean': None, 'lunatic_turbidity_values': []}, 'name_batch': 'DC2_BG1_WGS_3', 'qPCR': {'qpcr_723bp_pg_per_uL': 2.74, 'qpcr_723bp_values': [], 'qpcr_90bp_pg_per_uL': 71.08, 'qpcr_90bp_values': [], 'qpcr_ratio': 0.039}, 'sample_id': 22155, 'secondary_id_tube': '121230-pre-1F1', 'well': 'H08'}, {'flow_cytometry': {'double_negative_cv_pct': 2.116082772, 'double_negative_mean_events_per_uL': 21829.33333, 'double_negative_values': [], 'platelet_cv_pct': 7.066300484, 'platelet_mean_events_per_uL': 829.3333332999998, 'platelet_values': [], 'rbc_cv_pct': None, 'rbc_mean_events_per_uL': None, 'rbc_values': [], 'wbc_mean_events_per_uL': 6.0, 'wbc_values': []}, 'hemoglobin': {'hemoglobin_cv_pct': 4.582482703999999, 'hemoglobin_mean_mg_per_mL': 0.024333333, 'hemoglobin_values': []}, 'lims_barcode_tube': 'R00155108', 'lunatic': {'lunatic_bilirubin_cv_pct': 7.78, 'lunatic_bilirubin_mg_per_dL': 0.34, 'lunatic_bilirubin_values': [], 'lunatic_hemoglobin_cv_pct': 5.06, 'lunatic_hemoglobin_mg_per_dL': 7.54, 'lunatic_hemoglobin_values': [], 'lunatic_protein_cv_pct': 6.69, 'lunatic_protein_mg_per_mL': 70.48, 'lunatic_protein_values': [], 'lunatic_turbidity_cv_pct': 24.29, 'lunatic_turbidity_mean': None, 'lunatic_turbidity_values': []}, 'name_batch': 'DC2_BG1_WGS_3', 'qPCR': {'qpcr_723bp_pg_per_uL': 2.74, 'qpcr_723bp_values': [], 'qpcr_90bp_pg_per_uL': 71.08, 'qpcr_90bp_values': [], 'qpcr_ratio': 0.039}, 'sample_id': 22155, 'secondary_id_tube': '121230-pre-1F1', 'well': 'H08'}, {'flow_cytometry': {'double_negative_cv_pct': 2.116082772, 'double_negative_mean_events_per_uL': 21829.33333, 'double_negative_values': [], 'platelet_cv_pct': 7.066300484, 'platelet_mean_events_per_uL': 829.3333332999998, 'platelet_values': [], 'rbc_cv_pct': None, 'rbc_mean_events_per_uL': None, 'rbc_values': [], 'wbc_mean_events_per_uL': 6.0, 'wbc_values': []}, 'hemoglobin': {'hemoglobin_cv_pct': 4.582482703999999, 'hemoglobin_mean_mg_per_mL': 0.024333333, 'hemoglobin_values': []}, 'lims_barcode_tube': 'R00155108', 'lunatic': {'lunatic_bilirubin_cv_pct': 7.78, 'lunatic_bilirubin_mg_per_dL': 0.34, 'lunatic_bilirubin_values': [], 'lunatic_hemoglobin_cv_pct': 5.06, 'lunatic_hemoglobin_mg_per_dL': 7.54, 'lunatic_hemoglobin_values': [], 'lunatic_protein_cv_pct': 6.69, 'lunatic_protein_mg_per_mL': 70.48, 'lunatic_protein_values': [], 'lunatic_turbidity_cv_pct': 24.29, 'lunatic_turbidity_mean': None, 'lunatic_turbidity_values': []}, 'name_batch': 'DC2_BG1_WGS_3', 'qPCR': {'qpcr_723bp_pg_per_uL': 2.74, 'qpcr_723bp_values': [], 'qpcr_90bp_pg_per_uL': 71.08, 'qpcr_90bp_values': [], 'qpcr_ratio': 0.039}, 'sample_id': 22155, 'secondary_id_tube': '121230-pre-1F1', 'well': 'H08'}, {'flow_cytometry': {'double_negative_cv_pct': 2.116082772, 'double_negative_mean_events_per_uL': 21829.33333, 'double_negative_values': [], 'platelet_cv_pct': 7.066300484, 'platelet_mean_events_per_uL': 829.3333332999998, 'platelet_values': [], 'rbc_cv_pct': None, 'rbc_mean_events_per_uL': None, 'rbc_values': [], 'wbc_mean_events_per_uL': 6.0, 'wbc_values': []}, 'hemoglobin': {'hemoglobin_cv_pct': 4.582482703999999, 'hemoglobin_mean_mg_per_mL': 0.024333333, 'hemoglobin_values': []}, 'lims_barcode_tube': 'R00155108', 'lunatic': {'lunatic_bilirubin_cv_pct': 7.78, 'lunatic_bilirubin_mg_per_dL': 0.34, 'lunatic_bilirubin_values': [], 'lunatic_hemoglobin_cv_pct': 5.06, 'lunatic_hemoglobin_mg_per_dL': 7.54, 'lunatic_hemoglobin_values': [], 'lunatic_protein_cv_pct': 6.69, 'lunatic_protein_mg_per_mL': 70.48, 'lunatic_protein_values': [], 'lunatic_turbidity_cv_pct': 24.29, 'lunatic_turbidity_mean': None, 'lunatic_turbidity_values': []}, 'name_batch': 'DC2_BG1_WGS_3', 'qPCR': {'qpcr_723bp_pg_per_uL': 2.74, 'qpcr_723bp_values': [], 'qpcr_90bp_pg_per_uL': 71.08, 'qpcr_90bp_values': [], 'qpcr_ratio': 0.039}, 'sample_id': 22155, 'secondary_id_tube': '121230-pre-1F1', 'well': 'H08'}, {'flow_cytometry': {'double_negative_cv_pct': 2.116082772, 'double_negative_mean_events_per_uL': 21829.33333, 'double_negative_values': [], 'platelet_cv_pct': 7.066300484, 'platelet_mean_events_per_uL': 829.3333332999998, 'platelet_values': [], 'rbc_cv_pct': None, 'rbc_mean_events_per_uL': None, 'rbc_values': [], 'wbc_mean_events_per_uL': 6.0, 'wbc_values': []}, 'hemoglobin': {'hemoglobin_cv_pct': 4.582482703999999, 'hemoglobin_mean_mg_per_mL': 0.024333333, 'hemoglobin_values': []}, 'lims_barcode_tube': 'R00155108', 'lunatic': {'lunatic_bilirubin_cv_pct': 7.78, 'lunatic_bilirubin_mg_per_dL': 0.34, 'lunatic_bilirubin_values': [], 'lunatic_hemoglobin_cv_pct': 5.06, 'lunatic_hemoglobin_mg_per_dL': 7.54, 'lunatic_hemoglobin_values': [], 'lunatic_protein_cv_pct': 6.69, 'lunatic_protein_mg_per_mL': 70.48, 'lunatic_protein_values': [], 'lunatic_turbidity_cv_pct': 24.29, 'lunatic_turbidity_mean': None, 'lunatic_turbidity_values': []}, 'name_batch': 'DC2_BG1_WGS_3', 'qPCR': {'qpcr_723bp_pg_per_uL': 2.74, 'qpcr_723bp_values': [], 'qpcr_90bp_pg_per_uL': 71.08, 'qpcr_90bp_values': [], 'qpcr_ratio': 0.039}, 'sample_id': 22155, 'secondary_id_tube': '121230-pre-1F1', 'well': 'H08'}, {'flow_cytometry': {'double_negative_cv_pct': 2.116082772, 'double_negative_mean_events_per_uL': 21829.33333, 'double_negative_values': [], 'platelet_cv_pct': 7.066300484, 'platelet_mean_events_per_uL': 829.3333332999998, 'platelet_values': [], 'rbc_cv_pct': None, 'rbc_mean_events_per_uL': None, 'rbc_values': [], 'wbc_mean_events_per_uL': 6.0, 'wbc_values': []}, 'hemoglobin': {'hemoglobin_cv_pct': 4.582482703999999, 'hemoglobin_mean_mg_per_mL': 0.024333333, 'hemoglobin_values': []}, 'lims_barcode_tube': 'R00155108', 'lunatic': {'lunatic_bilirubin_cv_pct': 7.78, 'lunatic_bilirubin_mg_per_dL': 0.34, 'lunatic_bilirubin_values': [], 'lunatic_hemoglobin_cv_pct': 5.06, 'lunatic_hemoglobin_mg_per_dL': 7.54, 'lunatic_hemoglobin_values': [], 'lunatic_protein_cv_pct': 6.69, 'lunatic_protein_mg_per_mL': 70.48, 'lunatic_protein_values': [], 'lunatic_turbidity_cv_pct': 24.29, 'lunatic_turbidity_mean': None, 'lunatic_turbidity_values': []}, 'name_batch': 'DC2_BG1_WGS_3', 'qPCR': {'qpcr_723bp_pg_per_uL': 2.74, 'qpcr_723bp_values': [], 'qpcr_90bp_pg_per_uL': 71.08, 'qpcr_90bp_values': [], 'qpcr_ratio': 0.039}, 'sample_id': 22155, 'secondary_id_tube': '121230-pre-1F1', 'well': 'H08'}, {'flow_cytometry': {'double_negative_cv_pct': 2.116082772, 'double_negative_mean_events_per_uL': 21829.33333, 'double_negative_values': [], 'platelet_cv_pct': 7.066300484, 'platelet_mean_events_per_uL': 829.3333332999998, 'platelet_values': [], 'rbc_cv_pct': None, 'rbc_mean_events_per_uL': None, 'rbc_values': [], 'wbc_mean_events_per_uL': 6.0, 'wbc_values': []}, 'hemoglobin': {'hemoglobin_cv_pct': 4.582482703999999, 'hemoglobin_mean_mg_per_mL': 0.024333333, 'hemoglobin_values': []}, 'lims_barcode_tube': 'R00155108', 'lunatic': {'lunatic_bilirubin_cv_pct': 7.78, 'lunatic_bilirubin_mg_per_dL': 0.34, 'lunatic_bilirubin_values': [], 'lunatic_hemoglobin_cv_pct': 5.06, 'lunatic_hemoglobin_mg_per_dL': 7.54, 'lunatic_hemoglobin_values': [], 'lunatic_protein_cv_pct': 6.69, 'lunatic_protein_mg_per_mL': 70.48, 'lunatic_protein_values': [], 'lunatic_turbidity_cv_pct': 24.29, 'lunatic_turbidity_mean': None, 'lunatic_turbidity_values': []}, 'name_batch': 'DC2_BG1_WGS_3', 'qPCR': {'qpcr_723bp_pg_per_uL': 2.74, 'qpcr_723bp_values': [], 'qpcr_90bp_pg_per_uL': 71.08, 'qpcr_90bp_values': [], 'qpcr_ratio': 0.039}, 'sample_id': 22155, 'secondary_id_tube': '121230-pre-1F1', 'well': 'H08'}, {'flow_cytometry': {'double_negative_cv_pct': 2.116082772, 'double_negative_mean_events_per_uL': 21829.33333, 'double_negative_values': [], 'platelet_cv_pct': 7.066300484, 'platelet_mean_events_per_uL': 829.3333332999998, 'platelet_values': [], 'rbc_cv_pct': None, 'rbc_mean_events_per_uL': None, 'rbc_values': [], 'wbc_mean_events_per_uL': 6.0, 'wbc_values': []}, 'hemoglobin': {'hemoglobin_cv_pct': 4.582482703999999, 'hemoglobin_mean_mg_per_mL': 0.024333333, 'hemoglobin_values': []}, 'lims_barcode_tube': 'R00155108', 'lunatic': {'lunatic_bilirubin_cv_pct': 7.78, 'lunatic_bilirubin_mg_per_dL': 0.34, 'lunatic_bilirubin_values': [], 'lunatic_hemoglobin_cv_pct': 5.06, 'lunatic_hemoglobin_mg_per_dL': 7.54, 'lunatic_hemoglobin_values': [], 'lunatic_protein_cv_pct': 6.69, 'lunatic_protein_mg_per_mL': 70.48, 'lunatic_protein_values': [], 'lunatic_turbidity_cv_pct': 24.29, 'lunatic_turbidity_mean': None, 'lunatic_turbidity_values': []}, 'name_batch': 'DC2_BG1_WGS_3', 'qPCR': {'qpcr_723bp_pg_per_uL': 2.74, 'qpcr_723bp_values': [], 'qpcr_90bp_pg_per_uL': 71.08, 'qpcr_90bp_values': [], 'qpcr_ratio': 0.039}, 'sample_id': 22155, 'secondary_id_tube': '121230-pre-1F1', 'well': 'H08'}, {'flow_cytometry': {'double_negative_cv_pct': 2.116082772, 'double_negative_mean_events_per_uL': 21829.33333, 'double_negative_values': [], 'platelet_cv_pct': 7.066300484, 'platelet_mean_events_per_uL': 829.3333332999998, 'platelet_values': [], 'rbc_cv_pct': None, 'rbc_mean_events_per_uL': None, 'rbc_values': [], 'wbc_mean_events_per_uL': 6.0, 'wbc_values': []}, 'hemoglobin': {'hemoglobin_cv_pct': 4.582482703999999, 'hemoglobin_mean_mg_per_mL': 0.024333333, 'hemoglobin_values': []}, 'lims_barcode_tube': 'R00155108', 'lunatic': {'lunatic_bilirubin_cv_pct': 7.78, 'lunatic_bilirubin_mg_per_dL': 0.34, 'lunatic_bilirubin_values': [], 'lunatic_hemoglobin_cv_pct': 5.06, 'lunatic_hemoglobin_mg_per_dL': 7.54, 'lunatic_hemoglobin_values': [], 'lunatic_protein_cv_pct': 6.69, 'lunatic_protein_mg_per_mL': 70.48, 'lunatic_protein_values': [], 'lunatic_turbidity_cv_pct': 24.29, 'lunatic_turbidity_mean': None, 'lunatic_turbidity_values': []}, 'name_batch': 'DC2_BG1_WGS_3', 'qPCR': {'qpcr_723bp_pg_per_uL': 2.74, 'qpcr_723bp_values': [], 'qpcr_90bp_pg_per_uL': 71.08, 'qpcr_90bp_values': [], 'qpcr_ratio': 0.039}, 'sample_id': 22155, 'secondary_id_tube': '121230-pre-1F1', 'well': 'H08'}, {'flow_cytometry': {'double_negative_cv_pct': 2.116082772, 'double_negative_mean_events_per_uL': 21829.33333, 'double_negative_values': [], 'platelet_cv_pct': 7.066300484, 'platelet_mean_events_per_uL': 829.3333332999998, 'platelet_values': [], 'rbc_cv_pct': None, 'rbc_mean_events_per_uL': None, 'rbc_values': [], 'wbc_mean_events_per_uL': 6.0, 'wbc_values': []}, 'hemoglobin': {'hemoglobin_cv_pct': 4.582482703999999, 'hemoglobin_mean_mg_per_mL': 0.024333333, 'hemoglobin_values': []}, 'lims_barcode_tube': 'R00155108', 'lunatic': {'lunatic_bilirubin_cv_pct': 7.78, 'lunatic_bilirubin_mg_per_dL': 0.34, 'lunatic_bilirubin_values': [], 'lunatic_hemoglobin_cv_pct': 5.06, 'lunatic_hemoglobin_mg_per_dL': 7.54, 'lunatic_hemoglobin_values': [], 'lunatic_protein_cv_pct': 6.69, 'lunatic_protein_mg_per_mL': 70.48, 'lunatic_protein_values': [], 'lunatic_turbidity_cv_pct': 24.29, 'lunatic_turbidity_mean': None, 'lunatic_turbidity_values': []}, 'name_batch': 'DC2_BG1_WGS_3', 'qPCR': {'qpcr_723bp_pg_per_uL': 2.74, 'qpcr_723bp_values': [], 'qpcr_90bp_pg_per_uL': 71.08, 'qpcr_90bp_values': [], 'qpcr_ratio': 0.039}, 'sample_id': 22155, 'secondary_id_tube': '121230-pre-1F1', 'well': 'H08'}, {'flow_cytometry': {'double_negative_cv_pct': 2.116082772, 'double_negative_mean_events_per_uL': 21829.33333, 'double_negative_values': [], 'platelet_cv_pct': 7.066300484, 'platelet_mean_events_per_uL': 829.3333332999998, 'platelet_values': [], 'rbc_cv_pct': None, 'rbc_mean_events_per_uL': None, 'rbc_values': [], 'wbc_mean_events_per_uL': 6.0, 'wbc_values': []}, 'hemoglobin': {'hemoglobin_cv_pct': 4.582482703999999, 'hemoglobin_mean_mg_per_mL': 0.024333333, 'hemoglobin_values': []}, 'lims_barcode_tube': 'R00155108', 'lunatic': {'lunatic_bilirubin_cv_pct': 7.78, 'lunatic_bilirubin_mg_per_dL': 0.34, 'lunatic_bilirubin_values': [], 'lunatic_hemoglobin_cv_pct': 5.06, 'lunatic_hemoglobin_mg_per_dL': 7.54, 'lunatic_hemoglobin_values': [], 'lunatic_protein_cv_pct': 6.69, 'lunatic_protein_mg_per_mL': 70.48, 'lunatic_protein_values': [], 'lunatic_turbidity_cv_pct': 24.29, 'lunatic_turbidity_mean': None, 'lunatic_turbidity_values': []}, 'name_batch': 'DC2_BG1_WGS_3', 'qPCR': {'qpcr_723bp_pg_per_uL': 2.74, 'qpcr_723bp_values': [], 'qpcr_90bp_pg_per_uL': 71.08, 'qpcr_90bp_values': [], 'qpcr_ratio': 0.039}, 'sample_id': 22155, 'secondary_id_tube': '121230-pre-1F1', 'well': 'H08'}, {'flow_cytometry': {'double_negative_cv_pct': 2.116082772, 'double_negative_mean_events_per_uL': 21829.33333, 'double_negative_values': [], 'platelet_cv_pct': 7.066300484, 'platelet_mean_events_per_uL': 829.3333332999998, 'platelet_values': [], 'rbc_cv_pct': None, 'rbc_mean_events_per_uL': None, 'rbc_values': [], 'wbc_mean_events_per_uL': 6.0, 'wbc_values': []}, 'hemoglobin': {'hemoglobin_cv_pct': 4.582482703999999, 'hemoglobin_mean_mg_per_mL': 0.024333333, 'hemoglobin_values': []}, 'lims_barcode_tube': 'R00155108', 'lunatic': {'lunatic_bilirubin_cv_pct': 7.78, 'lunatic_bilirubin_mg_per_dL': 0.34, 'lunatic_bilirubin_values': [], 'lunatic_hemoglobin_cv_pct': 5.06, 'lunatic_hemoglobin_mg_per_dL': 7.54, 'lunatic_hemoglobin_values': [], 'lunatic_protein_cv_pct': 6.69, 'lunatic_protein_mg_per_mL': 70.48, 'lunatic_protein_values': [], 'lunatic_turbidity_cv_pct': 24.29, 'lunatic_turbidity_mean': None, 'lunatic_turbidity_values': []}, 'name_batch': 'DC2_BG1_WGS_3', 'qPCR': {'qpcr_723bp_pg_per_uL': 2.74, 'qpcr_723bp_values': [], 'qpcr_90bp_pg_per_uL': 71.08, 'qpcr_90bp_values': [], 'qpcr_ratio': 0.039}, 'sample_id': 22155, 'secondary_id_tube': '121230-pre-1F1', 'well': 'H08'}, {'flow_cytometry': {'double_negative_cv_pct': 2.116082772, 'double_negative_mean_events_per_uL': 21829.33333, 'double_negative_values': [], 'platelet_cv_pct': 7.066300484, 'platelet_mean_events_per_uL': 829.3333332999998, 'platelet_values': [], 'rbc_cv_pct': None, 'rbc_mean_events_per_uL': None, 'rbc_values': [], 'wbc_mean_events_per_uL': 6.0, 'wbc_values': []}, 'hemoglobin': {'hemoglobin_cv_pct': 4.582482703999999, 'hemoglobin_mean_mg_per_mL': 0.024333333, 'hemoglobin_values': []}, 'lims_barcode_tube': 'R00155108', 'lunatic': {'lunatic_bilirubin_cv_pct': 7.78, 'lunatic_bilirubin_mg_per_dL': 0.34, 'lunatic_bilirubin_values': [], 'lunatic_hemoglobin_cv_pct': 5.06, 'lunatic_hemoglobin_mg_per_dL': 7.54, 'lunatic_hemoglobin_values': [], 'lunatic_protein_cv_pct': 6.69, 'lunatic_protein_mg_per_mL': 70.48, 'lunatic_protein_values': [], 'lunatic_turbidity_cv_pct': 24.29, 'lunatic_turbidity_mean': None, 'lunatic_turbidity_values': []}, 'name_batch': 'DC2_BG1_WGS_3', 'qPCR': {'qpcr_723bp_pg_per_uL': 2.74, 'qpcr_723bp_values': [], 'qpcr_90bp_pg_per_uL': 71.08, 'qpcr_90bp_values': [], 'qpcr_ratio': 0.039}, 'sample_id': 22155, 'secondary_id_tube': '121230-pre-1F1', 'well': 'H08'}, {'flow_cytometry': {'double_negative_cv_pct': 2.116082772, 'double_negative_mean_events_per_uL': 21829.33333, 'double_negative_values': [], 'platelet_cv_pct': 7.066300484, 'platelet_mean_events_per_uL': 829.3333332999998, 'platelet_values': [], 'rbc_cv_pct': None, 'rbc_mean_events_per_uL': None, 'rbc_values': [], 'wbc_mean_events_per_uL': 6.0, 'wbc_values': []}, 'hemoglobin': {'hemoglobin_cv_pct': 4.582482703999999, 'hemoglobin_mean_mg_per_mL': 0.024333333, 'hemoglobin_values': []}, 'lims_barcode_tube': 'R00155108', 'lunatic': {'lunatic_bilirubin_cv_pct': 7.78, 'lunatic_bilirubin_mg_per_dL': 0.34, 'lunatic_bilirubin_values': [], 'lunatic_hemoglobin_cv_pct': 5.06, 'lunatic_hemoglobin_mg_per_dL': 7.54, 'lunatic_hemoglobin_values': [], 'lunatic_protein_cv_pct': 6.69, 'lunatic_protein_mg_per_mL': 70.48, 'lunatic_protein_values': [], 'lunatic_turbidity_cv_pct': 24.29, 'lunatic_turbidity_mean': None, 'lunatic_turbidity_values': []}, 'name_batch': 'DC2_BG1_WGS_3', 'qPCR': {'qpcr_723bp_pg_per_uL': 2.74, 'qpcr_723bp_values': [], 'qpcr_90bp_pg_per_uL': 71.08, 'qpcr_90bp_values': [], 'qpcr_ratio': 0.039}, 'sample_id': 22155, 'secondary_id_tube': '121230-pre-1F1', 'well': 'H08'}, {'flow_cytometry': {'double_negative_cv_pct': 2.116082772, 'double_negative_mean_events_per_uL': 21829.33333, 'double_negative_values': [], 'platelet_cv_pct': 7.066300484, 'platelet_mean_events_per_uL': 829.3333332999998, 'platelet_values': [], 'rbc_cv_pct': None, 'rbc_mean_events_per_uL': None, 'rbc_values': [], 'wbc_mean_events_per_uL': 6.0, 'wbc_values': []}, 'hemoglobin': {'hemoglobin_cv_pct': 4.582482703999999, 'hemoglobin_mean_mg_per_mL': 0.024333333, 'hemoglobin_values': []}, 'lims_barcode_tube': 'R00155108', 'lunatic': {'lunatic_bilirubin_cv_pct': 7.78, 'lunatic_bilirubin_mg_per_dL': 0.34, 'lunatic_bilirubin_values': [], 'lunatic_hemoglobin_cv_pct': 5.06, 'lunatic_hemoglobin_mg_per_dL': 7.54, 'lunatic_hemoglobin_values': [], 'lunatic_protein_cv_pct': 6.69, 'lunatic_protein_mg_per_mL': 70.48, 'lunatic_protein_values': [], 'lunatic_turbidity_cv_pct': 24.29, 'lunatic_turbidity_mean': None, 'lunatic_turbidity_values': []}, 'name_batch': 'DC2_BG1_WGS_3', 'qPCR': {'qpcr_723bp_pg_per_uL': 2.74, 'qpcr_723bp_values': [], 'qpcr_90bp_pg_per_uL': 71.08, 'qpcr_90bp_values': [], 'qpcr_ratio': 0.039}, 'sample_id': 22155, 'secondary_id_tube': '121230-pre-1F1', 'well': 'H08'}, {'flow_cytometry': {'double_negative_cv_pct': 2.116082772, 'double_negative_mean_events_per_uL': 21829.33333, 'double_negative_values': [], 'platelet_cv_pct': 7.066300484, 'platelet_mean_events_per_uL': 829.3333332999998, 'platelet_values': [], 'rbc_cv_pct': None, 'rbc_mean_events_per_uL': None, 'rbc_values': [], 'wbc_mean_events_per_uL': 6.0, 'wbc_values': []}, 'hemoglobin': {'hemoglobin_cv_pct': 4.582482703999999, 'hemoglobin_mean_mg_per_mL': 0.024333333, 'hemoglobin_values': []}, 'lims_barcode_tube': 'R00155108', 'lunatic': {'lunatic_bilirubin_cv_pct': 7.78, 'lunatic_bilirubin_mg_per_dL': 0.34, 'lunatic_bilirubin_values': [], 'lunatic_hemoglobin_cv_pct': 5.06, 'lunatic_hemoglobin_mg_per_dL': 7.54, 'lunatic_hemoglobin_values': [], 'lunatic_protein_cv_pct': 6.69, 'lunatic_protein_mg_per_mL': 70.48, 'lunatic_protein_values': [], 'lunatic_turbidity_cv_pct': 24.29, 'lunatic_turbidity_mean': None, 'lunatic_turbidity_values': []}, 'name_batch': 'DC2_BG1_WGS_3', 'qPCR': {'qpcr_723bp_pg_per_uL': 2.74, 'qpcr_723bp_values': [], 'qpcr_90bp_pg_per_uL': 71.08, 'qpcr_90bp_values': [], 'qpcr_ratio': 0.039}, 'sample_id': 22155, 'secondary_id_tube': '121230-pre-1F1', 'well': 'H08'}, {'flow_cytometry': {'double_negative_cv_pct': 2.116082772, 'double_negative_mean_events_per_uL': 21829.33333, 'double_negative_values': [], 'platelet_cv_pct': 7.066300484, 'platelet_mean_events_per_uL': 829.3333332999998, 'platelet_values': [], 'rbc_cv_pct': None, 'rbc_mean_events_per_uL': None, 'rbc_values': [], 'wbc_mean_events_per_uL': 6.0, 'wbc_values': []}, 'hemoglobin': {'hemoglobin_cv_pct': 4.582482703999999, 'hemoglobin_mean_mg_per_mL': 0.024333333, 'hemoglobin_values': []}, 'lims_barcode_tube': 'R00155108', 'lunatic': {'lunatic_bilirubin_cv_pct': 7.78, 'lunatic_bilirubin_mg_per_dL': 0.34, 'lunatic_bilirubin_values': [], 'lunatic_hemoglobin_cv_pct': 5.06, 'lunatic_hemoglobin_mg_per_dL': 7.54, 'lunatic_hemoglobin_values': [], 'lunatic_protein_cv_pct': 6.69, 'lunatic_protein_mg_per_mL': 70.48, 'lunatic_protein_values': [], 'lunatic_turbidity_cv_pct': 24.29, 'lunatic_turbidity_mean': None, 'lunatic_turbidity_values': []}, 'name_batch': 'DC2_BG1_WGS_3', 'qPCR': {'qpcr_723bp_pg_per_uL': 2.74, 'qpcr_723bp_values': [], 'qpcr_90bp_pg_per_uL': 71.08, 'qpcr_90bp_values': [], 'qpcr_ratio': 0.039}, 'sample_id': 22155, 'secondary_id_tube': '121230-pre-1F1', 'well': 'H08'}, {'flow_cytometry': {'double_negative_cv_pct': 2.116082772, 'double_negative_mean_events_per_uL': 21829.33333, 'double_negative_values': [], 'platelet_cv_pct': 7.066300484, 'platelet_mean_events_per_uL': 829.3333332999998, 'platelet_values': [], 'rbc_cv_pct': None, 'rbc_mean_events_per_uL': None, 'rbc_values': [], 'wbc_mean_events_per_uL': 6.0, 'wbc_values': []}, 'hemoglobin': {'hemoglobin_cv_pct': 4.582482703999999, 'hemoglobin_mean_mg_per_mL': 0.024333333, 'hemoglobin_values': []}, 'lims_barcode_tube': 'R00155108', 'lunatic': {'lunatic_bilirubin_cv_pct': 7.78, 'lunatic_bilirubin_mg_per_dL': 0.34, 'lunatic_bilirubin_values': [], 'lunatic_hemoglobin_cv_pct': 5.06, 'lunatic_hemoglobin_mg_per_dL': 7.54, 'lunatic_hemoglobin_values': [], 'lunatic_protein_cv_pct': 6.69, 'lunatic_protein_mg_per_mL': 70.48, 'lunatic_protein_values': [], 'lunatic_turbidity_cv_pct': 24.29, 'lunatic_turbidity_mean': None, 'lunatic_turbidity_values': []}, 'name_batch': 'DC2_BG1_WGS_3', 'qPCR': {'qpcr_723bp_pg_per_uL': 2.74, 'qpcr_723bp_values': [], 'qpcr_90bp_pg_per_uL': 71.08, 'qpcr_90bp_values': [], 'qpcr_ratio': 0.039}, 'sample_id': 22155, 'secondary_id_tube': '121230-pre-1F1', 'well': 'H08'}, {'flow_cytometry': {'double_negative_cv_pct': 2.116082772, 'double_negative_mean_events_per_uL': 21829.33333, 'double_negative_values': [], 'platelet_cv_pct': 7.066300484, 'platelet_mean_events_per_uL': 829.3333332999998, 'platelet_values': [], 'rbc_cv_pct': None, 'rbc_mean_events_per_uL': None, 'rbc_values': [], 'wbc_mean_events_per_uL': 6.0, 'wbc_values': []}, 'hemoglobin': {'hemoglobin_cv_pct': 4.582482703999999, 'hemoglobin_mean_mg_per_mL': 0.024333333, 'hemoglobin_values': []}, 'lims_barcode_tube': 'R00155108', 'lunatic': {'lunatic_bilirubin_cv_pct': 7.78, 'lunatic_bilirubin_mg_per_dL': 0.34, 'lunatic_bilirubin_values': [], 'lunatic_hemoglobin_cv_pct': 5.06, 'lunatic_hemoglobin_mg_per_dL': 7.54, 'lunatic_hemoglobin_values': [], 'lunatic_protein_cv_pct': 6.69, 'lunatic_protein_mg_per_mL': 70.48, 'lunatic_protein_values': [], 'lunatic_turbidity_cv_pct': 24.29, 'lunatic_turbidity_mean': None, 'lunatic_turbidity_values': []}, 'name_batch': 'DC2_BG1_WGS_3', 'qPCR': {'qpcr_723bp_pg_per_uL': 2.74, 'qpcr_723bp_values': [], 'qpcr_90bp_pg_per_uL': 71.08, 'qpcr_90bp_values': [], 'qpcr_ratio': 0.039}, 'sample_id': 22155, 'secondary_id_tube': '121230-pre-1F1', 'well': 'H08'}, {'flow_cytometry': {'double_negative_cv_pct': 2.116082772, 'double_negative_mean_events_per_uL': 21829.33333, 'double_negative_values': [], 'platelet_cv_pct': 7.066300484, 'platelet_mean_events_per_uL': 829.3333332999998, 'platelet_values': [], 'rbc_cv_pct': None, 'rbc_mean_events_per_uL': None, 'rbc_values': [], 'wbc_mean_events_per_uL': 6.0, 'wbc_values': []}, 'hemoglobin': {'hemoglobin_cv_pct': 4.582482703999999, 'hemoglobin_mean_mg_per_mL': 0.024333333, 'hemoglobin_values': []}, 'lims_barcode_tube': 'R00155108', 'lunatic': {'lunatic_bilirubin_cv_pct': 7.78, 'lunatic_bilirubin_mg_per_dL': 0.34, 'lunatic_bilirubin_values': [], 'lunatic_hemoglobin_cv_pct': 5.06, 'lunatic_hemoglobin_mg_per_dL': 7.54, 'lunatic_hemoglobin_values': [], 'lunatic_protein_cv_pct': 6.69, 'lunatic_protein_mg_per_mL': 70.48, 'lunatic_protein_values': [], 'lunatic_turbidity_cv_pct': 24.29, 'lunatic_turbidity_mean': None, 'lunatic_turbidity_values': []}, 'name_batch': 'DC2_BG1_WGS_3', 'qPCR': {'qpcr_723bp_pg_per_uL': 2.74, 'qpcr_723bp_values': [], 'qpcr_90bp_pg_per_uL': 71.08, 'qpcr_90bp_values': [], 'qpcr_ratio': 0.039}, 'sample_id': 22155, 'secondary_id_tube': '121230-pre-1F1', 'well': 'H08'}, {'flow_cytometry': {'double_negative_cv_pct': 2.116082772, 'double_negative_mean_events_per_uL': 21829.33333, 'double_negative_values': [], 'platelet_cv_pct': 7.066300484, 'platelet_mean_events_per_uL': 829.3333332999998, 'platelet_values': [], 'rbc_cv_pct': None, 'rbc_mean_events_per_uL': None, 'rbc_values': [], 'wbc_mean_events_per_uL': 6.0, 'wbc_values': []}, 'hemoglobin': {'hemoglobin_cv_pct': 4.582482703999999, 'hemoglobin_mean_mg_per_mL': 0.024333333, 'hemoglobin_values': []}, 'lims_barcode_tube': 'R00155108', 'lunatic': {'lunatic_bilirubin_cv_pct': 7.78, 'lunatic_bilirubin_mg_per_dL': 0.34, 'lunatic_bilirubin_values': [], 'lunatic_hemoglobin_cv_pct': 5.06, 'lunatic_hemoglobin_mg_per_dL': 7.54, 'lunatic_hemoglobin_values': [], 'lunatic_protein_cv_pct': 6.69, 'lunatic_protein_mg_per_mL': 70.48, 'lunatic_protein_values': [], 'lunatic_turbidity_cv_pct': 24.29, 'lunatic_turbidity_mean': None, 'lunatic_turbidity_values': []}, 'name_batch': 'DC2_BG1_WGS_3', 'qPCR': {'qpcr_723bp_pg_per_uL': 2.74, 'qpcr_723bp_values': [], 'qpcr_90bp_pg_per_uL': 71.08, 'qpcr_90bp_values': [], 'qpcr_ratio': 0.039}, 'sample_id': 22155, 'secondary_id_tube': '121230-pre-1F1', 'well': 'H08'}, {'flow_cytometry': {'double_negative_cv_pct': 2.116082772, 'double_negative_mean_events_per_uL': 21829.33333, 'double_negative_values': [], 'platelet_cv_pct': 7.066300484, 'platelet_mean_events_per_uL': 829.3333332999998, 'platelet_values': [], 'rbc_cv_pct': None, 'rbc_mean_events_per_uL': None, 'rbc_values': [], 'wbc_mean_events_per_uL': 6.0, 'wbc_values': []}, 'hemoglobin': {'hemoglobin_cv_pct': 4.582482703999999, 'hemoglobin_mean_mg_per_mL': 0.024333333, 'hemoglobin_values': []}, 'lims_barcode_tube': 'R00155108', 'lunatic': {'lunatic_bilirubin_cv_pct': 7.78, 'lunatic_bilirubin_mg_per_dL': 0.34, 'lunatic_bilirubin_values': [], 'lunatic_hemoglobin_cv_pct': 5.06, 'lunatic_hemoglobin_mg_per_dL': 7.54, 'lunatic_hemoglobin_values': [], 'lunatic_protein_cv_pct': 6.69, 'lunatic_protein_mg_per_mL': 70.48, 'lunatic_protein_values': [], 'lunatic_turbidity_cv_pct': 24.29, 'lunatic_turbidity_mean': None, 'lunatic_turbidity_values': []}, 'name_batch': 'DC2_BG1_WGS_3', 'qPCR': {'qpcr_723bp_pg_per_uL': 2.74, 'qpcr_723bp_values': [], 'qpcr_90bp_pg_per_uL': 71.08, 'qpcr_90bp_values': [], 'qpcr_ratio': 0.039}, 'sample_id': 22155, 'secondary_id_tube': '121230-pre-1F1', 'well': 'H08'}, {'flow_cytometry': {'double_negative_cv_pct': 2.116082772, 'double_negative_mean_events_per_uL': 21829.33333, 'double_negative_values': [], 'platelet_cv_pct': 7.066300484, 'platelet_mean_events_per_uL': 829.3333332999998, 'platelet_values': [], 'rbc_cv_pct': None, 'rbc_mean_events_per_uL': None, 'rbc_values': [], 'wbc_mean_events_per_uL': 6.0, 'wbc_values': []}, 'hemoglobin': {'hemoglobin_cv_pct': 4.582482703999999, 'hemoglobin_mean_mg_per_mL': 0.024333333, 'hemoglobin_values': []}, 'lims_barcode_tube': 'R00155108', 'lunatic': {'lunatic_bilirubin_cv_pct': 7.78, 'lunatic_bilirubin_mg_per_dL': 0.34, 'lunatic_bilirubin_values': [], 'lunatic_hemoglobin_cv_pct': 5.06, 'lunatic_hemoglobin_mg_per_dL': 7.54, 'lunatic_hemoglobin_values': [], 'lunatic_protein_cv_pct': 6.69, 'lunatic_protein_mg_per_mL': 70.48, 'lunatic_protein_values': [], 'lunatic_turbidity_cv_pct': 24.29, 'lunatic_turbidity_mean': None, 'lunatic_turbidity_values': []}, 'name_batch': 'DC2_BG1_WGS_3', 'qPCR': {'qpcr_723bp_pg_per_uL': 2.74, 'qpcr_723bp_values': [], 'qpcr_90bp_pg_per_uL': 71.08, 'qpcr_90bp_values': [], 'qpcr_ratio': 0.039}, 'sample_id': 22155, 'secondary_id_tube': '121230-pre-1F1', 'well': 'H08'}, {'flow_cytometry': {'double_negative_cv_pct': 2.116082772, 'double_negative_mean_events_per_uL': 21829.33333, 'double_negative_values': [], 'platelet_cv_pct': 7.066300484, 'platelet_mean_events_per_uL': 829.3333332999998, 'platelet_values': [], 'rbc_cv_pct': None, 'rbc_mean_events_per_uL': None, 'rbc_values': [], 'wbc_mean_events_per_uL': 6.0, 'wbc_values': []}, 'hemoglobin': {'hemoglobin_cv_pct': 4.582482703999999, 'hemoglobin_mean_mg_per_mL': 0.024333333, 'hemoglobin_values': []}, 'lims_barcode_tube': 'R00155108', 'lunatic': {'lunatic_bilirubin_cv_pct': 7.78, 'lunatic_bilirubin_mg_per_dL': 0.34, 'lunatic_bilirubin_values': [], 'lunatic_hemoglobin_cv_pct': 5.06, 'lunatic_hemoglobin_mg_per_dL': 7.54, 'lunatic_hemoglobin_values': [], 'lunatic_protein_cv_pct': 6.69, 'lunatic_protein_mg_per_mL': 70.48, 'lunatic_protein_values': [], 'lunatic_turbidity_cv_pct': 24.29, 'lunatic_turbidity_mean': None, 'lunatic_turbidity_values': []}, 'name_batch': 'DC2_BG1_WGS_3', 'qPCR': {'qpcr_723bp_pg_per_uL': 2.74, 'qpcr_723bp_values': [], 'qpcr_90bp_pg_per_uL': 71.08, 'qpcr_90bp_values': [], 'qpcr_ratio': 0.039}, 'sample_id': 22155, 'secondary_id_tube': '121230-pre-1F1', 'well': 'H08'}, {'flow_cytometry': {'double_negative_cv_pct': 2.116082772, 'double_negative_mean_events_per_uL': 21829.33333, 'double_negative_values': [], 'platelet_cv_pct': 7.066300484, 'platelet_mean_events_per_uL': 829.3333332999998, 'platelet_values': [], 'rbc_cv_pct': None, 'rbc_mean_events_per_uL': None, 'rbc_values': [], 'wbc_mean_events_per_uL': 6.0, 'wbc_values': []}, 'hemoglobin': {'hemoglobin_cv_pct': 4.582482703999999, 'hemoglobin_mean_mg_per_mL': 0.024333333, 'hemoglobin_values': []}, 'lims_barcode_tube': 'R00155108', 'lunatic': {'lunatic_bilirubin_cv_pct': 7.78, 'lunatic_bilirubin_mg_per_dL': 0.34, 'lunatic_bilirubin_values': [], 'lunatic_hemoglobin_cv_pct': 5.06, 'lunatic_hemoglobin_mg_per_dL': 7.54, 'lunatic_hemoglobin_values': [], 'lunatic_protein_cv_pct': 6.69, 'lunatic_protein_mg_per_mL': 70.48, 'lunatic_protein_values': [], 'lunatic_turbidity_cv_pct': 24.29, 'lunatic_turbidity_mean': None, 'lunatic_turbidity_values': []}, 'name_batch': 'DC2_BG1_WGS_3', 'qPCR': {'qpcr_723bp_pg_per_uL': 2.74, 'qpcr_723bp_values': [], 'qpcr_90bp_pg_per_uL': 71.08, 'qpcr_90bp_values': [], 'qpcr_ratio': 0.039}, 'sample_id': 22155, 'secondary_id_tube': '121230-pre-1F1', 'well': 'H08'}, {'flow_cytometry': {'double_negative_cv_pct': 2.116082772, 'double_negative_mean_events_per_uL': 21829.33333, 'double_negative_values': [], 'platelet_cv_pct': 7.066300484, 'platelet_mean_events_per_uL': 829.3333332999998, 'platelet_values': [], 'rbc_cv_pct': None, 'rbc_mean_events_per_uL': None, 'rbc_values': [], 'wbc_mean_events_per_uL': 6.0, 'wbc_values': []}, 'hemoglobin': {'hemoglobin_cv_pct': 4.582482703999999, 'hemoglobin_mean_mg_per_mL': 0.024333333, 'hemoglobin_values': []}, 'lims_barcode_tube': 'R00155108', 'lunatic': {'lunatic_bilirubin_cv_pct': 7.78, 'lunatic_bilirubin_mg_per_dL': 0.34, 'lunatic_bilirubin_values': [], 'lunatic_hemoglobin_cv_pct': 5.06, 'lunatic_hemoglobin_mg_per_dL': 7.54, 'lunatic_hemoglobin_values': [], 'lunatic_protein_cv_pct': 6.69, 'lunatic_protein_mg_per_mL': 70.48, 'lunatic_protein_values': [], 'lunatic_turbidity_cv_pct': 24.29, 'lunatic_turbidity_mean': None, 'lunatic_turbidity_values': []}, 'name_batch': 'DC2_BG1_WGS_3', 'qPCR': {'qpcr_723bp_pg_per_uL': 2.74, 'qpcr_723bp_values': [], 'qpcr_90bp_pg_per_uL': 71.08, 'qpcr_90bp_values': [], 'qpcr_ratio': 0.039}, 'sample_id': 22155, 'secondary_id_tube': '121230-pre-1F1', 'well': 'H08'}, {'flow_cytometry': {'double_negative_cv_pct': 2.116082772, 'double_negative_mean_events_per_uL': 21829.33333, 'double_negative_values': [], 'platelet_cv_pct': 7.066300484, 'platelet_mean_events_per_uL': 829.3333332999998, 'platelet_values': [], 'rbc_cv_pct': None, 'rbc_mean_events_per_uL': None, 'rbc_values': [], 'wbc_mean_events_per_uL': 6.0, 'wbc_values': []}, 'hemoglobin': {'hemoglobin_cv_pct': 4.582482703999999, 'hemoglobin_mean_mg_per_mL': 0.024333333, 'hemoglobin_values': []}, 'lims_barcode_tube': 'R00155108', 'lunatic': {'lunatic_bilirubin_cv_pct': 7.78, 'lunatic_bilirubin_mg_per_dL': 0.34, 'lunatic_bilirubin_values': [], 'lunatic_hemoglobin_cv_pct': 5.06, 'lunatic_hemoglobin_mg_per_dL': 7.54, 'lunatic_hemoglobin_values': [], 'lunatic_protein_cv_pct': 6.69, 'lunatic_protein_mg_per_mL': 70.48, 'lunatic_protein_values': [], 'lunatic_turbidity_cv_pct': 24.29, 'lunatic_turbidity_mean': None, 'lunatic_turbidity_values': []}, 'name_batch': 'DC2_BG1_WGS_3', 'qPCR': {'qpcr_723bp_pg_per_uL': 2.74, 'qpcr_723bp_values': [], 'qpcr_90bp_pg_per_uL': 71.08, 'qpcr_90bp_values': [], 'qpcr_ratio': 0.039}, 'sample_id': 22155, 'secondary_id_tube': '121230-pre-1F1', 'well': 'H08'}, {'flow_cytometry': {'double_negative_cv_pct': 2.116082772, 'double_negative_mean_events_per_uL': 21829.33333, 'double_negative_values': [], 'platelet_cv_pct': 7.066300484, 'platelet_mean_events_per_uL': 829.3333332999998, 'platelet_values': [], 'rbc_cv_pct': None, 'rbc_mean_events_per_uL': None, 'rbc_values': [], 'wbc_mean_events_per_uL': 6.0, 'wbc_values': []}, 'hemoglobin': {'hemoglobin_cv_pct': 4.582482703999999, 'hemoglobin_mean_mg_per_mL': 0.024333333, 'hemoglobin_values': []}, 'lims_barcode_tube': 'R00155108', 'lunatic': {'lunatic_bilirubin_cv_pct': 7.78, 'lunatic_bilirubin_mg_per_dL': 0.34, 'lunatic_bilirubin_values': [], 'lunatic_hemoglobin_cv_pct': 5.06, 'lunatic_hemoglobin_mg_per_dL': 7.54, 'lunatic_hemoglobin_values': [], 'lunatic_protein_cv_pct': 6.69, 'lunatic_protein_mg_per_mL': 70.48, 'lunatic_protein_values': [], 'lunatic_turbidity_cv_pct': 24.29, 'lunatic_turbidity_mean': None, 'lunatic_turbidity_values': []}, 'name_batch': 'DC2_BG1_WGS_3', 'qPCR': {'qpcr_723bp_pg_per_uL': 2.74, 'qpcr_723bp_values': [], 'qpcr_90bp_pg_per_uL': 71.08, 'qpcr_90bp_values': [], 'qpcr_ratio': 0.039}, 'sample_id': 22155, 'secondary_id_tube': '121230-pre-1F1', 'well': 'H08'}, {'flow_cytometry': {'double_negative_cv_pct': 2.116082772, 'double_negative_mean_events_per_uL': 21829.33333, 'double_negative_values': [], 'platelet_cv_pct': 7.066300484, 'platelet_mean_events_per_uL': 829.3333332999998, 'platelet_values': [], 'rbc_cv_pct': None, 'rbc_mean_events_per_uL': None, 'rbc_values': [], 'wbc_mean_events_per_uL': 6.0, 'wbc_values': []}, 'hemoglobin': {'hemoglobin_cv_pct': 4.582482703999999, 'hemoglobin_mean_mg_per_mL': 0.024333333, 'hemoglobin_values': []}, 'lims_barcode_tube': 'R00155108', 'lunatic': {'lunatic_bilirubin_cv_pct': 7.78, 'lunatic_bilirubin_mg_per_dL': 0.34, 'lunatic_bilirubin_values': [], 'lunatic_hemoglobin_cv_pct': 5.06, 'lunatic_hemoglobin_mg_per_dL': 7.54, 'lunatic_hemoglobin_values': [], 'lunatic_protein_cv_pct': 6.69, 'lunatic_protein_mg_per_mL': 70.48, 'lunatic_protein_values': [], 'lunatic_turbidity_cv_pct': 24.29, 'lunatic_turbidity_mean': None, 'lunatic_turbidity_values': []}, 'name_batch': 'DC2_BG1_WGS_3', 'qPCR': {'qpcr_723bp_pg_per_uL': 2.74, 'qpcr_723bp_values': [], 'qpcr_90bp_pg_per_uL': 71.08, 'qpcr_90bp_values': [], 'qpcr_ratio': 0.039}, 'sample_id': 22155, 'secondary_id_tube': '121230-pre-1F1', 'well': 'H08'}, {'flow_cytometry': {'double_negative_cv_pct': 2.116082772, 'double_negative_mean_events_per_uL': 21829.33333, 'double_negative_values': [], 'platelet_cv_pct': 7.066300484, 'platelet_mean_events_per_uL': 829.3333332999998, 'platelet_values': [], 'rbc_cv_pct': None, 'rbc_mean_events_per_uL': None, 'rbc_values': [], 'wbc_mean_events_per_uL': 6.0, 'wbc_values': []}, 'hemoglobin': {'hemoglobin_cv_pct': 4.582482703999999, 'hemoglobin_mean_mg_per_mL': 0.024333333, 'hemoglobin_values': []}, 'lims_barcode_tube': 'R00155108', 'lunatic': {'lunatic_bilirubin_cv_pct': 7.78, 'lunatic_bilirubin_mg_per_dL': 0.34, 'lunatic_bilirubin_values': [], 'lunatic_hemoglobin_cv_pct': 5.06, 'lunatic_hemoglobin_mg_per_dL': 7.54, 'lunatic_hemoglobin_values': [], 'lunatic_protein_cv_pct': 6.69, 'lunatic_protein_mg_per_mL': 70.48, 'lunatic_protein_values': [], 'lunatic_turbidity_cv_pct': 24.29, 'lunatic_turbidity_mean': None, 'lunatic_turbidity_values': []}, 'name_batch': 'DC2_BG1_WGS_3', 'qPCR': {'qpcr_723bp_pg_per_uL': 2.74, 'qpcr_723bp_values': [], 'qpcr_90bp_pg_per_uL': 71.08, 'qpcr_90bp_values': [], 'qpcr_ratio': 0.039}, 'sample_id': 22155, 'secondary_id_tube': '121230-pre-1F1', 'well': 'H08'}, {'flow_cytometry': {'double_negative_cv_pct': 2.116082772, 'double_negative_mean_events_per_uL': 21829.33333, 'double_negative_values': [], 'platelet_cv_pct': 7.066300484, 'platelet_mean_events_per_uL': 829.3333332999998, 'platelet_values': [], 'rbc_cv_pct': None, 'rbc_mean_events_per_uL': None, 'rbc_values': [], 'wbc_mean_events_per_uL': 6.0, 'wbc_values': []}, 'hemoglobin': {'hemoglobin_cv_pct': 4.582482703999999, 'hemoglobin_mean_mg_per_mL': 0.024333333, 'hemoglobin_values': []}, 'lims_barcode_tube': 'R00155108', 'lunatic': {'lunatic_bilirubin_cv_pct': 7.78, 'lunatic_bilirubin_mg_per_dL': 0.34, 'lunatic_bilirubin_values': [], 'lunatic_hemoglobin_cv_pct': 5.06, 'lunatic_hemoglobin_mg_per_dL': 7.54, 'lunatic_hemoglobin_values': [], 'lunatic_protein_cv_pct': 6.69, 'lunatic_protein_mg_per_mL': 70.48, 'lunatic_protein_values': [], 'lunatic_turbidity_cv_pct': 24.29, 'lunatic_turbidity_mean': None, 'lunatic_turbidity_values': []}, 'name_batch': 'DC2_BG1_WGS_3', 'qPCR': {'qpcr_723bp_pg_per_uL': 2.74, 'qpcr_723bp_values': [], 'qpcr_90bp_pg_per_uL': 71.08, 'qpcr_90bp_values': [], 'qpcr_ratio': 0.039}, 'sample_id': 22155, 'secondary_id_tube': '121230-pre-1F1', 'well': 'H08'}, {'flow_cytometry': {'double_negative_cv_pct': 2.116082772, 'double_negative_mean_events_per_uL': 21829.33333, 'double_negative_values': [], 'platelet_cv_pct': 7.066300484, 'platelet_mean_events_per_uL': 829.3333332999998, 'platelet_values': [], 'rbc_cv_pct': None, 'rbc_mean_events_per_uL': None, 'rbc_values': [], 'wbc_mean_events_per_uL': 6.0, 'wbc_values': []}, 'hemoglobin': {'hemoglobin_cv_pct': 4.582482703999999, 'hemoglobin_mean_mg_per_mL': 0.024333333, 'hemoglobin_values': []}, 'lims_barcode_tube': 'R00155108', 'lunatic': {'lunatic_bilirubin_cv_pct': 7.78, 'lunatic_bilirubin_mg_per_dL': 0.34, 'lunatic_bilirubin_values': [], 'lunatic_hemoglobin_cv_pct': 5.06, 'lunatic_hemoglobin_mg_per_dL': 7.54, 'lunatic_hemoglobin_values': [], 'lunatic_protein_cv_pct': 6.69, 'lunatic_protein_mg_per_mL': 70.48, 'lunatic_protein_values': [], 'lunatic_turbidity_cv_pct': 24.29, 'lunatic_turbidity_mean': None, 'lunatic_turbidity_values': []}, 'name_batch': 'DC2_BG1_WGS_3', 'qPCR': {'qpcr_723bp_pg_per_uL': 2.74, 'qpcr_723bp_values': [], 'qpcr_90bp_pg_per_uL': 71.08, 'qpcr_90bp_values': [], 'qpcr_ratio': 0.039}, 'sample_id': 22155, 'secondary_id_tube': '121230-pre-1F1', 'well': 'H08'}, {'flow_cytometry': {'double_negative_cv_pct': 2.116082772, 'double_negative_mean_events_per_uL': 21829.33333, 'double_negative_values': [], 'platelet_cv_pct': 7.066300484, 'platelet_mean_events_per_uL': 829.3333332999998, 'platelet_values': [], 'rbc_cv_pct': None, 'rbc_mean_events_per_uL': None, 'rbc_values': [], 'wbc_mean_events_per_uL': 6.0, 'wbc_values': []}, 'hemoglobin': {'hemoglobin_cv_pct': 4.582482703999999, 'hemoglobin_mean_mg_per_mL': 0.024333333, 'hemoglobin_values': []}, 'lims_barcode_tube': 'R00155108', 'lunatic': {'lunatic_bilirubin_cv_pct': 7.78, 'lunatic_bilirubin_mg_per_dL': 0.34, 'lunatic_bilirubin_values': [], 'lunatic_hemoglobin_cv_pct': 5.06, 'lunatic_hemoglobin_mg_per_dL': 7.54, 'lunatic_hemoglobin_values': [], 'lunatic_protein_cv_pct': 6.69, 'lunatic_protein_mg_per_mL': 70.48, 'lunatic_protein_values': [], 'lunatic_turbidity_cv_pct': 24.29, 'lunatic_turbidity_mean': None, 'lunatic_turbidity_values': []}, 'name_batch': 'DC2_BG1_WGS_3', 'qPCR': {'qpcr_723bp_pg_per_uL': 2.74, 'qpcr_723bp_values': [], 'qpcr_90bp_pg_per_uL': 71.08, 'qpcr_90bp_values': [], 'qpcr_ratio': 0.039}, 'sample_id': 22155, 'secondary_id_tube': '121230-pre-1F1', 'well': 'H08'}, {'flow_cytometry': {'double_negative_cv_pct': 2.116082772, 'double_negative_mean_events_per_uL': 21829.33333, 'double_negative_values': [], 'platelet_cv_pct': 7.066300484, 'platelet_mean_events_per_uL': 829.3333332999998, 'platelet_values': [], 'rbc_cv_pct': None, 'rbc_mean_events_per_uL': None, 'rbc_values': [], 'wbc_mean_events_per_uL': 6.0, 'wbc_values': []}, 'hemoglobin': {'hemoglobin_cv_pct': 4.582482703999999, 'hemoglobin_mean_mg_per_mL': 0.024333333, 'hemoglobin_values': []}, 'lims_barcode_tube': 'R00155108', 'lunatic': {'lunatic_bilirubin_cv_pct': 7.78, 'lunatic_bilirubin_mg_per_dL': 0.34, 'lunatic_bilirubin_values': [], 'lunatic_hemoglobin_cv_pct': 5.06, 'lunatic_hemoglobin_mg_per_dL': 7.54, 'lunatic_hemoglobin_values': [], 'lunatic_protein_cv_pct': 6.69, 'lunatic_protein_mg_per_mL': 70.48, 'lunatic_protein_values': [], 'lunatic_turbidity_cv_pct': 24.29, 'lunatic_turbidity_mean': None, 'lunatic_turbidity_values': []}, 'name_batch': 'DC2_BG1_WGS_3', 'qPCR': {'qpcr_723bp_pg_per_uL': 2.74, 'qpcr_723bp_values': [], 'qpcr_90bp_pg_per_uL': 71.08, 'qpcr_90bp_values': [], 'qpcr_ratio': 0.039}, 'sample_id': 22155, 'secondary_id_tube': '121230-pre-1F1', 'well': 'H08'}, {'flow_cytometry': {'double_negative_cv_pct': 2.116082772, 'double_negative_mean_events_per_uL': 21829.33333, 'double_negative_values': [], 'platelet_cv_pct': 7.066300484, 'platelet_mean_events_per_uL': 829.3333332999998, 'platelet_values': [], 'rbc_cv_pct': None, 'rbc_mean_events_per_uL': None, 'rbc_values': [], 'wbc_mean_events_per_uL': 6.0, 'wbc_values': []}, 'hemoglobin': {'hemoglobin_cv_pct': 4.582482703999999, 'hemoglobin_mean_mg_per_mL': 0.024333333, 'hemoglobin_values': []}, 'lims_barcode_tube': 'R00155108', 'lunatic': {'lunatic_bilirubin_cv_pct': 7.78, 'lunatic_bilirubin_mg_per_dL': 0.34, 'lunatic_bilirubin_values': [], 'lunatic_hemoglobin_cv_pct': 5.06, 'lunatic_hemoglobin_mg_per_dL': 7.54, 'lunatic_hemoglobin_values': [], 'lunatic_protein_cv_pct': 6.69, 'lunatic_protein_mg_per_mL': 70.48, 'lunatic_protein_values': [], 'lunatic_turbidity_cv_pct': 24.29, 'lunatic_turbidity_mean': None, 'lunatic_turbidity_values': []}, 'name_batch': 'DC2_BG1_WGS_3', 'qPCR': {'qpcr_723bp_pg_per_uL': 2.74, 'qpcr_723bp_values': [], 'qpcr_90bp_pg_per_uL': 71.08, 'qpcr_90bp_values': [], 'qpcr_ratio': 0.039}, 'sample_id': 22155, 'secondary_id_tube': '121230-pre-1F1', 'well': 'H08'}], raw_study_metadata={'study': 'DC2 BG1', 'sample_id': 22155, 'sample_secondary_id': '121230-pre', 'patient_id': 25203, 'patient_secondary_id': '121230', 'patient_duplicates': None, 'discovery_study': True, 'pre_post_study': False, 'pon': None, 'discovery_analysis_batch': 'alpha', 'pre_post_analysis_batch': None, 'notes': None, 'wgs_processing_batch': 'BG1 PB3', 'olink_processing_batch': 'BG1 PB3', 'cdi_processing_batch': 'BG1 PB6', 'methyl_processing_batch': None})"
      ]
     },
     "execution_count": 16,
     "metadata": {},
     "output_type": "execute_result"
    }
   ],
   "source": [
    "metas[0]"
   ]
  },
  {
   "cell_type": "code",
   "execution_count": null,
   "id": "5a4e4dbc-ccf7-47b0-97d8-8902cd855ef5",
   "metadata": {},
   "outputs": [],
   "source": []
  }
 ],
 "metadata": {
  "kernelspec": {
   "display_name": "Python (pineappleflow2)",
   "language": "python",
   "name": "pineappleflow2"
  },
  "language_info": {
   "codemirror_mode": {
    "name": "ipython",
    "version": 3
   },
   "file_extension": ".py",
   "mimetype": "text/x-python",
   "name": "python",
   "nbconvert_exporter": "python",
   "pygments_lexer": "ipython3",
   "version": "3.8.6"
  }
 },
 "nbformat": 4,
 "nbformat_minor": 5
}
