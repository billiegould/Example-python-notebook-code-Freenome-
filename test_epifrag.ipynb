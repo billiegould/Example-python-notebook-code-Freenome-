{
 "cells": [
  {
   "cell_type": "markdown",
   "metadata": {},
   "source": [
    "### Test EpiFrag"
   ]
  },
  {
   "cell_type": "code",
   "execution_count": 1,
   "metadata": {},
   "outputs": [
    {
     "name": "stdout",
     "output_type": "stream",
     "text": [
      "A\n"
     ]
    }
   ],
   "source": [
    "#from configs.project_configs import GENOME_REFERENCE_FASTA as REF\n",
    "\n",
    "REF = \"/Users/billiegould/src/reference/\"\n",
    "\n",
    "#from core.genomic_utilities.methyl.epifrag import MethylAlignmentFile, ConsensusMethylatedFragment, MethylStatus\n",
    "import sys\n",
    "sys.path.append(\"/home/billiegould/src/Methyl/noise_motif_finder/\")\n",
    "from bg_epifrag import MethylatedFragment, MethylAlignmentFile, ConsensusMethylatedFragment, MethylStatus\n",
    "\n",
    "\n",
    "from collections import defaultdict, Counter\n",
    "from contextlib import closing\n",
    "import pyfaidx\n",
    "import pandas as pd\n",
    "import numpy as np\n",
    "\n",
    "print(\"A\")\n",
    "\n",
    "\n"
   ]
  },
  {
   "cell_type": "code",
   "execution_count": null,
   "metadata": {},
   "outputs": [],
   "source": []
  },
  {
   "cell_type": "code",
   "execution_count": 2,
   "metadata": {},
   "outputs": [],
   "source": [
    "#test_region = (\"chr1\", 632108, 632228) # first region of V1 panel\n",
    "test_region = (\"chr1\", 1206230, 1206960) # region 17\n",
    "\n",
    "# a random bam from same fc as 0% methylated V1 sample\n",
    "test_bam = \"/home/billiegould/src/Methyl/noise_motif_finder/S_45_I_59-59_TTCGCCAT-TTCGCCAT_S45.marked.bam\"\n",
    "n_reads = 50"
   ]
  },
  {
   "cell_type": "code",
   "execution_count": 3,
   "metadata": {},
   "outputs": [
    {
     "ename": "FastaNotFoundError",
     "evalue": "Cannot read FASTA file /static/bioinformatics-static-v20180124/references/genomes/hs38DH/hs38DH.fa",
     "output_type": "error",
     "traceback": [
      "\u001b[0;31m---------------------------------------------------------------------------\u001b[0m",
      "\u001b[0;31mFileNotFoundError\u001b[0m                         Traceback (most recent call last)",
      "\u001b[0;32m/Users/billiegould/.pyenv/versions/3.7.6/envs/research/lib/python3.7/site-packages/pyfaidx/__init__.py\u001b[0m in \u001b[0;36m__init__\u001b[0;34m(self, filename, default_seq, key_function, as_raw, strict_bounds, read_ahead, mutable, split_char, duplicate_action, filt_function, one_based_attributes, read_long_names, sequence_always_upper, rebuild, build_index)\u001b[0m\n\u001b[1;32m    358\u001b[0m             self.file = self._fasta_opener(filename, 'r+b'\n\u001b[0;32m--> 359\u001b[0;31m                                            if mutable else 'rb')\n\u001b[0m\u001b[1;32m    360\u001b[0m         \u001b[0;32mexcept\u001b[0m \u001b[0;34m(\u001b[0m\u001b[0mValueError\u001b[0m\u001b[0;34m,\u001b[0m \u001b[0mIOError\u001b[0m\u001b[0;34m)\u001b[0m \u001b[0;32mas\u001b[0m \u001b[0me\u001b[0m\u001b[0;34m:\u001b[0m\u001b[0;34m\u001b[0m\u001b[0;34m\u001b[0m\u001b[0m\n",
      "\u001b[0;31mFileNotFoundError\u001b[0m: [Errno 2] No such file or directory: '/static/bioinformatics-static-v20180124/references/genomes/hs38DH/hs38DH.fa'",
      "\nDuring handling of the above exception, another exception occurred:\n",
      "\u001b[0;31mFastaNotFoundError\u001b[0m                        Traceback (most recent call last)",
      "\u001b[0;32m<ipython-input-3-26190cc8f14c>\u001b[0m in \u001b[0;36m<module>\u001b[0;34m()\u001b[0m\n\u001b[0;32m----> 1\u001b[0;31m \u001b[0;32mwith\u001b[0m \u001b[0mclosing\u001b[0m\u001b[0;34m(\u001b[0m\u001b[0mpyfaidx\u001b[0m\u001b[0;34m.\u001b[0m\u001b[0mFasta\u001b[0m\u001b[0;34m(\u001b[0m\u001b[0mREF\u001b[0m\u001b[0;34m)\u001b[0m\u001b[0;34m)\u001b[0m \u001b[0;32mas\u001b[0m \u001b[0mref\u001b[0m\u001b[0;34m:\u001b[0m\u001b[0;34m\u001b[0m\u001b[0;34m\u001b[0m\u001b[0m\n\u001b[0m\u001b[1;32m      2\u001b[0m     with MethylAlignmentFile(\n\u001b[1;32m      3\u001b[0m             \u001b[0malignment_file\u001b[0m\u001b[0;34m=\u001b[0m\u001b[0mtest_bam\u001b[0m\u001b[0;34m,\u001b[0m\u001b[0;34m\u001b[0m\u001b[0;34m\u001b[0m\u001b[0m\n\u001b[1;32m      4\u001b[0m             \u001b[0mref\u001b[0m\u001b[0;34m=\u001b[0m\u001b[0mref\u001b[0m\u001b[0;34m,\u001b[0m\u001b[0;34m\u001b[0m\u001b[0;34m\u001b[0m\u001b[0m\n\u001b[1;32m      5\u001b[0m             \u001b[0mignore_last_n_bp_fragment\u001b[0m\u001b[0;34m=\u001b[0m\u001b[0;36m0\u001b[0m\u001b[0;34m,\u001b[0m\u001b[0;34m\u001b[0m\u001b[0;34m\u001b[0m\u001b[0m\n",
      "\u001b[0;32m/Users/billiegould/.pyenv/versions/3.7.6/envs/research/lib/python3.7/site-packages/pyfaidx/__init__.py\u001b[0m in \u001b[0;36m__init__\u001b[0;34m(self, filename, default_seq, key_function, as_raw, strict_bounds, read_ahead, mutable, split_char, filt_function, one_based_attributes, read_long_names, duplicate_action, sequence_always_upper, rebuild, build_index)\u001b[0m\n\u001b[1;32m    997\u001b[0m             \u001b[0msequence_always_upper\u001b[0m\u001b[0;34m=\u001b[0m\u001b[0msequence_always_upper\u001b[0m\u001b[0;34m,\u001b[0m\u001b[0;34m\u001b[0m\u001b[0;34m\u001b[0m\u001b[0m\n\u001b[1;32m    998\u001b[0m             \u001b[0mrebuild\u001b[0m\u001b[0;34m=\u001b[0m\u001b[0mrebuild\u001b[0m\u001b[0;34m,\u001b[0m\u001b[0;34m\u001b[0m\u001b[0;34m\u001b[0m\u001b[0m\n\u001b[0;32m--> 999\u001b[0;31m             build_index=build_index)\n\u001b[0m\u001b[1;32m   1000\u001b[0m \u001b[0;34m\u001b[0m\u001b[0m\n\u001b[1;32m   1001\u001b[0m         \u001b[0m_record_constructor\u001b[0m \u001b[0;34m=\u001b[0m \u001b[0mMutableFastaRecord\u001b[0m \u001b[0;32mif\u001b[0m \u001b[0mself\u001b[0m\u001b[0;34m.\u001b[0m\u001b[0mmutable\u001b[0m \u001b[0;32melse\u001b[0m \u001b[0mFastaRecord\u001b[0m\u001b[0;34m\u001b[0m\u001b[0;34m\u001b[0m\u001b[0m\n",
      "\u001b[0;32m/Users/billiegould/.pyenv/versions/3.7.6/envs/research/lib/python3.7/site-packages/pyfaidx/__init__.py\u001b[0m in \u001b[0;36m__init__\u001b[0;34m(self, filename, default_seq, key_function, as_raw, strict_bounds, read_ahead, mutable, split_char, duplicate_action, filt_function, one_based_attributes, read_long_names, sequence_always_upper, rebuild, build_index)\u001b[0m\n\u001b[1;32m    366\u001b[0m             \u001b[0;32melse\u001b[0m\u001b[0;34m:\u001b[0m\u001b[0;34m\u001b[0m\u001b[0;34m\u001b[0m\u001b[0m\n\u001b[1;32m    367\u001b[0m                 raise FastaNotFoundError(\n\u001b[0;32m--> 368\u001b[0;31m                     \"Cannot read FASTA file %s\" % filename)\n\u001b[0m\u001b[1;32m    369\u001b[0m \u001b[0;34m\u001b[0m\u001b[0m\n\u001b[1;32m    370\u001b[0m         \u001b[0mself\u001b[0m\u001b[0;34m.\u001b[0m\u001b[0mindexname\u001b[0m \u001b[0;34m=\u001b[0m \u001b[0mfilename\u001b[0m \u001b[0;34m+\u001b[0m \u001b[0;34m'.fai'\u001b[0m\u001b[0;34m\u001b[0m\u001b[0;34m\u001b[0m\u001b[0m\n",
      "\u001b[0;31mFastaNotFoundError\u001b[0m: Cannot read FASTA file /static/bioinformatics-static-v20180124/references/genomes/hs38DH/hs38DH.fa"
     ]
    }
   ],
   "source": [
    "with closing(pyfaidx.Fasta(REF)) as ref:\n",
    "    with MethylAlignmentFile(\n",
    "            alignment_file=test_bam,\n",
    "            ref=ref,\n",
    "            ignore_last_n_bp_fragment=0,\n",
    "            skip_duplicate_removal=False,\n",
    "            min_mapq=50,\n",
    "            max_unconverted_chh_fraction=0.15,\n",
    "            fetch_consensus=True,\n",
    "    ) as methyl_file:\n",
    "\n",
    "        chrom, start, end = test_region\n",
    "\n",
    "        # one dict for the region region\n",
    "        region_motif_counts = {}\n",
    "\n",
    "        n = 0\n",
    "        for methyl_frag in methyl_file.fetch(contig=chrom, start=start, stop=end):\n",
    "            # methyl_frag is ConsensusMethylatedFragment class, the ref seq between the two r1r2 read ends if reads pass filter\n",
    "            if n == 45:\n",
    "                fragment = methyl_frag.support_fragments[0]  # list of fragments that go into the consensus call\n",
    "                print(f\"FRAG: {fragment}\")\n",
    "                #x = fragment.test()\n",
    "                #x = fragment.pass_chh_filter(3)\n",
    "                #print(x)\n",
    "                cpg_dict = fragment.get_methyl_status_loc_map().items()\n",
    "                print(f\"LOC MAP: {len(pd.DataFrame(cpg_dict))}\")\n",
    "\n",
    "                #cpg_dict_filt = fragment.get_methyl_status_loc_map_filtered().items()\n",
    "                #print(f\"NEW LOC MAP {len(pd.DataFrame(cpg_dict_filt))}\")\n",
    "                print(f\"\\n\\n\")\n",
    "            n += 1\n",
    "            if n >= n_reads:\n",
    "                break"
   ]
  },
  {
   "cell_type": "markdown",
   "metadata": {},
   "source": [
    "# make a feature to run this "
   ]
  },
  {
   "cell_type": "code",
   "execution_count": 4,
   "metadata": {},
   "outputs": [],
   "source": [
    "# create column metadata for feature\n",
    "from core.gcloud.file import opener"
   ]
  },
  {
   "cell_type": "code",
   "execution_count": 7,
   "metadata": {},
   "outputs": [
    {
     "data": {
      "text/plain": [
       "(434, 3)"
      ]
     },
     "execution_count": 7,
     "metadata": {},
     "output_type": "execute_result"
    }
   ],
   "source": [
    "# read in regions of interest\n",
    "\n",
    "#434 modeling regions\n",
    "with opener('gs://reference-datafiles/beds/freenome_v1_panel_manual_and_automated_per_region_hmf_definition_20190823.bed',\"r\") as handle:\n",
    "    df_regions = pd.read_csv(handle, sep=\"\\t\", header=None)\n",
    "    df_regions.columns = ['chrom', 'start', 'stop']\n",
    "#     for _, row in df_regions.iterrows():\n",
    "#         reg_name = str(row.chrom) + \"_\"+ str(row.start) + \"_\"+ str(row.stop)\n",
    "#         modeling_regions[row['chrom']].append((row['start'],row['stop'], reg_name))\n",
    "#         modeling_regions_names.append(reg_name)\n",
    "df_regions.head()\n",
    "df_regions.shape\n"
   ]
  },
  {
   "cell_type": "code",
   "execution_count": 8,
   "metadata": {},
   "outputs": [],
   "source": [
    "# create bed file for regions of interest\n",
    "def make_metadata(df_regions, out_pfx:str):\n",
    "    list_of_region_dicts = []\n",
    "    for i, row in df_regions.iterrows():\n",
    "        chrm, start, stop = row[0], row[1], row[2]\n",
    "        #chrm, start, stop, genes = region\n",
    "        list_of_region_dicts.append( {\"chrm\":chrm,\n",
    "                                      \"start\":start,\n",
    "                                      \"stop\":stop,\n",
    "                                      #\"cluster\":cluster\n",
    "                                     })\n",
    "\n",
    "    thresh_dicts = [{f\"thresh{n}\": n} for n in [3,12,25]]    \n",
    "    calc_dicts = [ {\"col1\":\"total_frags\"}, {\"col2\":\"methyl_frags\"}]\n",
    "\n",
    "    np.savez_compressed(f'./{out_pfx}_col_metadata.npz', np.array(list_of_region_dicts), np.array(thresh_dicts), np.array(calc_dicts))\n",
    "    \n",
    "make_metadata(df_regions, \"HMFC_by_min_cpg_CpG_motif_filtered\")"
   ]
  },
  {
   "cell_type": "code",
   "execution_count": null,
   "metadata": {},
   "outputs": [],
   "source": [
    "#created feature : HMFC_by_min_methyl_cpgs_CpG_filtered dim:(434,3,2,)"
   ]
  },
  {
   "cell_type": "code",
   "execution_count": 11,
   "metadata": {},
   "outputs": [],
   "source": [
    "# find a test sample datastet\n",
    "from featureio import FeatureIO"
   ]
  },
  {
   "cell_type": "code",
   "execution_count": 12,
   "metadata": {},
   "outputs": [
    {
     "name": "stdout",
     "output_type": "stream",
     "text": [
      "['SD-000048F9', 'SD-000048FE', 'SD-00004912', 'SD-0000491B', 'SD-0000491C', 'SD-00004923', 'SD-00004925', 'SD-00004927', 'SD-00004930', 'SD-0000493C', 'SD-0000493D', 'SD-00004942', 'SD-00004944', 'SD-00004945', 'SD-00004946', 'SD-0000494B', 'SD-00004978', 'SD-0000499D', 'SD-000049B9', 'SD-000049D5', 'SD-000049E7', 'SD-000049F9']\n"
     ]
    }
   ],
   "source": [
    "with FeatureIO() as ftio:\n",
    "    dataset_list = ftio.get_datasets_for_training_class('colorectal_healthy_tbs_strict_discovery1j_v1_panelofneg')\n",
    "    print(dataset_list)"
   ]
  },
  {
   "cell_type": "code",
   "execution_count": null,
   "metadata": {},
   "outputs": [],
   "source": [
    "# replace epifragpy with bg_epifrag.py in local repo\n",
    "\n",
    "# run build signature to analyze single sample\n",
    "'''\n",
    "build_signature --func summarizer.methods.bamstat_runner.run \\\n",
    "\t--region gs://reference-datafiles/beds/freenome_v1_panel_manual_and_automated_per_region_hmf_definition_20190823.bed \\\n",
    "\t--statistic_kwargs \"{'min_methyl_cpgs': [3,12,25]}” \\\n",
    "\t--methyl_frag_statistic HMFC\n",
    "\t--input SD-000048F9\n",
    "\t--out_path HMFC_by_min_methyl_cpgs_CpG_filtered \\ \n",
    "\t--version 1\n",
    "\t--c 16\n",
    "'''"
   ]
  },
  {
   "cell_type": "code",
   "execution_count": null,
   "metadata": {},
   "outputs": [],
   "source": [
    "# Note : V2 feature is run with the original epifrag code.\n",
    "# V3 feature is run with the new epifrag code."
   ]
  },
  {
   "cell_type": "code",
   "execution_count": 16,
   "metadata": {},
   "outputs": [
    {
     "ename": "ModuleNotFoundError",
     "evalue": "No module named 'pineapple'",
     "output_type": "error",
     "traceback": [
      "\u001b[0;31m---------------------------------------------------------------------------\u001b[0m",
      "\u001b[0;31mModuleNotFoundError\u001b[0m                       Traceback (most recent call last)",
      "\u001b[0;32m<ipython-input-16-b07fe6e06bde>\u001b[0m in \u001b[0;36m<module>\u001b[0;34m()\u001b[0m\n\u001b[0;32m----> 1\u001b[0;31m \u001b[0;32mfrom\u001b[0m \u001b[0mpineapple\u001b[0m\u001b[0;34m.\u001b[0m\u001b[0mcontrib\u001b[0m\u001b[0;34m.\u001b[0m\u001b[0mcomponents\u001b[0m\u001b[0;34m.\u001b[0m\u001b[0mdata_factories\u001b[0m\u001b[0;34m.\u001b[0m\u001b[0mmatrix_factory\u001b[0m \u001b[0;32mimport\u001b[0m \u001b[0mMatrixFactory\u001b[0m \u001b[0;32mas\u001b[0m \u001b[0mmf\u001b[0m\u001b[0;34m\u001b[0m\u001b[0;34m\u001b[0m\u001b[0m\n\u001b[0m",
      "\u001b[0;31mModuleNotFoundError\u001b[0m: No module named 'pineapple'"
     ]
    }
   ],
   "source": [
    "from pineapple.contrib.components.data_factories.matrix_factory import MatrixFactory as mf"
   ]
  },
  {
   "cell_type": "code",
   "execution_count": null,
   "metadata": {},
   "outputs": [],
   "source": [
    "mat\n"
   ]
  },
  {
   "cell_type": "code",
   "execution_count": 15,
   "metadata": {},
   "outputs": [
    {
     "ename": "NameError",
     "evalue": "name 'mf' is not defined",
     "output_type": "error",
     "traceback": [
      "\u001b[0;31m---------------------------------------------------------------------------\u001b[0m",
      "\u001b[0;31mNameError\u001b[0m                                 Traceback (most recent call last)",
      "\u001b[0;32m<ipython-input-15-4eb400c7c50d>\u001b[0m in \u001b[0;36m<module>\u001b[0;34m()\u001b[0m\n\u001b[0;32m----> 1\u001b[0;31m \u001b[0mhelp\u001b[0m\u001b[0;34m(\u001b[0m\u001b[0mmf\u001b[0m\u001b[0;34m)\u001b[0m\u001b[0;34m\u001b[0m\u001b[0;34m\u001b[0m\u001b[0m\n\u001b[0m",
      "\u001b[0;31mNameError\u001b[0m: name 'mf' is not defined"
     ]
    }
   ],
   "source": [
    "help(mf)"
   ]
  },
  {
   "cell_type": "code",
   "execution_count": 34,
   "metadata": {},
   "outputs": [],
   "source": [
    "class myclass():\n",
    "    number : int\n",
    "    number2 : int\n",
    "    \n",
    "#    def __init__(self, number, number2):\n",
    "#        self.i = number\n",
    "#        self.j = number2"
   ]
  },
  {
   "cell_type": "code",
   "execution_count": 35,
   "metadata": {},
   "outputs": [
    {
     "ename": "TypeError",
     "evalue": "myclass() takes no arguments",
     "output_type": "error",
     "traceback": [
      "\u001b[0;31m---------------------------------------------------------------------------\u001b[0m",
      "\u001b[0;31mTypeError\u001b[0m                                 Traceback (most recent call last)",
      "\u001b[0;32m<ipython-input-35-0f9319a5a4e6>\u001b[0m in \u001b[0;36m<module>\u001b[0;34m()\u001b[0m\n\u001b[0;32m----> 1\u001b[0;31m \u001b[0mM\u001b[0m \u001b[0;34m=\u001b[0m \u001b[0mmyclass\u001b[0m\u001b[0;34m(\u001b[0m\u001b[0;36m6\u001b[0m\u001b[0;34m,\u001b[0m\u001b[0;36m10\u001b[0m\u001b[0;34m)\u001b[0m\u001b[0;34m\u001b[0m\u001b[0;34m\u001b[0m\u001b[0m\n\u001b[0m\u001b[1;32m      2\u001b[0m \u001b[0mprint\u001b[0m\u001b[0;34m(\u001b[0m\u001b[0mM\u001b[0m\u001b[0;34m.\u001b[0m\u001b[0mnumber\u001b[0m\u001b[0;34m)\u001b[0m\u001b[0;34m\u001b[0m\u001b[0;34m\u001b[0m\u001b[0m\n",
      "\u001b[0;31mTypeError\u001b[0m: myclass() takes no arguments"
     ]
    }
   ],
   "source": [
    "M = myclass(6,10)\n",
    "print(M.number)"
   ]
  },
  {
   "cell_type": "code",
   "execution_count": 33,
   "metadata": {},
   "outputs": [],
   "source": [
    "class myotherclass(myclass):\n",
    "    arg1: str\n",
    "    arg2: str\n",
    "\n"
   ]
  },
  {
   "cell_type": "code",
   "execution_count": 22,
   "metadata": {},
   "outputs": [
    {
     "name": "stdout",
     "output_type": "stream",
     "text": [
      "6\n"
     ]
    }
   ],
   "source": [
    "M = myotherclass(6)\n",
    "print(M.i)"
   ]
  },
  {
   "cell_type": "code",
   "execution_count": 32,
   "metadata": {},
   "outputs": [
    {
     "name": "stdout",
     "output_type": "stream",
     "text": [
      "Nope\n"
     ]
    }
   ],
   "source": [
    "A = \"\"\n",
    "\n",
    "if A:\n",
    "    print(\"YAY\")\n",
    "else:\n",
    "    print(\"Nope\")"
   ]
  },
  {
   "cell_type": "code",
   "execution_count": 37,
   "metadata": {},
   "outputs": [
    {
     "name": "stdout",
     "output_type": "stream",
     "text": [
      "\n"
     ]
    }
   ],
   "source": [
    "seq = 'ACTGACTGACTG'\n",
    "print(seq[40:50])"
   ]
  },
  {
   "cell_type": "code",
   "execution_count": null,
   "metadata": {},
   "outputs": [],
   "source": []
  }
 ],
 "metadata": {
  "kernelspec": {
   "display_name": "Python 3",
   "language": "python",
   "name": "python3"
  },
  "language_info": {
   "codemirror_mode": {
    "name": "ipython",
    "version": 3
   },
   "file_extension": ".py",
   "mimetype": "text/x-python",
   "name": "python",
   "nbconvert_exporter": "python",
   "pygments_lexer": "ipython3",
   "version": "3.7.6"
  }
 },
 "nbformat": 4,
 "nbformat_minor": 4
}
