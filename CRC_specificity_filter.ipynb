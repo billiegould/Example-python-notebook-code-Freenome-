{
 "cells": [
  {
   "cell_type": "markdown",
   "id": "abandoned-listing",
   "metadata": {},
   "source": [
    "# Development of CRC region filter"
   ]
  },
  {
   "cell_type": "code",
   "execution_count": 1,
   "id": "greatest-scroll",
   "metadata": {},
   "outputs": [
    {
     "name": "stdout",
     "output_type": "stream",
     "text": [
      "a\n"
     ]
    }
   ],
   "source": [
    "import numpy as np\n",
    "import pandas as pd\n",
    "from typing import List\n",
    "import seaborn as sns\n",
    "from matplotlib import pyplot as plt\n",
    "import os\n",
    "\n",
    "import featureio \n",
    "import calzone\n",
    "\n",
    "from pineapple.contrib.components.data_factories.matrix_factory import MatrixFactory as mf\n",
    "from pineapple.contrib.components.transformers.methyl.poisson_outlier import ChooseSettingsAndRegionsForPoissonV2\n",
    "\n",
    "from pineapple.contrib.results.results_loader import load_results\n",
    "from pineappleflow.core.loaders.contrib.experiment_loader import ExperimentLoader\n",
    "import pineappleflow.core.experiment_context as experiment_context\n",
    "import datetime\n",
    "experiment_context.reset_context(0, \"x\", \"x\", datetime.datetime(2021, 3, 30,0,0))\n",
    "\n",
    "from collections import defaultdict, Counter\n",
    "print(\"a\")"
   ]
  },
  {
   "cell_type": "code",
   "execution_count": 10,
   "id": "lightweight-humanitarian",
   "metadata": {},
   "outputs": [
    {
     "name": "stderr",
     "output_type": "stream",
     "text": [
      "Missed Redis cache for ttl_key TS-212521487, reading from BigQuery instead\n"
     ]
    },
    {
     "data": {
      "text/plain": [
       "Counter({'Colorectal Normal / Healthy': 236,\n",
       "         'Colorectal Benign': 28,\n",
       "         'Colorectal Pre-Cancer': 125,\n",
       "         'Colorectal Cancer': 125})"
      ]
     },
     "execution_count": 10,
     "metadata": {},
     "output_type": "execute_result"
    }
   ],
   "source": [
    "# samples for measuring region specificity (training only)\n",
    "multicancer_tissue=[\n",
    "        'pancreatic_cancer_tissue_ds_FF_v1',\n",
    "        'ovarian_cancer_tissue_ds_FF_v1',\n",
    "        'lung_cancer_methyl_DMR_tissue_ds_FF_merged',\n",
    "        'liver_cancer_tissue_ds_FF_v1',\n",
    "        'prostate_cancer_tissue_ds_FF_v1',\n",
    "        'breast_cancer_tissue_ds_FF_v1',\n",
    "        'kidney_cancer_tissue_ds_FF_v1',\n",
    "        'nonhodgkinslymphoma_cancer_tissue_ds_FF_v1',\n",
    "        'stomach_cancer_tissue_ds_FF_v1',\n",
    "        'uterine_cancer_tissue_ds_FF_v1',\n",
    "        'colorectal_tissue_cancer_stage_I_chemo_n',\n",
    "        'colorectal_tissue_cancer_stage_I_chemo_y',\n",
    "        'colorectal_tissue_cancer_stage_II_chemo_n',\n",
    "        'colorectal_tissue_cancer_stage_II_chemo_y',\n",
    "        'colorectal_tissue_cancer_stage_III_chemo_n',\n",
    "        'colorectal_tissue_cancer_stage_III_chemo_y',\n",
    "        'colorectal_tissue_cancer_stage_IV_chemo_y',\n",
    "        'colorectal_tissue_cancer_stage_IV_chemo_y',\n",
    "    ]\n",
    "multicancer_negs=['Neg_noM4_centipedeC_cpg_dense_v3',\n",
    "                  'M4_negs_cpg_dense_no96plasmas_v1']\n",
    "# not summarized\n",
    "# cpg_dense_neg=['colorectal_plasma_healthy_nodiscovery_polyp_y',\n",
    "#                'colorectal_plasma_healthy_nodiscovery_polyp_n']\n",
    "\n",
    "# samples for testing models\n",
    "\n",
    "panel_of_neg=['colorectal_healthy_temseqV4_v1v2_discovery2alpha_v7_panelofneg',\n",
    "              'colorectal_healthy_temseqV4_v1v2_discovery2beta_v4_panelofneg',\n",
    "              'colorectal_healthy_temseqV4_v1v2_discovery2delta_v4_panelofneg',\n",
    "              'colorectal_healthy_temseqV4_v1v2_discovery2gamma_v3_panelofneg']\n",
    "# m4=['colorectal_healthy_temseqV4_m4_phase1_v1',\n",
    "#     'colorectal_healthy_temseqV4_m4_phase2_v1']\n",
    "m3=['colorectal_benign_temseqV4_english_m3_v1',\n",
    "    'colorectal_cancer_temseqV4_english_m3_v1',\n",
    "    'colorectal_healthy_temseqV4_english_m3_v1',\n",
    "    'colorectal_precancer_temseqV4_english_m3_v1']\n",
    "\n",
    "tclasses = panel_of_neg + m3 \n",
    "all_dsids = []\n",
    "for training_class in tclasses:\n",
    "    dsids = featureio.FeatureIO().get_datasets_for_training_class(training_class)\n",
    "    all_dsids.append(dsids)\n",
    "all_dsids = [dsid for subls in all_dsids for dsid in subls]\n",
    "metas = calzone.Calzone.get_dataset_metadata_with_ids(all_dsids)\n",
    "#print(metas[0])\n",
    "cancer_types = [m.raw_sample_metadata['lims_top_diagnosis']['cancer_type'] for m in metas]\n",
    "Counter(cancer_types)"
   ]
  },
  {
   "cell_type": "code",
   "execution_count": 2,
   "id": "hired-astrology",
   "metadata": {},
   "outputs": [],
   "source": [
    "# make col metadata for new feature mint-chmcfc-VP2-V4-overlap-regions\n",
    "dim_regions = []\n",
    "dim_thresholds = np.array([{'cpgs':i} for i in range(3,34)])\n",
    "dim_counts = np.array([{\"mcpgs\":'mcpgs'},{\"tcpgs\":'tcpgs'}])\n",
    "with open(\"./VP2_V4_overlap.bed\",\"r\") as fin:\n",
    "    for line in fin:\n",
    "        chrm, start, stop = line.split(\"\\t\")\n",
    "        dim_regions.append({\"chrm\":chrm,\"start\":start,\"stop\":stop.strip()})\n",
    "\n",
    "# update feature column metadata (which can't be done by MINT) 330 regions\n",
    "with featureio.FeatureIO() as ftio:\n",
    "    ftio.update_column_metadata(feature='mint-chmcfc-VP2-V4-overlap-regions',\n",
    "                                version=3,\n",
    "                                column_metadata = (dim_regions, dim_thresholds, dim_counts))"
   ]
  },
  {
   "cell_type": "code",
   "execution_count": 3,
   "id": "unlikely-nylon",
   "metadata": {},
   "outputs": [
    {
     "name": "stdout",
     "output_type": "stream",
     "text": [
      "['chr1', 'chr1', 'chr1']\n",
      "['3747121', '9651384', '11691842']\n",
      "['3747628', '9653124', '11692387']\n"
     ]
    }
   ],
   "source": [
    "# get column metadata from bed file\n",
    "with open(\"./VP2_V4_overlap.bed\",\"r\") as fin:\n",
    "    chrms=[]\n",
    "    starts=[]\n",
    "    ends=[]\n",
    "    dicts = []\n",
    "    for line in fin.readlines():\n",
    "        chrm, start, end = line.split(\"\\t\")\n",
    "        chrms.append(chrm)\n",
    "        starts.append(start)\n",
    "        ends.append(end.strip())\n",
    "        dicts.append({\"chrm\":chrm,\"start\":start,\"end\":end.strip()})\n",
    "print(chrms[0:3])\n",
    "print(starts[0:3])\n",
    "print(ends[0:3])\n",
    "regions = [f\"{chrm}:{start}-{end}\" for chrm,start,end in zip(chrms,starts,ends)]"
   ]
  },
  {
   "cell_type": "code",
   "execution_count": 4,
   "id": "latest-resistance",
   "metadata": {},
   "outputs": [],
   "source": [
    "# rerun these models to get the cpg thresholds from CV runs using the new feature\n",
    "\n",
    "bucket = \"freenome-user-data-bgould\"\n",
    "lung_path = \"Multi_cancer/cpg_threshold_models_VP2_V4_overlap_regions/Lung_tissue_CHMFC_VP2_V4_overlap\"\n",
    "liver_path = \"Multi_cancer/cpg_threshold_models_VP2_V4_overlap_regions/Liver_tissue_CHMFC_VP2_V4_overlap\"\n",
    "prostate_path = \"Multi_cancer/cpg_threshold_models_VP2_V4_overlap_regions/Prostate_tissue_CHMFC_VP2_V4_overlap\"\n",
    "ovarian_path = \"Multi_cancer/cpg_threshold_models_VP2_V4_overlap_regions/ovarian_tissue_CHMFC_VP2_V4_overlap\"\n",
    "uterine_path = \"Multi_cancer/cpg_threshold_models_VP2_V4_overlap_regions/Uterine_tissue_CHMFC_VP2_V4_overlap\"\n",
    "pancreatic_path = \"Multi_cancer/cpg_threshold_models_VP2_V4_overlap_regions/Pancreatic_tissue_CHMFC_VP2_V4_overlap\"\n",
    "breast_path = \"Multi_cancer/cpg_threshold_models_VP2_V4_overlap_regions/Breast_tissue_CHMFC_VP2_V4_overlap\"\n",
    "stomach_path = \"Multi_cancer/cpg_threshold_models_VP2_V4_overlap_regions/Stomach_tissue_CHMFC_VP2_V4_overlap\"\n",
    "crc_path = \"Multi_cancer/cpg_threshold_models_VP2_V4_overlap_regions/CRC_tissue_CHMFC_VP2_V4_overlap\"\n",
    "lymphoma_path = \"Multi_cancer/cpg_threshold_models_VP2_V4_overlap_regions/Lymphoma_tissue_CHMFC_VP2_V4_overlap\"\n",
    "kidney_path = \"Multi_cancer/cpg_threshold_models_VP2_V4_overlap_regions/Kidney_tissue_CHMFC_VP2_V4_overlap\"\n",
    "\n",
    "\n",
    "paths = [lung_path,liver_path, prostate_path,\n",
    "         ovarian_path,uterine_path,pancreatic_path,\n",
    "         breast_path,stomach_path,lymphoma_path,\n",
    "         kidney_path,crc_path\n",
    "        ]\n",
    "cancer_types = [\"Lung_Cancer\",\"Liver_Cancer\",\"Prostate_Cancer\",\n",
    "                \"Ovarian_Cancer\",\"Uterine_Cancer\",\"Pancreatic_Cancer\",\n",
    "                \"Breast_Cancer\",\"Stomach_Cancer\",\"Lymphoma\",\n",
    "                \"Kidney_Cancer\",\"CRC\"\n",
    "               ]\n",
    "\n",
    "stage_dict = {\"I\":\"I\",\"II\":\"II\",\"III\":\"III\",\"IV\":\"IV\",\n",
    "             \"IA\":\"I\",\"IB\":\"I\",\"IC\":\"I\",\n",
    "             \"IIA\":\"II\",\"IIB\":\"II\",\"IIC\":\"II\",\n",
    "             \"IIIA\":\"III\",\"IIIB\":\"III\",\"IIIC\":\"III\",\n",
    "             \"IV\":\"IV\",\"IVA\":\"IV\",\"IVB\":\"IV\",\"IVC\":\"IV\",\n",
    "             None:\"Unknown\", \"Unavailable\":\"Unknown\"}\n",
    "stages = [\"I\",\"II\",\"III\",\"IV\",\"Unknown\"]"
   ]
  },
  {
   "cell_type": "code",
   "execution_count": null,
   "id": "loose-expression",
   "metadata": {},
   "outputs": [],
   "source": [
    "#get all VP2 regions and effect sizes, write to file\n",
    "\n",
    "# bucket = \"freenome-user-data-bgould\"\n",
    "# dict_effect_sizes = {}\n",
    "# for cancer_type, path in zip(cancer_types, paths):\n",
    "#     loader = ExperimentLoader(bucket, path)\n",
    "#     folds = loader.fold_names()\n",
    "#     effect_sizes = []\n",
    "\n",
    "#     for fold_name in folds:\n",
    "#         fold = loader.fold(fold_name)\n",
    "#         choose_reg =fold._pipeline_result.pipeline.transformer_chains['mint-chmcfc-multicancer-dsc/v4'][1]\n",
    "#         #poisson = fold._pipeline_result.pipeline.transformer_chains['mint-chmcfc-multicancer-dsc/v1'][2]\n",
    "#         col_meta = fold.pre_transformer_fold_holder.test['mint-chmcfc-multicancer-dsc/v4'].column_metadata\n",
    "#         effect_sizes.append(choose_reg.pessimistic_effect_size)\n",
    "#         assert len(choose_reg.pessimistic_effect_size)==len(col_meta)\n",
    "    \n",
    "#     #genes = [d[\"name\"] for d in col_meta]\n",
    "#     #coords = [f'{d[\"seqname\"]}:{d[\"start\"]}-{d[\"end\"]}' for d in col_meta]\n",
    "#     med_effect_sizes = pd.DataFrame(effect_sizes).median(axis=0)\n",
    "#     dict_effect_sizes[cancer_type] = med_effect_sizes\n",
    "#     print(f'{cancer_type} complete.')\n",
    "    \n",
    "# df_effect_sizes = pd.DataFrame.from_dict(dict_effect_sizes)\n"
   ]
  },
  {
   "cell_type": "markdown",
   "id": "similar-extraction",
   "metadata": {},
   "source": [
    "### try measuring region specificity with HMF rate instead of effect size"
   ]
  },
  {
   "cell_type": "code",
   "execution_count": 5,
   "id": "internal-ontario",
   "metadata": {},
   "outputs": [],
   "source": [
    "cancer_type_to_train_sets = {\"Lung_Cancer\":[\"lung_cancer_methyl_DMR_tissue_ds_FF_merged\"],\n",
    "                             \"Liver_Cancer\":[\"liver_cancer_tissue_ds_FF_v1\"],\n",
    "                             \"Prostate_Cancer\":[\"prostate_cancer_tissue_ds_FF_v1\"],\n",
    "                             \"Ovarian_Cancer\":[\"ovarian_cancer_tissue_ds_FF_v1\"],\n",
    "                             \"Uterine_Cancer\":[\"uterine_cancer_tissue_ds_FF_v1\"],\n",
    "                             \"Pancreatic_Cancer\":[\"pancreatic_cancer_tissue_ds_FF_v1\"],\n",
    "                             \"Breast_Cancer\":[\"breast_cancer_tissue_ds_FF_v1\"],\n",
    "                             \"Stomach_Cancer\":[\"stomach_cancer_tissue_ds_FF_v1\"],\n",
    "                             \"Kidney_Cancer\":[\"kidney_cancer_tissue_ds_FF_v1\"],\n",
    "                             \"Lymphoma\":[\"nonhodgkinslymphoma_cancer_tissue_ds_FF_v1\"],\n",
    "                             \"CRC\":[\"colorectal_tissue_cancer_stage_IV_chemo_n\",\n",
    "                                            \"colorectal_tissue_cancer_stage_IV_chemo_y\",\n",
    "                                            \"colorectal_tissue_cancer_stage_III_chemo_n\",\n",
    "                                            \"colorectal_tissue_cancer_stage_III_chemo_y\",\n",
    "                                            \"colorectal_tissue_cancer_stage_II_chemo_n\",\n",
    "                                            \"colorectal_tissue_cancer_stage_II_chemo_y\",\n",
    "                                            \"colorectal_tissue_cancer_stage_I_chemo_n\",\n",
    "                                            \"colorectal_tissue_cancer_stage_I_chemo_y\"]\n",
    "                            }"
   ]
  },
  {
   "cell_type": "code",
   "execution_count": 6,
   "id": "textile-fashion",
   "metadata": {},
   "outputs": [
    {
     "name": "stdout",
     "output_type": "stream",
     "text": [
      "['lung_cancer_methyl_DMR_tissue_ds_FF_merged']\n",
      "['liver_cancer_tissue_ds_FF_v1']\n",
      "['prostate_cancer_tissue_ds_FF_v1']\n",
      "['ovarian_cancer_tissue_ds_FF_v1']\n",
      "['uterine_cancer_tissue_ds_FF_v1']\n",
      "['pancreatic_cancer_tissue_ds_FF_v1']\n",
      "['breast_cancer_tissue_ds_FF_v1']\n",
      "['stomach_cancer_tissue_ds_FF_v1']\n",
      "['nonhodgkinslymphoma_cancer_tissue_ds_FF_v1']\n",
      "['kidney_cancer_tissue_ds_FF_v1']\n",
      "['colorectal_tissue_cancer_stage_IV_chemo_n', 'colorectal_tissue_cancer_stage_IV_chemo_y', 'colorectal_tissue_cancer_stage_III_chemo_n', 'colorectal_tissue_cancer_stage_III_chemo_y', 'colorectal_tissue_cancer_stage_II_chemo_n', 'colorectal_tissue_cancer_stage_II_chemo_y', 'colorectal_tissue_cancer_stage_I_chemo_n', 'colorectal_tissue_cancer_stage_I_chemo_y']\n"
     ]
    }
   ],
   "source": [
    "# extract hmf data at model cpg thresholds\n",
    "# get avg. CpG thresholds learned by each model and subset test data\n",
    "\n",
    "cutoffs_list = []\n",
    "data_dfs = []\n",
    "for i,(path,cancer_type) in enumerate(zip(paths,cancer_types)):\n",
    "    loader = ExperimentLoader(bucket, path)\n",
    "    folds = loader.fold_names()\n",
    "    cpg_cutoffs =[]\n",
    "    for fold_name in folds:\n",
    "        fold = loader.fold(fold_name)\n",
    "        choose_reg =fold._pipeline_result.pipeline.transformer_chains['mint-chmcfc-VP2-V4-overlap-regions/v3'][0]\n",
    "        cpg_cutoffs.append(choose_reg.best_feature_per_region)\n",
    "    cpg_cutoffs = pd.DataFrame(cpg_cutoffs).mean(axis=0)\n",
    "    cutoffs_list.append(cpg_cutoffs)\n",
    "    \n",
    "    # filter data to type-specific cpg cutoffs\n",
    "    print(cancer_type_to_train_sets[cancer_type])\n",
    "    mat = mf.create_from_training_classes(training_classes=cancer_type_to_train_sets[cancer_type],\n",
    "                                          feature_str='mint-chmcfc-VP2-V4-overlap-regions/v3',\n",
    "                                          class_labels=np.repeat(1, len(cancer_type_to_train_sets[cancer_type]))\n",
    "                                         )\n",
    "    hmf_rates = mat.x[...,0]/mat.x[...,1]\n",
    "    data = []\n",
    "    for i , cutoff in enumerate(cpg_cutoffs):\n",
    "        data.append(hmf_rates[:,i,int(np.round(cutoff,0))])\n",
    "    df_data = pd.DataFrame(data, columns=mat.sample_ids, index=regions).T ##sids x regions\n",
    "    #df_data = df_data.fillna(0)\n",
    "    data_dfs.append(df_data)"
   ]
  },
  {
   "cell_type": "code",
   "execution_count": 10,
   "id": "worse-centre",
   "metadata": {},
   "outputs": [
    {
     "name": "stdout",
     "output_type": "stream",
     "text": [
      "                        Lung_Cancer  Liver_Cancer  Prostate_Cancer  \\\n",
      "chr1:3747121-3747628       0.042850      0.042850         0.042850   \n",
      "chr1:9651384-9653124       0.092068      0.092316         0.092316   \n",
      "chr1:11691842-11692387     0.000000      0.000000         0.000000   \n",
      "chr1:18636153-18637488     0.021250      0.021250         0.021250   \n",
      "chr1:34928854-34930628     0.137021      0.137021         0.137021   \n",
      "\n",
      "                        Ovarian_Cancer  Uterine_Cancer  Pancreatic_Cancer  \\\n",
      "chr1:3747121-3747628          0.042850        0.042850           0.042850   \n",
      "chr1:9651384-9653124          0.092316        0.090982           0.092316   \n",
      "chr1:11691842-11692387        0.000000        0.000000           0.000000   \n",
      "chr1:18636153-18637488        0.021250        0.021250           0.021250   \n",
      "chr1:34928854-34930628        0.137021        0.137021           0.136169   \n",
      "\n",
      "                        Breast_Cancer  Stomach_Cancer  Lymphoma  \\\n",
      "chr1:3747121-3747628         0.042850        0.041413  0.042850   \n",
      "chr1:9651384-9653124         0.090488        0.024914  0.092316   \n",
      "chr1:11691842-11692387       0.000000        0.000000  0.000000   \n",
      "chr1:18636153-18637488       0.021250        0.013566  0.012823   \n",
      "chr1:34928854-34930628       0.137021        0.061923  0.137021   \n",
      "\n",
      "                        Kidney_Cancer  25th_pctl_hmf_rate_diff  \\\n",
      "chr1:3747121-3747628         0.042850                 0.042850   \n",
      "chr1:9651384-9653124         0.092316                 0.091254   \n",
      "chr1:11691842-11692387       0.000000                 0.000000   \n",
      "chr1:18636153-18637488       0.021250                 0.021250   \n",
      "chr1:34928854-34930628       0.137021                 0.137021   \n",
      "\n",
      "                        10th_pctl_hmf_rate_diff  1th_pctl_hmf_rate_diff  \\\n",
      "chr1:3747121-3747628                   0.042850                0.041571   \n",
      "chr1:9651384-9653124                   0.090488                0.032127   \n",
      "chr1:11691842-11692387                 0.000000                0.000000   \n",
      "chr1:18636153-18637488                 0.013566                0.012904   \n",
      "chr1:34928854-34930628                 0.136169                0.070090   \n",
      "\n",
      "                                       regions  \n",
      "chr1:3747121-3747628      chr1:3747121-3747628  \n",
      "chr1:9651384-9653124      chr1:9651384-9653124  \n",
      "chr1:11691842-11692387  chr1:11691842-11692387  \n",
      "chr1:18636153-18637488  chr1:18636153-18637488  \n",
      "chr1:34928854-34930628  chr1:34928854-34930628  \n",
      "(282, 14)\n"
     ]
    },
    {
     "data": {
      "image/png": "[encoded data removed]",
      "text/plain": [
       "<Figure size 432x288 with 1 Axes>"
      ]
     },
     "metadata": {
      "needs_background": "light"
     },
     "output_type": "display_data"
    },
    {
     "data": {
      "image/png": "[encoded data removed]",
      "text/plain": [
       "<Figure size 432x288 with 1 Axes>"
      ]
     },
     "metadata": {
      "needs_background": "light"
     },
     "output_type": "display_data"
    },
    {
     "data": {
      "image/png": "[encoded data removed]",
      "text/plain": [
       "<Figure size 432x288 with 1 Axes>"
      ]
     },
     "metadata": {
      "needs_background": "light"
     },
     "output_type": "display_data"
    }
   ],
   "source": [
    "crc_median_hmf_rates = data_dfs[-1].median(axis=0, skipna=True)\n",
    "\n",
    "metric_dict = {}\n",
    "for cancer_type, df in zip(cancer_types[0:-1], data_dfs[0:-1]):\n",
    "    median_hmf_rates = df.median(axis=0, skipna=True) #throws nans if all values are nan\n",
    "    diffs = np.abs(crc_median_hmf_rates - median_hmf_rates)\n",
    "    #diffs = diffs.fillna(0)\n",
    "    metric_dict[cancer_type] = diffs\n",
    "\n",
    "df_metrics = pd.DataFrame.from_dict(metric_dict) # regions x cancer_types\n",
    "\n",
    "# df_metrics[\"med_hmf_rate_diff\"] = df_metrics.median(axis=1, skipna=True)\n",
    "# print(max(df_metrics[\"med_hmf_rate_diff\"]))\n",
    "# print(min(df_metrics[\"med_hmf_rate_diff\"]))\n",
    "\n",
    "df_metrics[\"25th_pctl_hmf_rate_diff\"] = df_metrics.apply(lambda col: np.percentile(col,25), axis=1)\n",
    "df_metrics[\"10th_pctl_hmf_rate_diff\"] = df_metrics.apply(lambda col: np.percentile(col,10), axis=1)\n",
    "df_metrics[\"1th_pctl_hmf_rate_diff\"] = df_metrics.apply(lambda col: np.percentile(col,1), axis=1)\n",
    "df_metrics[\"regions\"] = regions\n",
    "print(df_metrics.head())\n",
    "plt.figure()\n",
    "plt.scatter(crc_median_hmf_rates, df_metrics[\"25th_pctl_hmf_rate_diff\"])\n",
    "plt.ylabel(\"25th percentile hmf rate diff\")\n",
    "plt.xlabel(\"hmf rate in CRC\")\n",
    "plt.plot([0,0.35],[0,0.35],\"--k\")\n",
    "\n",
    "plt.figure()\n",
    "plt.scatter(crc_median_hmf_rates, df_metrics[\"10th_pctl_hmf_rate_diff\"])\n",
    "plt.ylabel(\"10th percentile hmf rate diff\")\n",
    "plt.xlabel(\"hmf rate in CRC\")\n",
    "plt.plot([0,0.35],[0,0.35],\"--k\")\n",
    "\n",
    "plt.figure()\n",
    "plt.scatter(crc_median_hmf_rates, df_metrics[\"1th_pctl_hmf_rate_diff\"])\n",
    "plt.ylabel(\"1th percentile hmf rate diff\")\n",
    "plt.xlabel(\"hmf rate in CRC\")\n",
    "plt.plot([0,0.35],[0,0.35],\"--k\")\n",
    "\n",
    "# only write metric for regions with non nan value\n",
    "# print(df_metrics.shape)\n",
    "keep_reg = ~df_metrics[\"25th_pctl_hmf_rate_diff\"].isna()\n",
    "df_metrics = df_metrics[keep_reg]\n",
    "print(df_metrics.shape)\n",
    "with open(\"./VP2_V4_overlap_chmfc_reg_rate_diffs.csv\",\"w\") as fout:\n",
    "    df_metrics.to_csv(fout, index=False)"
   ]
  },
  {
   "cell_type": "code",
   "execution_count": 11,
   "id": "crazy-handling",
   "metadata": {},
   "outputs": [
    {
     "data": {
      "text/plain": [
       "<AxesSubplot:xlabel='1th_pctl_hmf_rate_diff', ylabel='Density'>"
      ]
     },
     "execution_count": 11,
     "metadata": {},
     "output_type": "execute_result"
    },
    {
     "data": {
      "image/png": "[encoded data removed]",
      "text/plain": [
       "<Figure size 432x288 with 1 Axes>"
      ]
     },
     "metadata": {
      "needs_background": "light"
     },
     "output_type": "display_data"
    }
   ],
   "source": [
    "plt.figure()\n",
    "sns.distplot(df_metrics[\"1th_pctl_hmf_rate_diff\"])"
   ]
  },
  {
   "cell_type": "code",
   "execution_count": null,
   "id": "green-hostel",
   "metadata": {},
   "outputs": [],
   "source": [
    "# p = range(len(df_metrics))\n",
    "# plt.figure()\n",
    "# plt.plot(sorted(df_metrics[\"med_hmf_rate_diff\"]),p)\n",
    "# plt.ylabel(\"cumulative number of regions\")\n",
    "# plt.xlabel(\"median_hmf_rate_diff\")"
   ]
  },
  {
   "cell_type": "code",
   "execution_count": 203,
   "id": "ranking-klein",
   "metadata": {},
   "outputs": [
    {
     "name": "stdout",
     "output_type": "stream",
     "text": [
      "0.5573844821735722\n"
     ]
    }
   ],
   "source": [
    "# what is overlap between VP2 and V4 panel?\n",
    "vp2_bed = pd.read_csv(\"./VP2_panel.bed\", sep=\"\\t\", header=None)\n",
    "v4_overlap_bed = pd.read_csv(\"./VP2_V4_overlap.bed\", sep=\"\\t\", header=None)\n",
    "\n",
    "total_vp2_bp = sum(vp2_bed.iloc[:,2] - vp2_bed.iloc[:,1])\n",
    "total_overlap = sum(v4_overlap_bed.iloc[:,6])\n",
    "\n",
    "print(total_overlap/float(total_vp2_bp))\n",
    "\n",
    "\n"
   ]
  },
  {
   "cell_type": "code",
   "execution_count": null,
   "id": "moral-capacity",
   "metadata": {},
   "outputs": [],
   "source": [
    "## run model with filtering transformer. extract fold sensitivity"
   ]
  },
  {
   "cell_type": "code",
   "execution_count": null,
   "id": "romantic-romance",
   "metadata": {},
   "outputs": [],
   "source": [
    "# bucket = 'freenome-user-data-bgould'\n",
    "# path = 'Multi_cancer/CRC_spec_filtering/Region_filtering_HPO'\n",
    "\n",
    "# # check the weight vector looks ok . . .\n",
    "# loader = ExperimentLoader(bucket, path)\n",
    "# folds = loader.fold_names()\n",
    "# for fold_name in folds:\n",
    "#     fold = loader.fold(fold_name)\n",
    "#     filter_tfmr = fold._pipeline_result.pipeline.transformer_chains['mint-chmcfc-VP2-V4-overlap-regions/v3'][2]\n",
    "#     print(filter_tfmr.wv)\n",
    "    \n",
    "\n",
    "# search_loader = loader.search_loader\n",
    "# search_loader.hyperparam_search_dict\n",
    "# search_loader.search_fold_names"
   ]
  },
  {
   "cell_type": "code",
   "execution_count": 12,
   "id": "embedded-aging",
   "metadata": {},
   "outputs": [
    {
     "name": "stdout",
     "output_type": "stream",
     "text": [
      "spec_0\n",
      "   n_reg_filter param\n",
      "0           200  None\n",
      "1           198  None\n",
      "2           195  None\n",
      "3           196  None\n",
      "4           199  None\n",
      "spec_1\n",
      "   n_reg_filter  param\n",
      "0           243  100.0\n",
      "1           243  100.0\n",
      "2           240  100.0\n",
      "3           240  100.0\n",
      "4           245  100.0\n",
      "spec_2\n",
      "   n_reg_filter  param\n",
      "0           219   90.0\n",
      "1           219   90.0\n",
      "2           217   90.0\n",
      "3           217   90.0\n",
      "4           221   90.0\n",
      "spec_3\n",
      "   n_reg_filter  param\n",
      "0           195   80.0\n",
      "1           195   80.0\n",
      "2           193   80.0\n",
      "3           193   80.0\n",
      "4           197   80.0\n",
      "spec_4\n",
      "   n_reg_filter  param\n",
      "0           171   70.0\n",
      "1           171   70.0\n",
      "2           169   70.0\n",
      "3           169   70.0\n",
      "4           172   70.0\n",
      "spec_5\n",
      "   n_reg_filter  param\n",
      "0           146   60.0\n",
      "1           146   60.0\n",
      "2           145   60.0\n",
      "3           145   60.0\n",
      "4           148   60.0\n",
      "spec_6\n",
      "   n_reg_filter  param\n",
      "0           122   50.0\n",
      "1           122   50.0\n",
      "2           121   50.0\n",
      "3           121   50.0\n",
      "4           123   50.0\n",
      "spec_7\n",
      "   n_reg_filter  param\n",
      "0            98   40.0\n",
      "1            98   40.0\n",
      "2            97   40.0\n",
      "3            97   40.0\n",
      "4            99   40.0\n",
      "spec_8\n",
      "   n_reg_filter  param\n",
      "0            73   30.0\n",
      "1            73   30.0\n",
      "2            73   30.0\n",
      "3            73   30.0\n",
      "4            74   30.0\n",
      "spec_9\n",
      "   n_reg_filter  param\n",
      "0            49   20.0\n",
      "1            49   20.0\n",
      "2            49   20.0\n",
      "3            49   20.0\n",
      "4            50   20.0\n",
      "spec_10\n",
      "   n_reg_filter  param\n",
      "0            25   10.0\n",
      "1            25   10.0\n",
      "2            25   10.0\n",
      "3            25   10.0\n",
      "4            25   10.0\n"
     ]
    }
   ],
   "source": [
    "# for each inner fold get the top_pct_reg_to_retain and the number of reg retained.\n",
    "bucket = 'freenome-user-data-bgould'\n",
    "# path = 'Multi_cancer/CRC_spec_filtering/Region_filtering_HPO'\n",
    "path = 'Multi_cancer/CRC_spec_filtering/Region_filtering_HPO_1pctl'\n",
    "\n",
    "loader = ExperimentLoader(bucket, path)\n",
    "search_loader = loader.search_loader\n",
    "folds = search_loader.search_fold_names\n",
    "specs = search_loader.spec_names\n",
    "plot_dfs = []\n",
    "for spec_name in specs:\n",
    "#     if os.path.exists(f\"./HPO_reg_retained_by_thresh_{spec_name}.csv\"):\n",
    "#         continue\n",
    "    if os.path.exists(f\"./HPO_1pctl_reg_retained_by_thresh_{spec_name}.csv\"):  \n",
    "        continue\n",
    "    folds = search_loader.spec(spec_name).fold_names()\n",
    "    regs_filter = []\n",
    "    #regs_poisson = []\n",
    "    params = []\n",
    "    for fold in folds:\n",
    "        filter_tfmr = search_loader.spec(spec_name).fold(fold).feature('mint-chmcfc-VP2-V4-overlap-regions/v3').fitted_transformers[2]\n",
    "        #poisson_tfmr = search_loader.spec(spec_name).fold(fold).feature('mint-chmcfc-VP2-V4-overlap-regions/v3').fitted_transformers[3]\n",
    "        n_reg_filter = sum([w!=0 for w in filter_tfmr.wv])\n",
    "        #n_reg_poisson = sum(poisson_tfmr.features_to_keep)\n",
    "        param = filter_tfmr.top_pct_reg_to_retain\n",
    "        regs_filter.append(n_reg_filter)\n",
    "        #regs_poisson.append(n_reg_poisson)\n",
    "        params.append(param)\n",
    "    df = pd.DataFrame({'n_reg_filter':regs_filter,'param':params})\n",
    "    print(spec_name)\n",
    "    plot_dfs.append(df)\n",
    "    print(df.head())\n",
    "#     df.to_csv(open(f\"./HPO_reg_retained_by_thresh_{spec_name}.csv\",\"w\"),index=None)\n",
    "    df.to_csv(open(f\"./HPO_1pctl_reg_retained_by_thresh_{spec_name}.csv\",\"w\"),index=None) #125 fold values per file"
   ]
  },
  {
   "cell_type": "code",
   "execution_count": 13,
   "id": "healthy-haiti",
   "metadata": {},
   "outputs": [],
   "source": [
    "df_all = pd.concat(plot_dfs)\n",
    "# df_all.to_csv(open(\"./HPO_reg_retained_by_thresh.csv\",\"w\"),index=None)\n",
    "df_all.to_csv(open(\"./HPO_1pctl_reg_retained_by_thresh.csv\",\"w\"),index=None)"
   ]
  },
  {
   "cell_type": "code",
   "execution_count": 14,
   "id": "modern-wildlife",
   "metadata": {},
   "outputs": [
    {
     "data": {
      "text/plain": [
       "Text(0.5, 0, 'top pct of regions to retain')"
      ]
     },
     "execution_count": 14,
     "metadata": {},
     "output_type": "execute_result"
    },
    {
     "data": {
      "image/png": "[encoded data removed]",
      "text/plain": [
       "<Figure size 432x288 with 1 Axes>"
      ]
     },
     "metadata": {
      "needs_background": "light"
     },
     "output_type": "display_data"
    }
   ],
   "source": [
    "plt.figure()\n",
    "sns.boxplot(x=\"param\", y=\"n_reg_filter\", data=df_all)\n",
    "sns.stripplot(x=\"param\", y=\"n_reg_filter\", data=df_all)\n",
    "plt.title(\"Number of regions retained by the filter\", size=16)\n",
    "plt.ylabel(\"num. regions retained\")\n",
    "plt.xlabel(\"top pct of regions to retain\")\n",
    "\n",
    "# plt.figure()\n",
    "# sns.boxplot(x=\"param\", y=\"n_reg_poisson\", data=df_all)\n",
    "# sns.stripplot(x=\"param\", y=\"n_reg_poisson\", data=df_all)\n",
    "# plt.title(\"Number of regions retained by the model\", size=16)\n",
    "# plt.ylabel(\"num. regions retained\")\n",
    "# plt.xlabel(\"top pct of regions to retain\")"
   ]
  },
  {
   "cell_type": "code",
   "execution_count": 15,
   "id": "reliable-coupon",
   "metadata": {},
   "outputs": [],
   "source": [
    "from pineapple.contrib.loaders.experiment_table_loader import ExperimentTableLoader\n"
   ]
  },
  {
   "cell_type": "code",
   "execution_count": 16,
   "id": "automated-correspondence",
   "metadata": {},
   "outputs": [
    {
     "data": {
      "text/html": [
       "<div>\n",
       "<style scoped>\n",
       "    .dataframe tbody tr th:only-of-type {\n",
       "        vertical-align: middle;\n",
       "    }\n",
       "\n",
       "    .dataframe tbody tr th {\n",
       "        vertical-align: top;\n",
       "    }\n",
       "\n",
       "    .dataframe thead th {\n",
       "        text-align: right;\n",
       "    }\n",
       "</style>\n",
       "<table border=\"1\" class=\"dataframe\">\n",
       "  <thead>\n",
       "    <tr style=\"text-align: right;\">\n",
       "      <th></th>\n",
       "      <th>spec_name</th>\n",
       "      <th>param_name</th>\n",
       "      <th>param_value</th>\n",
       "      <th>metric_name</th>\n",
       "      <th>metric_value</th>\n",
       "    </tr>\n",
       "  </thead>\n",
       "  <tbody>\n",
       "    <tr>\n",
       "      <th>0</th>\n",
       "      <td>spec_0</td>\n",
       "      <td>top_pct_reg_to_retain</td>\n",
       "      <td>NaN</td>\n",
       "      <td>test_auc</td>\n",
       "      <td>0.689757</td>\n",
       "    </tr>\n",
       "    <tr>\n",
       "      <th>1</th>\n",
       "      <td>spec_0</td>\n",
       "      <td>top_pct_reg_to_retain</td>\n",
       "      <td>NaN</td>\n",
       "      <td>test_sens_upperthresh_spec90</td>\n",
       "      <td>0.338235</td>\n",
       "    </tr>\n",
       "    <tr>\n",
       "      <th>2</th>\n",
       "      <td>spec_1</td>\n",
       "      <td>top_pct_reg_to_retain</td>\n",
       "      <td>100.0</td>\n",
       "      <td>test_auc</td>\n",
       "      <td>0.692616</td>\n",
       "    </tr>\n",
       "    <tr>\n",
       "      <th>3</th>\n",
       "      <td>spec_1</td>\n",
       "      <td>top_pct_reg_to_retain</td>\n",
       "      <td>100.0</td>\n",
       "      <td>test_sens_upperthresh_spec90</td>\n",
       "      <td>0.353725</td>\n",
       "    </tr>\n",
       "    <tr>\n",
       "      <th>4</th>\n",
       "      <td>spec_2</td>\n",
       "      <td>top_pct_reg_to_retain</td>\n",
       "      <td>90.0</td>\n",
       "      <td>test_auc</td>\n",
       "      <td>0.696977</td>\n",
       "    </tr>\n",
       "  </tbody>\n",
       "</table>\n",
       "</div>"
      ],
      "text/plain": [
       "  spec_name             param_name  param_value                   metric_name  \\\n",
       "0    spec_0  top_pct_reg_to_retain          NaN                      test_auc   \n",
       "1    spec_0  top_pct_reg_to_retain          NaN  test_sens_upperthresh_spec90   \n",
       "2    spec_1  top_pct_reg_to_retain        100.0                      test_auc   \n",
       "3    spec_1  top_pct_reg_to_retain        100.0  test_sens_upperthresh_spec90   \n",
       "4    spec_2  top_pct_reg_to_retain         90.0                      test_auc   \n",
       "\n",
       "   metric_value  \n",
       "0      0.689757  \n",
       "1      0.338235  \n",
       "2      0.692616  \n",
       "3      0.353725  \n",
       "4      0.696977  "
      ]
     },
     "execution_count": 16,
     "metadata": {},
     "output_type": "execute_result"
    }
   ],
   "source": [
    "table_loader = ExperimentTableLoader(bucket=bucket,path=path)\n",
    "\n",
    "df_hyperparam = table_loader.hyperparam_table(metric_names=[\"test_auc\", \"test_sens_upperthresh_spec90\"])\n",
    "df_hyperparam.head()"
   ]
  },
  {
   "cell_type": "code",
   "execution_count": 17,
   "id": "legal-mentor",
   "metadata": {},
   "outputs": [],
   "source": [
    "# df_hyperparam.to_csv(open(\"./HPO_hyperparam_table.csv\",\"w\"),index=None)\n",
    "df_hyperparam.to_csv(open(\"./HPO_1pctl_hyperparam_table.csv\",\"w\"),index=None)"
   ]
  },
  {
   "cell_type": "code",
   "execution_count": 20,
   "id": "flush-making",
   "metadata": {},
   "outputs": [
    {
     "data": {
      "text/html": [
       "<div>\n",
       "<style scoped>\n",
       "    .dataframe tbody tr th:only-of-type {\n",
       "        vertical-align: middle;\n",
       "    }\n",
       "\n",
       "    .dataframe tbody tr th {\n",
       "        vertical-align: top;\n",
       "    }\n",
       "\n",
       "    .dataframe thead th {\n",
       "        text-align: right;\n",
       "    }\n",
       "</style>\n",
       "<table border=\"1\" class=\"dataframe\">\n",
       "  <thead>\n",
       "    <tr style=\"text-align: right;\">\n",
       "      <th></th>\n",
       "      <th>spec_name</th>\n",
       "      <th>param_name</th>\n",
       "      <th>param_value</th>\n",
       "      <th>metric_name</th>\n",
       "      <th>metric_value</th>\n",
       "    </tr>\n",
       "  </thead>\n",
       "  <tbody>\n",
       "    <tr>\n",
       "      <th>0</th>\n",
       "      <td>spec_0</td>\n",
       "      <td>top_pct_reg_to_retain</td>\n",
       "      <td>NaN</td>\n",
       "      <td>test_auc</td>\n",
       "      <td>0.686966</td>\n",
       "    </tr>\n",
       "    <tr>\n",
       "      <th>1</th>\n",
       "      <td>spec_0</td>\n",
       "      <td>top_pct_reg_to_retain</td>\n",
       "      <td>NaN</td>\n",
       "      <td>test_sens_upperthresh_spec90</td>\n",
       "      <td>0.333922</td>\n",
       "    </tr>\n",
       "    <tr>\n",
       "      <th>2</th>\n",
       "      <td>spec_1</td>\n",
       "      <td>top_pct_reg_to_retain</td>\n",
       "      <td>100.0</td>\n",
       "      <td>test_auc</td>\n",
       "      <td>0.692616</td>\n",
       "    </tr>\n",
       "    <tr>\n",
       "      <th>3</th>\n",
       "      <td>spec_1</td>\n",
       "      <td>top_pct_reg_to_retain</td>\n",
       "      <td>100.0</td>\n",
       "      <td>test_sens_upperthresh_spec90</td>\n",
       "      <td>0.353725</td>\n",
       "    </tr>\n",
       "    <tr>\n",
       "      <th>4</th>\n",
       "      <td>spec_2</td>\n",
       "      <td>top_pct_reg_to_retain</td>\n",
       "      <td>90.0</td>\n",
       "      <td>test_auc</td>\n",
       "      <td>0.696076</td>\n",
       "    </tr>\n",
       "  </tbody>\n",
       "</table>\n",
       "</div>"
      ],
      "text/plain": [
       "  spec_name             param_name  param_value                   metric_name  \\\n",
       "0    spec_0  top_pct_reg_to_retain          NaN                      test_auc   \n",
       "1    spec_0  top_pct_reg_to_retain          NaN  test_sens_upperthresh_spec90   \n",
       "2    spec_1  top_pct_reg_to_retain        100.0                      test_auc   \n",
       "3    spec_1  top_pct_reg_to_retain        100.0  test_sens_upperthresh_spec90   \n",
       "4    spec_2  top_pct_reg_to_retain         90.0                      test_auc   \n",
       "\n",
       "   metric_value  \n",
       "0      0.686966  \n",
       "1      0.333922  \n",
       "2      0.692616  \n",
       "3      0.353725  \n",
       "4      0.696076  "
      ]
     },
     "execution_count": 20,
     "metadata": {},
     "output_type": "execute_result"
    }
   ],
   "source": [
    "df_hyperparam = pd.read_csv(open(\"./HPO_hyperparam_table.csv\",\"r\"),header=0)\n",
    "df_hyperparam.head()"
   ]
  },
  {
   "cell_type": "code",
   "execution_count": 19,
   "id": "crucial-frank",
   "metadata": {},
   "outputs": [
    {
     "data": {
      "text/plain": [
       "(0.5, 0.8)"
      ]
     },
     "execution_count": 19,
     "metadata": {},
     "output_type": "execute_result"
    },
    {
     "data": {
      "image/png": "[encoded data removed]",
      "text/plain": [
       "<Figure size 432x288 with 1 Axes>"
      ]
     },
     "metadata": {
      "needs_background": "light"
     },
     "output_type": "display_data"
    }
   ],
   "source": [
    "\n",
    "df_hyperparam = df_hyperparam.fillna(\"W\")\n",
    "df_hyperparam[\"param\"] = df_hyperparam[\"param_value\"].astype(str)\n",
    "df_aucs = df_hyperparam[df_hyperparam[\"metric_name\"]==\"test_auc\"]\n",
    "plt.figure()\n",
    "sns.barplot(x=\"param_value\", y=\"metric_value\", data=df_aucs, color=\"blue\")\n",
    "plt.ylabel(\"test_auc\")\n",
    "plt.xlabel(\"pct_reg_to_retain\")\n",
    "plt.ylim([0.5,0.8])"
   ]
  },
  {
   "cell_type": "code",
   "execution_count": 20,
   "id": "soviet-amateur",
   "metadata": {},
   "outputs": [
    {
     "data": {
      "text/plain": [
       "Text(0.5, 0, 'pct_reg_to_retain')"
      ]
     },
     "execution_count": 20,
     "metadata": {},
     "output_type": "execute_result"
    },
    {
     "data": {
      "image/png": "[encoded data removed]",
      "text/plain": [
       "<Figure size 432x288 with 1 Axes>"
      ]
     },
     "metadata": {
      "needs_background": "light"
     },
     "output_type": "display_data"
    }
   ],
   "source": [
    "# find parameter chosen in train set final\n",
    "# find final performance of the model.\n",
    "# plot sens at 90 spec\n",
    "df_sens = df_hyperparam[df_hyperparam[\"metric_name\"]==\"test_sens_upperthresh_spec90\"]\n",
    "plt.figure()\n",
    "sns.barplot(x=\"param_value\", y=\"metric_value\", data=df_sens, color=\"blue\")\n",
    "plt.ylabel(\"test_sens_uppertresh_spec90\")\n",
    "plt.xlabel(\"pct_reg_to_retain\")\n",
    "#plt.ylim([0.5,1.0])"
   ]
  },
  {
   "cell_type": "code",
   "execution_count": 21,
   "id": "excessive-national",
   "metadata": {},
   "outputs": [
    {
     "name": "stderr",
     "output_type": "stream",
     "text": [
      "EXPERIMENT LOADER: Redirecting to use Loaders in Pineappleflow. Please import loaders from 'from pineappleflow.core.loaders.contrib.experiment_loader' instead.\n"
     ]
    }
   ],
   "source": [
    "from pineapple.contrib.loaders.experiment_loader import InferenceLoader"
   ]
  },
  {
   "cell_type": "code",
   "execution_count": 24,
   "id": "soviet-particle",
   "metadata": {},
   "outputs": [
    {
     "name": "stdout",
     "output_type": "stream",
     "text": [
      "10\n",
      "50\n",
      "100\n",
      "W\n"
     ]
    }
   ],
   "source": [
    "# train several models with different pct_to_retain values. Run inference of those models on a set of \n",
    "# multi cancer samples.\n",
    "cancer_types = [\"Healthy\",\n",
    "                \"Lung_Cancer\",\"Liver_Cancer\",\n",
    "                \"Prostate_Cancer\",\n",
    "                \"Ovarian_Cancer\",\"Uterine_Cancer\",\"Pancreatic_Cancer\",\n",
    "                \"Breast_Cancer\",\"Esophageal_Cancer\",\"CRC_stageIV\"]\n",
    "                \n",
    "cancer_to_label = {'Healthy':['Colorectal Normal / Healthy','Colorectal Benign'], \n",
    "                   'CRC_stageIV':['Colorectal Cancer','Colorectal Pre-Cancer'],\n",
    "                   'Pancreatic_Cancer':['Pancreatic Cancer'], #'Pancreatic Pre-Cancer'],\n",
    "                   'Lung_Cancer':['Lung Cancer'],\n",
    "                   'Prostate_Cancer':['Prostate Cancer'], \n",
    "                   'Esophageal_Cancer':['Esophageal Cancer'], \n",
    "                   'Uterine_Cancer':['Uterine Cancer'], \n",
    "                   'Ovarian_Cancer':['Ovarian Cancer'], \n",
    "                   'Breast_Cancer':['Breast Cancer'], \n",
    "                   'Liver_Cancer':['Liver Cancer']\n",
    "                  }\n",
    "\n",
    "# pct_thresholds = list(range(10,110,10)) + [\"W\"]\n",
    "pct_thresholds = [10,50,100,\"W\"]\n",
    "\n",
    "pct_thresholds= [str(p) for p in pct_thresholds]\n",
    "sens_at_90 = []\n",
    "aucs = []\n",
    "tot_FPRs = []\n",
    "ct_scores = defaultdict(list)\n",
    "ct_FPRs = defaultdict(list)\n",
    "for pct in pct_thresholds:\n",
    "    print(pct)\n",
    "#     model_path = f\"Multi_cancer/CRC_spec_filtering/inference_models/Region_filtering_{pct}\"\n",
    "#     path = f\"Multi_cancer/CRC_spec_filtering/inference_models/Region_filtering_{pct}_infer/{model_path}/fold_score_averaging\"\n",
    "    model_path = f\"Multi_cancer/CRC_spec_filtering/inference_models/Region_filtering_{pct}_1pctl\"\n",
    "    path = f\"Multi_cancer/CRC_spec_filtering/inference_models/Region_filtering_{pct}_1pctl_infer/{model_path}/fold_score_averaging\"\n",
    "\n",
    "    inf_loader = InferenceLoader(bucket,path)\n",
    "    #print(inf_loader.aggregated_model_metric)\n",
    "    sens_at_90.append((inf_loader.aggregated_model_metric[\"sens_upperthresh_spec90\"],\n",
    "                      inf_loader.aggregated_model_metric[\"sens_upperthresh_spec90_lowerci\"],\n",
    "                      inf_loader.aggregated_model_metric[\"sens_upperthresh_spec90_upperci\"]))\n",
    "    aucs.append((inf_loader.aggregated_model_metric['auc'],\n",
    "                inf_loader.aggregated_model_metric['auc_ci_lower95'],\n",
    "                inf_loader.aggregated_model_metric['auc_ci_upper95']))\n",
    "    #tot_FPRs.append(inf_loader.aggregated_model_metric['FPR']) #incorrect in pineapple\n",
    "    \n",
    "    table_loader = ExperimentTableLoader(bucket=bucket,path=path)\n",
    "    df_samples = table_loader.sample_score_per_fold_table()\n",
    "    \n",
    "    # get 90pct spec score threshold\n",
    "    labels = cancer_to_label[\"Healthy\"]\n",
    "    df_healthy = df_samples[[s in labels for s in df_samples[\"status\"].values]]\n",
    "    cutoff_90 = np.percentile(df_healthy[\"y_score\"].values, 90)     \n",
    "    \n",
    "    df_negs = df_samples[df_samples[\"y_true\"]==0]\n",
    "    # FPR = FPs/(FPs + TN)\n",
    "    FPR = sum(df_negs[\"y_score\"].values > cutoff_90)/float(len(df_negs))\n",
    "    tot_FPRs.append(FPR)\n",
    "    \n",
    "    for cancer_type in cancer_types:\n",
    "        labels = cancer_to_label[cancer_type]\n",
    "        df_cancer = df_samples[[s in labels for s in df_samples[\"status\"].values]]\n",
    "        ct_scores[pct].append(df_cancer[\"y_score\"])\n",
    "        FPR = sum([s>cutoff_90 for s in df_cancer[\"y_score\"].values])/float(len(df_cancer))\n",
    "        ct_FPRs[pct].append(FPR)"
   ]
  },
  {
   "cell_type": "code",
   "execution_count": 25,
   "id": "domestic-ending",
   "metadata": {},
   "outputs": [
    {
     "data": {
      "text/plain": [
       "Text(0.5, 0, 'pct_reg_to_retain')"
      ]
     },
     "execution_count": 25,
     "metadata": {},
     "output_type": "execute_result"
    },
    {
     "data": {
      "image/png": "[encoded data removed]",
      "text/plain": [
       "<Figure size 432x288 with 1 Axes>"
      ]
     },
     "metadata": {
      "needs_background": "light"
     },
     "output_type": "display_data"
    }
   ],
   "source": [
    "#plot threshold vs AUC\n",
    "\n",
    "errbars = np.array(pd.DataFrame({'lower':[(a[0]-a[1]) for a in aucs],'upper':[(a[2]-a[0]) for a in aucs]}).T)\n",
    "#print(errbars)\n",
    "fig = plt.subplot()\n",
    "plt.bar(x=pct_thresholds, height=[a[0] for a in aucs])\n",
    "plt.errorbar(x=pct_thresholds, y=[a[0] for a in aucs], yerr=errbars, color='k', fmt='none')\n",
    "plt.ylabel(\"AUC\")\n",
    "plt.xlabel(\"pct_reg_to_retain\")"
   ]
  },
  {
   "cell_type": "code",
   "execution_count": 26,
   "id": "orange-shepherd",
   "metadata": {},
   "outputs": [
    {
     "name": "stdout",
     "output_type": "stream",
     "text": [
      "[0.19291338582677164, 0.2080989876265467, 0.21653543307086615, 0.21428571428571427]\n"
     ]
    },
    {
     "data": {
      "text/plain": [
       "Text(0.5, 0, 'pct_reg_to_retain')"
      ]
     },
     "execution_count": 26,
     "metadata": {},
     "output_type": "execute_result"
    },
    {
     "data": {
      "image/png": "[encoded data removed]",
      "text/plain": [
       "<Figure size 432x288 with 1 Axes>"
      ]
     },
     "metadata": {
      "needs_background": "light"
     },
     "output_type": "display_data"
    }
   ],
   "source": [
    "# threshold vs FPR ( but misleading b/c detection of all cancers might be lower with fewer regions)\n",
    "\n",
    "print(tot_FPRs)\n",
    "fig = plt.subplot()\n",
    "plt.bar(x=pct_thresholds, height=tot_FPRs)\n",
    "plt.ylabel(\"overall false positive rate\")\n",
    "plt.xlabel(\"pct_reg_to_retain\")"
   ]
  },
  {
   "cell_type": "code",
   "execution_count": 27,
   "id": "cleared-upper",
   "metadata": {},
   "outputs": [
    {
     "name": "stdout",
     "output_type": "stream",
     "text": [
      "dict_keys(['10', '50', '100', 'W'])\n"
     ]
    },
    {
     "data": {
      "text/plain": [
       "<AxesSubplot:xlabel='thresh', ylabel='score'>"
      ]
     },
     "execution_count": 27,
     "metadata": {},
     "output_type": "execute_result"
    },
    {
     "data": {
      "image/png": "[encoded data removed]",
      "text/plain": [
       "<Figure size 1440x720 with 1 Axes>"
      ]
     },
     "metadata": {
      "needs_background": "light"
     },
     "output_type": "display_data"
    }
   ],
   "source": [
    "# cancer type, score per threshold\n",
    "print(ct_scores.keys())\n",
    "dfs = []\n",
    "for thresh in pct_thresholds:\n",
    "    data = ct_scores[thresh]\n",
    "    #print(data)\n",
    "    for i, cancer_type in enumerate(cancer_types):\n",
    "        df = pd.DataFrame({\"thresh\":thresh,\"cancer_type\":cancer_type,\"score\":data[i]})\n",
    "        dfs.append(df)\n",
    "plot_data = pd.concat(dfs)\n",
    "\n",
    "plt.figure(figsize=(20,10))\n",
    "sns.boxplot(x=\"thresh\",y=np.log(plot_data[\"score\"]+0.0001),hue=\"cancer_type\",data=plot_data)\n",
    "#sns.stripplot(x=\"thresh\",y=\"score\",hue=\"cancer_type\",data=plot_data)"
   ]
  },
  {
   "cell_type": "code",
   "execution_count": 30,
   "id": "transsexual-parent",
   "metadata": {},
   "outputs": [
    {
     "name": "stdout",
     "output_type": "stream",
     "text": [
      "  thresh        cancer_type       FPR\n",
      "0     10            Healthy  0.100369\n",
      "1     10        Lung_Cancer  0.562500\n",
      "2     10       Liver_Cancer  0.692308\n",
      "3     10    Prostate_Cancer  0.101695\n",
      "4     10     Ovarian_Cancer  0.380000\n",
      "5     10     Uterine_Cancer  0.333333\n",
      "6     10  Pancreatic_Cancer  0.512500\n",
      "7     10      Breast_Cancer  0.413043\n",
      "8     10  Esophageal_Cancer  0.678571\n",
      "9     10        CRC_stageIV  0.340659\n",
      "0     50            Healthy  0.100369\n",
      "1     50        Lung_Cancer  0.640625\n",
      "2     50       Liver_Cancer  0.769231\n",
      "3     50    Prostate_Cancer  0.118644\n",
      "4     50     Ovarian_Cancer  0.600000\n",
      "5     50     Uterine_Cancer  0.313725\n",
      "6     50  Pancreatic_Cancer  0.612500\n",
      "7     50      Breast_Cancer  0.500000\n",
      "8     50  Esophageal_Cancer  0.803571\n",
      "9     50        CRC_stageIV  0.364992\n",
      "0    100            Healthy  0.100369\n",
      "1    100        Lung_Cancer  0.625000\n",
      "2    100       Liver_Cancer  0.794872\n",
      "3    100    Prostate_Cancer  0.135593\n",
      "4    100     Ovarian_Cancer  0.600000\n",
      "5    100     Uterine_Cancer  0.372549\n",
      "6    100  Pancreatic_Cancer  0.700000\n",
      "7    100      Breast_Cancer  0.521739\n",
      "8    100  Esophageal_Cancer  0.821429\n",
      "9    100        CRC_stageIV  0.374411\n",
      "0      W            Healthy  0.100369\n",
      "1      W        Lung_Cancer  0.562500\n",
      "2      W       Liver_Cancer  0.794872\n",
      "3      W    Prostate_Cancer  0.118644\n",
      "4      W     Ovarian_Cancer  0.560000\n",
      "5      W     Uterine_Cancer  0.352941\n",
      "6      W  Pancreatic_Cancer  0.712500\n",
      "7      W      Breast_Cancer  0.500000\n",
      "8      W  Esophageal_Cancer  0.803571\n",
      "9      W        CRC_stageIV  0.356358\n"
     ]
    },
    {
     "data": {
      "text/plain": [
       "<matplotlib.legend.Legend at 0x7fa224ff60d0>"
      ]
     },
     "execution_count": 30,
     "metadata": {},
     "output_type": "execute_result"
    },
    {
     "data": {
      "image/png": "[encoded data removed]",
      "text/plain": [
       "<Figure size 1440x720 with 1 Axes>"
      ]
     },
     "metadata": {
      "needs_background": "light"
     },
     "output_type": "display_data"
    }
   ],
   "source": [
    "# cancer type, pct_FP per threshold\n",
    "dfs = []\n",
    "for thresh in pct_thresholds:\n",
    "    data = ct_FPRs[thresh]\n",
    "    df = pd.DataFrame({\"thresh\":np.repeat(thresh,len(data)),\n",
    "                       \"cancer_type\":cancer_types,\n",
    "                       \"FPR\":data})\n",
    "    dfs.append(df)\n",
    "\n",
    "plot_data = pd.concat(dfs)\n",
    "#print(plot_data[plot_data[\"thresh\"]==100.0])\n",
    "print(plot_data)\n",
    "plot_data = plot_data[plot_data[\"cancer_type\"]!=\"CRC_stageIV\"]\n",
    "\n",
    "plt.figure(figsize=(20,10))\n",
    "sns.barplot(x=\"thresh\",y=\"FPR\",hue=\"cancer_type\",data=plot_data)\n",
    "plt.legend(bbox_to_anchor=(1.05, 1), loc=2, borderaxespad=0.)"
   ]
  },
  {
   "cell_type": "code",
   "execution_count": 97,
   "id": "simplified-library",
   "metadata": {},
   "outputs": [
    {
     "data": {
      "text/plain": [
       "-inf"
      ]
     },
     "execution_count": 97,
     "metadata": {},
     "output_type": "execute_result"
    }
   ],
   "source": [
    "np.log(0)"
   ]
  },
  {
   "cell_type": "code",
   "execution_count": null,
   "id": "available-johns",
   "metadata": {},
   "outputs": [],
   "source": []
  }
 ],
 "metadata": {
  "kernelspec": {
   "display_name": "Python (crc_reg_spec_filter2)",
   "language": "python",
   "name": "crc_reg_spec_filter2"
  },
  "language_info": {
   "codemirror_mode": {
    "name": "ipython",
    "version": 3
   },
   "file_extension": ".py",
   "mimetype": "text/x-python",
   "name": "python",
   "nbconvert_exporter": "python",
   "pygments_lexer": "ipython3",
   "version": "3.8.6"
  }
 },
 "nbformat": 4,
 "nbformat_minor": 5
}
